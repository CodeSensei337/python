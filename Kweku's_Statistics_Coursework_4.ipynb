{
  "cells": [
    {
      "cell_type": "markdown",
      "metadata": {
        "id": "Way_uLeerfvB"
      },
      "source": [
        "# <center>**Analysis of the famous 'Storks' Data**\n",
        "    \n",
        "#### <center>by Kweku E. Acquaye.</center>\n",
        "\n",
        "**Table of Contents**\n",
        "\n",
        "1. Section 1: Introduction\n",
        "  * Section 1.1: Outline\n",
        "  * Section 1.2: Loading the Data\n",
        "2. Section 2: Data Preparation\n",
        "  * Section 2.1: Exploration Data Analysis (EDA)\n",
        "  * Section 2.2: Normalising Data\n",
        "3. Section 3: Variability of Human Birth Numbers \n",
        "  * Section 3.1: Model 1 - Variation of Human Birth Numbers with Number of Stork Pairs\n",
        "  * Section 3.2: Model 2 - Variation of Human Birth Numbers with Human Population Size\n",
        "  * Discussion\n",
        "  * Section 3.3: Using Bootstrap Technique to Estimate Distribution of Difference in r2 Parameter for the Two Models\n",
        "  * Discussion\n",
        "4. Section 4: Comparing Performance of Two Regression Models in Predicting Stork Pair Numbers\n",
        "  * Section 4.1: Model 1 - Predictor is Land Area\n",
        "  * Section 4.2: Model 2 - Predictors are (i) Population Density and (ii) Area of Suitable Land\n",
        "  * Discussion\n",
        "  * Section 4.3: Using Bootstrap Technique to Estimate Difference in Root Mean Squared Error (RMSE) between Predicted and Actual Values for the Two Models\n",
        "  * Discussion\n",
        "5. Section 5: Discussion and Conclusions "
      ]
    },
    {
      "cell_type": "markdown",
      "metadata": {
        "id": "lWmsAklTz_w3"
      },
      "source": [
        "## **Section 1: Introduction**\n",
        "This report uses modern data science methods to analyse and build correlation and regression models that look at the effect of predictor variables on a target variable. It constitutes Coursework 2 in fulfilment of the requirements of Statistics for Data Science and AI module.\n",
        "\n",
        "**Declaration:** Some of the code used in this report has been adapted and customized from www.docs.python.org/, www.matplotlib.org/stable/, www.pandas.pydata.org/docs, www.stackoverflow.com/questions/, www.geeksforgeeks.org/, www.kite.com/python/answers/, www.codegrepper.com/, www.machinelearningmind.com/, and Statistics for Data Science and AI Lab, Lecture, and Tutorial Notes.\n",
        "\n",
        "### **Section 1.1: Outline**\n",
        "The aim of this analysis is to compare two regression models with a view to explaining the variability of the number of births in 17 countries, which in a paper by Robert Matthews$^1$, had been linked to the number of stork pairs in the country to illustrate misunderstanding of regression correlation coefficients and p-values.\n",
        "\n",
        "### **Section 1.2: Loading the Data**<br>\n",
        "The stork data used in this analysis was supplied by Chris Harbard$^2$ of\n",
        "the Royal Society for the Protection of Birds (RSPB) to the author of the paper \"Storks Deliver Babies (p = 0.008)”$^1$, with demographic data taken by the paper author from Britannica Yearbook for 1990. The dataset comprises the following variables:<br>\n",
        "\n",
        "| Variable      |      Description             | Type | \n",
        "|:--------------|:-----------------------------|:------:|\n",
        "|Country   | 17 European countries with available stork data.                  | Originally String, converted to category on loading  |\n",
        "|Area           | Surface area in square kilometeres                             | continuous (integer) | \n",
        "|Storks   | Number of stork pairs            | continuous (integer) |\n",
        "|Humans | Human population in millions | continuous (float) |\n",
        "|Birth rate       | Human birth rate in thousands per year                           | continuous (integer) | \n",
        "|SuitableAreaPercent       | The percentage of land area suitable for storks             | continuous (float) |\n",
        "\n",
        "\n"
      ]
    },
    {
      "cell_type": "code",
      "execution_count": null,
      "metadata": {
        "colab": {
          "base_uri": "https://localhost:8080/"
        },
        "id": "6e-C6uWyqkmY",
        "outputId": "d4d27064-8f5c-4f1c-b26b-28e881a107e6"
      },
      "outputs": [
        {
          "name": "stdout",
          "output_type": "stream",
          "text": [
            "Libraries imported.\n"
          ]
        },
        {
          "name": "stderr",
          "output_type": "stream",
          "text": [
            "/usr/local/lib/python3.7/dist-packages/ipykernel_launcher.py:11: FutureWarning: pandas.util.testing is deprecated. Use the functions in the public API at pandas.testing instead.\n",
            "  # This is added back by InteractiveShellApp.init_path()\n"
          ]
        }
      ],
      "source": [
        "# Importing libraries\n",
        "import pandas as pd\n",
        "import numpy as np\n",
        "import matplotlib.pyplot as plt\n",
        "\n",
        "%matplotlib inline\n",
        "\n",
        "from sklearn.linear_model import LinearRegression\n",
        "from sklearn import metrics\n",
        "from sklearn.metrics import mean_squared_error\n",
        "import pandas.util.testing as tm\n",
        "import warnings\n",
        "warnings.filterwarnings('ignore')\n",
        "np.warnings.filterwarnings('ignore', category=np.VisibleDeprecationWarning)\n",
        "\n",
        "print(\"Libraries imported.\")"
      ]
    },
    {
      "cell_type": "markdown",
      "metadata": {
        "id": "IXfWOJCMnriE"
      },
      "source": [
        "The creation of the following dictionary enables conversion of the 'Country' column, which would be loaded as a pandas Series, from string to category data type for better data handling in analysis:"
      ]
    },
    {
      "cell_type": "code",
      "execution_count": null,
      "metadata": {
        "colab": {
          "base_uri": "https://localhost:8080/"
        },
        "id": "FNbi_E7NQn_R",
        "outputId": "edcd3622-92d2-465f-f9e8-c6c1a35a92cd"
      },
      "outputs": [
        {
          "name": "stdout",
          "output_type": "stream",
          "text": [
            "Dictionary created.\n"
          ]
        }
      ],
      "source": [
        "# Creating country dictionary\n",
        "cntry = pd.CategoricalDtype(categories=['Albania','Austria','Belgium','Bulgaria', 'Denmark', 'France', 'Germany', 'Greece', 'Holland', \n",
        "                                          'Hungary', 'Italy', 'Poland', 'Portugal', 'Romania', 'Spain', 'Switzerland', 'Turkey'], ordered=False)\n",
        "types_dict = {'Country':cntry}\n",
        "print(\"Dictionary created.\")"
      ]
    },
    {
      "cell_type": "code",
      "execution_count": null,
      "metadata": {
        "colab": {
          "base_uri": "https://localhost:8080/"
        },
        "id": "I38JHq8m6z3x",
        "outputId": "1ac6e28b-5389-4526-d8a2-11cf14e481aa"
      },
      "outputs": [
        {
          "name": "stdout",
          "output_type": "stream",
          "text": [
            "Original data loaded.\n"
          ]
        }
      ],
      "source": [
        "# Loading original data\n",
        "original_df = pd.read_csv('storks.csv', dtype = types_dict, error_bad_lines=False)\n",
        "print(\"Original data loaded.\")"
      ]
    },
    {
      "cell_type": "markdown",
      "metadata": {
        "id": "xvcjfWeN7eIE"
      },
      "source": [
        "To preserve integrity of original data file from accidental alteration, analysis would be carried out on a copy."
      ]
    },
    {
      "cell_type": "code",
      "execution_count": null,
      "metadata": {
        "colab": {
          "base_uri": "https://localhost:8080/",
          "height": 599
        },
        "id": "U5TWSwhj7gE3",
        "outputId": "ef88ce7f-0d0e-4b6e-e65b-c09f11c60c68"
      },
      "outputs": [
        {
          "name": "stdout",
          "output_type": "stream",
          "text": [
            "Copied version created as follows:\n"
          ]
        },
        {
          "data": {
            "text/html": [
              "<div>\n",
              "<style scoped>\n",
              "    .dataframe tbody tr th:only-of-type {\n",
              "        vertical-align: middle;\n",
              "    }\n",
              "\n",
              "    .dataframe tbody tr th {\n",
              "        vertical-align: top;\n",
              "    }\n",
              "\n",
              "    .dataframe thead th {\n",
              "        text-align: right;\n",
              "    }\n",
              "</style>\n",
              "<table border=\"1\" class=\"dataframe\">\n",
              "  <thead>\n",
              "    <tr style=\"text-align: right;\">\n",
              "      <th></th>\n",
              "      <th>Country</th>\n",
              "      <th>Area</th>\n",
              "      <th>Storks</th>\n",
              "      <th>Humans</th>\n",
              "      <th>BirthRate</th>\n",
              "      <th>SuitableAreaPercent</th>\n",
              "    </tr>\n",
              "  </thead>\n",
              "  <tbody>\n",
              "    <tr>\n",
              "      <th>0</th>\n",
              "      <td>Albania</td>\n",
              "      <td>28750</td>\n",
              "      <td>100</td>\n",
              "      <td>3.2</td>\n",
              "      <td>83</td>\n",
              "      <td>55.68</td>\n",
              "    </tr>\n",
              "    <tr>\n",
              "      <th>1</th>\n",
              "      <td>Austria</td>\n",
              "      <td>83860</td>\n",
              "      <td>300</td>\n",
              "      <td>7.6</td>\n",
              "      <td>87</td>\n",
              "      <td>38.34</td>\n",
              "    </tr>\n",
              "    <tr>\n",
              "      <th>2</th>\n",
              "      <td>Belgium</td>\n",
              "      <td>30520</td>\n",
              "      <td>1</td>\n",
              "      <td>9.9</td>\n",
              "      <td>118</td>\n",
              "      <td>65.93</td>\n",
              "    </tr>\n",
              "    <tr>\n",
              "      <th>3</th>\n",
              "      <td>Bulgaria</td>\n",
              "      <td>111000</td>\n",
              "      <td>5000</td>\n",
              "      <td>9.0</td>\n",
              "      <td>117</td>\n",
              "      <td>57.99</td>\n",
              "    </tr>\n",
              "    <tr>\n",
              "      <th>4</th>\n",
              "      <td>Denmark</td>\n",
              "      <td>43100</td>\n",
              "      <td>9</td>\n",
              "      <td>5.1</td>\n",
              "      <td>59</td>\n",
              "      <td>81.46</td>\n",
              "    </tr>\n",
              "    <tr>\n",
              "      <th>5</th>\n",
              "      <td>France</td>\n",
              "      <td>544000</td>\n",
              "      <td>140</td>\n",
              "      <td>56.0</td>\n",
              "      <td>774</td>\n",
              "      <td>58.47</td>\n",
              "    </tr>\n",
              "    <tr>\n",
              "      <th>6</th>\n",
              "      <td>Germany</td>\n",
              "      <td>357000</td>\n",
              "      <td>3300</td>\n",
              "      <td>78.0</td>\n",
              "      <td>901</td>\n",
              "      <td>59.81</td>\n",
              "    </tr>\n",
              "    <tr>\n",
              "      <th>7</th>\n",
              "      <td>Greece</td>\n",
              "      <td>132000</td>\n",
              "      <td>2500</td>\n",
              "      <td>10.0</td>\n",
              "      <td>106</td>\n",
              "      <td>47.31</td>\n",
              "    </tr>\n",
              "    <tr>\n",
              "      <th>8</th>\n",
              "      <td>Holland</td>\n",
              "      <td>41900</td>\n",
              "      <td>4</td>\n",
              "      <td>15.0</td>\n",
              "      <td>188</td>\n",
              "      <td>70.96</td>\n",
              "    </tr>\n",
              "    <tr>\n",
              "      <th>9</th>\n",
              "      <td>Hungary</td>\n",
              "      <td>93000</td>\n",
              "      <td>5000</td>\n",
              "      <td>11.0</td>\n",
              "      <td>124</td>\n",
              "      <td>75.86</td>\n",
              "    </tr>\n",
              "    <tr>\n",
              "      <th>10</th>\n",
              "      <td>Italy</td>\n",
              "      <td>301280</td>\n",
              "      <td>5</td>\n",
              "      <td>57.0</td>\n",
              "      <td>551</td>\n",
              "      <td>60.30</td>\n",
              "    </tr>\n",
              "    <tr>\n",
              "      <th>11</th>\n",
              "      <td>Poland</td>\n",
              "      <td>312680</td>\n",
              "      <td>30000</td>\n",
              "      <td>38.0</td>\n",
              "      <td>610</td>\n",
              "      <td>64.09</td>\n",
              "    </tr>\n",
              "    <tr>\n",
              "      <th>12</th>\n",
              "      <td>Portugal</td>\n",
              "      <td>92390</td>\n",
              "      <td>1500</td>\n",
              "      <td>10.0</td>\n",
              "      <td>120</td>\n",
              "      <td>52.51</td>\n",
              "    </tr>\n",
              "    <tr>\n",
              "      <th>13</th>\n",
              "      <td>Romania</td>\n",
              "      <td>237500</td>\n",
              "      <td>5000</td>\n",
              "      <td>23.0</td>\n",
              "      <td>367</td>\n",
              "      <td>62.49</td>\n",
              "    </tr>\n",
              "    <tr>\n",
              "      <th>14</th>\n",
              "      <td>Spain</td>\n",
              "      <td>504750</td>\n",
              "      <td>8000</td>\n",
              "      <td>39.0</td>\n",
              "      <td>439</td>\n",
              "      <td>59.57</td>\n",
              "    </tr>\n",
              "    <tr>\n",
              "      <th>15</th>\n",
              "      <td>Switzerland</td>\n",
              "      <td>41290</td>\n",
              "      <td>150</td>\n",
              "      <td>6.7</td>\n",
              "      <td>82</td>\n",
              "      <td>43.19</td>\n",
              "    </tr>\n",
              "    <tr>\n",
              "      <th>16</th>\n",
              "      <td>Turkey</td>\n",
              "      <td>779450</td>\n",
              "      <td>25000</td>\n",
              "      <td>56.0</td>\n",
              "      <td>1576</td>\n",
              "      <td>65.97</td>\n",
              "    </tr>\n",
              "  </tbody>\n",
              "</table>\n",
              "</div>"
            ],
            "text/plain": [
              "        Country    Area  Storks  Humans  BirthRate  SuitableAreaPercent\n",
              "0       Albania   28750     100     3.2         83                55.68\n",
              "1       Austria   83860     300     7.6         87                38.34\n",
              "2       Belgium   30520       1     9.9        118                65.93\n",
              "3      Bulgaria  111000    5000     9.0        117                57.99\n",
              "4       Denmark   43100       9     5.1         59                81.46\n",
              "5        France  544000     140    56.0        774                58.47\n",
              "6       Germany  357000    3300    78.0        901                59.81\n",
              "7        Greece  132000    2500    10.0        106                47.31\n",
              "8       Holland   41900       4    15.0        188                70.96\n",
              "9       Hungary   93000    5000    11.0        124                75.86\n",
              "10        Italy  301280       5    57.0        551                60.30\n",
              "11       Poland  312680   30000    38.0        610                64.09\n",
              "12     Portugal   92390    1500    10.0        120                52.51\n",
              "13      Romania  237500    5000    23.0        367                62.49\n",
              "14        Spain  504750    8000    39.0        439                59.57\n",
              "15  Switzerland   41290     150     6.7         82                43.19\n",
              "16       Turkey  779450   25000    56.0       1576                65.97"
            ]
          },
          "execution_count": 4,
          "metadata": {},
          "output_type": "execute_result"
        }
      ],
      "source": [
        "# Creating copy to preserve original data file\n",
        "safe_df1 = original_df.copy()\n",
        "print(\"Copied version created as follows:\")\n",
        "safe_df1"
      ]
    },
    {
      "cell_type": "markdown",
      "metadata": {
        "id": "wsJ5cG-9fq3A"
      },
      "source": [
        "### **Section 2: Data Preparation**<br>\n",
        "The following steps prepare the data for analysis:<br>\n",
        "<br>\n",
        "**Section 2.1: Exploratory Data Analysis (EDA)**"
      ]
    },
    {
      "cell_type": "code",
      "execution_count": null,
      "metadata": {
        "colab": {
          "base_uri": "https://localhost:8080/"
        },
        "id": "2TklfdKNfAhX",
        "outputId": "3c463e47-0ca6-467b-c141-6a49e5b83834"
      },
      "outputs": [
        {
          "name": "stdout",
          "output_type": "stream",
          "text": [
            "<class 'pandas.core.frame.DataFrame'>\n",
            "RangeIndex: 17 entries, 0 to 16\n",
            "Data columns (total 6 columns):\n",
            " #   Column               Non-Null Count  Dtype   \n",
            "---  ------               --------------  -----   \n",
            " 0   Country              17 non-null     category\n",
            " 1   Area                 17 non-null     int64   \n",
            " 2   Storks               17 non-null     int64   \n",
            " 3   Humans               17 non-null     float64 \n",
            " 4   BirthRate            17 non-null     int64   \n",
            " 5   SuitableAreaPercent  17 non-null     float64 \n",
            "dtypes: category(1), float64(2), int64(3)\n",
            "memory usage: 1.6 KB\n"
          ]
        }
      ],
      "source": [
        "# Data types and null cells\n",
        "safe_df1.info()"
      ]
    },
    {
      "cell_type": "markdown",
      "metadata": {
        "id": "V2IBV1YqtmAv"
      },
      "source": [
        "There is no missing data or 'NaN' (i.e. 'not a number') cells in the dataset."
      ]
    },
    {
      "cell_type": "code",
      "execution_count": null,
      "metadata": {
        "colab": {
          "base_uri": "https://localhost:8080/",
          "height": 300
        },
        "id": "N48Yad_3s1b_",
        "outputId": "0a4c4911-26a5-4c59-9544-c9503fdc8a61"
      },
      "outputs": [
        {
          "data": {
            "text/html": [
              "<div>\n",
              "<style scoped>\n",
              "    .dataframe tbody tr th:only-of-type {\n",
              "        vertical-align: middle;\n",
              "    }\n",
              "\n",
              "    .dataframe tbody tr th {\n",
              "        vertical-align: top;\n",
              "    }\n",
              "\n",
              "    .dataframe thead th {\n",
              "        text-align: right;\n",
              "    }\n",
              "</style>\n",
              "<table border=\"1\" class=\"dataframe\">\n",
              "  <thead>\n",
              "    <tr style=\"text-align: right;\">\n",
              "      <th></th>\n",
              "      <th>Area</th>\n",
              "      <th>Storks</th>\n",
              "      <th>Humans</th>\n",
              "      <th>BirthRate</th>\n",
              "      <th>SuitableAreaPercent</th>\n",
              "    </tr>\n",
              "  </thead>\n",
              "  <tbody>\n",
              "    <tr>\n",
              "      <th>count</th>\n",
              "      <td>17.000000</td>\n",
              "      <td>17.000000</td>\n",
              "      <td>17.000000</td>\n",
              "      <td>17.000000</td>\n",
              "      <td>17.000000</td>\n",
              "    </tr>\n",
              "    <tr>\n",
              "      <th>mean</th>\n",
              "      <td>219674.705882</td>\n",
              "      <td>5059.352941</td>\n",
              "      <td>25.558824</td>\n",
              "      <td>370.705882</td>\n",
              "      <td>59.995882</td>\n",
              "    </tr>\n",
              "    <tr>\n",
              "      <th>std</th>\n",
              "      <td>219561.276416</td>\n",
              "      <td>8833.113607</td>\n",
              "      <td>23.528707</td>\n",
              "      <td>410.046303</td>\n",
              "      <td>10.954876</td>\n",
              "    </tr>\n",
              "    <tr>\n",
              "      <th>min</th>\n",
              "      <td>28750.000000</td>\n",
              "      <td>1.000000</td>\n",
              "      <td>3.200000</td>\n",
              "      <td>59.000000</td>\n",
              "      <td>38.340000</td>\n",
              "    </tr>\n",
              "    <tr>\n",
              "      <th>25%</th>\n",
              "      <td>43100.000000</td>\n",
              "      <td>100.000000</td>\n",
              "      <td>9.000000</td>\n",
              "      <td>106.000000</td>\n",
              "      <td>55.680000</td>\n",
              "    </tr>\n",
              "    <tr>\n",
              "      <th>50%</th>\n",
              "      <td>111000.000000</td>\n",
              "      <td>1500.000000</td>\n",
              "      <td>11.000000</td>\n",
              "      <td>124.000000</td>\n",
              "      <td>59.810000</td>\n",
              "    </tr>\n",
              "    <tr>\n",
              "      <th>75%</th>\n",
              "      <td>312680.000000</td>\n",
              "      <td>5000.000000</td>\n",
              "      <td>39.000000</td>\n",
              "      <td>551.000000</td>\n",
              "      <td>65.930000</td>\n",
              "    </tr>\n",
              "    <tr>\n",
              "      <th>max</th>\n",
              "      <td>779450.000000</td>\n",
              "      <td>30000.000000</td>\n",
              "      <td>78.000000</td>\n",
              "      <td>1576.000000</td>\n",
              "      <td>81.460000</td>\n",
              "    </tr>\n",
              "  </tbody>\n",
              "</table>\n",
              "</div>"
            ],
            "text/plain": [
              "                Area        Storks     Humans    BirthRate  SuitableAreaPercent\n",
              "count      17.000000     17.000000  17.000000    17.000000            17.000000\n",
              "mean   219674.705882   5059.352941  25.558824   370.705882            59.995882\n",
              "std    219561.276416   8833.113607  23.528707   410.046303            10.954876\n",
              "min     28750.000000      1.000000   3.200000    59.000000            38.340000\n",
              "25%     43100.000000    100.000000   9.000000   106.000000            55.680000\n",
              "50%    111000.000000   1500.000000  11.000000   124.000000            59.810000\n",
              "75%    312680.000000   5000.000000  39.000000   551.000000            65.930000\n",
              "max    779450.000000  30000.000000  78.000000  1576.000000            81.460000"
            ]
          },
          "execution_count": 6,
          "metadata": {},
          "output_type": "execute_result"
        }
      ],
      "source": [
        "# Summary statistics of df\n",
        "safe_df1.describe()"
      ]
    },
    {
      "cell_type": "markdown",
      "metadata": {
        "id": "SXKocOop71cg"
      },
      "source": [
        "**Section 2.2: Normalising Data**\n",
        "\n",
        "From the summary statistics output above, and also from the dataset table, it is observed that given only 17 samples with the country of Turkey presenting large values such that it is likely to disproportionately distort accurate calculation of test statistics and parameters, careful consideration was given to normalising / scaling the data. However, the nature of the answers sought in this analysis means it might be prudent not to normalise (please see Section 5: Conclusions)."
      ]
    },
    {
      "cell_type": "markdown",
      "metadata": {
        "id": "P-24Eoz_kxgE"
      },
      "source": [
        "### **Section 3: Variability of Human Birth Numbers**<br>\n",
        "This section aims to compare two regression models with a view to explaining the variability in the number of human births in different countries by means of the coefficient of determination r2.<br>\n",
        "<br>\n",
        "**Section 3.1: Model 1 - Variation of Human Birth Numbers with Number of Stork Pairs**<br>\n",
        "In this subsection the number of human births is correlated with number of stork pairs per country."
      ]
    },
    {
      "cell_type": "code",
      "execution_count": null,
      "metadata": {
        "colab": {
          "base_uri": "https://localhost:8080/"
        },
        "id": "Dck55jWeplam",
        "outputId": "65e0e0c7-5e7d-49f1-ad64-6a9ac0e7edfc"
      },
      "outputs": [
        {
          "name": "stdout",
          "output_type": "stream",
          "text": [
            "Regression axes assigned.\n"
          ]
        }
      ],
      "source": [
        "# Setting up for regression\n",
        "X = safe_df1[[\"Storks\"]]\n",
        "y = safe_df1[[\"BirthRate\"]]\n",
        "print(\"Regression axes assigned.\")"
      ]
    },
    {
      "cell_type": "code",
      "execution_count": null,
      "metadata": {
        "colab": {
          "base_uri": "https://localhost:8080/"
        },
        "id": "TFCkeRZlqiQ-",
        "outputId": "4bfbd319-fcd7-4d79-b66a-c8e0e5707e1e"
      },
      "outputs": [
        {
          "name": "stdout",
          "output_type": "stream",
          "text": [
            "Regression line fitted.\n"
          ]
        }
      ],
      "source": [
        "# Regressing y onto X\n",
        "reg = LinearRegression()\n",
        "reg.fit(X, y)\n",
        "print(\"Regression line fitted.\")"
      ]
    },
    {
      "cell_type": "code",
      "execution_count": null,
      "metadata": {
        "colab": {
          "base_uri": "https://localhost:8080/"
        },
        "id": "zgbRmh89rNAu",
        "outputId": "956df84f-1665-44ab-80d9-22d823d58015"
      },
      "outputs": [
        {
          "name": "stdout",
          "output_type": "stream",
          "text": [
            "Results prediction set up.\n"
          ]
        }
      ],
      "source": [
        "# Setting up prediction of set results\n",
        "y_pred = reg.predict(X)\n",
        "print(\"Results prediction set up.\")"
      ]
    },
    {
      "cell_type": "code",
      "execution_count": null,
      "metadata": {
        "colab": {
          "base_uri": "https://localhost:8080/",
          "height": 421
        },
        "id": "fRMrEYPzq-3-",
        "outputId": "dc9790e0-3fc5-4eff-8c0f-ba84146eef4b"
      },
      "outputs": [
        {
          "data": {
            "text/plain": [
              "Text(0, 0.5, 'Human Birth Rate x1000 per year')"
            ]
          },
          "execution_count": 10,
          "metadata": {},
          "output_type": "execute_result"
        },
        {
          "data": {
            "image/png": "[encoded data removed]",
            "text/plain": [
              "<Figure size 720x432 with 1 Axes>"
            ]
          },
          "metadata": {
            "needs_background": "light"
          },
          "output_type": "display_data"
        }
      ],
      "source": [
        "# Visualising regression\n",
        "fig, a1 = plt.subplots(1,1,figsize=(10, 6))\n",
        "a1.scatter(y_pred, y,  color='red')\n",
        "a1.plot(y_pred, y_pred, color='blue', linewidth=3)\n",
        "\n",
        "a1.set_title('Variation of Human Birth Rate with Stork Pair Numbers')\n",
        "a1.set_xlabel('Number of Stork Pairs')\n",
        "a1.set_ylabel('Human Birth Rate x1000 per year')"
      ]
    },
    {
      "cell_type": "code",
      "execution_count": null,
      "metadata": {
        "colab": {
          "base_uri": "https://localhost:8080/"
        },
        "id": "tR_RhtjSqzGH",
        "outputId": "60717d23-877f-4d74-d9e8-95f728f821e6"
      },
      "outputs": [
        {
          "name": "stdout",
          "output_type": "stream",
          "text": [
            "The R2 coefficient of determination is 0.385\n",
            "The intercept is 225.0\n",
            "Estimated regression coefficient for Stork Numbers is 0.03\n"
          ]
        }
      ],
      "source": [
        "# Outputting coeff of determn, intercept and beta\n",
        "beta_Stork_Numbers = reg.coef_\n",
        "print('The R2 coefficient of determination is %4.3f' % reg.score(X, y))\n",
        "print('The intercept is %4.1f' % reg.intercept_)\n",
        "print('Estimated regression coefficient for Stork Numbers is %4.2f' % beta_Stork_Numbers)"
      ]
    },
    {
      "cell_type": "markdown",
      "metadata": {
        "id": "3nAarGMUvSmX"
      },
      "source": [
        "**Section 3.2: Model 2 - Variation of Human Birth Numbers with Human Population Size**<br>\n",
        "In this subsection the number of human births is correlated with human population per country."
      ]
    },
    {
      "cell_type": "code",
      "execution_count": null,
      "metadata": {
        "colab": {
          "base_uri": "https://localhost:8080/"
        },
        "id": "WGzswopCvbOn",
        "outputId": "905a7043-8593-4601-b3bc-00f523653a23"
      },
      "outputs": [
        {
          "name": "stdout",
          "output_type": "stream",
          "text": [
            "Regression axes assigned.\n"
          ]
        }
      ],
      "source": [
        "# Setting up for regression\n",
        "X2 = safe_df1[[\"Humans\"]]\n",
        "y2 = safe_df1[[\"BirthRate\"]]\n",
        "print(\"Regression axes assigned.\")"
      ]
    },
    {
      "cell_type": "code",
      "execution_count": null,
      "metadata": {
        "colab": {
          "base_uri": "https://localhost:8080/"
        },
        "id": "IxQEozQTvf49",
        "outputId": "709e0463-5cd0-4780-92af-d14048c72b3b"
      },
      "outputs": [
        {
          "name": "stdout",
          "output_type": "stream",
          "text": [
            "Regression line fitted.\n"
          ]
        }
      ],
      "source": [
        "# Regressing y onto X\n",
        "reg2 = LinearRegression()\n",
        "reg2.fit(X2, y2)\n",
        "print(\"Regression line fitted.\")"
      ]
    },
    {
      "cell_type": "code",
      "execution_count": null,
      "metadata": {
        "colab": {
          "base_uri": "https://localhost:8080/"
        },
        "id": "hXLKKRKAwG62",
        "outputId": "30545b77-ce02-492f-9178-51ef94135c81"
      },
      "outputs": [
        {
          "name": "stdout",
          "output_type": "stream",
          "text": [
            "Results prediction set up.\n"
          ]
        }
      ],
      "source": [
        "# Setting up prediction of set results\n",
        "y_pred2 = reg2.predict(X2)\n",
        "print(\"Results prediction set up.\")"
      ]
    },
    {
      "cell_type": "code",
      "execution_count": null,
      "metadata": {
        "colab": {
          "base_uri": "https://localhost:8080/",
          "height": 421
        },
        "id": "O9h09lNkwL-1",
        "outputId": "e68931b0-4b75-4c6b-f415-65ba5ad1bce9"
      },
      "outputs": [
        {
          "data": {
            "text/plain": [
              "Text(0, 0.5, 'Human Birth Rate x1000 per year')"
            ]
          },
          "execution_count": 15,
          "metadata": {},
          "output_type": "execute_result"
        },
        {
          "data": {
            "image/png": "[encoded data removed]",
            "text/plain": [
              "<Figure size 720x432 with 1 Axes>"
            ]
          },
          "metadata": {
            "needs_background": "light"
          },
          "output_type": "display_data"
        }
      ],
      "source": [
        "# Visualising regression\n",
        "fig, a2 = plt.subplots(1,1,figsize=(10, 6))\n",
        "a2.scatter(y_pred2, y2,  color='red')\n",
        "a2.plot(y_pred2, y_pred2, color='blue', linewidth=3)\n",
        "\n",
        "a2.set_title('Variation of Human Birth Rate with Human Population')\n",
        "a2.set_xlabel('Human Population in millions')\n",
        "a2.set_ylabel('Human Birth Rate x1000 per year')"
      ]
    },
    {
      "cell_type": "code",
      "execution_count": null,
      "metadata": {
        "colab": {
          "base_uri": "https://localhost:8080/"
        },
        "id": "VyFnI3fFxDr3",
        "outputId": "fd332c17-1d9e-431a-f046-2916de6d340e"
      },
      "outputs": [
        {
          "name": "stdout",
          "output_type": "stream",
          "text": [
            "The R2 coefficient of determination is -136958.886\n",
            "The intercept is -8.4\n",
            "Estimated regression coefficient for Stork Numbers is 14.83\n"
          ]
        }
      ],
      "source": [
        "# Outputting coeff of determn, intercept and beta\n",
        "beta_Human_Population = reg2.coef_\n",
        "print('The R2 coefficient of determination is %4.3f' % reg2.score(X, y))\n",
        "print('The intercept is %4.1f' % reg2.intercept_)\n",
        "print('Estimated regression coefficient for Stork Numbers is %4.2f' % beta_Human_Population)"
      ]
    },
    {
      "cell_type": "markdown",
      "metadata": {
        "id": "7cFo4k2d9DBS"
      },
      "source": [
        "**Discussion**<br>\n",
        "When human birth rate is correlated with stork pair numbers, the coefficient of determination r2 is obtained to be 0.385, whereas when correlated with human population it is obtained to be -136,959. In this ordinary least squares regression analysis the r2 statistic is the proportion of total variation of outcomes explained by the independent variable(s)$^3$ - and therefore a measure of how good a model prediction is in relation to actual data points. Valid values range from 0 - 1 (zero to one) with increasing level of fit in increasing order from 0 - 1. Values outside the limits of 0 - 1 indicate cases where the constructed model does not explain variation in observed outcome.<br>\n",
        "<br>\n",
        "Thus, although the observed r2 values at first glance may suggest that stork pair numbers provide a better variable by which to estimate human birth rates while human population numbers cannot explain variation in human births, the shear absurdity of such conclusions puts the whole method of analysis into question. This is further discussed in Section 5: Conclusions below.<br>\n",
        "<br>\n",
        "The same analysis carried out on this data but with scaled (i.e. min-max) and then with standardised (i.e. in terms of / divided by standard deviations) yielded what, at first sight, seemed to be more interpretable values. However such normalised values, in the context of this task, probably defeats the purpose of the analysis - i.e. whether this data is viable or amenable to ordinary least squares regression modelling."
      ]
    },
    {
      "cell_type": "markdown",
      "metadata": {
        "id": "YxwswOdu4qLF"
      },
      "source": [
        "**Section 3.3: Using Bootstrap Technique to Estimate Distribution of Difference in r2 Parameter for the Two Models**"
      ]
    },
    {
      "cell_type": "code",
      "execution_count": null,
      "metadata": {
        "colab": {
          "base_uri": "https://localhost:8080/"
        },
        "id": "9qSVkznDzLgv",
        "outputId": "27cae716-44e6-434b-d0c1-4b7ffa363a98"
      },
      "outputs": [
        {
          "name": "stdout",
          "output_type": "stream",
          "text": [
            "Libraries imported\n"
          ]
        }
      ],
      "source": [
        "# Importing libraries\n",
        "import scipy.stats as stats\n",
        "from sklearn.utils import resample\n",
        "from sklearn.metrics import mean_squared_error\n",
        "import math\n",
        "print(\"Libraries imported\")"
      ]
    },
    {
      "cell_type": "code",
      "execution_count": null,
      "metadata": {
        "colab": {
          "base_uri": "https://localhost:8080/"
        },
        "id": "LNVX6HtKeQU0",
        "outputId": "9e8f18d2-d5c5-4274-bda1-55befe5cb812"
      },
      "outputs": [
        {
          "name": "stdout",
          "output_type": "stream",
          "text": [
            "Regression function for Stork Numbers created.\n"
          ]
        }
      ],
      "source": [
        "# Creating regression function for storks\n",
        "def doRegression_storks(safe_df1):\n",
        "    y = safe_df1[[\"BirthRate\"]]\n",
        "    X = safe_df1[[\"Storks\"]]\n",
        "    reg = LinearRegression().fit(X, y)\n",
        "    y_hat = reg.predict(X)\n",
        "    r2_Stork_Numbers = reg.score(X, y)\n",
        "    return [r2_Stork_Numbers]\n",
        "\n",
        "print(\"Regression function for Stork Numbers created.\")"
      ]
    },
    {
      "cell_type": "code",
      "execution_count": null,
      "metadata": {
        "colab": {
          "base_uri": "https://localhost:8080/"
        },
        "id": "9Yo4ZAkTghbY",
        "outputId": "ca919840-75b0-40f7-e33c-8801d4892775"
      },
      "outputs": [
        {
          "name": "stdout",
          "output_type": "stream",
          "text": [
            "Regression function for Human Population created.\n"
          ]
        }
      ],
      "source": [
        "# Creating regression function for humans\n",
        "def doRegression_humans(safe_df1):\n",
        "    y2 = safe_df1[[\"BirthRate\"]]\n",
        "    X2 = safe_df1[[\"Humans\"]]\n",
        "    reg2 = LinearRegression().fit(X2, y2)\n",
        "    y_hat2 = reg2.predict(X2)\n",
        "    r2_Human_Popln = reg2.score(X2, y2)\n",
        "    return [r2_Human_Popln]\n",
        "\n",
        "print(\"Regression function for Human Population created.\")"
      ]
    },
    {
      "cell_type": "code",
      "execution_count": null,
      "metadata": {
        "colab": {
          "base_uri": "https://localhost:8080/"
        },
        "id": "_X_Vj5r9j7oI",
        "outputId": "31ffb127-01b0-472a-8c11-20157185a8d3"
      },
      "outputs": [
        {
          "name": "stdout",
          "output_type": "stream",
          "text": [
            "Bootstrap function created.\n"
          ]
        }
      ],
      "source": [
        "# Creating bootstrap function\n",
        "def bootstrapC(data, cols, repeats, func):\n",
        "    result = pd.DataFrame(data = dict([(c, np.empty(repeats)) for c in cols]))\n",
        "    \n",
        "    for i in range(0, repeats):\n",
        "        result.iloc[i] = func(resample(data))\n",
        "    return result\n",
        "\n",
        "print(\"Bootstrap function created.\")"
      ]
    },
    {
      "cell_type": "code",
      "execution_count": null,
      "metadata": {
        "colab": {
          "base_uri": "https://localhost:8080/"
        },
        "id": "J5DRjZLOvg1S",
        "outputId": "92be54be-3e08-4d2b-e96c-67708335a120"
      },
      "outputs": [
        {
          "name": "stdout",
          "output_type": "stream",
          "text": [
            "Stork pairs resampled by bootstrap technique.\n"
          ]
        }
      ],
      "source": [
        "# Using bootstrap function to obtain storks r2 distribution\n",
        "stk_bstrap = bootstrapC(safe_df1, ['R2_Diff'], 500, doRegression_storks)\n",
        "print(\"Stork pairs resampled by bootstrap technique.\")"
      ]
    },
    {
      "cell_type": "code",
      "execution_count": null,
      "metadata": {
        "colab": {
          "base_uri": "https://localhost:8080/"
        },
        "id": "MG5aFUKAv2Tz",
        "outputId": "225627a7-211c-46bb-d2a0-376be5ceabe3"
      },
      "outputs": [
        {
          "name": "stdout",
          "output_type": "stream",
          "text": [
            "Human population resampled by bootstrap technique.\n"
          ]
        }
      ],
      "source": [
        "# Using bootstrap function to obtain humans r2 distribution\n",
        "hmn_bstrap = bootstrapC(safe_df1, ['R2_Diff'], 500, doRegression_humans)\n",
        "print(\"Human population resampled by bootstrap technique.\")"
      ]
    },
    {
      "cell_type": "code",
      "execution_count": null,
      "metadata": {
        "colab": {
          "base_uri": "https://localhost:8080/",
          "height": 423
        },
        "id": "RC90k2xDkNeU",
        "outputId": "a3ebc7d2-e67b-4506-8bc1-846b78ace6c0"
      },
      "outputs": [
        {
          "data": {
            "text/html": [
              "<div>\n",
              "<style scoped>\n",
              "    .dataframe tbody tr th:only-of-type {\n",
              "        vertical-align: middle;\n",
              "    }\n",
              "\n",
              "    .dataframe tbody tr th {\n",
              "        vertical-align: top;\n",
              "    }\n",
              "\n",
              "    .dataframe thead th {\n",
              "        text-align: right;\n",
              "    }\n",
              "</style>\n",
              "<table border=\"1\" class=\"dataframe\">\n",
              "  <thead>\n",
              "    <tr style=\"text-align: right;\">\n",
              "      <th></th>\n",
              "      <th>R2_Diff</th>\n",
              "    </tr>\n",
              "  </thead>\n",
              "  <tbody>\n",
              "    <tr>\n",
              "      <th>0</th>\n",
              "      <td>0.626373</td>\n",
              "    </tr>\n",
              "    <tr>\n",
              "      <th>1</th>\n",
              "      <td>-0.009931</td>\n",
              "    </tr>\n",
              "    <tr>\n",
              "      <th>2</th>\n",
              "      <td>0.580126</td>\n",
              "    </tr>\n",
              "    <tr>\n",
              "      <th>3</th>\n",
              "      <td>0.247085</td>\n",
              "    </tr>\n",
              "    <tr>\n",
              "      <th>4</th>\n",
              "      <td>0.566991</td>\n",
              "    </tr>\n",
              "    <tr>\n",
              "      <th>...</th>\n",
              "      <td>...</td>\n",
              "    </tr>\n",
              "    <tr>\n",
              "      <th>495</th>\n",
              "      <td>0.906381</td>\n",
              "    </tr>\n",
              "    <tr>\n",
              "      <th>496</th>\n",
              "      <td>0.731801</td>\n",
              "    </tr>\n",
              "    <tr>\n",
              "      <th>497</th>\n",
              "      <td>0.387197</td>\n",
              "    </tr>\n",
              "    <tr>\n",
              "      <th>498</th>\n",
              "      <td>0.253403</td>\n",
              "    </tr>\n",
              "    <tr>\n",
              "      <th>499</th>\n",
              "      <td>0.306450</td>\n",
              "    </tr>\n",
              "  </tbody>\n",
              "</table>\n",
              "<p>500 rows × 1 columns</p>\n",
              "</div>"
            ],
            "text/plain": [
              "      R2_Diff\n",
              "0    0.626373\n",
              "1   -0.009931\n",
              "2    0.580126\n",
              "3    0.247085\n",
              "4    0.566991\n",
              "..        ...\n",
              "495  0.906381\n",
              "496  0.731801\n",
              "497  0.387197\n",
              "498  0.253403\n",
              "499  0.306450\n",
              "\n",
              "[500 rows x 1 columns]"
            ]
          },
          "execution_count": 23,
          "metadata": {},
          "output_type": "execute_result"
        }
      ],
      "source": [
        "# Calculating r2 difference\n",
        "r2_diff = hmn_bstrap - stk_bstrap\n",
        "r2_diff"
      ]
    },
    {
      "cell_type": "code",
      "execution_count": null,
      "metadata": {
        "colab": {
          "base_uri": "https://localhost:8080/",
          "height": 425
        },
        "id": "MgpskritCNfK",
        "outputId": "3b68a33e-2224-414b-8c28-6e803ce611ef"
      },
      "outputs": [
        {
          "data": {
            "text/plain": [
              "array([[<matplotlib.axes._subplots.AxesSubplot object at 0x7f3bfa8587d0>]],\n",
              "      dtype=object)"
            ]
          },
          "execution_count": 24,
          "metadata": {},
          "output_type": "execute_result"
        },
        {
          "data": {
            "image/png": "[encoded data removed]",
            "text/plain": [
              "<Figure size 720x432 with 1 Axes>"
            ]
          },
          "metadata": {
            "needs_background": "light"
          },
          "output_type": "display_data"
        }
      ],
      "source": [
        "# Visualising distribution\n",
        "r2_diff.hist(alpha=0.4, figsize=(10, 6))"
      ]
    },
    {
      "cell_type": "code",
      "execution_count": null,
      "metadata": {
        "colab": {
          "base_uri": "https://localhost:8080/"
        },
        "id": "xn1pND7bDSW5",
        "outputId": "1702df58-0a90-412a-9c81-72d2e53c92e8"
      },
      "outputs": [
        {
          "name": "stdout",
          "output_type": "stream",
          "text": [
            "The 90% confidence interval for the difference in the r2 values is 0.026 to 0.746\n",
            "The 95% confidence interval for the difference in the r2 values is -0.034 to 0.869\n",
            "The 99% confidence interval for the difference in the r2 values is -0.187 to 0.947\n"
          ]
        }
      ],
      "source": [
        "# Outputting CIs\n",
        "print('The 90%% confidence interval for the difference in the r2 values is %4.3f to %4.3f' % \n",
        "      (r2_diff.quantile(0.10), r2_diff.quantile(0.90)))\n",
        "print('The 95%% confidence interval for the difference in the r2 values is %4.3f to %4.3f' % \n",
        "      (r2_diff.quantile(0.05), r2_diff.quantile(0.95)))\n",
        "print('The 99%% confidence interval for the difference in the r2 values is %4.3f to %4.3f' % \n",
        "      (r2_diff.quantile(0.01), r2_diff.quantile(0.99)))"
      ]
    },
    {
      "cell_type": "markdown",
      "metadata": {
        "id": "t56Vcr45q79T"
      },
      "source": [
        "**Discussion**<br>\n",
        "Considering that the Bootstrapping technique enables resampling from a sample instead of the population, it may be considered ideal for this small sample size. At the same time and contrary to this, the very property of smallness of this dataset means resampling it at length would hardly yield much variation.<br> \n",
        "\n",
        "The confidence interval (CI), being the range of sample statistic distribution within which we can be confident of finding the population mean with a stated percentage, were obtained to be as output above. True sampling distribution however depends on the population parameters$^4$. Taking the Storks dataset as a true sampling from the population of European countries, their birth rates and stork numbers, the 90%, 95% and 99% values obtained above are the certainties of the estimated difference in r2 values by the two different models. Unlike the 90% CI, the 95% and 99% CI do contain or pass through zero. This means that the latter two CIs'\n",
        "p-values (associated with a null hypothesis that there is no statistically significant difference between the two models' estimates of r2) will be greater than 0.05 and 0.01 respectively at relevant degrees of freedom. Hence there would be no evidence to reject the null hypothesis in those two cited CIs.<br> \n",
        "\n",
        "Conversely, since the 90% CI does not contain the value zero, then the p-value associated with the null hypothesis (above) would be less than 0.10, meaning there is evidence to reject the null hypothesis.<br> \n",
        "\n",
        "This presents a conundrum - in a normal analysis we would expect things, if in any doubt, to be the other way round. Instead we have a situation where at 90% CI there is evidence to reject the null hypothesis, but at 95% and 99% CI there is no evidence to reject the null hypothesis. An attempt is made at explaining this anomaly in Section 5: Conclusions below."
      ]
    },
    {
      "cell_type": "markdown",
      "metadata": {
        "id": "Flg7KyoUqNXb"
      },
      "source": [
        "### **Section 4: Comparing Performance of Two Regression Models in Predicting Stork Pair Numbers**<br> \n",
        "This section aims to compare two regression models with a view to explaining the variability in the number of stork pairs in different countries by using the root mean squared error (RMSE).<br> \n",
        "\n",
        "**Section 4.1: Model 1 - Predictor is Land Area**"
      ]
    },
    {
      "cell_type": "code",
      "execution_count": null,
      "metadata": {
        "colab": {
          "base_uri": "https://localhost:8080/"
        },
        "id": "YDpbvaf_PWqD",
        "outputId": "026fdf69-44d8-4815-b6b1-c323bf30d283"
      },
      "outputs": [
        {
          "name": "stdout",
          "output_type": "stream",
          "text": [
            "Regression axes assigned.\n"
          ]
        }
      ],
      "source": [
        "# Setting up for number of storks and land area regression\n",
        "X3 = safe_df1[[\"Area\"]]\n",
        "y3 = safe_df1[[\"Storks\"]]\n",
        "print(\"Regression axes assigned.\")"
      ]
    },
    {
      "cell_type": "code",
      "execution_count": null,
      "metadata": {
        "colab": {
          "base_uri": "https://localhost:8080/"
        },
        "id": "H2iMk_XWQZXL",
        "outputId": "59a1844f-e12f-46ff-b2a8-a4949951ebe4"
      },
      "outputs": [
        {
          "name": "stdout",
          "output_type": "stream",
          "text": [
            "Regression line fitted.\n"
          ]
        }
      ],
      "source": [
        "# Regressing y onto X\n",
        "reg3 = LinearRegression()\n",
        "reg3.fit(X3, y3)\n",
        "print(\"Regression line fitted.\")"
      ]
    },
    {
      "cell_type": "code",
      "execution_count": null,
      "metadata": {
        "colab": {
          "base_uri": "https://localhost:8080/"
        },
        "id": "vlZGeHXVQmcS",
        "outputId": "cc1216f3-54e1-4bca-8dfe-f8b8e13f6ed5"
      },
      "outputs": [
        {
          "name": "stdout",
          "output_type": "stream",
          "text": [
            "Results prediction set up.\n"
          ]
        }
      ],
      "source": [
        "# Setting up prediction of set results\n",
        "y_pred3 = reg3.predict(X3)\n",
        "print(\"Results prediction set up.\")"
      ]
    },
    {
      "cell_type": "code",
      "execution_count": null,
      "metadata": {
        "colab": {
          "base_uri": "https://localhost:8080/",
          "height": 421
        },
        "id": "p_XxGh1_Q4kr",
        "outputId": "34418200-ad5d-490c-d46e-772f7a869b13"
      },
      "outputs": [
        {
          "data": {
            "text/plain": [
              "Text(0, 0.5, 'Number of Stork Pairs')"
            ]
          },
          "execution_count": 29,
          "metadata": {},
          "output_type": "execute_result"
        },
        {
          "data": {
            "image/png": "[encoded data removed]",
            "text/plain": [
              "<Figure size 720x432 with 1 Axes>"
            ]
          },
          "metadata": {
            "needs_background": "light"
          },
          "output_type": "display_data"
        }
      ],
      "source": [
        "# Visualising regression\n",
        "fig, a3 = plt.subplots(1,1,figsize=(10, 6))\n",
        "a3.scatter(y_pred3, y3,  color='red')\n",
        "a3.plot(y_pred3, y_pred3, color='blue', linewidth=3)\n",
        "\n",
        "a3.set_title('Variation of Stork Pair Numbers with Land Area')\n",
        "a3.set_xlabel('Land Area in square kilometres')\n",
        "a3.set_ylabel('Number of Stork Pairs')"
      ]
    },
    {
      "cell_type": "code",
      "execution_count": null,
      "metadata": {
        "colab": {
          "base_uri": "https://localhost:8080/"
        },
        "id": "NjPrqVTaSHsr",
        "outputId": "5818c8b4-e9b7-415d-c5ef-4aafdf5a8eb2"
      },
      "outputs": [
        {
          "name": "stdout",
          "output_type": "stream",
          "text": [
            "The R2 coefficient of determination is 0.336\n",
            "The intercept is -60.7\n",
            "Estimated regression coefficient for Land Area is 0.02\n",
            "The RMSE for the model of Land Area as a predictor of Stork Pair Numbers is 6984.77\n"
          ]
        }
      ],
      "source": [
        "# Outputting coeff of determn, intercept and beta\n",
        "beta_Land_Area = reg3.coef_\n",
        "print('The R2 coefficient of determination is %4.3f' % reg3.score(X3, y3))\n",
        "print('The intercept is %4.1f' % reg3.intercept_)\n",
        "print('Estimated regression coefficient for Land Area is %4.2f' % beta_Land_Area)\n",
        "\n",
        "# Outputting RMSE\n",
        "MSE_3 = mean_squared_error(y3, y_pred3)\n",
        "RMSE_3 = math.sqrt(MSE_3)\n",
        "print(\"The RMSE for the model of Land Area as a predictor of Stork Pair Numbers is \" + str(round(RMSE_3, 2)))"
      ]
    },
    {
      "cell_type": "code",
      "execution_count": null,
      "metadata": {
        "colab": {
          "base_uri": "https://localhost:8080/",
          "height": 421
        },
        "id": "ZXtZm8_wc0Ey",
        "outputId": "34e02dac-8b73-4819-be1c-e4787cacb280"
      },
      "outputs": [
        {
          "data": {
            "text/plain": [
              "Text(0, 0.5, 'Actual Stork Pair Numbers')"
            ]
          },
          "execution_count": 31,
          "metadata": {},
          "output_type": "execute_result"
        },
        {
          "data": {
            "image/png": "[encoded data removed]",
            "text/plain": [
              "<Figure size 720x432 with 1 Axes>"
            ]
          },
          "metadata": {
            "needs_background": "light"
          },
          "output_type": "display_data"
        }
      ],
      "source": [
        "# Visualising actual vs predicted values \n",
        "fig, a4 = plt.subplots(1,1,figsize=(10,6))\n",
        "a4.scatter(y_pred3, y3,  color='red')\n",
        "a4.plot(y_pred3, y_pred3, color='blue', linewidth=3)\n",
        "\n",
        "a4.set_title('Actual Stork Pair Numbers vs Predicted Stork Pair Numbers for Number of Stork Pairs Regressed on Land Area')\n",
        "a4.set_xlabel('Predicted Stork Pair Numbers')\n",
        "a4.set_ylabel('Actual Stork Pair Numbers')"
      ]
    },
    {
      "cell_type": "code",
      "execution_count": null,
      "metadata": {
        "colab": {
          "base_uri": "https://localhost:8080/",
          "height": 425
        },
        "id": "WWz9TKwGU8JR",
        "outputId": "744d817c-4dd5-4ceb-9e9b-01317ca21dd4"
      },
      "outputs": [
        {
          "data": {
            "text/plain": [
              "array([[<matplotlib.axes._subplots.AxesSubplot object at 0x7f3bfa751590>]],\n",
              "      dtype=object)"
            ]
          },
          "execution_count": 32,
          "metadata": {},
          "output_type": "execute_result"
        },
        {
          "data": {
            "image/png": "[encoded data removed]",
            "text/plain": [
              "<Figure size 720x432 with 1 Axes>"
            ]
          },
          "metadata": {
            "needs_background": "light"
          },
          "output_type": "display_data"
        }
      ],
      "source": [
        "# Visualising residuals distribution\n",
        "residuals3 = y_pred3 - y3\n",
        "residuals3.hist(alpha=0.4, figsize=(10, 6))"
      ]
    },
    {
      "cell_type": "code",
      "execution_count": null,
      "metadata": {
        "colab": {
          "base_uri": "https://localhost:8080/"
        },
        "id": "PbEGfyd-V4zR",
        "outputId": "cede61b3-c118-41b5-b674-2929fa37a984"
      },
      "outputs": [
        {
          "name": "stdout",
          "output_type": "stream",
          "text": [
            "Root of the mean squared error (RMSE) is 6568.49\n"
          ]
        }
      ],
      "source": [
        "# Calculating root mean squared error\n",
        "print('Root of the mean squared error (RMSE) is %.2f'% mean_squared_error(y, y_pred3, squared=False))"
      ]
    },
    {
      "cell_type": "markdown",
      "metadata": {
        "id": "GMJ1M8ehsOUx"
      },
      "source": [
        "**Section 4.2: Model 2 - Predictors are (i) Population Density and (ii) Area of Suitable Land**<br>\n",
        "\n",
        "To use population density and suitable land area as variables require calculation of these for each country and putting these in new columns:"
      ]
    },
    {
      "cell_type": "code",
      "execution_count": null,
      "metadata": {
        "colab": {
          "base_uri": "https://localhost:8080/",
          "height": 617
        },
        "id": "mzOKprPEXCPp",
        "outputId": "511a2ae5-9d55-4455-dd92-17b2fd7ba18e"
      },
      "outputs": [
        {
          "name": "stdout",
          "output_type": "stream",
          "text": [
            "New variables calculated and added to dataframe as follows: \n",
            "\n"
          ]
        },
        {
          "data": {
            "text/html": [
              "<div>\n",
              "<style scoped>\n",
              "    .dataframe tbody tr th:only-of-type {\n",
              "        vertical-align: middle;\n",
              "    }\n",
              "\n",
              "    .dataframe tbody tr th {\n",
              "        vertical-align: top;\n",
              "    }\n",
              "\n",
              "    .dataframe thead th {\n",
              "        text-align: right;\n",
              "    }\n",
              "</style>\n",
              "<table border=\"1\" class=\"dataframe\">\n",
              "  <thead>\n",
              "    <tr style=\"text-align: right;\">\n",
              "      <th></th>\n",
              "      <th>Country</th>\n",
              "      <th>Area</th>\n",
              "      <th>Storks</th>\n",
              "      <th>Humans</th>\n",
              "      <th>BirthRate</th>\n",
              "      <th>SuitableAreaPercent</th>\n",
              "      <th>Popln_Density</th>\n",
              "      <th>SuitableArea</th>\n",
              "    </tr>\n",
              "  </thead>\n",
              "  <tbody>\n",
              "    <tr>\n",
              "      <th>0</th>\n",
              "      <td>Albania</td>\n",
              "      <td>28750</td>\n",
              "      <td>100</td>\n",
              "      <td>3.2</td>\n",
              "      <td>83</td>\n",
              "      <td>55.68</td>\n",
              "      <td>111.304348</td>\n",
              "      <td>1600800.0</td>\n",
              "    </tr>\n",
              "    <tr>\n",
              "      <th>1</th>\n",
              "      <td>Austria</td>\n",
              "      <td>83860</td>\n",
              "      <td>300</td>\n",
              "      <td>7.6</td>\n",
              "      <td>87</td>\n",
              "      <td>38.34</td>\n",
              "      <td>90.627236</td>\n",
              "      <td>3215192.4</td>\n",
              "    </tr>\n",
              "    <tr>\n",
              "      <th>2</th>\n",
              "      <td>Belgium</td>\n",
              "      <td>30520</td>\n",
              "      <td>1</td>\n",
              "      <td>9.9</td>\n",
              "      <td>118</td>\n",
              "      <td>65.93</td>\n",
              "      <td>324.377457</td>\n",
              "      <td>2012183.6</td>\n",
              "    </tr>\n",
              "    <tr>\n",
              "      <th>3</th>\n",
              "      <td>Bulgaria</td>\n",
              "      <td>111000</td>\n",
              "      <td>5000</td>\n",
              "      <td>9.0</td>\n",
              "      <td>117</td>\n",
              "      <td>57.99</td>\n",
              "      <td>81.081081</td>\n",
              "      <td>6436890.0</td>\n",
              "    </tr>\n",
              "    <tr>\n",
              "      <th>4</th>\n",
              "      <td>Denmark</td>\n",
              "      <td>43100</td>\n",
              "      <td>9</td>\n",
              "      <td>5.1</td>\n",
              "      <td>59</td>\n",
              "      <td>81.46</td>\n",
              "      <td>118.329466</td>\n",
              "      <td>3510926.0</td>\n",
              "    </tr>\n",
              "    <tr>\n",
              "      <th>5</th>\n",
              "      <td>France</td>\n",
              "      <td>544000</td>\n",
              "      <td>140</td>\n",
              "      <td>56.0</td>\n",
              "      <td>774</td>\n",
              "      <td>58.47</td>\n",
              "      <td>102.941176</td>\n",
              "      <td>31807680.0</td>\n",
              "    </tr>\n",
              "    <tr>\n",
              "      <th>6</th>\n",
              "      <td>Germany</td>\n",
              "      <td>357000</td>\n",
              "      <td>3300</td>\n",
              "      <td>78.0</td>\n",
              "      <td>901</td>\n",
              "      <td>59.81</td>\n",
              "      <td>218.487395</td>\n",
              "      <td>21352170.0</td>\n",
              "    </tr>\n",
              "    <tr>\n",
              "      <th>7</th>\n",
              "      <td>Greece</td>\n",
              "      <td>132000</td>\n",
              "      <td>2500</td>\n",
              "      <td>10.0</td>\n",
              "      <td>106</td>\n",
              "      <td>47.31</td>\n",
              "      <td>75.757576</td>\n",
              "      <td>6244920.0</td>\n",
              "    </tr>\n",
              "    <tr>\n",
              "      <th>8</th>\n",
              "      <td>Holland</td>\n",
              "      <td>41900</td>\n",
              "      <td>4</td>\n",
              "      <td>15.0</td>\n",
              "      <td>188</td>\n",
              "      <td>70.96</td>\n",
              "      <td>357.995227</td>\n",
              "      <td>2973224.0</td>\n",
              "    </tr>\n",
              "    <tr>\n",
              "      <th>9</th>\n",
              "      <td>Hungary</td>\n",
              "      <td>93000</td>\n",
              "      <td>5000</td>\n",
              "      <td>11.0</td>\n",
              "      <td>124</td>\n",
              "      <td>75.86</td>\n",
              "      <td>118.279570</td>\n",
              "      <td>7054980.0</td>\n",
              "    </tr>\n",
              "    <tr>\n",
              "      <th>10</th>\n",
              "      <td>Italy</td>\n",
              "      <td>301280</td>\n",
              "      <td>5</td>\n",
              "      <td>57.0</td>\n",
              "      <td>551</td>\n",
              "      <td>60.30</td>\n",
              "      <td>189.192777</td>\n",
              "      <td>18167184.0</td>\n",
              "    </tr>\n",
              "    <tr>\n",
              "      <th>11</th>\n",
              "      <td>Poland</td>\n",
              "      <td>312680</td>\n",
              "      <td>30000</td>\n",
              "      <td>38.0</td>\n",
              "      <td>610</td>\n",
              "      <td>64.09</td>\n",
              "      <td>121.529999</td>\n",
              "      <td>20039661.2</td>\n",
              "    </tr>\n",
              "    <tr>\n",
              "      <th>12</th>\n",
              "      <td>Portugal</td>\n",
              "      <td>92390</td>\n",
              "      <td>1500</td>\n",
              "      <td>10.0</td>\n",
              "      <td>120</td>\n",
              "      <td>52.51</td>\n",
              "      <td>108.236822</td>\n",
              "      <td>4851398.9</td>\n",
              "    </tr>\n",
              "    <tr>\n",
              "      <th>13</th>\n",
              "      <td>Romania</td>\n",
              "      <td>237500</td>\n",
              "      <td>5000</td>\n",
              "      <td>23.0</td>\n",
              "      <td>367</td>\n",
              "      <td>62.49</td>\n",
              "      <td>96.842105</td>\n",
              "      <td>14841375.0</td>\n",
              "    </tr>\n",
              "    <tr>\n",
              "      <th>14</th>\n",
              "      <td>Spain</td>\n",
              "      <td>504750</td>\n",
              "      <td>8000</td>\n",
              "      <td>39.0</td>\n",
              "      <td>439</td>\n",
              "      <td>59.57</td>\n",
              "      <td>77.265973</td>\n",
              "      <td>30067957.5</td>\n",
              "    </tr>\n",
              "    <tr>\n",
              "      <th>15</th>\n",
              "      <td>Switzerland</td>\n",
              "      <td>41290</td>\n",
              "      <td>150</td>\n",
              "      <td>6.7</td>\n",
              "      <td>82</td>\n",
              "      <td>43.19</td>\n",
              "      <td>162.266893</td>\n",
              "      <td>1783315.1</td>\n",
              "    </tr>\n",
              "    <tr>\n",
              "      <th>16</th>\n",
              "      <td>Turkey</td>\n",
              "      <td>779450</td>\n",
              "      <td>25000</td>\n",
              "      <td>56.0</td>\n",
              "      <td>1576</td>\n",
              "      <td>65.97</td>\n",
              "      <td>71.845532</td>\n",
              "      <td>51420316.5</td>\n",
              "    </tr>\n",
              "  </tbody>\n",
              "</table>\n",
              "</div>"
            ],
            "text/plain": [
              "        Country    Area  ...  Popln_Density  SuitableArea\n",
              "0       Albania   28750  ...     111.304348     1600800.0\n",
              "1       Austria   83860  ...      90.627236     3215192.4\n",
              "2       Belgium   30520  ...     324.377457     2012183.6\n",
              "3      Bulgaria  111000  ...      81.081081     6436890.0\n",
              "4       Denmark   43100  ...     118.329466     3510926.0\n",
              "5        France  544000  ...     102.941176    31807680.0\n",
              "6       Germany  357000  ...     218.487395    21352170.0\n",
              "7        Greece  132000  ...      75.757576     6244920.0\n",
              "8       Holland   41900  ...     357.995227     2973224.0\n",
              "9       Hungary   93000  ...     118.279570     7054980.0\n",
              "10        Italy  301280  ...     189.192777    18167184.0\n",
              "11       Poland  312680  ...     121.529999    20039661.2\n",
              "12     Portugal   92390  ...     108.236822     4851398.9\n",
              "13      Romania  237500  ...      96.842105    14841375.0\n",
              "14        Spain  504750  ...      77.265973    30067957.5\n",
              "15  Switzerland   41290  ...     162.266893     1783315.1\n",
              "16       Turkey  779450  ...      71.845532    51420316.5\n",
              "\n",
              "[17 rows x 8 columns]"
            ]
          },
          "execution_count": 34,
          "metadata": {},
          "output_type": "execute_result"
        }
      ],
      "source": [
        "# Calculating and appending population density and suitable area\n",
        "safe_df1['Popln_Density'] = safe_df1['Humans'] * 1000000 / safe_df1['Area']\n",
        "safe_df1['SuitableArea'] = safe_df1['SuitableAreaPercent'] * safe_df1['Area']\n",
        "print(\"New variables calculated and added to dataframe as follows: \\n\")\n",
        "safe_df1"
      ]
    },
    {
      "cell_type": "code",
      "execution_count": null,
      "metadata": {
        "colab": {
          "base_uri": "https://localhost:8080/"
        },
        "id": "JcGtTwITlOEZ",
        "outputId": "338622c2-6745-4d2f-98db-04726470e8e7"
      },
      "outputs": [
        {
          "name": "stdout",
          "output_type": "stream",
          "text": [
            "Regression axes assigned.\n"
          ]
        }
      ],
      "source": [
        "# Setting up for number of storks vs population density and area of suitable land\n",
        "y4 = safe_df1.Storks\n",
        "X4 = np.column_stack((safe_df1.Popln_Density, safe_df1.SuitableArea))\n",
        "print(\"Regression axes assigned.\")"
      ]
    },
    {
      "cell_type": "code",
      "execution_count": null,
      "metadata": {
        "colab": {
          "base_uri": "https://localhost:8080/"
        },
        "id": "BBdRzxy8mfd5",
        "outputId": "d55b9c77-f747-4f3f-c491-9ee81c4a6ae2"
      },
      "outputs": [
        {
          "name": "stdout",
          "output_type": "stream",
          "text": [
            "Regression line fitted.\n"
          ]
        }
      ],
      "source": [
        "# Regressing y onto X\n",
        "reg4 = LinearRegression()\n",
        "reg4.fit(X4, y4)\n",
        "print(\"Regression line fitted.\")"
      ]
    },
    {
      "cell_type": "code",
      "execution_count": null,
      "metadata": {
        "colab": {
          "base_uri": "https://localhost:8080/"
        },
        "id": "wiBlmcg8mn1H",
        "outputId": "2ba18cfa-e285-4714-8149-23ac1ca7d41a"
      },
      "outputs": [
        {
          "name": "stdout",
          "output_type": "stream",
          "text": [
            "Results prediction set up.\n"
          ]
        }
      ],
      "source": [
        "# Setting up prediction of set results\n",
        "y_pred4 = reg4.predict(X4)\n",
        "print(\"Results prediction set up.\")"
      ]
    },
    {
      "cell_type": "code",
      "execution_count": null,
      "metadata": {
        "colab": {
          "base_uri": "https://localhost:8080/"
        },
        "id": "1Ph-tL2entw_",
        "outputId": "b777aa5b-439d-4d6f-f762-dd19e768fedb"
      },
      "outputs": [
        {
          "name": "stdout",
          "output_type": "stream",
          "text": [
            "The R2 coefficient of determination is 0.393\n",
            "The intercept is 1881.4\n",
            "Estimated regression coefficient for Human Population Density is -12.13\n",
            "Estimated regression coefficient for Suitable Area is 0.00\n",
            "The RMSE for the model of Human Population Density and Suitable Land Area for storks as predictors of Stork Pair Numbers is 6677.03\n"
          ]
        }
      ],
      "source": [
        "# Outputting coeff of determn, intercept and beta\n",
        "print('The R2 coefficient of determination is %4.3f' % reg4.score(X4, y4))\n",
        "print('The intercept is %4.1f' % reg4.intercept_)\n",
        "beta_Popln_Density, beta_Suitable_Area = reg4.coef_\n",
        "print('Estimated regression coefficient for Human Population Density is %4.2f' % beta_Popln_Density)\n",
        "print('Estimated regression coefficient for Suitable Area is %4.2f' % beta_Suitable_Area)\n",
        "\n",
        "# Outputting RMSE\n",
        "MSE_4 = mean_squared_error(y4, y_pred4)\n",
        "RMSE_4 = math.sqrt(MSE_4)\n",
        "print(\"The RMSE for the model of Human Population Density and Suitable Land Area for storks as predictors of Stork Pair Numbers is \" \n",
        "      + str(round(RMSE_4, 2)))"
      ]
    },
    {
      "cell_type": "code",
      "execution_count": null,
      "metadata": {
        "colab": {
          "base_uri": "https://localhost:8080/",
          "height": 421
        },
        "id": "IOX9M1bmsrh1",
        "outputId": "ee3e4546-1bfa-4a36-eb00-b35e0528c090"
      },
      "outputs": [
        {
          "data": {
            "text/plain": [
              "Text(0, 0.5, 'Actual Stork Pair Numbers')"
            ]
          },
          "execution_count": 39,
          "metadata": {},
          "output_type": "execute_result"
        },
        {
          "data": {
            "image/png": "[encoded data removed]",
            "text/plain": [
              "<Figure size 720x432 with 1 Axes>"
            ]
          },
          "metadata": {
            "needs_background": "light"
          },
          "output_type": "display_data"
        }
      ],
      "source": [
        "# Visualising actual vs predicted values\n",
        "fig, a5 = plt.subplots(1,1,figsize=(10, 6))\n",
        "a5.scatter(y_pred4, y4,  color='red')\n",
        "a5.plot(y_pred4, y_pred4, color='blue', linewidth=3)\n",
        "\n",
        "a5.set_title('Actual Stork Pair Numbers vs Predicted Stork Pair Numbers for Number of Stork Pairs Regressed on Population Density and Suitable Area')\n",
        "a5.set_xlabel('Predicted Stork Pair Numbers')\n",
        "a5.set_ylabel('Actual Stork Pair Numbers')"
      ]
    },
    {
      "cell_type": "code",
      "execution_count": null,
      "metadata": {
        "colab": {
          "base_uri": "https://localhost:8080/",
          "height": 391
        },
        "id": "gSMhbgPheVGJ",
        "outputId": "bcaa4167-4371-40d7-80f7-2c0e476118f8"
      },
      "outputs": [
        {
          "data": {
            "text/plain": [
              "<matplotlib.axes._subplots.AxesSubplot at 0x7f3bfa626150>"
            ]
          },
          "execution_count": 40,
          "metadata": {},
          "output_type": "execute_result"
        },
        {
          "data": {
            "image/png": "[encoded data removed]",
            "text/plain": [
              "<Figure size 720x432 with 1 Axes>"
            ]
          },
          "metadata": {
            "needs_background": "light"
          },
          "output_type": "display_data"
        }
      ],
      "source": [
        "# Visualising residuals distribution\n",
        "residuals4 = y_pred4 - y4\n",
        "residuals4.hist(alpha=0.4, figsize=(10, 6))"
      ]
    },
    {
      "cell_type": "markdown",
      "metadata": {
        "id": "h78pUU8VVQTe"
      },
      "source": [
        "**Discussion**<br>\n",
        "The RMSE, being the standard deviation of the prediction errors (residuals), has its significance in being a measure of how far actual data points are from the models prediction line. From the above outputs it is observed that at small values of stork pairs the predicted values are fairly close the the actual values, but at lager values the data points are further away from the model prediction line, indicating greater departure fron actaul values at higher values. In the second instance of multiple linear regression, the two predictor varaiables of human population density and suitable area for storks can only be said to independently influence the model's predicted values if there is no colinearity between them, i.e. if these two variables do not vary together.<br>\n",
        "\n",
        "The large values obtained for the RMSEs of the two models above show that the model prediction does not fit the data very well. Smaller RMSEs are more desirable and mean closer fit of predicted values with actual values, with RMSE of zero indicating perfect fit. Because RMSE statistic is sensitive to outliers, it can be speculated that Turkey, and probably Poland too, are effectively acting as outliers in the two models above. "
      ]
    },
    {
      "cell_type": "markdown",
      "metadata": {
        "id": "aXVgwy6V-XLR"
      },
      "source": [
        "**Section 4.3: Using Bootstrap Technique to Estimate Difference in Root Mean Squared Error (RMSE) between Predicted and Actual Values for the Two Models**"
      ]
    },
    {
      "cell_type": "code",
      "execution_count": null,
      "metadata": {
        "colab": {
          "base_uri": "https://localhost:8080/"
        },
        "id": "VyiKchvlVbNe",
        "outputId": "6484c5a0-7870-4c56-d81c-dda8903a9f2e"
      },
      "outputs": [
        {
          "name": "stdout",
          "output_type": "stream",
          "text": [
            "Regression function for Stork Numbers created.\n"
          ]
        }
      ],
      "source": [
        "# Creating regression function for land area\n",
        "def doRegression_LA(safe_df1):\n",
        "    y5 = safe_df1[[\"Storks\"]]\n",
        "    X5 = safe_df1[[\"Area\"]]\n",
        "    reg5 = LinearRegression().fit(X5, y5) \n",
        "    y_pred5 = reg5.predict(X5)\n",
        "    MSE = mean_squared_error(y5, y_pred5)\n",
        "    RMSE_LA = math.sqrt(MSE)\n",
        "    return [RMSE_LA]\n",
        "\n",
        "print(\"Regression function for Stork Numbers created.\")"
      ]
    },
    {
      "cell_type": "code",
      "execution_count": null,
      "metadata": {
        "colab": {
          "base_uri": "https://localhost:8080/"
        },
        "id": "scP3gUvqI-90",
        "outputId": "187f31ec-1407-48cd-889f-f05fce74ba9c"
      },
      "outputs": [
        {
          "name": "stdout",
          "output_type": "stream",
          "text": [
            "Regression function for Stork Numbers created.\n"
          ]
        }
      ],
      "source": [
        "# Creating regression function for population density and suitable land\n",
        "def doRegression_PD_SA(safe_df1):\n",
        "    y6 = safe_df1.Storks\n",
        "    X6 = np.column_stack((safe_df1.Popln_Density, safe_df1.SuitableArea))\n",
        "    reg6 = LinearRegression().fit(X6, y6) \n",
        "    y_pred6 = reg6.predict(X6)\n",
        "    MSE = mean_squared_error(y6, y_pred6)\n",
        "    RMSE_PD_SA = math.sqrt(MSE)\n",
        "    return [RMSE_PD_SA]\n",
        "\n",
        "print(\"Regression function for Stork Numbers created.\")"
      ]
    },
    {
      "cell_type": "code",
      "execution_count": null,
      "metadata": {
        "colab": {
          "base_uri": "https://localhost:8080/"
        },
        "id": "EaDBYbK1MeY5",
        "outputId": "04b62543-59b2-4c6b-d533-a55ad3a297c6"
      },
      "outputs": [
        {
          "name": "stdout",
          "output_type": "stream",
          "text": [
            "Bootstrap function re-stated.\n"
          ]
        }
      ],
      "source": [
        "# Bootstrap function\n",
        "# Creating bootstrap function\n",
        "def bootstrapC(data, cols, repeats, func):\n",
        "    result = pd.DataFrame(data = dict([(c, np.empty(repeats)) for c in cols]))\n",
        "    \n",
        "    for i in range(0, repeats):\n",
        "        result.iloc[i] = func(resample(data))\n",
        "    return result\n",
        "\n",
        "print(\"Bootstrap function re-stated.\")"
      ]
    },
    {
      "cell_type": "code",
      "execution_count": null,
      "metadata": {
        "colab": {
          "base_uri": "https://localhost:8080/"
        },
        "id": "Shh4g9fYNJAp",
        "outputId": "d9f5933c-0249-4fda-b56a-f08407169987"
      },
      "outputs": [
        {
          "name": "stdout",
          "output_type": "stream",
          "text": [
            "Dataframe resampled 500 times by bootstrap technique for Land Area RMSE difference calculation.\n"
          ]
        }
      ],
      "source": [
        "# Using bootstrap function to obtain land area rmse distribution\n",
        "la_bstrap = bootstrapC(safe_df1, ['RMSE_Diff'], 500, doRegression_LA)\n",
        "print(\"Dataframe resampled 500 times by bootstrap technique for Land Area RMSE difference calculation.\")"
      ]
    },
    {
      "cell_type": "code",
      "execution_count": null,
      "metadata": {
        "colab": {
          "base_uri": "https://localhost:8080/"
        },
        "id": "QB2yqUAZOTcA",
        "outputId": "0d2579d9-067c-403e-ec9f-c28ca763021b"
      },
      "outputs": [
        {
          "name": "stdout",
          "output_type": "stream",
          "text": [
            "Dataframe resampled 500 times by bootstrap technique for Population Density and Suitable Area RMSE difference calculation.\n"
          ]
        }
      ],
      "source": [
        "# Using bootstrap function to obtain population density and suitable area rmse distribution\n",
        "pd_sa_bstrap = bootstrapC(safe_df1, ['RMSE_Diff'], 500, doRegression_PD_SA)\n",
        "print(\"Dataframe resampled 500 times by bootstrap technique for Population Density and Suitable Area RMSE difference calculation.\")"
      ]
    },
    {
      "cell_type": "code",
      "execution_count": null,
      "metadata": {
        "colab": {
          "base_uri": "https://localhost:8080/",
          "height": 423
        },
        "id": "v1oz8jN1QJRw",
        "outputId": "aabfdcb5-9a90-4e21-8685-8bc72dc46ce3"
      },
      "outputs": [
        {
          "data": {
            "text/html": [
              "<div>\n",
              "<style scoped>\n",
              "    .dataframe tbody tr th:only-of-type {\n",
              "        vertical-align: middle;\n",
              "    }\n",
              "\n",
              "    .dataframe tbody tr th {\n",
              "        vertical-align: top;\n",
              "    }\n",
              "\n",
              "    .dataframe thead th {\n",
              "        text-align: right;\n",
              "    }\n",
              "</style>\n",
              "<table border=\"1\" class=\"dataframe\">\n",
              "  <thead>\n",
              "    <tr style=\"text-align: right;\">\n",
              "      <th></th>\n",
              "      <th>RMSE_Diff</th>\n",
              "    </tr>\n",
              "  </thead>\n",
              "  <tbody>\n",
              "    <tr>\n",
              "      <th>0</th>\n",
              "      <td>-2023.311444</td>\n",
              "    </tr>\n",
              "    <tr>\n",
              "      <th>1</th>\n",
              "      <td>-4909.388567</td>\n",
              "    </tr>\n",
              "    <tr>\n",
              "      <th>2</th>\n",
              "      <td>-5291.698505</td>\n",
              "    </tr>\n",
              "    <tr>\n",
              "      <th>3</th>\n",
              "      <td>-2139.092059</td>\n",
              "    </tr>\n",
              "    <tr>\n",
              "      <th>4</th>\n",
              "      <td>4957.461207</td>\n",
              "    </tr>\n",
              "    <tr>\n",
              "      <th>...</th>\n",
              "      <td>...</td>\n",
              "    </tr>\n",
              "    <tr>\n",
              "      <th>495</th>\n",
              "      <td>-3265.621087</td>\n",
              "    </tr>\n",
              "    <tr>\n",
              "      <th>496</th>\n",
              "      <td>-1192.210906</td>\n",
              "    </tr>\n",
              "    <tr>\n",
              "      <th>497</th>\n",
              "      <td>-1899.037559</td>\n",
              "    </tr>\n",
              "    <tr>\n",
              "      <th>498</th>\n",
              "      <td>5445.564592</td>\n",
              "    </tr>\n",
              "    <tr>\n",
              "      <th>499</th>\n",
              "      <td>-6611.048389</td>\n",
              "    </tr>\n",
              "  </tbody>\n",
              "</table>\n",
              "<p>500 rows × 1 columns</p>\n",
              "</div>"
            ],
            "text/plain": [
              "       RMSE_Diff\n",
              "0   -2023.311444\n",
              "1   -4909.388567\n",
              "2   -5291.698505\n",
              "3   -2139.092059\n",
              "4    4957.461207\n",
              "..           ...\n",
              "495 -3265.621087\n",
              "496 -1192.210906\n",
              "497 -1899.037559\n",
              "498  5445.564592\n",
              "499 -6611.048389\n",
              "\n",
              "[500 rows x 1 columns]"
            ]
          },
          "execution_count": 46,
          "metadata": {},
          "output_type": "execute_result"
        }
      ],
      "source": [
        "# Calculating rmse difference\n",
        "rmse_diff = pd_sa_bstrap - la_bstrap\n",
        "rmse_diff"
      ]
    },
    {
      "cell_type": "code",
      "execution_count": null,
      "metadata": {
        "colab": {
          "base_uri": "https://localhost:8080/",
          "height": 425
        },
        "id": "MjFpsgPgQmOo",
        "outputId": "0d173cf7-56d6-4375-f93f-3b24e019bd48"
      },
      "outputs": [
        {
          "data": {
            "text/plain": [
              "array([[<matplotlib.axes._subplots.AxesSubplot object at 0x7f3bf84f99d0>]],\n",
              "      dtype=object)"
            ]
          },
          "execution_count": 47,
          "metadata": {},
          "output_type": "execute_result"
        },
        {
          "data": {
            "image/png": "[encoded data removed]",
            "text/plain": [
              "<Figure size 720x432 with 1 Axes>"
            ]
          },
          "metadata": {
            "needs_background": "light"
          },
          "output_type": "display_data"
        }
      ],
      "source": [
        "# Visualising distribution\n",
        "rmse_diff.hist(alpha=0.4, figsize=(10, 6))"
      ]
    },
    {
      "cell_type": "code",
      "execution_count": null,
      "metadata": {
        "colab": {
          "base_uri": "https://localhost:8080/"
        },
        "id": "7EIrnusOQ3lJ",
        "outputId": "23d587c5-0399-4dd2-fc9a-1c722e871376"
      },
      "outputs": [
        {
          "name": "stdout",
          "output_type": "stream",
          "text": [
            "The 90% confidence interval for the difference in the RMSE values is -5180.889 to 4240.707\n",
            "The 95% confidence interval for the difference in the RMSE values is -6382.944 to 5385.334\n",
            "The 99% confidence interval for the difference in the RMSE values is -7645.572 to 7207.874\n"
          ]
        }
      ],
      "source": [
        "# Outputting CIs\n",
        "print('The 90%% confidence interval for the difference in the RMSE values is %4.3f to %4.3f' % \n",
        "      (rmse_diff.quantile(0.10), rmse_diff.quantile(0.90)))\n",
        "print('The 95%% confidence interval for the difference in the RMSE values is %4.3f to %4.3f' % \n",
        "      (rmse_diff.quantile(0.05), rmse_diff.quantile(0.95)))\n",
        "print('The 99%% confidence interval for the difference in the RMSE values is %4.3f to %4.3f' % \n",
        "      (rmse_diff.quantile(0.01), rmse_diff.quantile(0.99)))"
      ]
    },
    {
      "cell_type": "markdown",
      "metadata": {
        "id": "jur7xnGeaJvj"
      },
      "source": [
        "**Discussion**<br> \n",
        "The obtained CIs following bootstrapping in Section 4.3, if the models were correct, would have been the certainties of the estimated difference in RMSE values by the two different models at the stated percentages. Also, because they all pass through zero, there would have been no evidence to reject the null hypothesis that there is no difference in the spread of residuals between the two models of Section 4 (i.e. using Land Area as predictor and then using both Human Population and Suitable Land for storks as predictors of stork pair numbers).<br> \n",
        "<br> \n",
        "\n",
        "### **Section 5: Discussion and Conclusions**<br> \n",
        "  \n",
        "Taking all the analysis results together, the first point of note to make is that using a dataset of 17 samples where the values are inherently so large and so varied probably does not lend itself well to ordinary least squares regression modelling, especially when the potential for spurious correlations, as exhibited in this dataset, is so high.<br>\n",
        "\n",
        "In Section 3, the significance of the obtained intercepts should ideally show the values for human birth rates when the predictors of stork pair numbers (Section 3.1) and human populations (Section 3.2) were respectively zero.The obtained intercept values of 225 and -8.4 thousand respectively are meaningless in this case as stork pair numbers bear no relationship to human birth rates, and human population of zero with any associated birth rate is impossible, let alone a negative number. In such an instance, if human population had been a positive number in Section 3.2, then using a standardised human population as predictor variable may have been meaningful as the intercept would mean the average population rather than zero population. In any case, these particular models have been shown to be inappropriate for the task of analysing the data.<br>\n",
        "\n",
        "The significance of the regression coefficients $\\beta$ for the predictors, in an ideal situation, is the extent of their influence on the prediction. It is a measure of how much the mean of the predicted variable changes with one unit change in the predictor variable while holding other variables in the model constant. Since the models in this analysis have been showed to be inapproprite, the obtained output values cannot be interpreted correctly.<br> \n",
        "\n",
        "From the dataset table (Section 1.2) and summary statistics (Section 2.1), Turkey's suitable area percent (and hence suiatble area) for stork pairs, and also human population, are not out of the ordinary, i.e. are within reasonable standard deviations of the mean. Germany with 78 million and France with 57 million human populations at the time of the publication have greater populations than Turkey at 56 million, though Turkey's is above the interquartile range. It is Turkey's high human birth rate, around three times the upper quartile, that distorts the analysis. Poland's area and stork pair numbers also distort the analysis, but to a lesser extent than Turkey's.<br> \n",
        "\n",
        "It may have been better to treat Turkey, and perhaps Poland, as outliers and drop them from the dataset before analysis.\n"
      ]
    },
    {
      "cell_type": "markdown",
      "metadata": {
        "id": "gR2lQziZuRXX"
      },
      "source": [
        "## **<center>References</center>**<br>\n",
        "1.\tMatthews, Robert 2000, “Storks Deliver Babies (p = 0.008)”, Teaching Statistics, vol. **22**, no. 2, pp. 36-38.<br>\n",
        "2. Harbard, Chris 1999, pers. comm. (personal communication - not yet published).<br>\n",
        "3. Nelson, David (Editor) 2008, Penguin Dictionary of Mathematics 4th Edition, p70.<br>\n",
        "4. Topic 11: Confidence Intervals and Hypothesis Testing, Statistics for Data Science and AI module."
      ]
    }
  ],
  "metadata": {
    "colab": {
      "collapsed_sections": [],
      "provenance": []
    },
    "kernelspec": {
      "display_name": "Python 3",
      "language": "python",
      "name": "python3"
    },
    "language_info": {
      "codemirror_mode": {
        "name": "ipython",
        "version": 3
      },
      "file_extension": ".py",
      "mimetype": "text/x-python",
      "name": "python",
      "nbconvert_exporter": "python",
      "pygments_lexer": "ipython3",
      "version": "3.8.8"
    }
  },
  "nbformat": 4,
  "nbformat_minor": 0
}
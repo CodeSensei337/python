{
  "nbformat": 4,
  "nbformat_minor": 0,
  "metadata": {
    "colab": {
      "name": "Kweku's_Titanic_Report.ipynb",
      "provenance": [],
      "collapsed_sections": [],
      "authorship_tag": "ABX9TyPrUAmU6v8ZphEg/9Z6k3Ch"
    },
    "kernelspec": {
      "name": "python3",
      "display_name": "Python 3"
    },
    "language_info": {
      "name": "python"
    }
  },
  "cells": [
    {
      "cell_type": "code",
      "metadata": {
        "id": "z3WkLrlv2Rd3"
      },
      "source": [
        "#@title Run on TensorFlow 2.x\n",
        "%tensorflow_version 2.x\n",
        "from __future__ import absolute_import, division, print_function, unicode_literals"
      ],
      "execution_count": null,
      "outputs": []
    },
    {
      "cell_type": "code",
      "metadata": {
        "colab": {
          "base_uri": "https://localhost:8080/"
        },
        "id": "77xRCtgraOPh",
        "outputId": "32ca01bc-a322-4e16-dc84-b2f85cc4f4b2"
      },
      "source": [
        "import pandas as pd\n",
        "import numpy as np\n",
        "import matplotlib.pyplot as plt\n",
        "\n",
        "%matplotlib inline\n",
        "\n",
        "# The following lines adjust the granularity of reporting. \n",
        "pd.options.display.max_rows = 10\n",
        "pd.options.display.float_format = \"{:.1f}\".format\n",
        "\n",
        "from google.colab import widgets\n",
        "\n",
        "# For facets\n",
        "from IPython.core.display import display, HTML\n",
        "import base64\n",
        "!pip install facets-overview==1.0.0\n",
        "from facets_overview.feature_statistics_generator import FeatureStatisticsGenerator"
      ],
      "execution_count": null,
      "outputs": [
        {
          "output_type": "stream",
          "name": "stdout",
          "text": [
            "Collecting facets-overview==1.0.0\n",
            "  Downloading facets_overview-1.0.0-py2.py3-none-any.whl (24 kB)\n",
            "Requirement already satisfied: pandas>=0.22.0 in /usr/local/lib/python3.7/dist-packages (from facets-overview==1.0.0) (1.1.5)\n",
            "Requirement already satisfied: protobuf>=3.7.0 in /usr/local/lib/python3.7/dist-packages (from facets-overview==1.0.0) (3.17.3)\n",
            "Requirement already satisfied: numpy>=1.16.0 in /usr/local/lib/python3.7/dist-packages (from facets-overview==1.0.0) (1.19.5)\n",
            "Requirement already satisfied: python-dateutil>=2.7.3 in /usr/local/lib/python3.7/dist-packages (from pandas>=0.22.0->facets-overview==1.0.0) (2.8.2)\n",
            "Requirement already satisfied: pytz>=2017.2 in /usr/local/lib/python3.7/dist-packages (from pandas>=0.22.0->facets-overview==1.0.0) (2018.9)\n",
            "Requirement already satisfied: six>=1.9 in /usr/local/lib/python3.7/dist-packages (from protobuf>=3.7.0->facets-overview==1.0.0) (1.15.0)\n",
            "Installing collected packages: facets-overview\n",
            "Successfully installed facets-overview-1.0.0\n"
          ]
        }
      ]
    },
    {
      "cell_type": "code",
      "metadata": {
        "colab": {
          "base_uri": "https://localhost:8080/",
          "height": 423
        },
        "id": "__J-1e0j3FPT",
        "outputId": "d085ef73-b483-4eb6-c4a0-b1494a906544"
      },
      "source": [
        "# Importing and loading dataset from GitHub\n",
        "\n",
        "url = 'https://raw.githubusercontent.com/mwaskom/seaborn-data/master/titanic.csv'\n",
        "titanic = pd.read_csv(url)\n",
        "titanic"
      ],
      "execution_count": null,
      "outputs": [
        {
          "output_type": "execute_result",
          "data": {
            "text/html": [
              "<div>\n",
              "<style scoped>\n",
              "    .dataframe tbody tr th:only-of-type {\n",
              "        vertical-align: middle;\n",
              "    }\n",
              "\n",
              "    .dataframe tbody tr th {\n",
              "        vertical-align: top;\n",
              "    }\n",
              "\n",
              "    .dataframe thead th {\n",
              "        text-align: right;\n",
              "    }\n",
              "</style>\n",
              "<table border=\"1\" class=\"dataframe\">\n",
              "  <thead>\n",
              "    <tr style=\"text-align: right;\">\n",
              "      <th></th>\n",
              "      <th>survived</th>\n",
              "      <th>pclass</th>\n",
              "      <th>sex</th>\n",
              "      <th>age</th>\n",
              "      <th>sibsp</th>\n",
              "      <th>parch</th>\n",
              "      <th>fare</th>\n",
              "      <th>embarked</th>\n",
              "      <th>class</th>\n",
              "      <th>who</th>\n",
              "      <th>adult_male</th>\n",
              "      <th>deck</th>\n",
              "      <th>embark_town</th>\n",
              "      <th>alive</th>\n",
              "      <th>alone</th>\n",
              "    </tr>\n",
              "  </thead>\n",
              "  <tbody>\n",
              "    <tr>\n",
              "      <th>0</th>\n",
              "      <td>0</td>\n",
              "      <td>3</td>\n",
              "      <td>male</td>\n",
              "      <td>22.0</td>\n",
              "      <td>1</td>\n",
              "      <td>0</td>\n",
              "      <td>7.2</td>\n",
              "      <td>S</td>\n",
              "      <td>Third</td>\n",
              "      <td>man</td>\n",
              "      <td>True</td>\n",
              "      <td>NaN</td>\n",
              "      <td>Southampton</td>\n",
              "      <td>no</td>\n",
              "      <td>False</td>\n",
              "    </tr>\n",
              "    <tr>\n",
              "      <th>1</th>\n",
              "      <td>1</td>\n",
              "      <td>1</td>\n",
              "      <td>female</td>\n",
              "      <td>38.0</td>\n",
              "      <td>1</td>\n",
              "      <td>0</td>\n",
              "      <td>71.3</td>\n",
              "      <td>C</td>\n",
              "      <td>First</td>\n",
              "      <td>woman</td>\n",
              "      <td>False</td>\n",
              "      <td>C</td>\n",
              "      <td>Cherbourg</td>\n",
              "      <td>yes</td>\n",
              "      <td>False</td>\n",
              "    </tr>\n",
              "    <tr>\n",
              "      <th>2</th>\n",
              "      <td>1</td>\n",
              "      <td>3</td>\n",
              "      <td>female</td>\n",
              "      <td>26.0</td>\n",
              "      <td>0</td>\n",
              "      <td>0</td>\n",
              "      <td>7.9</td>\n",
              "      <td>S</td>\n",
              "      <td>Third</td>\n",
              "      <td>woman</td>\n",
              "      <td>False</td>\n",
              "      <td>NaN</td>\n",
              "      <td>Southampton</td>\n",
              "      <td>yes</td>\n",
              "      <td>True</td>\n",
              "    </tr>\n",
              "    <tr>\n",
              "      <th>3</th>\n",
              "      <td>1</td>\n",
              "      <td>1</td>\n",
              "      <td>female</td>\n",
              "      <td>35.0</td>\n",
              "      <td>1</td>\n",
              "      <td>0</td>\n",
              "      <td>53.1</td>\n",
              "      <td>S</td>\n",
              "      <td>First</td>\n",
              "      <td>woman</td>\n",
              "      <td>False</td>\n",
              "      <td>C</td>\n",
              "      <td>Southampton</td>\n",
              "      <td>yes</td>\n",
              "      <td>False</td>\n",
              "    </tr>\n",
              "    <tr>\n",
              "      <th>4</th>\n",
              "      <td>0</td>\n",
              "      <td>3</td>\n",
              "      <td>male</td>\n",
              "      <td>35.0</td>\n",
              "      <td>0</td>\n",
              "      <td>0</td>\n",
              "      <td>8.1</td>\n",
              "      <td>S</td>\n",
              "      <td>Third</td>\n",
              "      <td>man</td>\n",
              "      <td>True</td>\n",
              "      <td>NaN</td>\n",
              "      <td>Southampton</td>\n",
              "      <td>no</td>\n",
              "      <td>True</td>\n",
              "    </tr>\n",
              "    <tr>\n",
              "      <th>...</th>\n",
              "      <td>...</td>\n",
              "      <td>...</td>\n",
              "      <td>...</td>\n",
              "      <td>...</td>\n",
              "      <td>...</td>\n",
              "      <td>...</td>\n",
              "      <td>...</td>\n",
              "      <td>...</td>\n",
              "      <td>...</td>\n",
              "      <td>...</td>\n",
              "      <td>...</td>\n",
              "      <td>...</td>\n",
              "      <td>...</td>\n",
              "      <td>...</td>\n",
              "      <td>...</td>\n",
              "    </tr>\n",
              "    <tr>\n",
              "      <th>886</th>\n",
              "      <td>0</td>\n",
              "      <td>2</td>\n",
              "      <td>male</td>\n",
              "      <td>27.0</td>\n",
              "      <td>0</td>\n",
              "      <td>0</td>\n",
              "      <td>13.0</td>\n",
              "      <td>S</td>\n",
              "      <td>Second</td>\n",
              "      <td>man</td>\n",
              "      <td>True</td>\n",
              "      <td>NaN</td>\n",
              "      <td>Southampton</td>\n",
              "      <td>no</td>\n",
              "      <td>True</td>\n",
              "    </tr>\n",
              "    <tr>\n",
              "      <th>887</th>\n",
              "      <td>1</td>\n",
              "      <td>1</td>\n",
              "      <td>female</td>\n",
              "      <td>19.0</td>\n",
              "      <td>0</td>\n",
              "      <td>0</td>\n",
              "      <td>30.0</td>\n",
              "      <td>S</td>\n",
              "      <td>First</td>\n",
              "      <td>woman</td>\n",
              "      <td>False</td>\n",
              "      <td>B</td>\n",
              "      <td>Southampton</td>\n",
              "      <td>yes</td>\n",
              "      <td>True</td>\n",
              "    </tr>\n",
              "    <tr>\n",
              "      <th>888</th>\n",
              "      <td>0</td>\n",
              "      <td>3</td>\n",
              "      <td>female</td>\n",
              "      <td>nan</td>\n",
              "      <td>1</td>\n",
              "      <td>2</td>\n",
              "      <td>23.4</td>\n",
              "      <td>S</td>\n",
              "      <td>Third</td>\n",
              "      <td>woman</td>\n",
              "      <td>False</td>\n",
              "      <td>NaN</td>\n",
              "      <td>Southampton</td>\n",
              "      <td>no</td>\n",
              "      <td>False</td>\n",
              "    </tr>\n",
              "    <tr>\n",
              "      <th>889</th>\n",
              "      <td>1</td>\n",
              "      <td>1</td>\n",
              "      <td>male</td>\n",
              "      <td>26.0</td>\n",
              "      <td>0</td>\n",
              "      <td>0</td>\n",
              "      <td>30.0</td>\n",
              "      <td>C</td>\n",
              "      <td>First</td>\n",
              "      <td>man</td>\n",
              "      <td>True</td>\n",
              "      <td>C</td>\n",
              "      <td>Cherbourg</td>\n",
              "      <td>yes</td>\n",
              "      <td>True</td>\n",
              "    </tr>\n",
              "    <tr>\n",
              "      <th>890</th>\n",
              "      <td>0</td>\n",
              "      <td>3</td>\n",
              "      <td>male</td>\n",
              "      <td>32.0</td>\n",
              "      <td>0</td>\n",
              "      <td>0</td>\n",
              "      <td>7.8</td>\n",
              "      <td>Q</td>\n",
              "      <td>Third</td>\n",
              "      <td>man</td>\n",
              "      <td>True</td>\n",
              "      <td>NaN</td>\n",
              "      <td>Queenstown</td>\n",
              "      <td>no</td>\n",
              "      <td>True</td>\n",
              "    </tr>\n",
              "  </tbody>\n",
              "</table>\n",
              "<p>891 rows × 15 columns</p>\n",
              "</div>"
            ],
            "text/plain": [
              "     survived  pclass     sex  age  ...  deck  embark_town  alive  alone\n",
              "0           0       3    male 22.0  ...   NaN  Southampton     no  False\n",
              "1           1       1  female 38.0  ...     C    Cherbourg    yes  False\n",
              "2           1       3  female 26.0  ...   NaN  Southampton    yes   True\n",
              "3           1       1  female 35.0  ...     C  Southampton    yes  False\n",
              "4           0       3    male 35.0  ...   NaN  Southampton     no   True\n",
              "..        ...     ...     ...  ...  ...   ...          ...    ...    ...\n",
              "886         0       2    male 27.0  ...   NaN  Southampton     no   True\n",
              "887         1       1  female 19.0  ...     B  Southampton    yes   True\n",
              "888         0       3  female  nan  ...   NaN  Southampton     no  False\n",
              "889         1       1    male 26.0  ...     C    Cherbourg    yes   True\n",
              "890         0       3    male 32.0  ...   NaN   Queenstown     no   True\n",
              "\n",
              "[891 rows x 15 columns]"
            ]
          },
          "metadata": {},
          "execution_count": 7
        }
      ]
    },
    {
      "cell_type": "markdown",
      "metadata": {
        "id": "IriA6dBwzzXv"
      },
      "source": [
        "**Beginning General EDA**"
      ]
    },
    {
      "cell_type": "code",
      "metadata": {
        "colab": {
          "base_uri": "https://localhost:8080/"
        },
        "id": "BIoKBHM5ak9T",
        "outputId": "50f55252-8857-42f4-ec04-f39eca315265"
      },
      "source": [
        "titanic.info()"
      ],
      "execution_count": null,
      "outputs": [
        {
          "output_type": "stream",
          "name": "stdout",
          "text": [
            "<class 'pandas.core.frame.DataFrame'>\n",
            "RangeIndex: 891 entries, 0 to 890\n",
            "Data columns (total 15 columns):\n",
            " #   Column       Non-Null Count  Dtype  \n",
            "---  ------       --------------  -----  \n",
            " 0   survived     891 non-null    int64  \n",
            " 1   pclass       891 non-null    int64  \n",
            " 2   sex          891 non-null    object \n",
            " 3   age          714 non-null    float64\n",
            " 4   sibsp        891 non-null    int64  \n",
            " 5   parch        891 non-null    int64  \n",
            " 6   fare         891 non-null    float64\n",
            " 7   embarked     889 non-null    object \n",
            " 8   class        891 non-null    object \n",
            " 9   who          891 non-null    object \n",
            " 10  adult_male   891 non-null    bool   \n",
            " 11  deck         203 non-null    object \n",
            " 12  embark_town  889 non-null    object \n",
            " 13  alive        891 non-null    object \n",
            " 14  alone        891 non-null    bool   \n",
            "dtypes: bool(2), float64(2), int64(4), object(7)\n",
            "memory usage: 92.4+ KB\n"
          ]
        }
      ]
    },
    {
      "cell_type": "code",
      "metadata": {
        "colab": {
          "base_uri": "https://localhost:8080/",
          "height": 300
        },
        "id": "5ELinajgaroK",
        "outputId": "b9a918d0-6151-46d0-b8c1-a047249aa417"
      },
      "source": [
        "titanic.describe()"
      ],
      "execution_count": null,
      "outputs": [
        {
          "output_type": "execute_result",
          "data": {
            "text/html": [
              "<div>\n",
              "<style scoped>\n",
              "    .dataframe tbody tr th:only-of-type {\n",
              "        vertical-align: middle;\n",
              "    }\n",
              "\n",
              "    .dataframe tbody tr th {\n",
              "        vertical-align: top;\n",
              "    }\n",
              "\n",
              "    .dataframe thead th {\n",
              "        text-align: right;\n",
              "    }\n",
              "</style>\n",
              "<table border=\"1\" class=\"dataframe\">\n",
              "  <thead>\n",
              "    <tr style=\"text-align: right;\">\n",
              "      <th></th>\n",
              "      <th>survived</th>\n",
              "      <th>pclass</th>\n",
              "      <th>age</th>\n",
              "      <th>sibsp</th>\n",
              "      <th>parch</th>\n",
              "      <th>fare</th>\n",
              "    </tr>\n",
              "  </thead>\n",
              "  <tbody>\n",
              "    <tr>\n",
              "      <th>count</th>\n",
              "      <td>891.0</td>\n",
              "      <td>891.0</td>\n",
              "      <td>714.0</td>\n",
              "      <td>891.0</td>\n",
              "      <td>891.0</td>\n",
              "      <td>891.0</td>\n",
              "    </tr>\n",
              "    <tr>\n",
              "      <th>mean</th>\n",
              "      <td>0.4</td>\n",
              "      <td>2.3</td>\n",
              "      <td>29.7</td>\n",
              "      <td>0.5</td>\n",
              "      <td>0.4</td>\n",
              "      <td>32.2</td>\n",
              "    </tr>\n",
              "    <tr>\n",
              "      <th>std</th>\n",
              "      <td>0.5</td>\n",
              "      <td>0.8</td>\n",
              "      <td>14.5</td>\n",
              "      <td>1.1</td>\n",
              "      <td>0.8</td>\n",
              "      <td>49.7</td>\n",
              "    </tr>\n",
              "    <tr>\n",
              "      <th>min</th>\n",
              "      <td>0.0</td>\n",
              "      <td>1.0</td>\n",
              "      <td>0.4</td>\n",
              "      <td>0.0</td>\n",
              "      <td>0.0</td>\n",
              "      <td>0.0</td>\n",
              "    </tr>\n",
              "    <tr>\n",
              "      <th>25%</th>\n",
              "      <td>0.0</td>\n",
              "      <td>2.0</td>\n",
              "      <td>20.1</td>\n",
              "      <td>0.0</td>\n",
              "      <td>0.0</td>\n",
              "      <td>7.9</td>\n",
              "    </tr>\n",
              "    <tr>\n",
              "      <th>50%</th>\n",
              "      <td>0.0</td>\n",
              "      <td>3.0</td>\n",
              "      <td>28.0</td>\n",
              "      <td>0.0</td>\n",
              "      <td>0.0</td>\n",
              "      <td>14.5</td>\n",
              "    </tr>\n",
              "    <tr>\n",
              "      <th>75%</th>\n",
              "      <td>1.0</td>\n",
              "      <td>3.0</td>\n",
              "      <td>38.0</td>\n",
              "      <td>1.0</td>\n",
              "      <td>0.0</td>\n",
              "      <td>31.0</td>\n",
              "    </tr>\n",
              "    <tr>\n",
              "      <th>max</th>\n",
              "      <td>1.0</td>\n",
              "      <td>3.0</td>\n",
              "      <td>80.0</td>\n",
              "      <td>8.0</td>\n",
              "      <td>6.0</td>\n",
              "      <td>512.3</td>\n",
              "    </tr>\n",
              "  </tbody>\n",
              "</table>\n",
              "</div>"
            ],
            "text/plain": [
              "       survived  pclass   age  sibsp  parch  fare\n",
              "count     891.0   891.0 714.0  891.0  891.0 891.0\n",
              "mean        0.4     2.3  29.7    0.5    0.4  32.2\n",
              "std         0.5     0.8  14.5    1.1    0.8  49.7\n",
              "min         0.0     1.0   0.4    0.0    0.0   0.0\n",
              "25%         0.0     2.0  20.1    0.0    0.0   7.9\n",
              "50%         0.0     3.0  28.0    0.0    0.0  14.5\n",
              "75%         1.0     3.0  38.0    1.0    0.0  31.0\n",
              "max         1.0     3.0  80.0    8.0    6.0 512.3"
            ]
          },
          "metadata": {},
          "execution_count": 9
        }
      ]
    },
    {
      "cell_type": "code",
      "metadata": {
        "colab": {
          "base_uri": "https://localhost:8080/",
          "height": 1813
        },
        "id": "WqqRKxMOzaBq",
        "outputId": "e5d94db7-7803-421a-96e7-d31254886dea"
      },
      "source": [
        "#@title Visualising the Dataset in Facets\n",
        "\n",
        "fsg = FeatureStatisticsGenerator()\n",
        "dataframes = [\n",
        "    {'table': titanic, 'name': 'Titanic'}]\n",
        "censusProto = fsg.ProtoFromDataFrames(dataframes)\n",
        "protostr = base64.b64encode(censusProto.SerializeToString()).decode(\"utf-8\")\n",
        "\n",
        "\n",
        "HTML_TEMPLATE = \"\"\"<script src=\"https://cdnjs.cloudflare.com/ajax/libs/webcomponentsjs/1.3.3/webcomponents-lite.js\"></script>\n",
        "        <link rel=\"import\" href=\"https://raw.githubusercontent.com/PAIR-code/facets/1.0.0/facets-dist/facets-jupyter.html\">\n",
        "        <facets-overview id=\"elem\"></facets-overview>\n",
        "        <script>\n",
        "          document.querySelector(\"#elem\").protoInput = \"{protostr}\";\n",
        "        </script>\"\"\"\n",
        "html = HTML_TEMPLATE.format(protostr=protostr)\n",
        "display(HTML(html))"
      ],
      "execution_count": null,
      "outputs": [
        {
          "output_type": "stream",
          "name": "stderr",
          "text": [
            "<string>:6: RuntimeWarning: Converting input from bool to <class 'numpy.uint8'> for compatibility.\n"
          ]
        },
        {
          "output_type": "display_data",
          "data": {
            "text/html": [
              "<script src=\"https://cdnjs.cloudflare.com/ajax/libs/webcomponentsjs/1.3.3/webcomponents-lite.js\"></script>\n",
              "        <link rel=\"import\" href=\"https://raw.githubusercontent.com/PAIR-code/facets/1.0.0/facets-dist/facets-jupyter.html\">\n",
              "        <facets-overview id=\"elem\"></facets-overview>\n",
              "        <script>\n",
              "          document.querySelector(\"#elem\").protoInput = \"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\";\n",
              "        </script>"
            ],
            "text/plain": [
              "<IPython.core.display.HTML object>"
            ]
          },
          "metadata": {}
        }
      ]
    },
    {
      "cell_type": "markdown",
      "metadata": {
        "id": "z5MU-ZO-azzH"
      },
      "source": [
        "Creating a subset dataframe for this task :"
      ]
    },
    {
      "cell_type": "code",
      "metadata": {
        "colab": {
          "base_uri": "https://localhost:8080/",
          "height": 423
        },
        "id": "L-D6Yu4-bCE7",
        "outputId": "410ef0fb-3d2c-46bb-d939-e9b24a2d4120"
      },
      "source": [
        "used_df = pd.read_csv(url, usecols= [\"survived\", \"pclass\", \"sex\", \"age\", \"fare\"])\n",
        "used_df"
      ],
      "execution_count": null,
      "outputs": [
        {
          "output_type": "execute_result",
          "data": {
            "text/html": [
              "<div>\n",
              "<style scoped>\n",
              "    .dataframe tbody tr th:only-of-type {\n",
              "        vertical-align: middle;\n",
              "    }\n",
              "\n",
              "    .dataframe tbody tr th {\n",
              "        vertical-align: top;\n",
              "    }\n",
              "\n",
              "    .dataframe thead th {\n",
              "        text-align: right;\n",
              "    }\n",
              "</style>\n",
              "<table border=\"1\" class=\"dataframe\">\n",
              "  <thead>\n",
              "    <tr style=\"text-align: right;\">\n",
              "      <th></th>\n",
              "      <th>survived</th>\n",
              "      <th>pclass</th>\n",
              "      <th>sex</th>\n",
              "      <th>age</th>\n",
              "      <th>fare</th>\n",
              "    </tr>\n",
              "  </thead>\n",
              "  <tbody>\n",
              "    <tr>\n",
              "      <th>0</th>\n",
              "      <td>0</td>\n",
              "      <td>3</td>\n",
              "      <td>male</td>\n",
              "      <td>22.0</td>\n",
              "      <td>7.2</td>\n",
              "    </tr>\n",
              "    <tr>\n",
              "      <th>1</th>\n",
              "      <td>1</td>\n",
              "      <td>1</td>\n",
              "      <td>female</td>\n",
              "      <td>38.0</td>\n",
              "      <td>71.3</td>\n",
              "    </tr>\n",
              "    <tr>\n",
              "      <th>2</th>\n",
              "      <td>1</td>\n",
              "      <td>3</td>\n",
              "      <td>female</td>\n",
              "      <td>26.0</td>\n",
              "      <td>7.9</td>\n",
              "    </tr>\n",
              "    <tr>\n",
              "      <th>3</th>\n",
              "      <td>1</td>\n",
              "      <td>1</td>\n",
              "      <td>female</td>\n",
              "      <td>35.0</td>\n",
              "      <td>53.1</td>\n",
              "    </tr>\n",
              "    <tr>\n",
              "      <th>4</th>\n",
              "      <td>0</td>\n",
              "      <td>3</td>\n",
              "      <td>male</td>\n",
              "      <td>35.0</td>\n",
              "      <td>8.1</td>\n",
              "    </tr>\n",
              "    <tr>\n",
              "      <th>...</th>\n",
              "      <td>...</td>\n",
              "      <td>...</td>\n",
              "      <td>...</td>\n",
              "      <td>...</td>\n",
              "      <td>...</td>\n",
              "    </tr>\n",
              "    <tr>\n",
              "      <th>886</th>\n",
              "      <td>0</td>\n",
              "      <td>2</td>\n",
              "      <td>male</td>\n",
              "      <td>27.0</td>\n",
              "      <td>13.0</td>\n",
              "    </tr>\n",
              "    <tr>\n",
              "      <th>887</th>\n",
              "      <td>1</td>\n",
              "      <td>1</td>\n",
              "      <td>female</td>\n",
              "      <td>19.0</td>\n",
              "      <td>30.0</td>\n",
              "    </tr>\n",
              "    <tr>\n",
              "      <th>888</th>\n",
              "      <td>0</td>\n",
              "      <td>3</td>\n",
              "      <td>female</td>\n",
              "      <td>nan</td>\n",
              "      <td>23.4</td>\n",
              "    </tr>\n",
              "    <tr>\n",
              "      <th>889</th>\n",
              "      <td>1</td>\n",
              "      <td>1</td>\n",
              "      <td>male</td>\n",
              "      <td>26.0</td>\n",
              "      <td>30.0</td>\n",
              "    </tr>\n",
              "    <tr>\n",
              "      <th>890</th>\n",
              "      <td>0</td>\n",
              "      <td>3</td>\n",
              "      <td>male</td>\n",
              "      <td>32.0</td>\n",
              "      <td>7.8</td>\n",
              "    </tr>\n",
              "  </tbody>\n",
              "</table>\n",
              "<p>891 rows × 5 columns</p>\n",
              "</div>"
            ],
            "text/plain": [
              "     survived  pclass     sex  age  fare\n",
              "0           0       3    male 22.0   7.2\n",
              "1           1       1  female 38.0  71.3\n",
              "2           1       3  female 26.0   7.9\n",
              "3           1       1  female 35.0  53.1\n",
              "4           0       3    male 35.0   8.1\n",
              "..        ...     ...     ...  ...   ...\n",
              "886         0       2    male 27.0  13.0\n",
              "887         1       1  female 19.0  30.0\n",
              "888         0       3  female  nan  23.4\n",
              "889         1       1    male 26.0  30.0\n",
              "890         0       3    male 32.0   7.8\n",
              "\n",
              "[891 rows x 5 columns]"
            ]
          },
          "metadata": {},
          "execution_count": 11
        }
      ]
    },
    {
      "cell_type": "code",
      "metadata": {
        "colab": {
          "base_uri": "https://localhost:8080/"
        },
        "id": "825V8nA-bL3j",
        "outputId": "607a2ea8-aeca-4969-9594-5785cc8e0cab"
      },
      "source": [
        "used_df.info()"
      ],
      "execution_count": null,
      "outputs": [
        {
          "output_type": "stream",
          "name": "stdout",
          "text": [
            "<class 'pandas.core.frame.DataFrame'>\n",
            "RangeIndex: 891 entries, 0 to 890\n",
            "Data columns (total 5 columns):\n",
            " #   Column    Non-Null Count  Dtype  \n",
            "---  ------    --------------  -----  \n",
            " 0   survived  891 non-null    int64  \n",
            " 1   pclass    891 non-null    int64  \n",
            " 2   sex       891 non-null    object \n",
            " 3   age       714 non-null    float64\n",
            " 4   fare      891 non-null    float64\n",
            "dtypes: float64(2), int64(2), object(1)\n",
            "memory usage: 34.9+ KB\n"
          ]
        }
      ]
    },
    {
      "cell_type": "code",
      "metadata": {
        "colab": {
          "base_uri": "https://localhost:8080/",
          "height": 300
        },
        "id": "w94DFYmAbY3a",
        "outputId": "d54293f4-1be6-40ee-d97f-ca61f0506e3a"
      },
      "source": [
        "used_df.describe()"
      ],
      "execution_count": null,
      "outputs": [
        {
          "output_type": "execute_result",
          "data": {
            "text/html": [
              "<div>\n",
              "<style scoped>\n",
              "    .dataframe tbody tr th:only-of-type {\n",
              "        vertical-align: middle;\n",
              "    }\n",
              "\n",
              "    .dataframe tbody tr th {\n",
              "        vertical-align: top;\n",
              "    }\n",
              "\n",
              "    .dataframe thead th {\n",
              "        text-align: right;\n",
              "    }\n",
              "</style>\n",
              "<table border=\"1\" class=\"dataframe\">\n",
              "  <thead>\n",
              "    <tr style=\"text-align: right;\">\n",
              "      <th></th>\n",
              "      <th>survived</th>\n",
              "      <th>pclass</th>\n",
              "      <th>age</th>\n",
              "      <th>fare</th>\n",
              "    </tr>\n",
              "  </thead>\n",
              "  <tbody>\n",
              "    <tr>\n",
              "      <th>count</th>\n",
              "      <td>891.0</td>\n",
              "      <td>891.0</td>\n",
              "      <td>714.0</td>\n",
              "      <td>891.0</td>\n",
              "    </tr>\n",
              "    <tr>\n",
              "      <th>mean</th>\n",
              "      <td>0.4</td>\n",
              "      <td>2.3</td>\n",
              "      <td>29.7</td>\n",
              "      <td>32.2</td>\n",
              "    </tr>\n",
              "    <tr>\n",
              "      <th>std</th>\n",
              "      <td>0.5</td>\n",
              "      <td>0.8</td>\n",
              "      <td>14.5</td>\n",
              "      <td>49.7</td>\n",
              "    </tr>\n",
              "    <tr>\n",
              "      <th>min</th>\n",
              "      <td>0.0</td>\n",
              "      <td>1.0</td>\n",
              "      <td>0.4</td>\n",
              "      <td>0.0</td>\n",
              "    </tr>\n",
              "    <tr>\n",
              "      <th>25%</th>\n",
              "      <td>0.0</td>\n",
              "      <td>2.0</td>\n",
              "      <td>20.1</td>\n",
              "      <td>7.9</td>\n",
              "    </tr>\n",
              "    <tr>\n",
              "      <th>50%</th>\n",
              "      <td>0.0</td>\n",
              "      <td>3.0</td>\n",
              "      <td>28.0</td>\n",
              "      <td>14.5</td>\n",
              "    </tr>\n",
              "    <tr>\n",
              "      <th>75%</th>\n",
              "      <td>1.0</td>\n",
              "      <td>3.0</td>\n",
              "      <td>38.0</td>\n",
              "      <td>31.0</td>\n",
              "    </tr>\n",
              "    <tr>\n",
              "      <th>max</th>\n",
              "      <td>1.0</td>\n",
              "      <td>3.0</td>\n",
              "      <td>80.0</td>\n",
              "      <td>512.3</td>\n",
              "    </tr>\n",
              "  </tbody>\n",
              "</table>\n",
              "</div>"
            ],
            "text/plain": [
              "       survived  pclass   age  fare\n",
              "count     891.0   891.0 714.0 891.0\n",
              "mean        0.4     2.3  29.7  32.2\n",
              "std         0.5     0.8  14.5  49.7\n",
              "min         0.0     1.0   0.4   0.0\n",
              "25%         0.0     2.0  20.1   7.9\n",
              "50%         0.0     3.0  28.0  14.5\n",
              "75%         1.0     3.0  38.0  31.0\n",
              "max         1.0     3.0  80.0 512.3"
            ]
          },
          "metadata": {},
          "execution_count": 13
        }
      ]
    },
    {
      "cell_type": "code",
      "metadata": {
        "colab": {
          "base_uri": "https://localhost:8080/"
        },
        "id": "T-wH6EdzcCJL",
        "outputId": "603ae765-4456-4ffd-c39a-c2bd06780d9c"
      },
      "source": [
        "used_df.isnull().sum()"
      ],
      "execution_count": null,
      "outputs": [
        {
          "output_type": "execute_result",
          "data": {
            "text/plain": [
              "survived      0\n",
              "pclass        0\n",
              "sex           0\n",
              "age         177\n",
              "fare          0\n",
              "dtype: int64"
            ]
          },
          "metadata": {},
          "execution_count": 14
        }
      ]
    },
    {
      "cell_type": "markdown",
      "metadata": {
        "id": "9iFX42fRcOhg"
      },
      "source": [
        "177 null cells in 'age' column."
      ]
    },
    {
      "cell_type": "code",
      "metadata": {
        "colab": {
          "base_uri": "https://localhost:8080/"
        },
        "id": "7XGftWjwck6J",
        "outputId": "4d6bb20b-4ccf-4dc2-b73d-75160398be38"
      },
      "source": [
        "used_df['age'].median()"
      ],
      "execution_count": null,
      "outputs": [
        {
          "output_type": "execute_result",
          "data": {
            "text/plain": [
              "28.0"
            ]
          },
          "metadata": {},
          "execution_count": 15
        }
      ]
    },
    {
      "cell_type": "markdown",
      "metadata": {
        "id": "PiHfyZnFc17L"
      },
      "source": [
        "Replacing 'NaN' (i.e. null cells) in 'age' column with the median value and using record 888 to check if executed correctly :"
      ]
    },
    {
      "cell_type": "code",
      "metadata": {
        "colab": {
          "base_uri": "https://localhost:8080/",
          "height": 423
        },
        "id": "D8R5mDjZc1Dz",
        "outputId": "325a6613-b115-4fb0-ee03-fdc554d3f50b"
      },
      "source": [
        "used_df['age'] = used_df['age'].fillna((used_df['age'].median()))\n",
        "used_df"
      ],
      "execution_count": null,
      "outputs": [
        {
          "output_type": "execute_result",
          "data": {
            "text/html": [
              "<div>\n",
              "<style scoped>\n",
              "    .dataframe tbody tr th:only-of-type {\n",
              "        vertical-align: middle;\n",
              "    }\n",
              "\n",
              "    .dataframe tbody tr th {\n",
              "        vertical-align: top;\n",
              "    }\n",
              "\n",
              "    .dataframe thead th {\n",
              "        text-align: right;\n",
              "    }\n",
              "</style>\n",
              "<table border=\"1\" class=\"dataframe\">\n",
              "  <thead>\n",
              "    <tr style=\"text-align: right;\">\n",
              "      <th></th>\n",
              "      <th>survived</th>\n",
              "      <th>pclass</th>\n",
              "      <th>sex</th>\n",
              "      <th>age</th>\n",
              "      <th>fare</th>\n",
              "    </tr>\n",
              "  </thead>\n",
              "  <tbody>\n",
              "    <tr>\n",
              "      <th>0</th>\n",
              "      <td>0</td>\n",
              "      <td>3</td>\n",
              "      <td>male</td>\n",
              "      <td>22.0</td>\n",
              "      <td>7.2</td>\n",
              "    </tr>\n",
              "    <tr>\n",
              "      <th>1</th>\n",
              "      <td>1</td>\n",
              "      <td>1</td>\n",
              "      <td>female</td>\n",
              "      <td>38.0</td>\n",
              "      <td>71.3</td>\n",
              "    </tr>\n",
              "    <tr>\n",
              "      <th>2</th>\n",
              "      <td>1</td>\n",
              "      <td>3</td>\n",
              "      <td>female</td>\n",
              "      <td>26.0</td>\n",
              "      <td>7.9</td>\n",
              "    </tr>\n",
              "    <tr>\n",
              "      <th>3</th>\n",
              "      <td>1</td>\n",
              "      <td>1</td>\n",
              "      <td>female</td>\n",
              "      <td>35.0</td>\n",
              "      <td>53.1</td>\n",
              "    </tr>\n",
              "    <tr>\n",
              "      <th>4</th>\n",
              "      <td>0</td>\n",
              "      <td>3</td>\n",
              "      <td>male</td>\n",
              "      <td>35.0</td>\n",
              "      <td>8.1</td>\n",
              "    </tr>\n",
              "    <tr>\n",
              "      <th>...</th>\n",
              "      <td>...</td>\n",
              "      <td>...</td>\n",
              "      <td>...</td>\n",
              "      <td>...</td>\n",
              "      <td>...</td>\n",
              "    </tr>\n",
              "    <tr>\n",
              "      <th>886</th>\n",
              "      <td>0</td>\n",
              "      <td>2</td>\n",
              "      <td>male</td>\n",
              "      <td>27.0</td>\n",
              "      <td>13.0</td>\n",
              "    </tr>\n",
              "    <tr>\n",
              "      <th>887</th>\n",
              "      <td>1</td>\n",
              "      <td>1</td>\n",
              "      <td>female</td>\n",
              "      <td>19.0</td>\n",
              "      <td>30.0</td>\n",
              "    </tr>\n",
              "    <tr>\n",
              "      <th>888</th>\n",
              "      <td>0</td>\n",
              "      <td>3</td>\n",
              "      <td>female</td>\n",
              "      <td>28.0</td>\n",
              "      <td>23.4</td>\n",
              "    </tr>\n",
              "    <tr>\n",
              "      <th>889</th>\n",
              "      <td>1</td>\n",
              "      <td>1</td>\n",
              "      <td>male</td>\n",
              "      <td>26.0</td>\n",
              "      <td>30.0</td>\n",
              "    </tr>\n",
              "    <tr>\n",
              "      <th>890</th>\n",
              "      <td>0</td>\n",
              "      <td>3</td>\n",
              "      <td>male</td>\n",
              "      <td>32.0</td>\n",
              "      <td>7.8</td>\n",
              "    </tr>\n",
              "  </tbody>\n",
              "</table>\n",
              "<p>891 rows × 5 columns</p>\n",
              "</div>"
            ],
            "text/plain": [
              "     survived  pclass     sex  age  fare\n",
              "0           0       3    male 22.0   7.2\n",
              "1           1       1  female 38.0  71.3\n",
              "2           1       3  female 26.0   7.9\n",
              "3           1       1  female 35.0  53.1\n",
              "4           0       3    male 35.0   8.1\n",
              "..        ...     ...     ...  ...   ...\n",
              "886         0       2    male 27.0  13.0\n",
              "887         1       1  female 19.0  30.0\n",
              "888         0       3  female 28.0  23.4\n",
              "889         1       1    male 26.0  30.0\n",
              "890         0       3    male 32.0   7.8\n",
              "\n",
              "[891 rows x 5 columns]"
            ]
          },
          "metadata": {},
          "execution_count": 16
        }
      ]
    },
    {
      "cell_type": "markdown",
      "metadata": {
        "id": "LQ4XjLNNdj9F"
      },
      "source": [
        "**Task EDA**<br> Output shows missing data in the following features :<br> **age** : 891 - 714 = 177 (19.9%)<br> **embarked** : 891 - 889 = 2 (2.2e-3%)<br> **deck** : 891 - 203 = 688 (77.2%)<br> **embark_town** : 891 - 889 = 2 (2.2e-3%)<br> With 77.2% and 19.9% missing data in some columns, cleaning this dataset by removing all records with missing data would impact the information within significantly. Also in this instance, the author's choice of columns needed for analysis - survival, class, sex, and fare - have no missing values. However the \"age\" column has missing data (i.e. NaN), hence the 'age' column was cleaned by replacing NaN with the median value."
      ]
    },
    {
      "cell_type": "markdown",
      "metadata": {
        "id": "ThBG1N1TdmBr"
      },
      "source": [
        "**Questions** :<br> 1. \"What is the age distribution of non-survivors?\" *(low-level question)*<br>  2. \"To what extent did class and sex affect survival?\" *(mid-level question)* <br> 3. \"Can money buy life - to what extent did fare price affect survival?\" *(high-level question)*"
      ]
    },
    {
      "cell_type": "markdown",
      "metadata": {
        "id": "N6krhbToelQf"
      },
      "source": [
        "Creating new dataframe of non-survivors :"
      ]
    },
    {
      "cell_type": "code",
      "metadata": {
        "colab": {
          "base_uri": "https://localhost:8080/",
          "height": 423
        },
        "id": "S2E_KjVoeIfP",
        "outputId": "01015785-55bb-4ade-e946-09265022cf46"
      },
      "source": [
        "Did_Not_Survive = used_df[used_df['survived'] == False]\n",
        "Did_Not_Survive"
      ],
      "execution_count": null,
      "outputs": [
        {
          "output_type": "execute_result",
          "data": {
            "text/html": [
              "<div>\n",
              "<style scoped>\n",
              "    .dataframe tbody tr th:only-of-type {\n",
              "        vertical-align: middle;\n",
              "    }\n",
              "\n",
              "    .dataframe tbody tr th {\n",
              "        vertical-align: top;\n",
              "    }\n",
              "\n",
              "    .dataframe thead th {\n",
              "        text-align: right;\n",
              "    }\n",
              "</style>\n",
              "<table border=\"1\" class=\"dataframe\">\n",
              "  <thead>\n",
              "    <tr style=\"text-align: right;\">\n",
              "      <th></th>\n",
              "      <th>survived</th>\n",
              "      <th>pclass</th>\n",
              "      <th>sex</th>\n",
              "      <th>age</th>\n",
              "      <th>fare</th>\n",
              "    </tr>\n",
              "  </thead>\n",
              "  <tbody>\n",
              "    <tr>\n",
              "      <th>0</th>\n",
              "      <td>0</td>\n",
              "      <td>3</td>\n",
              "      <td>male</td>\n",
              "      <td>22.0</td>\n",
              "      <td>7.2</td>\n",
              "    </tr>\n",
              "    <tr>\n",
              "      <th>4</th>\n",
              "      <td>0</td>\n",
              "      <td>3</td>\n",
              "      <td>male</td>\n",
              "      <td>35.0</td>\n",
              "      <td>8.1</td>\n",
              "    </tr>\n",
              "    <tr>\n",
              "      <th>5</th>\n",
              "      <td>0</td>\n",
              "      <td>3</td>\n",
              "      <td>male</td>\n",
              "      <td>28.0</td>\n",
              "      <td>8.5</td>\n",
              "    </tr>\n",
              "    <tr>\n",
              "      <th>6</th>\n",
              "      <td>0</td>\n",
              "      <td>1</td>\n",
              "      <td>male</td>\n",
              "      <td>54.0</td>\n",
              "      <td>51.9</td>\n",
              "    </tr>\n",
              "    <tr>\n",
              "      <th>7</th>\n",
              "      <td>0</td>\n",
              "      <td>3</td>\n",
              "      <td>male</td>\n",
              "      <td>2.0</td>\n",
              "      <td>21.1</td>\n",
              "    </tr>\n",
              "    <tr>\n",
              "      <th>...</th>\n",
              "      <td>...</td>\n",
              "      <td>...</td>\n",
              "      <td>...</td>\n",
              "      <td>...</td>\n",
              "      <td>...</td>\n",
              "    </tr>\n",
              "    <tr>\n",
              "      <th>884</th>\n",
              "      <td>0</td>\n",
              "      <td>3</td>\n",
              "      <td>male</td>\n",
              "      <td>25.0</td>\n",
              "      <td>7.0</td>\n",
              "    </tr>\n",
              "    <tr>\n",
              "      <th>885</th>\n",
              "      <td>0</td>\n",
              "      <td>3</td>\n",
              "      <td>female</td>\n",
              "      <td>39.0</td>\n",
              "      <td>29.1</td>\n",
              "    </tr>\n",
              "    <tr>\n",
              "      <th>886</th>\n",
              "      <td>0</td>\n",
              "      <td>2</td>\n",
              "      <td>male</td>\n",
              "      <td>27.0</td>\n",
              "      <td>13.0</td>\n",
              "    </tr>\n",
              "    <tr>\n",
              "      <th>888</th>\n",
              "      <td>0</td>\n",
              "      <td>3</td>\n",
              "      <td>female</td>\n",
              "      <td>28.0</td>\n",
              "      <td>23.4</td>\n",
              "    </tr>\n",
              "    <tr>\n",
              "      <th>890</th>\n",
              "      <td>0</td>\n",
              "      <td>3</td>\n",
              "      <td>male</td>\n",
              "      <td>32.0</td>\n",
              "      <td>7.8</td>\n",
              "    </tr>\n",
              "  </tbody>\n",
              "</table>\n",
              "<p>549 rows × 5 columns</p>\n",
              "</div>"
            ],
            "text/plain": [
              "     survived  pclass     sex  age  fare\n",
              "0           0       3    male 22.0   7.2\n",
              "4           0       3    male 35.0   8.1\n",
              "5           0       3    male 28.0   8.5\n",
              "6           0       1    male 54.0  51.9\n",
              "7           0       3    male  2.0  21.1\n",
              "..        ...     ...     ...  ...   ...\n",
              "884         0       3    male 25.0   7.0\n",
              "885         0       3  female 39.0  29.1\n",
              "886         0       2    male 27.0  13.0\n",
              "888         0       3  female 28.0  23.4\n",
              "890         0       3    male 32.0   7.8\n",
              "\n",
              "[549 rows x 5 columns]"
            ]
          },
          "metadata": {},
          "execution_count": 17
        }
      ]
    },
    {
      "cell_type": "markdown",
      "metadata": {
        "id": "ENUtHi8Eff7K"
      },
      "source": [
        "Renaming variable :"
      ]
    },
    {
      "cell_type": "code",
      "metadata": {
        "colab": {
          "base_uri": "https://localhost:8080/",
          "height": 423
        },
        "id": "_VZFVzo3fmZB",
        "outputId": "5b43ad50-30eb-401f-8fec-2cb552f6ca39"
      },
      "source": [
        "dns = Did_Not_Survive\n",
        "dns"
      ],
      "execution_count": null,
      "outputs": [
        {
          "output_type": "execute_result",
          "data": {
            "text/html": [
              "<div>\n",
              "<style scoped>\n",
              "    .dataframe tbody tr th:only-of-type {\n",
              "        vertical-align: middle;\n",
              "    }\n",
              "\n",
              "    .dataframe tbody tr th {\n",
              "        vertical-align: top;\n",
              "    }\n",
              "\n",
              "    .dataframe thead th {\n",
              "        text-align: right;\n",
              "    }\n",
              "</style>\n",
              "<table border=\"1\" class=\"dataframe\">\n",
              "  <thead>\n",
              "    <tr style=\"text-align: right;\">\n",
              "      <th></th>\n",
              "      <th>survived</th>\n",
              "      <th>pclass</th>\n",
              "      <th>sex</th>\n",
              "      <th>age</th>\n",
              "      <th>fare</th>\n",
              "    </tr>\n",
              "  </thead>\n",
              "  <tbody>\n",
              "    <tr>\n",
              "      <th>0</th>\n",
              "      <td>0</td>\n",
              "      <td>3</td>\n",
              "      <td>male</td>\n",
              "      <td>22.0</td>\n",
              "      <td>7.2</td>\n",
              "    </tr>\n",
              "    <tr>\n",
              "      <th>4</th>\n",
              "      <td>0</td>\n",
              "      <td>3</td>\n",
              "      <td>male</td>\n",
              "      <td>35.0</td>\n",
              "      <td>8.1</td>\n",
              "    </tr>\n",
              "    <tr>\n",
              "      <th>5</th>\n",
              "      <td>0</td>\n",
              "      <td>3</td>\n",
              "      <td>male</td>\n",
              "      <td>28.0</td>\n",
              "      <td>8.5</td>\n",
              "    </tr>\n",
              "    <tr>\n",
              "      <th>6</th>\n",
              "      <td>0</td>\n",
              "      <td>1</td>\n",
              "      <td>male</td>\n",
              "      <td>54.0</td>\n",
              "      <td>51.9</td>\n",
              "    </tr>\n",
              "    <tr>\n",
              "      <th>7</th>\n",
              "      <td>0</td>\n",
              "      <td>3</td>\n",
              "      <td>male</td>\n",
              "      <td>2.0</td>\n",
              "      <td>21.1</td>\n",
              "    </tr>\n",
              "    <tr>\n",
              "      <th>...</th>\n",
              "      <td>...</td>\n",
              "      <td>...</td>\n",
              "      <td>...</td>\n",
              "      <td>...</td>\n",
              "      <td>...</td>\n",
              "    </tr>\n",
              "    <tr>\n",
              "      <th>884</th>\n",
              "      <td>0</td>\n",
              "      <td>3</td>\n",
              "      <td>male</td>\n",
              "      <td>25.0</td>\n",
              "      <td>7.0</td>\n",
              "    </tr>\n",
              "    <tr>\n",
              "      <th>885</th>\n",
              "      <td>0</td>\n",
              "      <td>3</td>\n",
              "      <td>female</td>\n",
              "      <td>39.0</td>\n",
              "      <td>29.1</td>\n",
              "    </tr>\n",
              "    <tr>\n",
              "      <th>886</th>\n",
              "      <td>0</td>\n",
              "      <td>2</td>\n",
              "      <td>male</td>\n",
              "      <td>27.0</td>\n",
              "      <td>13.0</td>\n",
              "    </tr>\n",
              "    <tr>\n",
              "      <th>888</th>\n",
              "      <td>0</td>\n",
              "      <td>3</td>\n",
              "      <td>female</td>\n",
              "      <td>28.0</td>\n",
              "      <td>23.4</td>\n",
              "    </tr>\n",
              "    <tr>\n",
              "      <th>890</th>\n",
              "      <td>0</td>\n",
              "      <td>3</td>\n",
              "      <td>male</td>\n",
              "      <td>32.0</td>\n",
              "      <td>7.8</td>\n",
              "    </tr>\n",
              "  </tbody>\n",
              "</table>\n",
              "<p>549 rows × 5 columns</p>\n",
              "</div>"
            ],
            "text/plain": [
              "     survived  pclass     sex  age  fare\n",
              "0           0       3    male 22.0   7.2\n",
              "4           0       3    male 35.0   8.1\n",
              "5           0       3    male 28.0   8.5\n",
              "6           0       1    male 54.0  51.9\n",
              "7           0       3    male  2.0  21.1\n",
              "..        ...     ...     ...  ...   ...\n",
              "884         0       3    male 25.0   7.0\n",
              "885         0       3  female 39.0  29.1\n",
              "886         0       2    male 27.0  13.0\n",
              "888         0       3  female 28.0  23.4\n",
              "890         0       3    male 32.0   7.8\n",
              "\n",
              "[549 rows x 5 columns]"
            ]
          },
          "metadata": {},
          "execution_count": 18
        }
      ]
    },
    {
      "cell_type": "code",
      "metadata": {
        "colab": {
          "base_uri": "https://localhost:8080/"
        },
        "id": "cNBjYY4jtebz",
        "outputId": "39c4d89f-a3a6-4881-9a18-5e39882cfa05"
      },
      "source": [
        "dns.info()"
      ],
      "execution_count": null,
      "outputs": [
        {
          "output_type": "stream",
          "name": "stdout",
          "text": [
            "<class 'pandas.core.frame.DataFrame'>\n",
            "Int64Index: 549 entries, 0 to 890\n",
            "Data columns (total 5 columns):\n",
            " #   Column    Non-Null Count  Dtype  \n",
            "---  ------    --------------  -----  \n",
            " 0   survived  549 non-null    int64  \n",
            " 1   pclass    549 non-null    int64  \n",
            " 2   sex       549 non-null    object \n",
            " 3   age       549 non-null    float64\n",
            " 4   fare      549 non-null    float64\n",
            "dtypes: float64(2), int64(2), object(1)\n",
            "memory usage: 25.7+ KB\n"
          ]
        }
      ]
    },
    {
      "cell_type": "code",
      "metadata": {
        "colab": {
          "base_uri": "https://localhost:8080/",
          "height": 269
        },
        "id": "fTakEGnDgBWS",
        "outputId": "226bbfe5-dc70-4ee4-f62d-66c707e1e8eb"
      },
      "source": [
        "Q1_and_Q2_table = dns.groupby(['sex','pclass', 'survived'])['survived'].aggregate('count').unstack()\n",
        "Q1_and_Q2_table"
      ],
      "execution_count": null,
      "outputs": [
        {
          "output_type": "execute_result",
          "data": {
            "text/html": [
              "<div>\n",
              "<style scoped>\n",
              "    .dataframe tbody tr th:only-of-type {\n",
              "        vertical-align: middle;\n",
              "    }\n",
              "\n",
              "    .dataframe tbody tr th {\n",
              "        vertical-align: top;\n",
              "    }\n",
              "\n",
              "    .dataframe thead th {\n",
              "        text-align: right;\n",
              "    }\n",
              "</style>\n",
              "<table border=\"1\" class=\"dataframe\">\n",
              "  <thead>\n",
              "    <tr style=\"text-align: right;\">\n",
              "      <th></th>\n",
              "      <th>survived</th>\n",
              "      <th>0</th>\n",
              "    </tr>\n",
              "    <tr>\n",
              "      <th>sex</th>\n",
              "      <th>pclass</th>\n",
              "      <th></th>\n",
              "    </tr>\n",
              "  </thead>\n",
              "  <tbody>\n",
              "    <tr>\n",
              "      <th rowspan=\"3\" valign=\"top\">female</th>\n",
              "      <th>1</th>\n",
              "      <td>3</td>\n",
              "    </tr>\n",
              "    <tr>\n",
              "      <th>2</th>\n",
              "      <td>6</td>\n",
              "    </tr>\n",
              "    <tr>\n",
              "      <th>3</th>\n",
              "      <td>72</td>\n",
              "    </tr>\n",
              "    <tr>\n",
              "      <th rowspan=\"3\" valign=\"top\">male</th>\n",
              "      <th>1</th>\n",
              "      <td>77</td>\n",
              "    </tr>\n",
              "    <tr>\n",
              "      <th>2</th>\n",
              "      <td>91</td>\n",
              "    </tr>\n",
              "    <tr>\n",
              "      <th>3</th>\n",
              "      <td>300</td>\n",
              "    </tr>\n",
              "  </tbody>\n",
              "</table>\n",
              "</div>"
            ],
            "text/plain": [
              "survived         0\n",
              "sex    pclass     \n",
              "female 1         3\n",
              "       2         6\n",
              "       3        72\n",
              "male   1        77\n",
              "       2        91\n",
              "       3       300"
            ]
          },
          "metadata": {},
          "execution_count": 20
        }
      ]
    },
    {
      "cell_type": "markdown",
      "metadata": {
        "id": "vdRatNNDiBm9"
      },
      "source": [
        "Questions 1 : What is the age distribution of non-survivors?"
      ]
    },
    {
      "cell_type": "code",
      "metadata": {
        "colab": {
          "base_uri": "https://localhost:8080/",
          "height": 281
        },
        "id": "bulO8eGVgq9D",
        "outputId": "ea1f9506-eb12-487d-f0e1-ad50595b6c1f"
      },
      "source": [
        "plt.boxplot(dns['age'])\n",
        "plt.title('Age Distribution of Non-survivors')\n",
        "plt.ylabel('Age')\n",
        "plt.show()"
      ],
      "execution_count": null,
      "outputs": [
        {
          "output_type": "display_data",
          "data": {
            "image/png": "[encoded data removed]",
            "text/plain": [
              "<Figure size 432x288 with 1 Axes>"
            ]
          },
          "metadata": {
            "needs_background": "light"
          }
        }
      ]
    },
    {
      "cell_type": "code",
      "metadata": {
        "colab": {
          "base_uri": "https://localhost:8080/"
        },
        "id": "OYd1PMRZOLIn",
        "outputId": "c105014f-76fd-42b6-f5a3-65870f2a5316"
      },
      "source": [
        "dns['age'].describe()"
      ],
      "execution_count": null,
      "outputs": [
        {
          "output_type": "execute_result",
          "data": {
            "text/plain": [
              "count   549.0\n",
              "mean     30.0\n",
              "std      12.5\n",
              "min       1.0\n",
              "25%      23.0\n",
              "50%      28.0\n",
              "75%      35.0\n",
              "max      74.0\n",
              "Name: age, dtype: float64"
            ]
          },
          "metadata": {},
          "execution_count": 22
        }
      ]
    },
    {
      "cell_type": "code",
      "metadata": {
        "colab": {
          "base_uri": "https://localhost:8080/"
        },
        "id": "UQ26Zz6VdyxJ",
        "outputId": "a7476f29-c12b-4c82-cb53-70a370328e63"
      },
      "source": [
        "dns['age'].median()"
      ],
      "execution_count": null,
      "outputs": [
        {
          "output_type": "execute_result",
          "data": {
            "text/plain": [
              "28.0"
            ]
          },
          "metadata": {},
          "execution_count": 23
        }
      ]
    },
    {
      "cell_type": "markdown",
      "metadata": {
        "id": "aK3wam2ViTq7"
      },
      "source": [
        "Questions 2 : To what extent did class and sex affect survival?"
      ]
    },
    {
      "cell_type": "code",
      "metadata": {
        "colab": {
          "base_uri": "https://localhost:8080/",
          "height": 269
        },
        "id": "EUQ4fvTUQmUU",
        "outputId": "d268d300-4108-44b6-a92c-7aa361658452"
      },
      "source": [
        "Q2_table = used_df.groupby(['sex','pclass', 'survived'])['survived'].aggregate('count').unstack()\n",
        "Q2_table"
      ],
      "execution_count": null,
      "outputs": [
        {
          "output_type": "execute_result",
          "data": {
            "text/html": [
              "<div>\n",
              "<style scoped>\n",
              "    .dataframe tbody tr th:only-of-type {\n",
              "        vertical-align: middle;\n",
              "    }\n",
              "\n",
              "    .dataframe tbody tr th {\n",
              "        vertical-align: top;\n",
              "    }\n",
              "\n",
              "    .dataframe thead th {\n",
              "        text-align: right;\n",
              "    }\n",
              "</style>\n",
              "<table border=\"1\" class=\"dataframe\">\n",
              "  <thead>\n",
              "    <tr style=\"text-align: right;\">\n",
              "      <th></th>\n",
              "      <th>survived</th>\n",
              "      <th>0</th>\n",
              "      <th>1</th>\n",
              "    </tr>\n",
              "    <tr>\n",
              "      <th>sex</th>\n",
              "      <th>pclass</th>\n",
              "      <th></th>\n",
              "      <th></th>\n",
              "    </tr>\n",
              "  </thead>\n",
              "  <tbody>\n",
              "    <tr>\n",
              "      <th rowspan=\"3\" valign=\"top\">female</th>\n",
              "      <th>1</th>\n",
              "      <td>3</td>\n",
              "      <td>91</td>\n",
              "    </tr>\n",
              "    <tr>\n",
              "      <th>2</th>\n",
              "      <td>6</td>\n",
              "      <td>70</td>\n",
              "    </tr>\n",
              "    <tr>\n",
              "      <th>3</th>\n",
              "      <td>72</td>\n",
              "      <td>72</td>\n",
              "    </tr>\n",
              "    <tr>\n",
              "      <th rowspan=\"3\" valign=\"top\">male</th>\n",
              "      <th>1</th>\n",
              "      <td>77</td>\n",
              "      <td>45</td>\n",
              "    </tr>\n",
              "    <tr>\n",
              "      <th>2</th>\n",
              "      <td>91</td>\n",
              "      <td>17</td>\n",
              "    </tr>\n",
              "    <tr>\n",
              "      <th>3</th>\n",
              "      <td>300</td>\n",
              "      <td>47</td>\n",
              "    </tr>\n",
              "  </tbody>\n",
              "</table>\n",
              "</div>"
            ],
            "text/plain": [
              "survived         0   1\n",
              "sex    pclass         \n",
              "female 1         3  91\n",
              "       2         6  70\n",
              "       3        72  72\n",
              "male   1        77  45\n",
              "       2        91  17\n",
              "       3       300  47"
            ]
          },
          "metadata": {},
          "execution_count": 24
        }
      ]
    },
    {
      "cell_type": "markdown",
      "metadata": {
        "id": "Bt1m5Wd8tNZZ"
      },
      "source": [
        "blank buffer to enable readable pdf conversion<br>\n",
        "blank buffer to enable readable pdf conversion<br>\n",
        "blank buffer to enable readable pdf conversion<br>\n",
        "blank buffer to enable readable pdf conversion<br>\n",
        "blank buffer to enable readable pdf conversion<br>\n",
        "blank buffer to enable readable pdf conversion<br>"
      ]
    },
    {
      "cell_type": "code",
      "metadata": {
        "colab": {
          "base_uri": "https://localhost:8080/",
          "height": 357
        },
        "id": "YlinC0viRI1n",
        "outputId": "20413fe6-70d8-453e-bcdd-568343d21b6e"
      },
      "source": [
        "Q2_table.plot(kind=\"bar\", stacked=False, \n",
        "           title=\"Variation of Class and Sex with Survival\",\n",
        "           xlabel=\"Class and Sex\",\n",
        "           ylabel=\"Number of Passengers\")"
      ],
      "execution_count": null,
      "outputs": [
        {
          "output_type": "execute_result",
          "data": {
            "text/plain": [
              "<matplotlib.axes._subplots.AxesSubplot at 0x7fe16733f550>"
            ]
          },
          "metadata": {},
          "execution_count": 25
        },
        {
          "output_type": "display_data",
          "data": {
            "image/png": "[encoded data removed]",
            "text/plain": [
              "<Figure size 432x288 with 1 Axes>"
            ]
          },
          "metadata": {
            "needs_background": "light"
          }
        }
      ]
    },
    {
      "cell_type": "markdown",
      "metadata": {
        "id": "uZ35eB2bs0MK"
      },
      "source": [
        "blank buffer to enable readable pdf conversion<br>\n",
        "blank buffer to enable readable pdf conversion<br>\n",
        "blank buffer to enable readable pdf conversion<br>\n"
      ]
    },
    {
      "cell_type": "code",
      "metadata": {
        "colab": {
          "base_uri": "https://localhost:8080/",
          "height": 357
        },
        "id": "h-tkSuoNiXr0",
        "outputId": "8107b755-e1f8-42ca-94b3-797ef6ccfa16"
      },
      "source": [
        "Q1_and_Q2_table.plot(kind=\"bar\", # stacked=False, \n",
        "           title=\"Variation of Class and Sex with Non-survival\",\n",
        "           xlabel=\"Class and Sex\",\n",
        "           ylabel=\"Number of Deaths\")"
      ],
      "execution_count": null,
      "outputs": [
        {
          "output_type": "execute_result",
          "data": {
            "text/plain": [
              "<matplotlib.axes._subplots.AxesSubplot at 0x7fe167273710>"
            ]
          },
          "metadata": {},
          "execution_count": 26
        },
        {
          "output_type": "display_data",
          "data": {
            "image/png": "[encoded data removed]",
            "text/plain": [
              "<Figure size 432x288 with 1 Axes>"
            ]
          },
          "metadata": {
            "needs_background": "light"
          }
        }
      ]
    },
    {
      "cell_type": "code",
      "metadata": {
        "colab": {
          "base_uri": "https://localhost:8080/",
          "height": 300
        },
        "id": "Y1mdEMBctjZz",
        "outputId": "888b9f94-8dcf-4c36-a6c5-1d50b2fea898"
      },
      "source": [
        "dns.describe()"
      ],
      "execution_count": null,
      "outputs": [
        {
          "output_type": "execute_result",
          "data": {
            "text/html": [
              "<div>\n",
              "<style scoped>\n",
              "    .dataframe tbody tr th:only-of-type {\n",
              "        vertical-align: middle;\n",
              "    }\n",
              "\n",
              "    .dataframe tbody tr th {\n",
              "        vertical-align: top;\n",
              "    }\n",
              "\n",
              "    .dataframe thead th {\n",
              "        text-align: right;\n",
              "    }\n",
              "</style>\n",
              "<table border=\"1\" class=\"dataframe\">\n",
              "  <thead>\n",
              "    <tr style=\"text-align: right;\">\n",
              "      <th></th>\n",
              "      <th>survived</th>\n",
              "      <th>pclass</th>\n",
              "      <th>age</th>\n",
              "      <th>fare</th>\n",
              "    </tr>\n",
              "  </thead>\n",
              "  <tbody>\n",
              "    <tr>\n",
              "      <th>count</th>\n",
              "      <td>549.0</td>\n",
              "      <td>549.0</td>\n",
              "      <td>549.0</td>\n",
              "      <td>549.0</td>\n",
              "    </tr>\n",
              "    <tr>\n",
              "      <th>mean</th>\n",
              "      <td>0.0</td>\n",
              "      <td>2.5</td>\n",
              "      <td>30.0</td>\n",
              "      <td>22.1</td>\n",
              "    </tr>\n",
              "    <tr>\n",
              "      <th>std</th>\n",
              "      <td>0.0</td>\n",
              "      <td>0.7</td>\n",
              "      <td>12.5</td>\n",
              "      <td>31.4</td>\n",
              "    </tr>\n",
              "    <tr>\n",
              "      <th>min</th>\n",
              "      <td>0.0</td>\n",
              "      <td>1.0</td>\n",
              "      <td>1.0</td>\n",
              "      <td>0.0</td>\n",
              "    </tr>\n",
              "    <tr>\n",
              "      <th>25%</th>\n",
              "      <td>0.0</td>\n",
              "      <td>2.0</td>\n",
              "      <td>23.0</td>\n",
              "      <td>7.9</td>\n",
              "    </tr>\n",
              "    <tr>\n",
              "      <th>50%</th>\n",
              "      <td>0.0</td>\n",
              "      <td>3.0</td>\n",
              "      <td>28.0</td>\n",
              "      <td>10.5</td>\n",
              "    </tr>\n",
              "    <tr>\n",
              "      <th>75%</th>\n",
              "      <td>0.0</td>\n",
              "      <td>3.0</td>\n",
              "      <td>35.0</td>\n",
              "      <td>26.0</td>\n",
              "    </tr>\n",
              "    <tr>\n",
              "      <th>max</th>\n",
              "      <td>0.0</td>\n",
              "      <td>3.0</td>\n",
              "      <td>74.0</td>\n",
              "      <td>263.0</td>\n",
              "    </tr>\n",
              "  </tbody>\n",
              "</table>\n",
              "</div>"
            ],
            "text/plain": [
              "       survived  pclass   age  fare\n",
              "count     549.0   549.0 549.0 549.0\n",
              "mean        0.0     2.5  30.0  22.1\n",
              "std         0.0     0.7  12.5  31.4\n",
              "min         0.0     1.0   1.0   0.0\n",
              "25%         0.0     2.0  23.0   7.9\n",
              "50%         0.0     3.0  28.0  10.5\n",
              "75%         0.0     3.0  35.0  26.0\n",
              "max         0.0     3.0  74.0 263.0"
            ]
          },
          "metadata": {},
          "execution_count": 27
        }
      ]
    },
    {
      "cell_type": "markdown",
      "metadata": {
        "id": "OAd6RXO7vEyU"
      },
      "source": [
        "Question 3 : Can money buy life - to what extent did fare price affect survival?"
      ]
    },
    {
      "cell_type": "code",
      "metadata": {
        "colab": {
          "base_uri": "https://localhost:8080/"
        },
        "id": "Wu3Etb-na4UZ",
        "outputId": "39c19f65-079f-471d-a767-cac1ba0d2852"
      },
      "source": [
        "Q3a_table = used_df.groupby(['fare', 'survived'])['fare'].aggregate('count')\n",
        "Q3a_table"
      ],
      "execution_count": null,
      "outputs": [
        {
          "output_type": "execute_result",
          "data": {
            "text/plain": [
              "fare   survived\n",
              "0.0    0           14\n",
              "       1            1\n",
              "4.0    0            1\n",
              "5.0    0            1\n",
              "6.2    0            1\n",
              "                   ..\n",
              "247.5  1            1\n",
              "262.4  1            2\n",
              "263.0  0            2\n",
              "       1            2\n",
              "512.3  1            3\n",
              "Name: fare, Length: 330, dtype: int64"
            ]
          },
          "metadata": {},
          "execution_count": 28
        }
      ]
    },
    {
      "cell_type": "code",
      "metadata": {
        "colab": {
          "base_uri": "https://localhost:8080/",
          "height": 371
        },
        "id": "AYKB-yKCJZVj",
        "outputId": "94daf5a7-174e-4445-dfe4-943c629f6a0b"
      },
      "source": [
        "Q3a_table.plot(kind=\"bar\", stacked=False, \n",
        "           title=\"Variation of Fare with Survival\",\n",
        "           xlabel=\"Fare\",\n",
        "           ylabel=\"Number of Passengers\")"
      ],
      "execution_count": null,
      "outputs": [
        {
          "output_type": "execute_result",
          "data": {
            "text/plain": [
              "<matplotlib.axes._subplots.AxesSubplot at 0x7fe16720c790>"
            ]
          },
          "metadata": {},
          "execution_count": 29
        },
        {
          "output_type": "display_data",
          "data": {
            "image/png": "[encoded data removed]",
            "text/plain": [
              "<Figure size 432x288 with 1 Axes>"
            ]
          },
          "metadata": {
            "needs_background": "light"
          }
        }
      ]
    },
    {
      "cell_type": "code",
      "metadata": {
        "colab": {
          "base_uri": "https://localhost:8080/"
        },
        "id": "u17mYV1MRRSl",
        "outputId": "de1df3b0-2bee-4b02-d787-fa20a99bdeee"
      },
      "source": [
        "Q3a_table.describe()"
      ],
      "execution_count": null,
      "outputs": [
        {
          "output_type": "execute_result",
          "data": {
            "text/plain": [
              "count   330.0\n",
              "mean      2.7\n",
              "std       4.1\n",
              "min       1.0\n",
              "25%       1.0\n",
              "50%       1.0\n",
              "75%       2.8\n",
              "max      38.0\n",
              "Name: fare, dtype: float64"
            ]
          },
          "metadata": {},
          "execution_count": 30
        }
      ]
    },
    {
      "cell_type": "code",
      "metadata": {
        "colab": {
          "base_uri": "https://localhost:8080/",
          "height": 455
        },
        "id": "9eqNPWS_5BF0",
        "outputId": "e6e716dd-3958-4c7a-aa35-75477ce89563"
      },
      "source": [
        "Q3b_table = used_df.groupby(['fare', 'survived'])['survived'].aggregate('count').unstack()\n",
        "Q3b_table"
      ],
      "execution_count": null,
      "outputs": [
        {
          "output_type": "execute_result",
          "data": {
            "text/html": [
              "<div>\n",
              "<style scoped>\n",
              "    .dataframe tbody tr th:only-of-type {\n",
              "        vertical-align: middle;\n",
              "    }\n",
              "\n",
              "    .dataframe tbody tr th {\n",
              "        vertical-align: top;\n",
              "    }\n",
              "\n",
              "    .dataframe thead th {\n",
              "        text-align: right;\n",
              "    }\n",
              "</style>\n",
              "<table border=\"1\" class=\"dataframe\">\n",
              "  <thead>\n",
              "    <tr style=\"text-align: right;\">\n",
              "      <th>survived</th>\n",
              "      <th>0</th>\n",
              "      <th>1</th>\n",
              "    </tr>\n",
              "    <tr>\n",
              "      <th>fare</th>\n",
              "      <th></th>\n",
              "      <th></th>\n",
              "    </tr>\n",
              "  </thead>\n",
              "  <tbody>\n",
              "    <tr>\n",
              "      <th>0.0</th>\n",
              "      <td>14.0</td>\n",
              "      <td>1.0</td>\n",
              "    </tr>\n",
              "    <tr>\n",
              "      <th>4.0</th>\n",
              "      <td>1.0</td>\n",
              "      <td>nan</td>\n",
              "    </tr>\n",
              "    <tr>\n",
              "      <th>5.0</th>\n",
              "      <td>1.0</td>\n",
              "      <td>nan</td>\n",
              "    </tr>\n",
              "    <tr>\n",
              "      <th>6.2</th>\n",
              "      <td>1.0</td>\n",
              "      <td>nan</td>\n",
              "    </tr>\n",
              "    <tr>\n",
              "      <th>6.4</th>\n",
              "      <td>1.0</td>\n",
              "      <td>nan</td>\n",
              "    </tr>\n",
              "    <tr>\n",
              "      <th>...</th>\n",
              "      <td>...</td>\n",
              "      <td>...</td>\n",
              "    </tr>\n",
              "    <tr>\n",
              "      <th>227.5</th>\n",
              "      <td>1.0</td>\n",
              "      <td>3.0</td>\n",
              "    </tr>\n",
              "    <tr>\n",
              "      <th>247.5</th>\n",
              "      <td>1.0</td>\n",
              "      <td>1.0</td>\n",
              "    </tr>\n",
              "    <tr>\n",
              "      <th>262.4</th>\n",
              "      <td>nan</td>\n",
              "      <td>2.0</td>\n",
              "    </tr>\n",
              "    <tr>\n",
              "      <th>263.0</th>\n",
              "      <td>2.0</td>\n",
              "      <td>2.0</td>\n",
              "    </tr>\n",
              "    <tr>\n",
              "      <th>512.3</th>\n",
              "      <td>nan</td>\n",
              "      <td>3.0</td>\n",
              "    </tr>\n",
              "  </tbody>\n",
              "</table>\n",
              "<p>248 rows × 2 columns</p>\n",
              "</div>"
            ],
            "text/plain": [
              "survived    0   1\n",
              "fare             \n",
              "0.0      14.0 1.0\n",
              "4.0       1.0 nan\n",
              "5.0       1.0 nan\n",
              "6.2       1.0 nan\n",
              "6.4       1.0 nan\n",
              "...       ...  ..\n",
              "227.5     1.0 3.0\n",
              "247.5     1.0 1.0\n",
              "262.4     nan 2.0\n",
              "263.0     2.0 2.0\n",
              "512.3     nan 3.0\n",
              "\n",
              "[248 rows x 2 columns]"
            ]
          },
          "metadata": {},
          "execution_count": 31
        }
      ]
    },
    {
      "cell_type": "code",
      "metadata": {
        "colab": {
          "base_uri": "https://localhost:8080/",
          "height": 351
        },
        "id": "1DEkPlLec-9I",
        "outputId": "2546f890-4a05-40de-b45c-dc4aca27a82c"
      },
      "source": [
        "Q3b_table.plot(kind=\"bar\",  stacked=False, \n",
        "           title=\"Variation of Fare with Survival\",\n",
        "           xlabel=\"Fare\",\n",
        "           ylabel=\"Number of Passengers\")"
      ],
      "execution_count": null,
      "outputs": [
        {
          "output_type": "execute_result",
          "data": {
            "text/plain": [
              "<matplotlib.axes._subplots.AxesSubplot at 0x7fe166a70dd0>"
            ]
          },
          "metadata": {},
          "execution_count": 32
        },
        {
          "output_type": "display_data",
          "data": {
            "image/png": "[encoded data removed]",
            "text/plain": [
              "<Figure size 432x288 with 1 Axes>"
            ]
          },
          "metadata": {
            "needs_background": "light"
          }
        }
      ]
    },
    {
      "cell_type": "code",
      "metadata": {
        "colab": {
          "base_uri": "https://localhost:8080/",
          "height": 300
        },
        "id": "7jnoYU2MjoJn",
        "outputId": "11249bdc-2255-4efc-fb05-c56104f45c91"
      },
      "source": [
        "Q3b_table.describe()"
      ],
      "execution_count": null,
      "outputs": [
        {
          "output_type": "execute_result",
          "data": {
            "text/html": [
              "<div>\n",
              "<style scoped>\n",
              "    .dataframe tbody tr th:only-of-type {\n",
              "        vertical-align: middle;\n",
              "    }\n",
              "\n",
              "    .dataframe tbody tr th {\n",
              "        vertical-align: top;\n",
              "    }\n",
              "\n",
              "    .dataframe thead th {\n",
              "        text-align: right;\n",
              "    }\n",
              "</style>\n",
              "<table border=\"1\" class=\"dataframe\">\n",
              "  <thead>\n",
              "    <tr style=\"text-align: right;\">\n",
              "      <th>survived</th>\n",
              "      <th>0</th>\n",
              "      <th>1</th>\n",
              "    </tr>\n",
              "  </thead>\n",
              "  <tbody>\n",
              "    <tr>\n",
              "      <th>count</th>\n",
              "      <td>177.0</td>\n",
              "      <td>153.0</td>\n",
              "    </tr>\n",
              "    <tr>\n",
              "      <th>mean</th>\n",
              "      <td>3.1</td>\n",
              "      <td>2.2</td>\n",
              "    </tr>\n",
              "    <tr>\n",
              "      <th>std</th>\n",
              "      <td>5.2</td>\n",
              "      <td>2.2</td>\n",
              "    </tr>\n",
              "    <tr>\n",
              "      <th>min</th>\n",
              "      <td>1.0</td>\n",
              "      <td>1.0</td>\n",
              "    </tr>\n",
              "    <tr>\n",
              "      <th>25%</th>\n",
              "      <td>1.0</td>\n",
              "      <td>1.0</td>\n",
              "    </tr>\n",
              "    <tr>\n",
              "      <th>50%</th>\n",
              "      <td>1.0</td>\n",
              "      <td>2.0</td>\n",
              "    </tr>\n",
              "    <tr>\n",
              "      <th>75%</th>\n",
              "      <td>2.0</td>\n",
              "      <td>3.0</td>\n",
              "    </tr>\n",
              "    <tr>\n",
              "      <th>max</th>\n",
              "      <td>38.0</td>\n",
              "      <td>16.0</td>\n",
              "    </tr>\n",
              "  </tbody>\n",
              "</table>\n",
              "</div>"
            ],
            "text/plain": [
              "survived     0     1\n",
              "count    177.0 153.0\n",
              "mean       3.1   2.2\n",
              "std        5.2   2.2\n",
              "min        1.0   1.0\n",
              "25%        1.0   1.0\n",
              "50%        1.0   2.0\n",
              "75%        2.0   3.0\n",
              "max       38.0  16.0"
            ]
          },
          "metadata": {},
          "execution_count": 33
        }
      ]
    },
    {
      "cell_type": "code",
      "metadata": {
        "colab": {
          "base_uri": "https://localhost:8080/",
          "height": 455
        },
        "id": "hghqlGXSeTdF",
        "outputId": "5163aed6-5bb0-43f0-a493-4750a39a8fef"
      },
      "source": [
        "Q3c_table = dns.groupby(['fare', 'survived'])['survived'].aggregate('count').unstack()\n",
        "Q3c_table"
      ],
      "execution_count": null,
      "outputs": [
        {
          "output_type": "execute_result",
          "data": {
            "text/html": [
              "<div>\n",
              "<style scoped>\n",
              "    .dataframe tbody tr th:only-of-type {\n",
              "        vertical-align: middle;\n",
              "    }\n",
              "\n",
              "    .dataframe tbody tr th {\n",
              "        vertical-align: top;\n",
              "    }\n",
              "\n",
              "    .dataframe thead th {\n",
              "        text-align: right;\n",
              "    }\n",
              "</style>\n",
              "<table border=\"1\" class=\"dataframe\">\n",
              "  <thead>\n",
              "    <tr style=\"text-align: right;\">\n",
              "      <th>survived</th>\n",
              "      <th>0</th>\n",
              "    </tr>\n",
              "    <tr>\n",
              "      <th>fare</th>\n",
              "      <th></th>\n",
              "    </tr>\n",
              "  </thead>\n",
              "  <tbody>\n",
              "    <tr>\n",
              "      <th>0.0</th>\n",
              "      <td>14</td>\n",
              "    </tr>\n",
              "    <tr>\n",
              "      <th>4.0</th>\n",
              "      <td>1</td>\n",
              "    </tr>\n",
              "    <tr>\n",
              "      <th>5.0</th>\n",
              "      <td>1</td>\n",
              "    </tr>\n",
              "    <tr>\n",
              "      <th>6.2</th>\n",
              "      <td>1</td>\n",
              "    </tr>\n",
              "    <tr>\n",
              "      <th>6.4</th>\n",
              "      <td>1</td>\n",
              "    </tr>\n",
              "    <tr>\n",
              "      <th>...</th>\n",
              "      <td>...</td>\n",
              "    </tr>\n",
              "    <tr>\n",
              "      <th>211.5</th>\n",
              "      <td>1</td>\n",
              "    </tr>\n",
              "    <tr>\n",
              "      <th>221.8</th>\n",
              "      <td>1</td>\n",
              "    </tr>\n",
              "    <tr>\n",
              "      <th>227.5</th>\n",
              "      <td>1</td>\n",
              "    </tr>\n",
              "    <tr>\n",
              "      <th>247.5</th>\n",
              "      <td>1</td>\n",
              "    </tr>\n",
              "    <tr>\n",
              "      <th>263.0</th>\n",
              "      <td>2</td>\n",
              "    </tr>\n",
              "  </tbody>\n",
              "</table>\n",
              "<p>177 rows × 1 columns</p>\n",
              "</div>"
            ],
            "text/plain": [
              "survived   0\n",
              "fare        \n",
              "0.0       14\n",
              "4.0        1\n",
              "5.0        1\n",
              "6.2        1\n",
              "6.4        1\n",
              "...       ..\n",
              "211.5      1\n",
              "221.8      1\n",
              "227.5      1\n",
              "247.5      1\n",
              "263.0      2\n",
              "\n",
              "[177 rows x 1 columns]"
            ]
          },
          "metadata": {},
          "execution_count": 34
        }
      ]
    },
    {
      "cell_type": "code",
      "metadata": {
        "colab": {
          "base_uri": "https://localhost:8080/",
          "height": 371
        },
        "id": "IpxzhbnPfEO7",
        "outputId": "f57af025-87b1-4125-c59a-23fd59856f25"
      },
      "source": [
        "Q3c_table.plot(kind=\"bar\",  stacked=False, \n",
        "           title=\"Variation of Fare with Non-survival\",\n",
        "           xlabel=\"Fare\",\n",
        "           ylabel=\"Number of Deaths\")"
      ],
      "execution_count": null,
      "outputs": [
        {
          "output_type": "execute_result",
          "data": {
            "text/plain": [
              "<matplotlib.axes._subplots.AxesSubplot at 0x7fe166159990>"
            ]
          },
          "metadata": {},
          "execution_count": 35
        },
        {
          "output_type": "display_data",
          "data": {
            "image/png": "[encoded data removed]",
            "text/plain": [
              "<Figure size 432x288 with 1 Axes>"
            ]
          },
          "metadata": {
            "needs_background": "light"
          }
        }
      ]
    }
  ]
}
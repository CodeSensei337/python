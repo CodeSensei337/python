{
  "nbformat": 4,
  "nbformat_minor": 0,
  "metadata": {
    "colab": {
      "name": "Non-transitive Dice.ipynb",
      "provenance": [],
      "collapsed_sections": [],
      "authorship_tag": "ABX9TyMXKV2rkw3uNPm1Wqg2Evqt"
    },
    "kernelspec": {
      "name": "python3",
      "display_name": "Python 3"
    },
    "language_info": {
      "name": "python"
    }
  },
  "cells": [
    {
      "cell_type": "markdown",
      "metadata": {
        "id": "1OkP546Opmze"
      },
      "source": [
        "**Summary statistics**<br>\n",
        "Use Python to ‘roll’ a dice and perform the calculations after 60 rolls. The functions to use are part of the NumPy library in Python."
      ]
    },
    {
      "cell_type": "code",
      "metadata": {
        "colab": {
          "base_uri": "https://localhost:8080/"
        },
        "id": "DBygxlR2lrbn",
        "outputId": "6ab2aeac-f2ae-4a72-aba3-7281a6461649"
      },
      "source": [
        "import numpy as np\n",
        "myrolls = np.random.randint(low=1, high=7, size=60)\n",
        "print(myrolls)"
      ],
      "execution_count": null,
      "outputs": [
        {
          "output_type": "stream",
          "text": [
            "[5 4 3 2 6 2 6 1 3 4 3 1 3 6 6 3 3 3 3 4 3 3 6 3 2 6 6 5 3 6 1 1 5 1 5 6 5\n",
            " 1 2 6 4 4 2 1 1 3 4 4 1 2 5 2 2 3 1 2 1 3 5 6]\n"
          ],
          "name": "stdout"
        }
      ]
    },
    {
      "cell_type": "code",
      "metadata": {
        "colab": {
          "base_uri": "https://localhost:8080/"
        },
        "id": "HllNdrpQlg5J",
        "outputId": "339483ad-d2d7-4fa1-cb8d-bf6fd94320f0"
      },
      "source": [
        "myaverage = np.sum(myrolls)/np.size(myrolls)\n",
        "print(myaverage)"
      ],
      "execution_count": null,
      "outputs": [
        {
          "output_type": "stream",
          "text": [
            "3.3833333333333333\n"
          ],
          "name": "stdout"
        }
      ]
    },
    {
      "cell_type": "code",
      "metadata": {
        "colab": {
          "base_uri": "https://localhost:8080/"
        },
        "id": "SsewqaQRmPBu",
        "outputId": "6891c3d8-4554-4bbb-9eb0-cf238f0622a3"
      },
      "source": [
        "myaverage = np.mean(myrolls)\n",
        "print(myaverage)"
      ],
      "execution_count": null,
      "outputs": [
        {
          "output_type": "stream",
          "text": [
            "3.3833333333333333\n"
          ],
          "name": "stdout"
        }
      ]
    },
    {
      "cell_type": "markdown",
      "metadata": {
        "id": "iglcGATXqdwU"
      },
      "source": [
        "**Maximum, Minimum and Standard Deviation**\n",
        "\n",
        "---\n",
        "\n"
      ]
    },
    {
      "cell_type": "code",
      "metadata": {
        "colab": {
          "base_uri": "https://localhost:8080/"
        },
        "id": "EBimVEs8mefj",
        "outputId": "4c26411a-1393-44dd-dde7-a649cd5b0b06"
      },
      "source": [
        "mymax = np.max(myrolls)\n",
        "mymin = np.min(myrolls)\n",
        "mystd = np.std(myrolls)\n",
        "print(mymax)\n",
        "print(mymin)\n",
        "print(mystd)"
      ],
      "execution_count": null,
      "outputs": [
        {
          "output_type": "stream",
          "text": [
            "6\n",
            "1\n",
            "1.7232882005695453\n"
          ],
          "name": "stdout"
        }
      ]
    },
    {
      "cell_type": "markdown",
      "metadata": {
        "id": "2aLolbTaqzPE"
      },
      "source": [
        "**Sort the values in an array into increasing order**"
      ]
    },
    {
      "cell_type": "code",
      "metadata": {
        "colab": {
          "base_uri": "https://localhost:8080/"
        },
        "id": "sogF_28bmqck",
        "outputId": "0250933c-6000-40e2-cd9e-30fb289c230d"
      },
      "source": [
        "sorted_rolls = np.sort(myrolls)\n",
        "print(sorted_rolls)"
      ],
      "execution_count": null,
      "outputs": [
        {
          "output_type": "stream",
          "text": [
            "[1 1 1 1 1 1 1 1 1 1 1 2 2 2 2 2 2 2 2 2 3 3 3 3 3 3 3 3 3 3 3 3 3 3 3 4 4\n",
            " 4 4 4 4 4 5 5 5 5 5 5 5 6 6 6 6 6 6 6 6 6 6 6]\n"
          ],
          "name": "stdout"
        }
      ]
    },
    {
      "cell_type": "markdown",
      "metadata": {
        "id": "A16ctnSdrnAT"
      },
      "source": [
        "**Count the number of ones, twos, etc.**"
      ]
    },
    {
      "cell_type": "code",
      "metadata": {
        "colab": {
          "base_uri": "https://localhost:8080/"
        },
        "id": "vBNjdlhmmyHs",
        "outputId": "0403d31a-7b96-4000-f39a-ceb07aa84c02"
      },
      "source": [
        "(unique_rolls, counts) = np.unique(myrolls,return_counts=True)\n",
        "print(unique_rolls)\n",
        "print(counts)"
      ],
      "execution_count": null,
      "outputs": [
        {
          "output_type": "stream",
          "text": [
            "[1 2 3 4 5 6]\n",
            "[11  9 15  7  7 11]\n"
          ],
          "name": "stdout"
        }
      ]
    },
    {
      "cell_type": "markdown",
      "metadata": {
        "id": "_L5pAw1OnBhk"
      },
      "source": [
        "**Two Dice**<br>\n",
        "Roll two dice at once (call them dice A and dice B).<br>\n",
        "Count after 60 rolls."
      ]
    },
    {
      "cell_type": "code",
      "metadata": {
        "colab": {
          "base_uri": "https://localhost:8080/"
        },
        "id": "aoIEpdO2nUwk",
        "outputId": "add2818c-9b77-49fe-9a07-a3b76b4f6613"
      },
      "source": [
        "myrollsA = np.random.randint(low=1, high=7, size=60)\n",
        "print(myrollsA)\n",
        "myrollsB = np.random.randint(low=1, high=7, size=60)\n",
        "print(myrollsB)"
      ],
      "execution_count": null,
      "outputs": [
        {
          "output_type": "stream",
          "text": [
            "[6 4 3 2 6 1 1 2 1 6 5 6 1 2 6 3 1 6 3 6 3 4 3 6 3 6 2 2 5 4 3 4 2 1 1 1 3\n",
            " 4 3 5 3 4 1 6 6 5 5 2 3 5 2 3 1 1 1 4 1 1 1 2]\n",
            "[5 4 6 4 6 2 4 5 1 5 1 4 3 1 2 1 2 2 4 5 6 5 3 1 5 1 2 1 4 4 2 5 2 4 2 3 1\n",
            " 6 4 6 1 1 1 1 3 4 3 2 5 6 5 1 3 2 3 2 2 6 6 5]\n"
          ],
          "name": "stdout"
        }
      ]
    },
    {
      "cell_type": "markdown",
      "metadata": {
        "id": "TdWCokqUnqCs"
      },
      "source": [
        "**Comparing**<br>\n",
        "How often dice A has a higher value than dice B, how often dice A has a lower value than dice B, and how often the two dice have the same value."
      ]
    },
    {
      "cell_type": "code",
      "metadata": {
        "colab": {
          "base_uri": "https://localhost:8080/"
        },
        "id": "TnGc9oi6nz48",
        "outputId": "daefafe6-4b66-4e9d-f125-481b76326b64"
      },
      "source": [
        "mysum_win  = np.sum(myrollsA > myrollsB)\n",
        "mysum_loss = np.sum(myrollsA < myrollsB)\n",
        "mysum_draw = np.sum(myrollsA == myrollsB)\n",
        "print(mysum_win)\n",
        "print(mysum_loss)\n",
        "print(mysum_draw)"
      ],
      "execution_count": null,
      "outputs": [
        {
          "output_type": "stream",
          "text": [
            "23\n",
            "28\n",
            "9\n"
          ],
          "name": "stdout"
        }
      ]
    },
    {
      "cell_type": "markdown",
      "metadata": {
        "id": "XtTZr1APvPO9"
      },
      "source": [
        "**Grime Dice**<br>\n",
        "[1. Non-transitive dice description](https://www.singingbanana.com/dice/article.htm)<br>\n",
        "[2. Non-transitive dice YouTube illustration with Prof Sir  David Spiegelhalter](https://www.youtube.com/watch?v=zWUrwhaqq_c)<br><br>\n",
        "Grime Dice (invented by James Grime) are regular six-sided dice, but instead of the faces having labels 1,2,3,4,5,6 we’ve given them face labels as follows. The colours of the dice are just to be able to clearly tell them apart from each other.<br><br>\n",
        "The RED dice has its faces labelled [3,3,3,3,3,6]<br>\n",
        "The BLUE dice has its faces labelled [2,2,2,5,5,5]<br>\n",
        "The GREEN dice has its faces labelled [1,4,4,4,4,4]<br><br>\n",
        "For these Grime Dice, there are never any draws because no two dice share a common face label.<br><br>\n",
        "**Compare RED, BLUE and GREEN dice after 60,000 rolls, two at a time.**"
      ]
    },
    {
      "cell_type": "markdown",
      "metadata": {
        "id": "-obrGz5RoA-s"
      },
      "source": [
        "1. RED vs BLUE dice.<br>\n",
        "**Ho** : RED to have most wins."
      ]
    },
    {
      "cell_type": "code",
      "metadata": {
        "colab": {
          "base_uri": "https://localhost:8080/"
        },
        "id": "fPzgTUMssGz-",
        "outputId": "1bc09eed-ced5-489d-f957-d66894f4719e"
      },
      "source": [
        "myrollsRED = np.random.choice([3,3,3,3,3,6], size=60000)\n",
        "myrollsBLUE = np.random.choice([2,2,2,5,5,5], size=60000)\n",
        "mysum_win  = np.sum(myrollsRED > myrollsBLUE)\n",
        "print(mysum_win)"
      ],
      "execution_count": null,
      "outputs": [
        {
          "output_type": "stream",
          "text": [
            "34992\n"
          ],
          "name": "stdout"
        }
      ]
    },
    {
      "cell_type": "markdown",
      "metadata": {
        "id": "3rIRW_SMmjxn"
      },
      "source": [
        "**Observation** : Ho is true (i.e. > 30,000)."
      ]
    },
    {
      "cell_type": "markdown",
      "metadata": {
        "id": "N2LT55oPn3Q8"
      },
      "source": [
        "2. BLUE vs GREEN dice.\n",
        "**Ho** : BLUE to have most wins (a bit trickier to forecast by just looking at the numbers)."
      ]
    },
    {
      "cell_type": "code",
      "metadata": {
        "colab": {
          "base_uri": "https://localhost:8080/"
        },
        "id": "fRRV0RaNsPQz",
        "outputId": "805eb10a-93a8-4fc3-979d-bcd041631236"
      },
      "source": [
        "myrollsBLUE = np.random.choice([2,2,2,5,5,5], size=60000)\n",
        "myrollsGREEN = np.random.choice([1,4,4,4,4,4], size=60000)\n",
        "mysum_win  = np.sum(myrollsBLUE > myrollsGREEN)\n",
        "print(mysum_win)"
      ],
      "execution_count": null,
      "outputs": [
        {
          "output_type": "stream",
          "text": [
            "35125\n"
          ],
          "name": "stdout"
        }
      ]
    },
    {
      "cell_type": "markdown",
      "metadata": {
        "id": "3INbn4wAnHr0"
      },
      "source": [
        "**Observation** : Ho is true (i.e. > 30,000)."
      ]
    },
    {
      "cell_type": "markdown",
      "metadata": {
        "id": "N_97WgsBo2cM"
      },
      "source": [
        "3. RED vs GREEN dice.\n",
        "**Ho** : RED to have most wins (again trickier to forecast by just looking at the numbers)."
      ]
    },
    {
      "cell_type": "code",
      "metadata": {
        "colab": {
          "base_uri": "https://localhost:8080/"
        },
        "id": "Y_z5_TRMuTqd",
        "outputId": "95055cd2-e8e1-4dc2-f9e6-f64d7848c878"
      },
      "source": [
        "myrollsRED = np.random.choice([3,3,3,3,3,6], size=60000)\n",
        "myrollsGREEN = np.random.choice([1,4,4,4,4,4], size=60000)\n",
        "mysum_win  = np.sum(myrollsRED > myrollsGREEN)\n",
        "print(mysum_win)"
      ],
      "execution_count": null,
      "outputs": [
        {
          "output_type": "stream",
          "text": [
            "18327\n"
          ],
          "name": "stdout"
        }
      ]
    },
    {
      "cell_type": "markdown",
      "metadata": {
        "id": "HHe12KZFpGP-"
      },
      "source": [
        "**Observation** :<br> Ho is NOT true (i.e. < 30,000 contrary to expectation from above two observations).<br> Ho is false.<br> Adopt H1."
      ]
    }
  ]
}
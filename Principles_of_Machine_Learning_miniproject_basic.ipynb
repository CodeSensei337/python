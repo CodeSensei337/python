{
 "cells": [
  {
   "cell_type": "markdown",
   "metadata": {
    "id": "lfPD3Ydap6bF"
   },
   "source": [
    "# <center>**Principles of Machine Learning**</center>\n",
    "## <center>**Coursework 2a (basic implementation)**</center>\n",
    "\n",
    "**Table of Contents**\n",
    "\n",
    "Declaration\n",
    "\n",
    "1. Section 1: Author\n",
    "\n",
    "2. Section 2: Problem Formulation\n",
    "\n",
    "3. Section 3: Machine Learning Pipeline\n",
    "  * Section 3.1: Loading the Data\n",
    "  * Section 3.2: Data Preparation\n",
    "\n",
    "4. Section 4: Transformation Stage \n",
    "  * Section 4.1: Feature Extraction\n",
    "\n",
    "5. Section 5: Modelling\n",
    "\n",
    "6. Section 6: Methodology\n",
    "  * Section 6.1: Model Fitting, Training and Validation\n",
    "  * Section 6.2: Testing\n",
    "    * Section 6.2.1: Class 1\n",
    "    * Section 6.2.2: Class 0\n",
    "\n",
    "7. Section 7: Dataset\n",
    "\n",
    "8. Section 8: Results\n",
    "\n",
    "9. Section 9: Conclusions\n",
    " \n",
    "**Declaration:** Some of the code used in this assignment has been adapted and customized from www.docs.python.org/, www.matplotlib.org/stable/, www.pandas.pydata.org/docs, www.stackoverflow.com/questions/, www.geeksforgeeks.org/, www.kite.com/python/, www.codegrepper.com/, www.stats.stackexchange.com/questions/, www.machinelearningmind.com/, www.kaggle.com/, www.scikit-learn.org, www.towardsdatascience.com/, www.github.com/, www.librosa.org/blog/2019/07/17/resample-on-load/#resample-on-load/, and Principles of Machine Learning Lab, Tutorial and Lecture Notes."
   ]
  },
  {
   "cell_type": "markdown",
   "metadata": {
    "id": "nrSiNkegw-qn"
   },
   "source": [
    "### **Section 1: Author**<br> \n",
    "**Student Name**: Kweku Esuon Acquaye<br> \n",
    "\n",
    "### **Section 2: Problem Formulation**<br> \n",
    "This report uses modern data science methods to analyse audio files from the MLEnd Hums and Whistles dataset, and to build a machine learning pipeline that takes as input a Potter or a StarWars audio segment and predicts its song label (either Potter or StarWars). It constitutes Coursework 1a in fulfilment of the requirements of Principles of Machine Learning module.<br> \n",
    "\n",
    "### **Section 3: Machine Learning Pipeline**<br> \n",
    "The following steps constitute the machine learning pipeline built to achieve the purpose of this task:<br> \n",
    "\n",
    "#### **Section 3.1: Loading the Data**<br> \n",
    "The following steps import the necessary dependencies and mounts the drive (i.e. makes drive directly available to Colab) where original audio data files are stored."
   ]
  },
  {
   "cell_type": "code",
   "execution_count": null,
   "metadata": {
    "colab": {
     "base_uri": "https://localhost:8080/"
    },
    "id": "m3Gqdi6KpxVN",
    "outputId": "328458b2-fbdf-48ab-c0ba-023e51db568b"
   },
   "outputs": [
    {
     "name": "stdout",
     "output_type": "stream",
     "text": [
      "Mounted at /content/drive\n"
     ]
    }
   ],
   "source": [
    "# Importing libraries\n",
    "from google.colab import drive\n",
    "\n",
    "import numpy as np\n",
    "import pandas as pd\n",
    "import matplotlib.pyplot as plt\n",
    "\n",
    "import os, sys, re, pickle, glob\n",
    "import urllib.request\n",
    "import zipfile\n",
    "\n",
    "import IPython.display as ipd\n",
    "from tqdm import tqdm\n",
    "import librosa\n",
    "\n",
    "# Mounting Google Drive \n",
    "drive.mount('/content/drive')"
   ]
  },
  {
   "cell_type": "markdown",
   "metadata": {
    "id": "pU-JCzrnHTEp"
   },
   "source": [
    "A function to download files is defined as follows:"
   ]
  },
  {
   "cell_type": "code",
   "execution_count": null,
   "metadata": {
    "colab": {
     "base_uri": "https://localhost:8080/"
    },
    "id": "UjbtvqnNG6BF",
    "outputId": "e0b9e1ea-ba8d-41d1-c3bd-8e37aaafc693"
   },
   "outputs": [
    {
     "name": "stdout",
     "output_type": "stream",
     "text": [
      "Zip download function created.\n"
     ]
    }
   ],
   "source": [
    "# Creating function\n",
    "def download_url(url, save_path):\n",
    "    with urllib.request.urlopen(url) as dl_file:\n",
    "        with open(save_path, 'wb') as out_file:\n",
    "            out_file.write(dl_file.read())\n",
    "\n",
    "print(\"Zip download function created.\")"
   ]
  },
  {
   "cell_type": "markdown",
   "metadata": {
    "id": "EU2zCes-IHZ9"
   },
   "source": [
    "The necessary files are downloaded as follows (variable names are reassigned):"
   ]
  },
  {
   "cell_type": "code",
   "execution_count": null,
   "metadata": {
    "colab": {
     "base_uri": "https://localhost:8080/"
    },
    "id": "k8cse5hNHyot",
    "outputId": "b368b9b8-7e56-40d6-aaa5-01994159d727"
   },
   "outputs": [
    {
     "name": "stdout",
     "output_type": "stream",
     "text": [
      "Potter1 zip file dowloaded.\n"
     ]
    }
   ],
   "source": [
    "# Downloading Potter1 files\n",
    "url  = \"https://collect.qmul.ac.uk/down?t=6PF2H2T4GP4I1LPK/45OGPQAA1S6E5AEAA2RLEU0\"\n",
    "save_path = '/content/drive/MyDrive/Data2/MLEndHW2/potter1_sample.zip'\n",
    "download_url(url, save_path)\n",
    "print(\"Potter1 zip file dowloaded.\")"
   ]
  },
  {
   "cell_type": "code",
   "execution_count": null,
   "metadata": {
    "colab": {
     "base_uri": "https://localhost:8080/"
    },
    "id": "vLKh6xtUIP_O",
    "outputId": "3430ec5d-dff7-4a3d-e9e5-a02159016baa"
   },
   "outputs": [
    {
     "name": "stdout",
     "output_type": "stream",
     "text": [
      "Potter2 zip file dowloaded.\n"
     ]
    }
   ],
   "source": [
    "# Downloading Potter2 files\n",
    "url  = \"https://collect.qmul.ac.uk/down?t=4H6293T0GAQLO4RG/55TMAI1BTPMG7I1A71923EO\"\n",
    "save_path = '/content/drive/MyDrive/Data2/MLEndHW2/potter2_sample.zip'\n",
    "download_url(url, save_path)\n",
    "print(\"Potter2 zip file dowloaded.\")"
   ]
  },
  {
   "cell_type": "code",
   "execution_count": null,
   "metadata": {
    "colab": {
     "base_uri": "https://localhost:8080/"
    },
    "id": "np5cLs3eJA1n",
    "outputId": "56ac49a8-588d-47d1-907d-f7c4277c82ca"
   },
   "outputs": [
    {
     "name": "stdout",
     "output_type": "stream",
     "text": [
      "StarWars1 zip file dowloaded.\n"
     ]
    }
   ],
   "source": [
    "# Downloading StarWars1 files\n",
    "url  = \"https://collect.qmul.ac.uk/down?t=45PGP4DEJH9JLV8U/4H7ITD5VEBGREV4UGNI8SAO\"\n",
    "save_path = '/content/drive/MyDrive/Data2/MLEndHW2/starwars1_sample.zip'\n",
    "download_url(url, save_path)\n",
    "print(\"StarWars1 zip file dowloaded.\")"
   ]
  },
  {
   "cell_type": "code",
   "execution_count": null,
   "metadata": {
    "colab": {
     "base_uri": "https://localhost:8080/"
    },
    "id": "KZGtdNbUJLqd",
    "outputId": "400b7d55-16a9-417b-a368-30c35f9469d3"
   },
   "outputs": [
    {
     "name": "stdout",
     "output_type": "stream",
     "text": [
      "StarWars2 zip file dowloaded.\n"
     ]
    }
   ],
   "source": [
    "# Downloading StarWars2 files\n",
    "url  = \" https://collect.qmul.ac.uk/down?t=652DPSGDVKPDJ7NV/6PF3DFT4AN3AOPS5JJS9KFG\"\n",
    "save_path = '/content/drive/MyDrive/Data2/MLEndHW2/starwars2_sample.zip'\n",
    "download_url(url, save_path)\n",
    "print(\"StarWars2 zip file dowloaded.\")"
   ]
  },
  {
   "cell_type": "markdown",
   "metadata": {
    "id": "uAe_iNQwRqBQ"
   },
   "source": [
    "The following cell to checks for the presence of downloaded files:"
   ]
  },
  {
   "cell_type": "code",
   "execution_count": null,
   "metadata": {
    "colab": {
     "base_uri": "https://localhost:8080/"
    },
    "id": "u_jY2D5MR6dA",
    "outputId": "14e33329-cef0-4b55-fe8b-50b62d5c357a"
   },
   "outputs": [
    {
     "data": {
      "text/plain": [
       "['potter1_sample.zip',\n",
       " 'potter2_sample.zip',\n",
       " 'starwars1_sample.zip',\n",
       " 'starwars2_sample.zip']"
      ]
     },
     "execution_count": 7,
     "metadata": {},
     "output_type": "execute_result"
    }
   ],
   "source": [
    "# Checking success of downloads\n",
    "path = '/content/drive/MyDrive/Data2/MLEndHW2'\n",
    "os.listdir(path)"
   ]
  },
  {
   "cell_type": "markdown",
   "metadata": {
    "id": "hV_QDlD2SwPY"
   },
   "source": [
    "Download successful.<br> \n",
    "The next few steps extracts audio files from the zip files:"
   ]
  },
  {
   "cell_type": "code",
   "execution_count": null,
   "metadata": {
    "colab": {
     "base_uri": "https://localhost:8080/"
    },
    "id": "aeqRd6kWTfTw",
    "outputId": "4f537a9f-68aa-4b6f-a822-bbc10851c6a7"
   },
   "outputs": [
    {
     "name": "stdout",
     "output_type": "stream",
     "text": [
      "There are  206  audio files in Potter1 folder.\n"
     ]
    }
   ],
   "source": [
    "# Extracting Potter1 files\n",
    "directory_to_extract_to = '/content/drive/MyDrive/Data2/MLEndHW2/potter_sample1/'\n",
    "zip_path = '/content/drive/MyDrive/Data2/MLEndHW2/potter1_sample.zip'\n",
    "with zipfile.ZipFile(zip_path, 'r') as zip_ref:\n",
    "    zip_ref.extractall(directory_to_extract_to)\n",
    "\n",
    "# Counting files\n",
    "sample_path = '/content/drive/MyDrive/Data2/MLEndHW2/potter_sample1/*.wav'\n",
    "files1 = glob.glob(sample_path)\n",
    "print(\"There are \", len(files1), \" audio files in Potter1 folder.\")"
   ]
  },
  {
   "cell_type": "code",
   "execution_count": null,
   "metadata": {
    "colab": {
     "base_uri": "https://localhost:8080/"
    },
    "id": "LSd0cGtcX8X7",
    "outputId": "089677a5-e1ba-4d9d-f158-5a0f81376129"
   },
   "outputs": [
    {
     "name": "stdout",
     "output_type": "stream",
     "text": [
      "There are  205  audio files in Potter2 folder.\n"
     ]
    }
   ],
   "source": [
    "# Extracting Potter2 files\n",
    "directory_to_extract_to = '/content/drive/MyDrive/Data2/MLEndHW2/potter_sample2/'\n",
    "zip_path = '/content/drive/MyDrive/Data2/MLEndHW2/potter2_sample.zip'\n",
    "with zipfile.ZipFile(zip_path, 'r') as zip_ref:\n",
    "    zip_ref.extractall(directory_to_extract_to)\n",
    "\n",
    "# Counting files\n",
    "sample_path = '/content/drive/MyDrive/Data2/MLEndHW2/potter_sample2/*.wav'\n",
    "files2 = glob.glob(sample_path)\n",
    "print(\"There are \", len(files2), \" audio files in Potter2 folder.\")"
   ]
  },
  {
   "cell_type": "code",
   "execution_count": null,
   "metadata": {
    "colab": {
     "base_uri": "https://localhost:8080/"
    },
    "id": "TsyekweybYxT",
    "outputId": "269c139f-6347-49f6-ff07-eab36b2388c4"
   },
   "outputs": [
    {
     "name": "stdout",
     "output_type": "stream",
     "text": [
      "There are  208  audio files in StarWars1 folder.\n"
     ]
    }
   ],
   "source": [
    "# Extracting StarWars1 files\n",
    "directory_to_extract_to = '/content/drive/MyDrive/Data2/MLEndHW2/starwars_sample1/'\n",
    "zip_path = '/content/drive/MyDrive/Data2/MLEndHW2/starwars1_sample.zip'\n",
    "with zipfile.ZipFile(zip_path, 'r') as zip_ref:\n",
    "    zip_ref.extractall(directory_to_extract_to)\n",
    "\n",
    "# Counting files\n",
    "sample_path = '/content/drive/MyDrive/Data2/MLEndHW2/starwars_sample1/*.wav'\n",
    "files3 = glob.glob(sample_path)\n",
    "print(\"There are \", len(files3), \" audio files in StarWars1 folder.\")"
   ]
  },
  {
   "cell_type": "code",
   "execution_count": null,
   "metadata": {
    "colab": {
     "base_uri": "https://localhost:8080/"
    },
    "id": "_bBcSW1TcHpa",
    "outputId": "ce95fdeb-2967-429e-eb3b-c6abf8718366"
   },
   "outputs": [
    {
     "name": "stdout",
     "output_type": "stream",
     "text": [
      "There are  205  audio files in StarWars2 folder.\n"
     ]
    }
   ],
   "source": [
    "# Extracting StarWars2 files\n",
    "directory_to_extract_to = '/content/drive/MyDrive/Data2/MLEndHW2/starwars_sample2/'\n",
    "zip_path = '/content/drive/MyDrive/Data2/MLEndHW2/starwars2_sample.zip'\n",
    "with zipfile.ZipFile(zip_path, 'r') as zip_ref:\n",
    "    zip_ref.extractall(directory_to_extract_to)\n",
    "\n",
    "# Counting files\n",
    "sample_path = '/content/drive/MyDrive/Data2/MLEndHW2/starwars_sample2/*.wav'\n",
    "files4 = glob.glob(sample_path)\n",
    "print(\"There are \", len(files4), \" audio files in StarWars2 folder.\")"
   ]
  },
  {
   "cell_type": "markdown",
   "metadata": {
    "id": "Z8vkAUMcKmTu"
   },
   "source": [
    "#### **Section 3.2: Data Preparation**<br> \n",
    "\n",
    "The downloaded zip files are deleted from drive after extraction to conserve storage space.<br> \n",
    "\n",
    "Due to the disparate acoustic properties of hums and whistles, it is decided to use hums only to obtain better model accuracy in this task. It is also decided to use sample 1 audio files (i.e. Potter1 and StarWars1) as training and validation data, with sample 2 (i.e. Potter2 and StarWars2) as test data.<br> \n",
    "\n",
    "The extracted files from each sample 1 folder are thus manually separated into a combined Potter and StarWars hum folder labelled \"potter_and_starwars1\" and a combined Potter and StarWars whistle folder which is not used in this task. File names in the combined hum folder are manually cleaned to obtain uniform/identical filename conventions for further analysis.<br> \n",
    "\n",
    "65 Potter hum files and 65 StarWars hum files are transferred from the sample 2 folder to the sample 1 folder \"potter_and_starwars1\" to increase the number of training and validation samples, leaving 69 StaWars and 70 Potter files in their respective folders for testing."
   ]
  },
  {
   "cell_type": "code",
   "execution_count": null,
   "metadata": {
    "colab": {
     "base_uri": "https://localhost:8080/"
    },
    "id": "qerCt3athQM0",
    "outputId": "ffc3b0e5-fd49-421c-8580-39c779b569a8"
   },
   "outputs": [
    {
     "data": {
      "text/plain": [
       "['potter_sample2',\n",
       " 'starwars_sample1',\n",
       " 'starwars_sample2',\n",
       " 'starwars_whistle_sample1',\n",
       " 'starwars_hum_sample1',\n",
       " 'potter_sample1',\n",
       " 'potter_whistle_sample1',\n",
       " 'potter_and_starwars1']"
      ]
     },
     "execution_count": 14,
     "metadata": {},
     "output_type": "execute_result"
    }
   ],
   "source": [
    "# Checking folders\n",
    "path = '/content/drive/MyDrive/Data2/MLEndHW2'\n",
    "os.listdir(path)"
   ]
  },
  {
   "cell_type": "markdown",
   "metadata": {
    "id": "KCd01tRajAZV"
   },
   "source": [
    "The following step loads and counts the training and validation data:"
   ]
  },
  {
   "cell_type": "code",
   "execution_count": null,
   "metadata": {
    "colab": {
     "base_uri": "https://localhost:8080/"
    },
    "id": "BlMUTFQIja7Y",
    "outputId": "8de126e4-74fe-43e8-ad19-11f379f3d148"
   },
   "outputs": [
    {
     "data": {
      "text/plain": [
       "345"
      ]
     },
     "execution_count": 3,
     "metadata": {},
     "output_type": "execute_result"
    }
   ],
   "source": [
    "# Loading training and validation data\n",
    "sample_path = '/content/drive/MyDrive/Data2/MLEndHW2/potter_and_starwars1/*.wav'\n",
    "files = glob.glob(sample_path)\n",
    "len(files)"
   ]
  },
  {
   "cell_type": "markdown",
   "metadata": {
    "id": "CuJfE1LqoaTf"
   },
   "source": [
    "The next step uses Python lists to create a table-like array with information extracted from the file names above, prior to creating a pandas dataframe:"
   ]
  },
  {
   "cell_type": "code",
   "execution_count": null,
   "metadata": {
    "colab": {
     "base_uri": "https://localhost:8080/"
    },
    "id": "nsTI04TeannU",
    "outputId": "6b64aa45-844c-4fe6-8f22-a2cbbbdba48e"
   },
   "outputs": [
    {
     "data": {
      "text/plain": [
       "[['S39_hum_2_StarWars.wav', 'S39', 'hum', '2', 'StarWars'],\n",
       " ['S43_hum_2_StarWars.wav', 'S43', 'hum', '2', 'StarWars'],\n",
       " ['S44_hum_2_StarWars.wav', 'S44', 'hum', '2', 'StarWars'],\n",
       " ['S45_hum_2_StarWars.wav', 'S45', 'hum', '2', 'StarWars'],\n",
       " ['S50_hum_2_StarWars.wav', 'S50', 'hum', '2', 'StarWars'],\n",
       " ['S52_hum_2_StarWars.wav', 'S52', 'hum', '2', 'StarWars'],\n",
       " ['S54_hum_2_StarWars.wav', 'S54', 'hum', '2', 'StarWars'],\n",
       " ['S56_hum_2_StarWars.wav', 'S56', 'hum', '2', 'StarWars'],\n",
       " ['S57_hum_2_StarWars.wav', 'S57', 'hum', '2', 'StarWars'],\n",
       " ['S64_hum_2_StarWars.wav', 'S64', 'hum', '2', 'StarWars'],\n",
       " ['S66_hum_2_StarWars.wav', 'S66', 'hum', '2', 'StarWars'],\n",
       " ['S67_hum_2_StarWars.wav', 'S67', 'hum', '2', 'StarWars'],\n",
       " ['S68_hum_2_StarWars.wav', 'S68', 'hum', '2', 'StarWars'],\n",
       " ['S72_hum_2_StarWars.wav', 'S72', 'hum', '2', 'StarWars'],\n",
       " ['S75_hum_2_StarWars.wav', 'S75', 'hum', '2', 'StarWars'],\n",
       " ['S76_hum_2_StarWars.wav', 'S76', 'hum', '2', 'StarWars'],\n",
       " ['S77_hum_2_StarWars.wav', 'S77', 'hum', '2', 'StarWars'],\n",
       " ['S78_hum_2_StarWars.wav', 'S78', 'hum', '2', 'StarWars'],\n",
       " ['S80_hum_2_StarWars.wav', 'S80', 'hum', '2', 'StarWars'],\n",
       " ['S87_hum_2_StarWars.wav', 'S87', 'hum', '2', 'StarWars'],\n",
       " ['S89_hum_2_StarWars.wav', 'S89', 'hum', '2', 'StarWars'],\n",
       " ['S90_hum_2_StarWars.wav', 'S90', 'hum', '2', 'StarWars'],\n",
       " ['S93_hum_2_StarWars.wav', 'S93', 'hum', '2', 'StarWars'],\n",
       " ['S94_hum_2_StarWars.wav', 'S94', 'hum', '2', 'StarWars'],\n",
       " ['S103_hum_2_StarWars.wav', 'S103', 'hum', '2', 'StarWars'],\n",
       " ['S108_hum_2_StarWars.wav', 'S108', 'hum', '2', 'StarWars'],\n",
       " ['S115_hum_2_StarWars.wav', 'S115', 'hum', '2', 'StarWars'],\n",
       " ['S35_hum_2_StarWars.wav', 'S35', 'hum', '2', 'StarWars'],\n",
       " ['S36_hum_1_StarWars.wav', 'S36', 'hum', '1', 'StarWars'],\n",
       " ['S36_hum_2_StarWars.wav', 'S36', 'hum', '2', 'StarWars'],\n",
       " ['S37_hum_1_StarWars.wav', 'S37', 'hum', '1', 'StarWars'],\n",
       " ['S37_hum_2_StarWars.wav', 'S37', 'hum', '2', 'StarWars'],\n",
       " ['S38_hum_1_StarWars.wav', 'S38', 'hum', '1', 'StarWars'],\n",
       " ['S38_hum_2_StarWars.wav', 'S38', 'hum', '2', 'StarWars'],\n",
       " ['S40_hum_2_StarWars.wav', 'S40', 'hum', '2', 'StarWars'],\n",
       " ['S41_hum_1_StarWars.wav', 'S41', 'hum', '1', 'StarWars'],\n",
       " ['S41_hum_2_StarWars.wav', 'S41', 'hum', '2', 'StarWars'],\n",
       " ['S42_hum_2_StarWars.wav', 'S42', 'hum', '2', 'StarWars'],\n",
       " ['S46_hum_1_StarWars.wav', 'S46', 'hum', '1', 'StarWars'],\n",
       " ['S46_hum_2_StarWars.wav', 'S46', 'hum', '2', 'StarWars'],\n",
       " ['S47_hum_1_StarWars.wav', 'S47', 'hum', '1', 'StarWars'],\n",
       " ['S47_hum_2_StarWars.wav', 'S47', 'hum', '2', 'StarWars'],\n",
       " ['S48_hum_2_StarWars.wav', 'S48', 'hum', '2', 'StarWars'],\n",
       " ['S49_hum_2_StarWars.wav', 'S49', 'hum', '2', 'StarWars'],\n",
       " ['S49_hum_1_StarWars.wav', 'S49', 'hum', '1', 'StarWars'],\n",
       " ['S51_hum_1_StarWars.wav', 'S51', 'hum', '1', 'StarWars'],\n",
       " ['S51_hum_2_StarWars.wav', 'S51', 'hum', '2', 'StarWars'],\n",
       " ['S53_hum_1_StarWars.wav', 'S53', 'hum', '1', 'StarWars'],\n",
       " ['S53_hum_2_StarWars.wav', 'S53', 'hum', '2', 'StarWars'],\n",
       " ['S55_hum_1_StarWars.wav', 'S55', 'hum', '1', 'StarWars'],\n",
       " ['S58_hum_1_StarWars.wav', 'S58', 'hum', '1', 'StarWars'],\n",
       " ['S58_hum_2_StarWars.wav', 'S58', 'hum', '2', 'StarWars'],\n",
       " ['S59_hum_1_StarWars.wav', 'S59', 'hum', '1', 'StarWars'],\n",
       " ['S59_hum_2_StarWars.wav', 'S59', 'hum', '2', 'StarWars'],\n",
       " ['S60_hum_1_StarWars.wav', 'S60', 'hum', '1', 'StarWars'],\n",
       " ['S60_hum_2_StarWars.wav', 'S60', 'hum', '2', 'StarWars'],\n",
       " ['S61_hum_1_StarWars.wav', 'S61', 'hum', '1', 'StarWars'],\n",
       " ['S61_hum_2_StatWars.wav', 'S61', 'hum', '2', 'StatWars'],\n",
       " ['S62_hum_1_StarWars.wav', 'S62', 'hum', '1', 'StarWars'],\n",
       " ['S62_hum_2_StarWars.wav', 'S62', 'hum', '2', 'StarWars'],\n",
       " ['S63_hum_1_StarWars.wav', 'S63', 'hum', '1', 'StarWars'],\n",
       " ['S63_hum_2_StarWars.wav', 'S63', 'hum', '2', 'StarWars'],\n",
       " ['S65_hum_1_StarWars.wav', 'S65', 'hum', '1', 'StarWars'],\n",
       " ['S65_hum_2_StarWars.wav', 'S65', 'hum', '2', 'StarWars'],\n",
       " ['S69_hum_1_StarWars.wav', 'S69', 'hum', '1', 'StarWars'],\n",
       " ['S69_hum_2_StarWars.wav', 'S69', 'hum', '2', 'StarWars'],\n",
       " ['S70_hum_1_StarWars.wav', 'S70', 'hum', '1', 'StarWars'],\n",
       " ['S70_hum_2_StarWars.wav', 'S70', 'hum', '2', 'StarWars'],\n",
       " ['S71_hum_1_StarWars.wav', 'S71', 'hum', '1', 'StarWars'],\n",
       " ['S71_hum_2_StarWars.wav', 'S71', 'hum', '2', 'StarWars'],\n",
       " ['S73_hum_1_StarWars.wav', 'S73', 'hum', '1', 'StarWars'],\n",
       " ['S73_hum_2_StarWars.wav', 'S73', 'hum', '2', 'StarWars'],\n",
       " ['S74_hum_1_StarWars.wav', 'S74', 'hum', '1', 'StarWars'],\n",
       " ['S74_hum_2_StarWars.wav', 'S74', 'hum', '2', 'StarWars'],\n",
       " ['S79_hum_1_StarWars.wav', 'S79', 'hum', '1', 'StarWars'],\n",
       " ['S79_hum_2_StarWars.wav', 'S79', 'hum', '2', 'StarWars'],\n",
       " ['S82_hum_2_StarWars.wav', 'S82', 'hum', '2', 'StarWars'],\n",
       " ['S82_hum_1_StarWars.wav', 'S82', 'hum', '1', 'StarWars'],\n",
       " ['S84_hum_1_StarWars.wav', 'S84', 'hum', '1', 'StarWars'],\n",
       " ['S84_hum_2_StarWars.wav', 'S84', 'hum', '2', 'StarWars'],\n",
       " ['S85_hum_1_StarsWars.wav', 'S85', 'hum', '1', 'StarsWars'],\n",
       " ['S85_hum_2_StarsWars.wav', 'S85', 'hum', '2', 'StarsWars'],\n",
       " ['S86_hum_1_StarWars.wav', 'S86', 'hum', '1', 'StarWars'],\n",
       " ['S86_hum_2_StarWars.wav', 'S86', 'hum', '2', 'StarWars'],\n",
       " ['S88_hum_1_StarWars.wav', 'S88', 'hum', '1', 'StarWars'],\n",
       " ['S88_hum_2_StarWars.wav', 'S88', 'hum', '2', 'StarWars'],\n",
       " ['S91_hum_2_StarWars.wav', 'S91', 'hum', '2', 'StarWars'],\n",
       " ['S92_hum_2_StarWars.wav', 'S92', 'hum', '2', 'StarWars'],\n",
       " ['S92_hum_1_StarWars.wav', 'S92', 'hum', '1', 'StarWars'],\n",
       " ['S95_hum_1_StarWars.wav', 'S95', 'hum', '1', 'StarWars'],\n",
       " ['S96_hum_1_StarWars.wav', 'S96', 'hum', '1', 'StarWars'],\n",
       " ['S96_hum_2_StarWars.wav', 'S96', 'hum', '2', 'StarWars'],\n",
       " ['S97_hum_1_StarWars.wav', 'S97', 'hum', '1', 'StarWars'],\n",
       " ['S97_hum_2_StarWars.wav', 'S97', 'hum', '2', 'StarWars'],\n",
       " ['S99_hum_1_StarWars.wav', 'S99', 'hum', '1', 'StarWars'],\n",
       " ['S99_hum_2_StarWars.wav', 'S99', 'hum', '2', 'StarWars'],\n",
       " ['S100_hum_1_StarWars.wav', 'S100', 'hum', '1', 'StarWars'],\n",
       " ['S100_hum_2_StarWars.wav', 'S100', 'hum', '2', 'StarWars'],\n",
       " ['S101_hum_1_StarWars.wav', 'S101', 'hum', '1', 'StarWars'],\n",
       " ['S101_hum_2_StarWars.wav', 'S101', 'hum', '2', 'StarWars'],\n",
       " ['S104_hum_1_StarWars.wav', 'S104', 'hum', '1', 'StarWars'],\n",
       " ['S104_hum_2_StarWars.wav', 'S104', 'hum', '2', 'StarWars'],\n",
       " ['S106_hum_2_StarWars.wav', 'S106', 'hum', '2', 'StarWars'],\n",
       " ['S107_hum_2_StarWars.wav', 'S107', 'hum', '2', 'StarWars'],\n",
       " ['S109_hum_1_StarWars.wav', 'S109', 'hum', '1', 'StarWars'],\n",
       " ['S109_hum_2_StarWars.wav', 'S109', 'hum', '2', 'StarWars'],\n",
       " ['S110_hum_1_StarWars.wav', 'S110', 'hum', '1', 'StarWars'],\n",
       " ['S110_hum_2_StarWars.wav', 'S110', 'hum', '2', 'StarWars'],\n",
       " ['S111_hum_1_StarWars.wav', 'S111', 'hum', '1', 'StarWars'],\n",
       " ['S111_hum_2_StarWars.wav', 'S111', 'hum', '2', 'StarWars'],\n",
       " ['S114_hum_1_StarWars.wav', 'S114', 'hum', '1', 'StarWars'],\n",
       " ['S114_hum_2_StarWars.wav', 'S114', 'hum', '2', 'StarWars'],\n",
       " ['S42_hum_1_StarWars.wav', 'S42', 'hum', '1', 'StarWars'],\n",
       " ['S36_hum_1_Potter.wav', 'S36', 'hum', '1', 'Potter'],\n",
       " ['S36_hum_2_Potter.wav', 'S36', 'hum', '2', 'Potter'],\n",
       " ['S39_hum_2_Potter.wav', 'S39', 'hum', '2', 'Potter'],\n",
       " ['S41_hum_1_Potter.wav', 'S41', 'hum', '1', 'Potter'],\n",
       " ['S41_hum_2_Potter.wav', 'S41', 'hum', '2', 'Potter'],\n",
       " ['S43_hum_2_Potter.wav', 'S43', 'hum', '2', 'Potter'],\n",
       " ['S44_hum_2_Potter.wav', 'S44', 'hum', '2', 'Potter'],\n",
       " ['S45_hum_2_Potter.wav', 'S45', 'hum', '2', 'Potter'],\n",
       " ['S46_hum_1_Potter.wav', 'S46', 'hum', '1', 'Potter'],\n",
       " ['S46_hum_2_Potter.wav', 'S46', 'hum', '2', 'Potter'],\n",
       " ['S47_hum_2_potter.wav', 'S47', 'hum', '2', 'potter'],\n",
       " ['S50_hum_2_Potter.wav', 'S50', 'hum', '2', 'Potter'],\n",
       " ['S51_hum_1_Potter.wav', 'S51', 'hum', '1', 'Potter'],\n",
       " ['S51_hum_2_Potter.wav', 'S51', 'hum', '2', 'Potter'],\n",
       " ['S52_hum_2_Potter.wav', 'S52', 'hum', '2', 'Potter'],\n",
       " ['S53_hum_1_Potter.wav', 'S53', 'hum', '1', 'Potter'],\n",
       " ['S53_hum_2_Potter.wav', 'S53', 'hum', '2', 'Potter'],\n",
       " ['S54_hum_2_Potter.wav', 'S54', 'hum', '2', 'Potter'],\n",
       " ['S56_hum_2_Potter.wav', 'S56', 'hum', '2', 'Potter'],\n",
       " ['S57_hum_2_Potter.wav', 'S57', 'hum', '2', 'Potter'],\n",
       " ['S58_hum_1_Potter.wav', 'S58', 'hum', '1', 'Potter'],\n",
       " ['S58_hum_2_Potter.wav', 'S58', 'hum', '2', 'Potter'],\n",
       " ['S59_hum_1_Potter.wav', 'S59', 'hum', '1', 'Potter'],\n",
       " ['S59_hum_2_Potter.wav', 'S59', 'hum', '2', 'Potter'],\n",
       " ['S62_hum_1_Potter.wav', 'S62', 'hum', '1', 'Potter'],\n",
       " ['S62_hum_2_Potter.wav', 'S62', 'hum', '2', 'Potter'],\n",
       " ['S64_hum_2_Potter.wav', 'S64', 'hum', '2', 'Potter'],\n",
       " ['S65_hum_1_Potter.wav', 'S65', 'hum', '1', 'Potter'],\n",
       " ['S65_hum_2_Potter.wav', 'S65', 'hum', '2', 'Potter'],\n",
       " ['S66_hum_2_Potter.wav', 'S66', 'hum', '2', 'Potter'],\n",
       " ['S67_hum_2_Potter.wav', 'S67', 'hum', '2', 'Potter'],\n",
       " ['S68_hum_2_Potter.wav', 'S68', 'hum', '2', 'Potter'],\n",
       " ['S69_hum_1_Potter.wav', 'S69', 'hum', '1', 'Potter'],\n",
       " ['S69_hum_2_Potter.wav', 'S69', 'hum', '2', 'Potter'],\n",
       " ['S70_hum_1_Potter.wav', 'S70', 'hum', '1', 'Potter'],\n",
       " ['S70_hum_2_Potter.wav', 'S70', 'hum', '2', 'Potter'],\n",
       " ['S71_hum_1_Potter.wav', 'S71', 'hum', '1', 'Potter'],\n",
       " ['S71_hum_2_Potter.wav', 'S71', 'hum', '2', 'Potter'],\n",
       " ['S72_hum_2_Potter.wav', 'S72', 'hum', '2', 'Potter'],\n",
       " ['S73_hum_1_Potter.wav', 'S73', 'hum', '1', 'Potter'],\n",
       " ['S73_hum_2_Potter.wav', 'S73', 'hum', '2', 'Potter'],\n",
       " ['S74_hum_1_Potter.wav', 'S74', 'hum', '1', 'Potter'],\n",
       " ['S74_hum_2_Potter.wav', 'S74', 'hum', '2', 'Potter'],\n",
       " ['S75_hum_2_Potter.wav', 'S75', 'hum', '2', 'Potter'],\n",
       " ['S76_hum_2_Potter.wav', 'S76', 'hum', '2', 'Potter'],\n",
       " ['S77_hum_2_Potter.wav', 'S77', 'hum', '2', 'Potter'],\n",
       " ['S78_hum_2_Potter.wav', 'S78', 'hum', '2', 'Potter'],\n",
       " ['S80_hum_2_Potter.wav', 'S80', 'hum', '2', 'Potter'],\n",
       " ['S84_hum_1_Potter.wav', 'S84', 'hum', '1', 'Potter'],\n",
       " ['S84_hum_2_Potter.wav', 'S84', 'hum', '2', 'Potter'],\n",
       " ['S85_hum_1_Potter.wav', 'S85', 'hum', '1', 'Potter'],\n",
       " ['S85_hum_2_Potter.wav', 'S85', 'hum', '2', 'Potter'],\n",
       " ['S86_hum_1_Potter.wav', 'S86', 'hum', '1', 'Potter'],\n",
       " ['S86_hum_2_Potter.wav', 'S86', 'hum', '2', 'Potter'],\n",
       " ['S87_hum_2_Potter.wav', 'S87', 'hum', '2', 'Potter'],\n",
       " ['S89_hum_2_Potter.wav', 'S89', 'hum', '2', 'Potter'],\n",
       " ['S90_hum_2_Potter.wav', 'S90', 'hum', '2', 'Potter'],\n",
       " ['S91_hum_2_Potter.wav', 'S91', 'hum', '2', 'Potter'],\n",
       " ['S93_hum_2_Potter.wav', 'S93', 'hum', '2', 'Potter'],\n",
       " ['S94_hum_1_Potter.wav', 'S94', 'hum', '1', 'Potter'],\n",
       " ['S94_hum_2_Potter.wav', 'S94', 'hum', '2', 'Potter'],\n",
       " ['S97_hum_1_Potter.wav', 'S97', 'hum', '1', 'Potter'],\n",
       " ['S97_hum_2_Potter.wav', 'S97', 'hum', '2', 'Potter'],\n",
       " ['S100_hum_1_Potter.wav', 'S100', 'hum', '1', 'Potter'],\n",
       " ['S100_hum_2_Potter.wav', 'S100', 'hum', '2', 'Potter'],\n",
       " ['S101_hum_1_Potter.wav', 'S101', 'hum', '1', 'Potter'],\n",
       " ['S101_hum_2_Potter.wav', 'S101', 'hum', '2', 'Potter'],\n",
       " ['S102_hum_2_Potter.wav', 'S102', 'hum', '2', 'Potter'],\n",
       " ['S103_hum_2_Potter.wav', 'S103', 'hum', '2', 'Potter'],\n",
       " ['S107_hum_2_Potter.wav', 'S107', 'hum', '2', 'Potter'],\n",
       " ['S108_hum_2_Potter.wav', 'S108', 'hum', '2', 'Potter'],\n",
       " ['S110_hum_1_Potter.wav', 'S110', 'hum', '1', 'Potter'],\n",
       " ['S110_hum_2_Potter.wav', 'S110', 'hum', '2', 'Potter'],\n",
       " ['S111_hum_1_Potter.wav', 'S111', 'hum', '1', 'Potter'],\n",
       " ['S111_hum_2_Potter.wav', 'S111', 'hum', '2', 'Potter'],\n",
       " ['S115_hum_2_Potter.wav', 'S115', 'hum', '2', 'Potter'],\n",
       " ['S35_hum_4_Potter.wav', 'S35', 'hum', '4', 'Potter'],\n",
       " ['S37_hum_1_Potter.wav', 'S37', 'hum', '1', 'Potter'],\n",
       " ['S40_hum_2_Potter.wav', 'S40', 'hum', '2', 'Potter'],\n",
       " ['S42_hum_1_Potter.wav', 'S42', 'hum', '1', 'Potter'],\n",
       " ['S42_hum_2_Potter.wav', 'S42', 'hum', '2', 'Potter'],\n",
       " ['S47_hum_1_Potter.wav', 'S47', 'hum', '1', 'Potter'],\n",
       " ['S48_hum_2_Potter.wav', 'S48', 'hum', '2', 'Potter'],\n",
       " ['S49_hum_1_potter.wav', 'S49', 'hum', '1', 'potter'],\n",
       " ['S49_hum_2_Potter.wav', 'S49', 'hum', '2', 'Potter'],\n",
       " ['S55_hum_2_Potter.wav', 'S55', 'hum', '2', 'Potter'],\n",
       " ['S60_hum_1_Potter.wav', 'S60', 'hum', '1', 'Potter'],\n",
       " ['S61_hum_1_Potter.wav', 'S61', 'hum', '1', 'Potter'],\n",
       " ['S63_hum_1_Potter.wav', 'S63', 'hum', '1', 'Potter'],\n",
       " ['S63_hum_2_Potter.wav', 'S63', 'hum', '2', 'Potter'],\n",
       " ['S79_hum_1_Potter.wav', 'S79', 'hum', '1', 'Potter'],\n",
       " ['S79_hum_2_Potter.wav', 'S79', 'hum', '2', 'Potter'],\n",
       " ['S82_hum_1_Potter.wav', 'S82', 'hum', '1', 'Potter'],\n",
       " ['S82_hum_2_Potter.wav', 'S82', 'hum', '2', 'Potter'],\n",
       " ['S88_hum_1_Potter.wav', 'S88', 'hum', '1', 'Potter'],\n",
       " ['S92_hum_2_Potter.wav', 'S92', 'hum', '2', 'Potter'],\n",
       " ['S96_hum_1_Potter.wav', 'S96', 'hum', '1', 'Potter'],\n",
       " ['S99_hum_1_Potter.wav', 'S99', 'hum', '1', 'Potter'],\n",
       " ['S104_hum_1_Potter.wav', 'S104', 'hum', '1', 'Potter'],\n",
       " ['S104_hum_2_Potter.wav', 'S104', 'hum', '2', 'Potter'],\n",
       " ['S105_hum_1_Potter.wav', 'S105', 'hum', '1', 'Potter'],\n",
       " ['S106_hum_1_Potter.wav', 'S106', 'hum', '1', 'Potter'],\n",
       " ['S106_hum_2_Potter.wav', 'S106', 'hum', '2', 'Potter'],\n",
       " ['S114_hum_1_Potter.wav', 'S114', 'hum', '1', 'Potter'],\n",
       " ['S114_hum_2_Potter.wav', 'S114', 'hum', '2', 'Potter'],\n",
       " ['S109_hum_1_Potter.wav', 'S109', 'hum', '1', 'Potter'],\n",
       " ['S38_hum_2_Potter.wav', 'S38', 'hum', '2', 'Potter'],\n",
       " ['S95_hum_2_Potter.wav', 'S95', 'hum', '2', 'Potter'],\n",
       " ['S116_hum_1_Potter.wav', 'S116', 'hum', '1', 'Potter'],\n",
       " ['S116_hum_2_Potter.wav', 'S116', 'hum', '2', 'Potter'],\n",
       " ['S117_hum_2_Potter.wav', 'S117', 'hum', '2', 'Potter'],\n",
       " ['S118_hum_1_Potter.wav', 'S118', 'hum', '1', 'Potter'],\n",
       " ['S118_hum_2_Potter.wav', 'S118', 'hum', '2', 'Potter'],\n",
       " ['S119_hum_1_Potter.wav', 'S119', 'hum', '1', 'Potter'],\n",
       " ['S119_hum_2_Potter.wav', 'S119', 'hum', '2', 'Potter'],\n",
       " ['S120_hum_2_Potter.wav', 'S120', 'hum', '2', 'Potter'],\n",
       " ['S121_hum_1_Potter.wav', 'S121', 'hum', '1', 'Potter'],\n",
       " ['S121_hum_2_Potter.wav', 'S121', 'hum', '2', 'Potter'],\n",
       " ['S122_hum_2_Potter.wav', 'S122', 'hum', '2', 'Potter'],\n",
       " ['S125_hum_2_Potter.wav', 'S125', 'hum', '2', 'Potter'],\n",
       " ['S126_hum_2_Potter.wav', 'S126', 'hum', '2', 'Potter'],\n",
       " ['S127_hum_1_Potter.wav', 'S127', 'hum', '1', 'Potter'],\n",
       " ['S127_hum_2_Potter.wav', 'S127', 'hum', '2', 'Potter'],\n",
       " ['S128_hum_1_Potter.wav', 'S128', 'hum', '1', 'Potter'],\n",
       " ['S128_hum_2_Potter.wav', 'S128', 'hum', '2', 'Potter'],\n",
       " ['S129_hum_2_Potter.wav', 'S129', 'hum', '2', 'Potter'],\n",
       " ['S132_hum_2_Potter.wav', 'S132', 'hum', '2', 'Potter'],\n",
       " ['S133_hum_2_Potter.wav', 'S133', 'hum', '2', 'Potter'],\n",
       " ['S135_hum_2_Potter.wav', 'S135', 'hum', '2', 'Potter'],\n",
       " ['S136_hum_1_Potter.wav', 'S136', 'hum', '1', 'Potter'],\n",
       " ['S136_hum_2_Potter.wav', 'S136', 'hum', '2', 'Potter'],\n",
       " ['S137_hum_1_Potter.wav', 'S137', 'hum', '1', 'Potter'],\n",
       " ['S137_hum_2_Potter.wav', 'S137', 'hum', '2', 'Potter'],\n",
       " ['S140_hum_2_Potter.wav', 'S140', 'hum', '2', 'Potter'],\n",
       " ['S141_hum_2_Potter.wav', 'S141', 'hum', '2', 'Potter'],\n",
       " ['S142_hum_2_Potter.wav', 'S142', 'hum', '2', 'Potter'],\n",
       " ['S143_hum_2_Potter.wav', 'S143', 'hum', '2', 'Potter'],\n",
       " ['S144_hum_2_Potter.wav', 'S144', 'hum', '2', 'Potter'],\n",
       " ['S148_hum_1_Potter.wav', 'S148', 'hum', '1', 'Potter'],\n",
       " ['S148_hum_2_Potter.wav', 'S148', 'hum', '2', 'Potter'],\n",
       " ['S149_hum_1_Potter.wav', 'S149', 'hum', '1', 'Potter'],\n",
       " ['S149_hum_2_Potter.wav', 'S149', 'hum', '2', 'Potter'],\n",
       " ['S150_hum_2_Potter.wav', 'S150', 'hum', '2', 'Potter'],\n",
       " ['S151_hum_2_Potter.wav', 'S151', 'hum', '2', 'Potter'],\n",
       " ['S152_hum_1_Potter.wav', 'S152', 'hum', '1', 'Potter'],\n",
       " ['S152_hum_2_Potter.wav', 'S152', 'hum', '2', 'Potter'],\n",
       " ['S153_hum_2_Potter.wav', 'S153', 'hum', '2', 'Potter'],\n",
       " ['S154_hum_2_Potter.wav', 'S154', 'hum', '2', 'Potter'],\n",
       " ['S155_hum_1_Potter.wav', 'S155', 'hum', '1', 'Potter'],\n",
       " ['S212_hum_1_Potter.wav', 'S212', 'hum', '1', 'Potter'],\n",
       " ['S212_hum_2_Potter.wav', 'S212', 'hum', '2', 'Potter'],\n",
       " ['S213_hum_2_Potter.wav', 'S213', 'hum', '2', 'Potter'],\n",
       " ['S214_hum_2_Potter.wav', 'S214', 'hum', '2', 'Potter'],\n",
       " ['S215_hum_2_Potter.wav', 'S215', 'hum', '2', 'Potter'],\n",
       " ['S216_hum_1_Potter.wav', 'S216', 'hum', '1', 'Potter'],\n",
       " ['S216_hum_2_Potter.wav', 'S216', 'hum', '2', 'Potter'],\n",
       " ['S217_hum_2_Potter.wav', 'S217', 'hum', '2', 'Potter'],\n",
       " ['S218_hum_2_Potter.wav', 'S218', 'hum', '2', 'Potter'],\n",
       " ['S219_hum_1_Potter.wav', 'S219', 'hum', '1', 'Potter'],\n",
       " ['S219_hum_2_Potter.wav', 'S219', 'hum', '2', 'Potter'],\n",
       " ['S221_hum_2_Potter.wav', 'S221', 'hum', '2', 'Potter'],\n",
       " ['S222_hum_2_Potter.wav', 'S222', 'hum', '2', 'Potter'],\n",
       " ['S117_hum_2_StarWars.wav', 'S117', 'hum', '2', 'StarWars'],\n",
       " ['S120_hum_2_StarWars.wav', 'S120', 'hum', '2', 'StarWars'],\n",
       " ['S122_hum_2_StarWars.wav', 'S122', 'hum', '2', 'StarWars'],\n",
       " ['S123_hum_2_Starwars.wav', 'S123', 'hum', '2', 'Starwars'],\n",
       " ['S125_hum_2_StarWars.wav', 'S125', 'hum', '2', 'StarWars'],\n",
       " ['S126_hum_2_StarWars.wav', 'S126', 'hum', '2', 'StarWars'],\n",
       " ['S129_hum_2_StarWars.wav', 'S129', 'hum', '2', 'StarWars'],\n",
       " ['S131_hum_2_StarWars.wav', 'S131', 'hum', '2', 'StarWars'],\n",
       " ['S132_hum_2_StarWars.wav', 'S132', 'hum', '2', 'StarWars'],\n",
       " ['S133_hum_2_StarWars.wav', 'S133', 'hum', '2', 'StarWars'],\n",
       " ['S135_hum_2_StarWars.wav', 'S135', 'hum', '2', 'StarWars'],\n",
       " ['S140_hum_2_StarWars.wav', 'S140', 'hum', '2', 'StarWars'],\n",
       " ['S142_hum_2_StarWars.wav', 'S142', 'hum', '2', 'StarWars'],\n",
       " ['S143_hum_2_StarWars.wav', 'S143', 'hum', '2', 'StarWars'],\n",
       " ['S144_hum_2_StarWars.wav', 'S144', 'hum', '2', 'StarWars'],\n",
       " ['S151_hum_2_StarWars.wav', 'S151', 'hum', '2', 'StarWars'],\n",
       " ['S153_hum_2_StarWars.wav', 'S153', 'hum', '2', 'StarWars'],\n",
       " ['S154_hum_2_StarWars.wav', 'S154', 'hum', '2', 'StarWars'],\n",
       " ['S156_hum_2_StarWars.wav', 'S156', 'hum', '2', 'StarWars'],\n",
       " ['S158_hum_2_StarWars.wav', 'S158', 'hum', '2', 'StarWars'],\n",
       " ['S159_hum_2_StarWars.wav', 'S159', 'hum', '2', 'StarWars'],\n",
       " ['S160_hum_2_StarWars.wav', 'S160', 'hum', '2', 'StarWars'],\n",
       " ['S161_hum_2_StarWars.wav', 'S161', 'hum', '2', 'StarWars'],\n",
       " ['S163_hum_2_StarWars.wav', 'S163', 'hum', '2', 'StarWars'],\n",
       " ['S165_hum_2_StarWars.wav', 'S165', 'hum', '2', 'StarWars'],\n",
       " ['S167_hum_2_StarWars.wav', 'S167', 'hum', '2', 'StarWars'],\n",
       " ['S168_hum_2_StarWars.wav', 'S168', 'hum', '2', 'StarWars'],\n",
       " ['S124_hum_2_Potter.wav', 'S124', 'hum', '2', 'Potter'],\n",
       " ['S131_hum_1_Potter.wav', 'S131', 'hum', '1', 'Potter'],\n",
       " ['S134_hum_1_Potter.wav', 'S134', 'hum', '1', 'Potter'],\n",
       " ['S145_hum_1_Potter.wav', 'S145', 'hum', '1', 'Potter'],\n",
       " ['S147_hum_2_Potter.wav', 'S147', 'hum', '2', 'Potter'],\n",
       " ['S116_hum_1_StarWars.wav', 'S116', 'hum', '1', 'StarWars'],\n",
       " ['S116_hum_2_StarWars.wav', 'S116', 'hum', '2', 'StarWars'],\n",
       " ['S118_hum_1_StarWars.wav', 'S118', 'hum', '1', 'StarWars'],\n",
       " ['S118_hum_2_StarWars.wav', 'S118', 'hum', '2', 'StarWars'],\n",
       " ['S121_hum_1_StarWars.wav', 'S121', 'hum', '1', 'StarWars'],\n",
       " ['S121_hum_2_StarWars.wav', 'S121', 'hum', '2', 'StarWars'],\n",
       " ['S124_hum_2_StarWars.wav', 'S124', 'hum', '2', 'StarWars'],\n",
       " ['S127_hum_1_StarWars.wav', 'S127', 'hum', '1', 'StarWars'],\n",
       " ['S127_hum_2_StarWars.wav', 'S127', 'hum', '2', 'StarWars'],\n",
       " ['S128_hum_1_StarWars.wav', 'S128', 'hum', '1', 'StarWars'],\n",
       " ['S128_hum_2_StarWars.wav', 'S128', 'hum', '2', 'StarWars'],\n",
       " ['S134_hum_1_StarWars.wav', 'S134', 'hum', '1', 'StarWars'],\n",
       " ['S134_hum_2_StarWars.wav', 'S134', 'hum', '2', 'StarWars'],\n",
       " ['S136_hum_1_StarWars.wav', 'S136', 'hum', '1', 'StarWars'],\n",
       " ['S136_hum_2_StarWars.wav', 'S136', 'hum', '2', 'StarWars'],\n",
       " ['S137_hum_1_StarWars.wav', 'S137', 'hum', '1', 'StarWars'],\n",
       " ['S137_hum_2_StarWars.wav', 'S137', 'hum', '2', 'StarWars'],\n",
       " ['S145_hum_1_StarWars.wav', 'S145', 'hum', '1', 'StarWars'],\n",
       " ['S145_hum_2_StarWars.wav', 'S145', 'hum', '2', 'StarWars'],\n",
       " ['S146_hum_1_StarWars.wav', 'S146', 'hum', '1', 'StarWars'],\n",
       " ['S146_hum_2_StarWars.wav', 'S146', 'hum', '2', 'StarWars'],\n",
       " ['S147_hum_2_StarWars.wav', 'S147', 'hum', '2', 'StarWars'],\n",
       " ['S148_hum_1_StarWars.wav', 'S148', 'hum', '1', 'StarWars'],\n",
       " ['S148_hum_2_StarWars.wav', 'S148', 'hum', '2', 'StarWars'],\n",
       " ['S149_hum_1_StarWars.wav', 'S149', 'hum', '1', 'StarWars'],\n",
       " ['S149_hum_2_StarWars.wav', 'S149', 'hum', '2', 'StarWars'],\n",
       " ['S152_hum_1_StarWars.wav', 'S152', 'hum', '1', 'StarWars'],\n",
       " ['S152_hum_2_StarWars.wav', 'S152', 'hum', '2', 'StarWars'],\n",
       " ['S155_hum_1_StarWars.wav', 'S155', 'hum', '1', 'StarWars'],\n",
       " ['S155_hum_2_StarWars.wav', 'S155', 'hum', '2', 'StarWars'],\n",
       " ['S157_hum_1_Starwars.wav', 'S157', 'hum', '1', 'Starwars'],\n",
       " ['S157_hum_2_Starwars.wav', 'S157', 'hum', '2', 'Starwars'],\n",
       " ['S164_hum_1_StarWars.wav', 'S164', 'hum', '1', 'StarWars'],\n",
       " ['S164_hum_2_StarWars.wav', 'S164', 'hum', '2', 'StarWars'],\n",
       " ['S166_hum_1_StarWars.wav', 'S166', 'hum', '1', 'StarWars'],\n",
       " ['S166_hum_2_StarWars.wav', 'S166', 'hum', '2', 'StarWars'],\n",
       " ['S130_hum_2_StarWars.wav', 'S130', 'hum', '2', 'StarWars'],\n",
       " ['S138_hum_1_Potter.wav', 'S138', 'hum', '1', 'Potter']]"
      ]
     },
     "execution_count": 5,
     "metadata": {},
     "output_type": "execute_result"
    }
   ],
   "source": [
    "# Extracting info from filenames\n",
    "data_table = [] \n",
    "\n",
    "for file in files:\n",
    "  try:\n",
    "    file_name = file.split('/')[-1]\n",
    "    participant_ID = file.split('/')[-1].split('_')[0]\n",
    "    interpretation_type = file.split('/')[-1].split('_')[1]\n",
    "    interpretation_number = file.split('/')[-1].split('_')[2]\n",
    "    song = file.split('/')[-1].split('_')[3].split('.')[0]\n",
    "    data_table.append([file_name,participant_ID,interpretation_type,interpretation_number, song])\n",
    "  except:\n",
    "    print(file_name)\n",
    "    \n",
    "data_table"
   ]
  },
  {
   "cell_type": "markdown",
   "metadata": {
    "id": "p5sMoABurwxn"
   },
   "source": [
    "The following step creates a pandas dataframe of all 345 data files for subsequent analysis using the above extracted information:"
   ]
  },
  {
   "cell_type": "code",
   "execution_count": null,
   "metadata": {
    "colab": {
     "base_uri": "https://localhost:8080/",
     "height": 455
    },
    "id": "3NL4Iya_ayB7",
    "outputId": "b8a7e139-5018-41bb-dc8d-5d5c784a3cb8"
   },
   "outputs": [
    {
     "data": {
      "text/html": [
       "\n",
       "  <div id=\"df-671a6b7c-bf49-4db2-bbef-6f14faf82ca4\">\n",
       "    <div class=\"colab-df-container\">\n",
       "      <div>\n",
       "<style scoped>\n",
       "    .dataframe tbody tr th:only-of-type {\n",
       "        vertical-align: middle;\n",
       "    }\n",
       "\n",
       "    .dataframe tbody tr th {\n",
       "        vertical-align: top;\n",
       "    }\n",
       "\n",
       "    .dataframe thead th {\n",
       "        text-align: right;\n",
       "    }\n",
       "</style>\n",
       "<table border=\"1\" class=\"dataframe\">\n",
       "  <thead>\n",
       "    <tr style=\"text-align: right;\">\n",
       "      <th></th>\n",
       "      <th>participant</th>\n",
       "      <th>interpretation</th>\n",
       "      <th>number</th>\n",
       "      <th>song</th>\n",
       "    </tr>\n",
       "    <tr>\n",
       "      <th>file_id</th>\n",
       "      <th></th>\n",
       "      <th></th>\n",
       "      <th></th>\n",
       "      <th></th>\n",
       "    </tr>\n",
       "  </thead>\n",
       "  <tbody>\n",
       "    <tr>\n",
       "      <th>S39_hum_2_StarWars.wav</th>\n",
       "      <td>S39</td>\n",
       "      <td>hum</td>\n",
       "      <td>2</td>\n",
       "      <td>StarWars</td>\n",
       "    </tr>\n",
       "    <tr>\n",
       "      <th>S43_hum_2_StarWars.wav</th>\n",
       "      <td>S43</td>\n",
       "      <td>hum</td>\n",
       "      <td>2</td>\n",
       "      <td>StarWars</td>\n",
       "    </tr>\n",
       "    <tr>\n",
       "      <th>S44_hum_2_StarWars.wav</th>\n",
       "      <td>S44</td>\n",
       "      <td>hum</td>\n",
       "      <td>2</td>\n",
       "      <td>StarWars</td>\n",
       "    </tr>\n",
       "    <tr>\n",
       "      <th>S45_hum_2_StarWars.wav</th>\n",
       "      <td>S45</td>\n",
       "      <td>hum</td>\n",
       "      <td>2</td>\n",
       "      <td>StarWars</td>\n",
       "    </tr>\n",
       "    <tr>\n",
       "      <th>S50_hum_2_StarWars.wav</th>\n",
       "      <td>S50</td>\n",
       "      <td>hum</td>\n",
       "      <td>2</td>\n",
       "      <td>StarWars</td>\n",
       "    </tr>\n",
       "    <tr>\n",
       "      <th>...</th>\n",
       "      <td>...</td>\n",
       "      <td>...</td>\n",
       "      <td>...</td>\n",
       "      <td>...</td>\n",
       "    </tr>\n",
       "    <tr>\n",
       "      <th>S164_hum_2_StarWars.wav</th>\n",
       "      <td>S164</td>\n",
       "      <td>hum</td>\n",
       "      <td>2</td>\n",
       "      <td>StarWars</td>\n",
       "    </tr>\n",
       "    <tr>\n",
       "      <th>S166_hum_1_StarWars.wav</th>\n",
       "      <td>S166</td>\n",
       "      <td>hum</td>\n",
       "      <td>1</td>\n",
       "      <td>StarWars</td>\n",
       "    </tr>\n",
       "    <tr>\n",
       "      <th>S166_hum_2_StarWars.wav</th>\n",
       "      <td>S166</td>\n",
       "      <td>hum</td>\n",
       "      <td>2</td>\n",
       "      <td>StarWars</td>\n",
       "    </tr>\n",
       "    <tr>\n",
       "      <th>S130_hum_2_StarWars.wav</th>\n",
       "      <td>S130</td>\n",
       "      <td>hum</td>\n",
       "      <td>2</td>\n",
       "      <td>StarWars</td>\n",
       "    </tr>\n",
       "    <tr>\n",
       "      <th>S138_hum_1_Potter.wav</th>\n",
       "      <td>S138</td>\n",
       "      <td>hum</td>\n",
       "      <td>1</td>\n",
       "      <td>Potter</td>\n",
       "    </tr>\n",
       "  </tbody>\n",
       "</table>\n",
       "<p>345 rows × 4 columns</p>\n",
       "</div>\n",
       "      <button class=\"colab-df-convert\" onclick=\"convertToInteractive('df-671a6b7c-bf49-4db2-bbef-6f14faf82ca4')\"\n",
       "              title=\"Convert this dataframe to an interactive table.\"\n",
       "              style=\"display:none;\">\n",
       "        \n",
       "  <svg xmlns=\"http://www.w3.org/2000/svg\" height=\"24px\"viewBox=\"0 0 24 24\"\n",
       "       width=\"24px\">\n",
       "    <path d=\"M0 0h24v24H0V0z\" fill=\"none\"/>\n",
       "    <path d=\"M18.56 5.44l.94 2.06.94-2.06 2.06-.94-2.06-.94-.94-2.06-.94 2.06-2.06.94zm-11 1L8.5 8.5l.94-2.06 2.06-.94-2.06-.94L8.5 2.5l-.94 2.06-2.06.94zm10 10l.94 2.06.94-2.06 2.06-.94-2.06-.94-.94-2.06-.94 2.06-2.06.94z\"/><path d=\"M17.41 7.96l-1.37-1.37c-.4-.4-.92-.59-1.43-.59-.52 0-1.04.2-1.43.59L10.3 9.45l-7.72 7.72c-.78.78-.78 2.05 0 2.83L4 21.41c.39.39.9.59 1.41.59.51 0 1.02-.2 1.41-.59l7.78-7.78 2.81-2.81c.8-.78.8-2.07 0-2.86zM5.41 20L4 18.59l7.72-7.72 1.47 1.35L5.41 20z\"/>\n",
       "  </svg>\n",
       "      </button>\n",
       "      \n",
       "  <style>\n",
       "    .colab-df-container {\n",
       "      display:flex;\n",
       "      flex-wrap:wrap;\n",
       "      gap: 12px;\n",
       "    }\n",
       "\n",
       "    .colab-df-convert {\n",
       "      background-color: #E8F0FE;\n",
       "      border: none;\n",
       "      border-radius: 50%;\n",
       "      cursor: pointer;\n",
       "      display: none;\n",
       "      fill: #1967D2;\n",
       "      height: 32px;\n",
       "      padding: 0 0 0 0;\n",
       "      width: 32px;\n",
       "    }\n",
       "\n",
       "    .colab-df-convert:hover {\n",
       "      background-color: #E2EBFA;\n",
       "      box-shadow: 0px 1px 2px rgba(60, 64, 67, 0.3), 0px 1px 3px 1px rgba(60, 64, 67, 0.15);\n",
       "      fill: #174EA6;\n",
       "    }\n",
       "\n",
       "    [theme=dark] .colab-df-convert {\n",
       "      background-color: #3B4455;\n",
       "      fill: #D2E3FC;\n",
       "    }\n",
       "\n",
       "    [theme=dark] .colab-df-convert:hover {\n",
       "      background-color: #434B5C;\n",
       "      box-shadow: 0px 1px 3px 1px rgba(0, 0, 0, 0.15);\n",
       "      filter: drop-shadow(0px 1px 2px rgba(0, 0, 0, 0.3));\n",
       "      fill: #FFFFFF;\n",
       "    }\n",
       "  </style>\n",
       "\n",
       "      <script>\n",
       "        const buttonEl =\n",
       "          document.querySelector('#df-671a6b7c-bf49-4db2-bbef-6f14faf82ca4 button.colab-df-convert');\n",
       "        buttonEl.style.display =\n",
       "          google.colab.kernel.accessAllowed ? 'block' : 'none';\n",
       "\n",
       "        async function convertToInteractive(key) {\n",
       "          const element = document.querySelector('#df-671a6b7c-bf49-4db2-bbef-6f14faf82ca4');\n",
       "          const dataTable =\n",
       "            await google.colab.kernel.invokeFunction('convertToInteractive',\n",
       "                                                     [key], {});\n",
       "          if (!dataTable) return;\n",
       "\n",
       "          const docLinkHtml = 'Like what you see? Visit the ' +\n",
       "            '<a target=\"_blank\" href=https://colab.research.google.com/notebooks/data_table.ipynb>data table notebook</a>'\n",
       "            + ' to learn more about interactive tables.';\n",
       "          element.innerHTML = '';\n",
       "          dataTable['output_type'] = 'display_data';\n",
       "          await google.colab.output.renderOutput(dataTable, element);\n",
       "          const docLink = document.createElement('div');\n",
       "          docLink.innerHTML = docLinkHtml;\n",
       "          element.appendChild(docLink);\n",
       "        }\n",
       "      </script>\n",
       "    </div>\n",
       "  </div>\n",
       "  "
      ],
      "text/plain": [
       "                        participant interpretation number      song\n",
       "file_id                                                            \n",
       "S39_hum_2_StarWars.wav          S39            hum      2  StarWars\n",
       "S43_hum_2_StarWars.wav          S43            hum      2  StarWars\n",
       "S44_hum_2_StarWars.wav          S44            hum      2  StarWars\n",
       "S45_hum_2_StarWars.wav          S45            hum      2  StarWars\n",
       "S50_hum_2_StarWars.wav          S50            hum      2  StarWars\n",
       "...                             ...            ...    ...       ...\n",
       "S164_hum_2_StarWars.wav        S164            hum      2  StarWars\n",
       "S166_hum_1_StarWars.wav        S166            hum      1  StarWars\n",
       "S166_hum_2_StarWars.wav        S166            hum      2  StarWars\n",
       "S130_hum_2_StarWars.wav        S130            hum      2  StarWars\n",
       "S138_hum_1_Potter.wav          S138            hum      1    Potter\n",
       "\n",
       "[345 rows x 4 columns]"
      ]
     },
     "execution_count": 6,
     "metadata": {},
     "output_type": "execute_result"
    }
   ],
   "source": [
    "# Creating dataframe of training files\n",
    "data_df = pd.DataFrame(data_table,columns=['file_id','participant','interpretation','number','song']).set_index('file_id') \n",
    "data_df"
   ]
  },
  {
   "cell_type": "markdown",
   "metadata": {
    "id": "PSWqYuwcveEo"
   },
   "source": [
    "### **Section 4: Transformation Stage**<br> \n",
    "Out of the many properties of sound, 4 are to be extracted from the audio segments and used as attributes to build the model, these are; power, pitch mean, pitch standard deviation, and fraction of voiced region.<br> \n",
    "\n",
    "#### **Section 4.1: Feature Extraction**\n",
    "The next step defines a function for determining the pitch of an audio segments:"
   ]
  },
  {
   "cell_type": "code",
   "execution_count": null,
   "metadata": {
    "colab": {
     "base_uri": "https://localhost:8080/"
    },
    "id": "FFypZAIfnFAm",
    "outputId": "34cac552-ea9f-4f0e-b146-269d7df62881"
   },
   "outputs": [
    {
     "name": "stdout",
     "output_type": "stream",
     "text": [
      "Pitch function created.\n"
     ]
    }
   ],
   "source": [
    "def getPitch(x,fs,winLen=0.02):\n",
    "  p = winLen*fs\n",
    "  frame_length = int(2**int(p-1).bit_length())\n",
    "  hop_length = frame_length//2\n",
    "  f0, voiced_flag, voiced_probs = librosa.pyin(y=x, fmin=80, fmax=450, sr=fs, frame_length=frame_length,hop_length=hop_length)\n",
    "  return f0,voiced_flag\n",
    "\n",
    "print(\"Pitch function created.\")"
   ]
  },
  {
   "cell_type": "markdown",
   "metadata": {
    "id": "OkQ3-SX7pkQX"
   },
   "source": [
    "The following step defines a function for obtaining the 4 features:"
   ]
  },
  {
   "cell_type": "code",
   "execution_count": null,
   "metadata": {
    "colab": {
     "base_uri": "https://localhost:8080/"
    },
    "id": "R_tRrXv1p_aG",
    "outputId": "acf81697-0592-45a5-a2b4-5a93e23bca2c"
   },
   "outputs": [
    {
     "name": "stdout",
     "output_type": "stream",
     "text": [
      "Feature extraction function created.\n"
     ]
    }
   ],
   "source": [
    "def getXy(files,labels_file, scale_audio=False, onlySingleDigit=False):\n",
    "  X,y =[],[]\n",
    "  for file in tqdm(files):\n",
    "    fileID = file.split('/')[-1]\n",
    "    file_name = file.split('/')[-1]\n",
    "    yi = labels_file.loc[fileID]['song']=='StarWars' # this establishes the classification\n",
    "\n",
    "    fs = None # fs would default to 22050\n",
    "    x, fs = librosa.load(file,sr=fs)\n",
    "    if scale_audio: x = x/np.max(np.abs(x))\n",
    "    f0, voiced_flag = getPitch(x,fs,winLen=0.02)\n",
    "      \n",
    "    power = np.sum(x**2)/len(x)\n",
    "    pitch_mean = np.nanmean(f0) if np.mean(np.isnan(f0))<1 else 0\n",
    "    pitch_std  = np.nanstd(f0) if np.mean(np.isnan(f0))<1 else 0\n",
    "    voiced_fr = np.mean(voiced_flag)\n",
    "\n",
    "    xi = [power,pitch_mean,pitch_std,voiced_fr]\n",
    "    X.append(xi)\n",
    "    y.append(yi)\n",
    "\n",
    "  return np.array(X),np.array(y)\n",
    "\n",
    "print(\"Feature extraction function created.\")"
   ]
  },
  {
   "cell_type": "markdown",
   "metadata": {
    "id": "pRVSP4aBq943"
   },
   "source": [
    "### **Section 5: Modelling**<br> \n",
    "\n",
    "Classification is set such that StarWars evaluates to 1 (True) and Potter to 0 (False) during definition of the above function.<br> \n",
    "\n",
    "A numpy predictor array `X` and a binary label vector `y`of actual audio data are obtained next and their shapes output as follows:"
   ]
  },
  {
   "cell_type": "code",
   "execution_count": null,
   "metadata": {
    "colab": {
     "base_uri": "https://localhost:8080/"
    },
    "id": "pYBVRDV7rmGn",
    "outputId": "db7cf2c3-207f-4d98-ab13-4472b83721d4"
   },
   "outputs": [
    {
     "name": "stderr",
     "output_type": "stream",
     "text": [
      "100%|██████████| 345/345 [16:27<00:00,  2.86s/it]\n"
     ]
    }
   ],
   "source": [
    "# Creating predictor array and label vector\n",
    "X,y = getXy(files, labels_file=data_df, scale_audio=True, onlySingleDigit=True)"
   ]
  },
  {
   "cell_type": "code",
   "execution_count": null,
   "metadata": {
    "colab": {
     "base_uri": "https://localhost:8080/"
    },
    "id": "a-dYQ2fFr8NP",
    "outputId": "bc43a813-9856-4d58-c1ca-62402bd0576b"
   },
   "outputs": [
    {
     "name": "stdout",
     "output_type": "stream",
     "text": [
      "The shape of X is (345, 4)\n",
      "The shape of y is (345,)\n",
      "The features matrix is [[1.89902990e-02 1.66573250e+02 2.51369453e+01 7.02312139e-01]\n",
      " [2.13878114e-02 2.99355612e+02 5.85071440e+01 6.69505963e-01]\n",
      " [2.75914705e-02 2.31122662e+02 6.30361534e+01 7.84673844e-01]\n",
      " ...\n",
      " [3.11158252e-02 2.55290575e+02 6.29238360e+01 7.96138996e-01]\n",
      " [5.63672664e-02 2.19312082e+02 5.18155427e+01 8.01391036e-01]\n",
      " [7.03785661e-03 1.44719474e+02 4.76234711e+01 1.01314772e-01]]\n",
      "The labels vector is [ True  True  True  True  True  True  True  True  True  True  True  True\n",
      "  True  True  True  True  True  True  True  True  True  True  True  True\n",
      "  True  True  True  True  True  True  True  True  True  True  True  True\n",
      "  True  True  True  True  True  True  True  True  True  True  True  True\n",
      "  True  True  True  True  True  True  True  True  True False  True  True\n",
      "  True  True  True  True  True  True  True  True  True  True  True  True\n",
      "  True  True  True  True  True  True  True  True False False  True  True\n",
      "  True  True  True  True  True  True  True  True  True  True  True  True\n",
      "  True  True  True  True  True  True  True  True  True  True  True  True\n",
      "  True  True  True  True  True False False False False False False False\n",
      " False False False False False False False False False False False False\n",
      " False False False False False False False False False False False False\n",
      " False False False False False False False False False False False False\n",
      " False False False False False False False False False False False False\n",
      " False False False False False False False False False False False False\n",
      " False False False False False False False False False False False False\n",
      " False False False False False False False False False False False False\n",
      " False False False False False False False False False False False False\n",
      " False False False False False False False False False False False False\n",
      " False False False False False False False False False False False False\n",
      " False False False False False False False False False False False False\n",
      " False False False False False False False False False False False False\n",
      " False False False False False False False False False False False  True\n",
      "  True  True False  True  True  True  True  True  True  True  True  True\n",
      "  True  True  True  True  True  True  True  True  True  True  True  True\n",
      "  True  True False False False False False  True  True  True  True  True\n",
      "  True  True  True  True  True  True  True  True  True  True  True  True\n",
      "  True  True  True  True  True  True  True  True  True  True  True  True\n",
      "  True False False  True  True  True  True  True False]\n"
     ]
    }
   ],
   "source": [
    "# Outputting shapes and arrays\n",
    "print('The shape of X is', X.shape) \n",
    "print('The shape of y is', y.shape)\n",
    "print('The features matrix is', X)\n",
    "print('The labels vector is', y)"
   ]
  },
  {
   "cell_type": "markdown",
   "metadata": {
    "id": "4FVzku7BloLf"
   },
   "source": [
    "To ascertain that there is no class imbalance, the following output is generated:"
   ]
  },
  {
   "cell_type": "code",
   "execution_count": null,
   "metadata": {
    "colab": {
     "base_uri": "https://localhost:8080/"
    },
    "id": "6XPm-svYlkQf",
    "outputId": "f8b3629f-977e-4b2c-f597-db01dcb2faf1"
   },
   "outputs": [
    {
     "name": "stdout",
     "output_type": "stream",
     "text": [
      " The number of StarWars recordings in the training dataset is  171\n",
      " The number of Potter recordings in the training dataset is  174\n"
     ]
    }
   ],
   "source": [
    "# Checking for class imbalance\n",
    "print(' The number of StarWars recordings in the training dataset is ', np.count_nonzero(y))\n",
    "print(' The number of Potter recordings in the training dataset is ', y.size - np.count_nonzero(y))"
   ]
  },
  {
   "cell_type": "markdown",
   "metadata": {
    "id": "At2xDjzZxGbp"
   },
   "source": [
    "There is no class imbalance.<br> \n",
    "\n",
    "### **Section 6: Methodology**<br> \n",
    "\n",
    "#### **Section 6.1: Model Fitting, Training and Validation**<br> \n",
    "\n",
    "In the next few steps the data is split 75% and 25% respectively for training and validation, normalised and a Support Vector Machine used to build a model:"
   ]
  },
  {
   "cell_type": "code",
   "execution_count": null,
   "metadata": {
    "colab": {
     "base_uri": "https://localhost:8080/"
    },
    "id": "hsEEmuGTzUbR",
    "outputId": "a2167394-3217-4ab4-84d0-e52f02ddf999"
   },
   "outputs": [
    {
     "data": {
      "text/plain": [
       "((258, 4), (87, 4), (258,), (87,))"
      ]
     },
     "execution_count": 13,
     "metadata": {},
     "output_type": "execute_result"
    }
   ],
   "source": [
    "from sklearn import svm\n",
    "from sklearn.model_selection import train_test_split\n",
    "\n",
    "# Splitting data\n",
    "X_train, X_val, y_train, y_val = train_test_split(X,y,test_size=0.25)\n",
    "X_train.shape, X_val.shape, y_train.shape, y_val.shape"
   ]
  },
  {
   "cell_type": "code",
   "execution_count": null,
   "metadata": {
    "colab": {
     "base_uri": "https://localhost:8080/"
    },
    "id": "FU0RpvZcwCDw",
    "outputId": "c36ce21c-ce54-4589-f56b-c717935fe32a"
   },
   "outputs": [
    {
     "name": "stdout",
     "output_type": "stream",
     "text": [
      "Training data normalised.\n"
     ]
    }
   ],
   "source": [
    "# Normalising data\n",
    "mean = X_train.mean(0)\n",
    "sd =  X_train.std(0)\n",
    "\n",
    "X_train = (X_train-mean)/sd\n",
    "X_val  = (X_val-mean)/sd\n",
    "\n",
    "print(\"Training data normalised.\")"
   ]
  },
  {
   "cell_type": "code",
   "execution_count": null,
   "metadata": {
    "colab": {
     "base_uri": "https://localhost:8080/"
    },
    "id": "iheIYE_WxpYC",
    "outputId": "c7f26247-b191-4a5d-b96b-e73309dfa645"
   },
   "outputs": [
    {
     "name": "stdout",
     "output_type": "stream",
     "text": [
      "Training Accuracy is 0.813953488372093\n",
      "Validation Accuracy is 0.5977011494252874\n",
      "The support vectors are (237, 4)\n"
     ]
    }
   ],
   "source": [
    "# Building model\n",
    "model  = svm.SVC(C=1,gamma=2)\n",
    "model.fit(X_train,y_train)\n",
    "\n",
    "yt_p = model.predict(X_train)\n",
    "yv_p = model.predict(X_val)\n",
    "\n",
    "print('Training Accuracy is', np.mean(yt_p==y_train))\n",
    "print('Validation Accuracy is', np.mean(yv_p==y_val))\n",
    "print('The support vectors are', model.support_vectors_.shape)"
   ]
  },
  {
   "cell_type": "markdown",
   "metadata": {
    "id": "OMoPW7mQ50Qp"
   },
   "source": [
    "#### **Section 6.2: Testing**<br> \n",
    "The pipeline and model built above is now tested, first using the sample 2 StarWars hum audio data to obtain a test accuracy for True labels (1), and then subsequently using the sample 2 Potter hum audio data obtain a test accuracy for False labels (0) as follows:<br> \n",
    "\n",
    "#### **Section 6.2.1: Class 1**<br>\n",
    "Testing for true labels using StarWars files from sample 2:"
   ]
  },
  {
   "cell_type": "code",
   "execution_count": null,
   "metadata": {
    "colab": {
     "base_uri": "https://localhost:8080/"
    },
    "id": "uWWxMN-g6bKq",
    "outputId": "06608dbf-af22-4d84-f783-076a88b54d39"
   },
   "outputs": [
    {
     "data": {
      "text/plain": [
       "69"
      ]
     },
     "execution_count": 17,
     "metadata": {},
     "output_type": "execute_result"
    }
   ],
   "source": [
    "# Loading StarWars test data\n",
    "sample_path = '/content/drive/MyDrive/Data2/MLEndHW2/starwars_sample2/*.wav'\n",
    "files = glob.glob(sample_path)\n",
    "len(files)"
   ]
  },
  {
   "cell_type": "code",
   "execution_count": null,
   "metadata": {
    "colab": {
     "base_uri": "https://localhost:8080/"
    },
    "id": "7Hc4z_6Q6tmJ",
    "outputId": "6052d1f5-ea89-4423-850b-eef94dc69313"
   },
   "outputs": [
    {
     "name": "stdout",
     "output_type": "stream",
     "text": [
      "S170_hum_2_StarWars.wav\n",
      "S171_hum_2_StarWars.wav\n",
      "S172_hum_2_StarWars.wav\n",
      "S173_hum_2_StarWars.wav\n",
      "S174_hum_2_StarWars.wav\n",
      "S175_hum_2_StarWars.wav\n",
      "S176_hum_2_StarWars.wav\n",
      "S179_hum_2_StarWars.wav\n",
      "S182_hum_2_StarWars.wav\n",
      "S184_hum_2_Starwars.wav\n",
      "S187_hum_2_StarWars.wav\n",
      "S188_hum_2_StarWars.wav\n",
      "S190_hum_2_StarWars.wav\n",
      "S193_hum_2_StarWars.wav\n",
      "S195_hum_2_StarWars.wav\n",
      "S197_hum_2_StarWars.wav\n",
      "S198_hum_2_StarWars.wav\n",
      "S200_hum_2_StarWars.wav\n",
      "S203_hum_2_StarWars.wav\n",
      "S204_hum_2_StarWars.wav\n",
      "S207_hum_2_StarWars.wav\n",
      "S208_hum_2_StarWars.wav\n",
      "S209_hum_2_StarWars.wav\n",
      "S213_hum_2_StarWars.wav\n",
      "S214_hum_2_StarWars.wav\n",
      "S215_hum_2_StarWars.wav\n",
      "S217_hum_2_StarWars.wav\n",
      "S218_hum_2_StarWars.wav\n",
      "S221_hum_1_StartWars.wav\n",
      "S221_hum_2_StarWars.wav\n",
      "S222_hum_2_StarWars.wav\n",
      "S169_hum_1_StarWars.wav\n",
      "S169_hum_2_StarWars.wav\n",
      "S177_hum_1_StarWars.wav\n",
      "S177_hum_2_StarWars.wav\n",
      "S178_hum_2_StarWars.wav\n",
      "S181_hum_1_StarWars.wav\n",
      "S181_hum_2_StarWars.wav\n",
      "S185_hum_1_StarWars.wav\n",
      "S185_hum_2_StarWars.wav\n",
      "S186_hum_1_StarWars.wav\n",
      "S186_hum_2_StarWars.wav\n",
      "S189_hum_2_StarWars.wav\n",
      "S191_hum_1_StarWars.wav\n",
      "S191_hum_2_StarWars.wav\n",
      "S192_hum_1_StarWars.wav\n",
      "S192_hum_2_StarWars.wav\n",
      "S194_hum_1_StarWars.wav\n",
      "S194_hum_2_StarWars.wav\n",
      "S196_hum_1_StarWars.wav\n",
      "S196_hum_2_StarWars.wav\n",
      "S199_hum_1_StarWars.wav\n",
      "S199_hum_2_StarWars.wav\n",
      "S201_hum_1_StarWars.wav\n",
      "S201_hum_2_StarWars.wav\n",
      "S202_hum_1_Starwars.wav\n",
      "S202_hum_2_Starwars.wav\n",
      "S205_hum_1_StarWars.wav\n",
      "S205_hum_2_StarWars.wav\n",
      "S206_hum_1_StarWars.wav\n",
      "S206_hum_2_StarWars.wav\n",
      "S210_hum_1_StarWars.wav\n",
      "S210_hum_2_StarWars.wav\n",
      "S212_hum_1_StarWars.wav\n",
      "S212_hum_2_StarWars.wav\n",
      "S216_hum_1_StarWars.wav\n",
      "S216_hum_2_StarWars.wav\n",
      "S219_hum_1_StarWars.wav\n",
      "S219_hum_2_StarWars.wav\n"
     ]
    }
   ],
   "source": [
    "# Outputting file names\n",
    "for file in files:\n",
    "  print(file.split('/')[-1])"
   ]
  },
  {
   "cell_type": "code",
   "execution_count": null,
   "metadata": {
    "colab": {
     "base_uri": "https://localhost:8080/"
    },
    "id": "A8nzXiu16__J",
    "outputId": "d633da0e-228f-4795-89df-3855621d4781"
   },
   "outputs": [
    {
     "data": {
      "text/plain": [
       "[['S170_hum_2_StarWars.wav', 'S170', 'hum', '2', 'StarWars'],\n",
       " ['S171_hum_2_StarWars.wav', 'S171', 'hum', '2', 'StarWars'],\n",
       " ['S172_hum_2_StarWars.wav', 'S172', 'hum', '2', 'StarWars'],\n",
       " ['S173_hum_2_StarWars.wav', 'S173', 'hum', '2', 'StarWars'],\n",
       " ['S174_hum_2_StarWars.wav', 'S174', 'hum', '2', 'StarWars'],\n",
       " ['S175_hum_2_StarWars.wav', 'S175', 'hum', '2', 'StarWars'],\n",
       " ['S176_hum_2_StarWars.wav', 'S176', 'hum', '2', 'StarWars'],\n",
       " ['S179_hum_2_StarWars.wav', 'S179', 'hum', '2', 'StarWars'],\n",
       " ['S182_hum_2_StarWars.wav', 'S182', 'hum', '2', 'StarWars'],\n",
       " ['S184_hum_2_Starwars.wav', 'S184', 'hum', '2', 'Starwars'],\n",
       " ['S187_hum_2_StarWars.wav', 'S187', 'hum', '2', 'StarWars'],\n",
       " ['S188_hum_2_StarWars.wav', 'S188', 'hum', '2', 'StarWars'],\n",
       " ['S190_hum_2_StarWars.wav', 'S190', 'hum', '2', 'StarWars'],\n",
       " ['S193_hum_2_StarWars.wav', 'S193', 'hum', '2', 'StarWars'],\n",
       " ['S195_hum_2_StarWars.wav', 'S195', 'hum', '2', 'StarWars'],\n",
       " ['S197_hum_2_StarWars.wav', 'S197', 'hum', '2', 'StarWars'],\n",
       " ['S198_hum_2_StarWars.wav', 'S198', 'hum', '2', 'StarWars'],\n",
       " ['S200_hum_2_StarWars.wav', 'S200', 'hum', '2', 'StarWars'],\n",
       " ['S203_hum_2_StarWars.wav', 'S203', 'hum', '2', 'StarWars'],\n",
       " ['S204_hum_2_StarWars.wav', 'S204', 'hum', '2', 'StarWars'],\n",
       " ['S207_hum_2_StarWars.wav', 'S207', 'hum', '2', 'StarWars'],\n",
       " ['S208_hum_2_StarWars.wav', 'S208', 'hum', '2', 'StarWars'],\n",
       " ['S209_hum_2_StarWars.wav', 'S209', 'hum', '2', 'StarWars'],\n",
       " ['S213_hum_2_StarWars.wav', 'S213', 'hum', '2', 'StarWars'],\n",
       " ['S214_hum_2_StarWars.wav', 'S214', 'hum', '2', 'StarWars'],\n",
       " ['S215_hum_2_StarWars.wav', 'S215', 'hum', '2', 'StarWars'],\n",
       " ['S217_hum_2_StarWars.wav', 'S217', 'hum', '2', 'StarWars'],\n",
       " ['S218_hum_2_StarWars.wav', 'S218', 'hum', '2', 'StarWars'],\n",
       " ['S221_hum_1_StartWars.wav', 'S221', 'hum', '1', 'StartWars'],\n",
       " ['S221_hum_2_StarWars.wav', 'S221', 'hum', '2', 'StarWars'],\n",
       " ['S222_hum_2_StarWars.wav', 'S222', 'hum', '2', 'StarWars'],\n",
       " ['S169_hum_1_StarWars.wav', 'S169', 'hum', '1', 'StarWars'],\n",
       " ['S169_hum_2_StarWars.wav', 'S169', 'hum', '2', 'StarWars'],\n",
       " ['S177_hum_1_StarWars.wav', 'S177', 'hum', '1', 'StarWars'],\n",
       " ['S177_hum_2_StarWars.wav', 'S177', 'hum', '2', 'StarWars'],\n",
       " ['S178_hum_2_StarWars.wav', 'S178', 'hum', '2', 'StarWars'],\n",
       " ['S181_hum_1_StarWars.wav', 'S181', 'hum', '1', 'StarWars'],\n",
       " ['S181_hum_2_StarWars.wav', 'S181', 'hum', '2', 'StarWars'],\n",
       " ['S185_hum_1_StarWars.wav', 'S185', 'hum', '1', 'StarWars'],\n",
       " ['S185_hum_2_StarWars.wav', 'S185', 'hum', '2', 'StarWars'],\n",
       " ['S186_hum_1_StarWars.wav', 'S186', 'hum', '1', 'StarWars'],\n",
       " ['S186_hum_2_StarWars.wav', 'S186', 'hum', '2', 'StarWars'],\n",
       " ['S189_hum_2_StarWars.wav', 'S189', 'hum', '2', 'StarWars'],\n",
       " ['S191_hum_1_StarWars.wav', 'S191', 'hum', '1', 'StarWars'],\n",
       " ['S191_hum_2_StarWars.wav', 'S191', 'hum', '2', 'StarWars'],\n",
       " ['S192_hum_1_StarWars.wav', 'S192', 'hum', '1', 'StarWars'],\n",
       " ['S192_hum_2_StarWars.wav', 'S192', 'hum', '2', 'StarWars'],\n",
       " ['S194_hum_1_StarWars.wav', 'S194', 'hum', '1', 'StarWars'],\n",
       " ['S194_hum_2_StarWars.wav', 'S194', 'hum', '2', 'StarWars'],\n",
       " ['S196_hum_1_StarWars.wav', 'S196', 'hum', '1', 'StarWars'],\n",
       " ['S196_hum_2_StarWars.wav', 'S196', 'hum', '2', 'StarWars'],\n",
       " ['S199_hum_1_StarWars.wav', 'S199', 'hum', '1', 'StarWars'],\n",
       " ['S199_hum_2_StarWars.wav', 'S199', 'hum', '2', 'StarWars'],\n",
       " ['S201_hum_1_StarWars.wav', 'S201', 'hum', '1', 'StarWars'],\n",
       " ['S201_hum_2_StarWars.wav', 'S201', 'hum', '2', 'StarWars'],\n",
       " ['S202_hum_1_Starwars.wav', 'S202', 'hum', '1', 'Starwars'],\n",
       " ['S202_hum_2_Starwars.wav', 'S202', 'hum', '2', 'Starwars'],\n",
       " ['S205_hum_1_StarWars.wav', 'S205', 'hum', '1', 'StarWars'],\n",
       " ['S205_hum_2_StarWars.wav', 'S205', 'hum', '2', 'StarWars'],\n",
       " ['S206_hum_1_StarWars.wav', 'S206', 'hum', '1', 'StarWars'],\n",
       " ['S206_hum_2_StarWars.wav', 'S206', 'hum', '2', 'StarWars'],\n",
       " ['S210_hum_1_StarWars.wav', 'S210', 'hum', '1', 'StarWars'],\n",
       " ['S210_hum_2_StarWars.wav', 'S210', 'hum', '2', 'StarWars'],\n",
       " ['S212_hum_1_StarWars.wav', 'S212', 'hum', '1', 'StarWars'],\n",
       " ['S212_hum_2_StarWars.wav', 'S212', 'hum', '2', 'StarWars'],\n",
       " ['S216_hum_1_StarWars.wav', 'S216', 'hum', '1', 'StarWars'],\n",
       " ['S216_hum_2_StarWars.wav', 'S216', 'hum', '2', 'StarWars'],\n",
       " ['S219_hum_1_StarWars.wav', 'S219', 'hum', '1', 'StarWars'],\n",
       " ['S219_hum_2_StarWars.wav', 'S219', 'hum', '2', 'StarWars']]"
      ]
     },
     "execution_count": 19,
     "metadata": {},
     "output_type": "execute_result"
    }
   ],
   "source": [
    "# Extracting info from filenames\n",
    "test1_data_table = [] \n",
    "\n",
    "for file in files:\n",
    "  try:\n",
    "    file_name = file.split('/')[-1]\n",
    "    participant_ID = file.split('/')[-1].split('_')[0]\n",
    "    interpretation_type = file.split('/')[-1].split('_')[1]\n",
    "    interpretation_number = file.split('/')[-1].split('_')[2]\n",
    "    song = file.split('/')[-1].split('_')[3].split('.')[0]\n",
    "    test1_data_table.append([file_name,participant_ID,interpretation_type,interpretation_number, song])\n",
    "  except:\n",
    "    print(file_name)\n",
    "    \n",
    "test1_data_table"
   ]
  },
  {
   "cell_type": "code",
   "execution_count": null,
   "metadata": {
    "colab": {
     "base_uri": "https://localhost:8080/",
     "height": 455
    },
    "id": "cSezezyw7dr5",
    "outputId": "1c8c92ce-a2c9-40c6-feda-7c018f037923"
   },
   "outputs": [
    {
     "data": {
      "text/html": [
       "\n",
       "  <div id=\"df-7908976d-5dd9-4b1c-a53a-632ca77da0fe\">\n",
       "    <div class=\"colab-df-container\">\n",
       "      <div>\n",
       "<style scoped>\n",
       "    .dataframe tbody tr th:only-of-type {\n",
       "        vertical-align: middle;\n",
       "    }\n",
       "\n",
       "    .dataframe tbody tr th {\n",
       "        vertical-align: top;\n",
       "    }\n",
       "\n",
       "    .dataframe thead th {\n",
       "        text-align: right;\n",
       "    }\n",
       "</style>\n",
       "<table border=\"1\" class=\"dataframe\">\n",
       "  <thead>\n",
       "    <tr style=\"text-align: right;\">\n",
       "      <th></th>\n",
       "      <th>participant</th>\n",
       "      <th>interpretation</th>\n",
       "      <th>number</th>\n",
       "      <th>song</th>\n",
       "    </tr>\n",
       "    <tr>\n",
       "      <th>file_id</th>\n",
       "      <th></th>\n",
       "      <th></th>\n",
       "      <th></th>\n",
       "      <th></th>\n",
       "    </tr>\n",
       "  </thead>\n",
       "  <tbody>\n",
       "    <tr>\n",
       "      <th>S170_hum_2_StarWars.wav</th>\n",
       "      <td>S170</td>\n",
       "      <td>hum</td>\n",
       "      <td>2</td>\n",
       "      <td>StarWars</td>\n",
       "    </tr>\n",
       "    <tr>\n",
       "      <th>S171_hum_2_StarWars.wav</th>\n",
       "      <td>S171</td>\n",
       "      <td>hum</td>\n",
       "      <td>2</td>\n",
       "      <td>StarWars</td>\n",
       "    </tr>\n",
       "    <tr>\n",
       "      <th>S172_hum_2_StarWars.wav</th>\n",
       "      <td>S172</td>\n",
       "      <td>hum</td>\n",
       "      <td>2</td>\n",
       "      <td>StarWars</td>\n",
       "    </tr>\n",
       "    <tr>\n",
       "      <th>S173_hum_2_StarWars.wav</th>\n",
       "      <td>S173</td>\n",
       "      <td>hum</td>\n",
       "      <td>2</td>\n",
       "      <td>StarWars</td>\n",
       "    </tr>\n",
       "    <tr>\n",
       "      <th>S174_hum_2_StarWars.wav</th>\n",
       "      <td>S174</td>\n",
       "      <td>hum</td>\n",
       "      <td>2</td>\n",
       "      <td>StarWars</td>\n",
       "    </tr>\n",
       "    <tr>\n",
       "      <th>...</th>\n",
       "      <td>...</td>\n",
       "      <td>...</td>\n",
       "      <td>...</td>\n",
       "      <td>...</td>\n",
       "    </tr>\n",
       "    <tr>\n",
       "      <th>S212_hum_2_StarWars.wav</th>\n",
       "      <td>S212</td>\n",
       "      <td>hum</td>\n",
       "      <td>2</td>\n",
       "      <td>StarWars</td>\n",
       "    </tr>\n",
       "    <tr>\n",
       "      <th>S216_hum_1_StarWars.wav</th>\n",
       "      <td>S216</td>\n",
       "      <td>hum</td>\n",
       "      <td>1</td>\n",
       "      <td>StarWars</td>\n",
       "    </tr>\n",
       "    <tr>\n",
       "      <th>S216_hum_2_StarWars.wav</th>\n",
       "      <td>S216</td>\n",
       "      <td>hum</td>\n",
       "      <td>2</td>\n",
       "      <td>StarWars</td>\n",
       "    </tr>\n",
       "    <tr>\n",
       "      <th>S219_hum_1_StarWars.wav</th>\n",
       "      <td>S219</td>\n",
       "      <td>hum</td>\n",
       "      <td>1</td>\n",
       "      <td>StarWars</td>\n",
       "    </tr>\n",
       "    <tr>\n",
       "      <th>S219_hum_2_StarWars.wav</th>\n",
       "      <td>S219</td>\n",
       "      <td>hum</td>\n",
       "      <td>2</td>\n",
       "      <td>StarWars</td>\n",
       "    </tr>\n",
       "  </tbody>\n",
       "</table>\n",
       "<p>69 rows × 4 columns</p>\n",
       "</div>\n",
       "      <button class=\"colab-df-convert\" onclick=\"convertToInteractive('df-7908976d-5dd9-4b1c-a53a-632ca77da0fe')\"\n",
       "              title=\"Convert this dataframe to an interactive table.\"\n",
       "              style=\"display:none;\">\n",
       "        \n",
       "  <svg xmlns=\"http://www.w3.org/2000/svg\" height=\"24px\"viewBox=\"0 0 24 24\"\n",
       "       width=\"24px\">\n",
       "    <path d=\"M0 0h24v24H0V0z\" fill=\"none\"/>\n",
       "    <path d=\"M18.56 5.44l.94 2.06.94-2.06 2.06-.94-2.06-.94-.94-2.06-.94 2.06-2.06.94zm-11 1L8.5 8.5l.94-2.06 2.06-.94-2.06-.94L8.5 2.5l-.94 2.06-2.06.94zm10 10l.94 2.06.94-2.06 2.06-.94-2.06-.94-.94-2.06-.94 2.06-2.06.94z\"/><path d=\"M17.41 7.96l-1.37-1.37c-.4-.4-.92-.59-1.43-.59-.52 0-1.04.2-1.43.59L10.3 9.45l-7.72 7.72c-.78.78-.78 2.05 0 2.83L4 21.41c.39.39.9.59 1.41.59.51 0 1.02-.2 1.41-.59l7.78-7.78 2.81-2.81c.8-.78.8-2.07 0-2.86zM5.41 20L4 18.59l7.72-7.72 1.47 1.35L5.41 20z\"/>\n",
       "  </svg>\n",
       "      </button>\n",
       "      \n",
       "  <style>\n",
       "    .colab-df-container {\n",
       "      display:flex;\n",
       "      flex-wrap:wrap;\n",
       "      gap: 12px;\n",
       "    }\n",
       "\n",
       "    .colab-df-convert {\n",
       "      background-color: #E8F0FE;\n",
       "      border: none;\n",
       "      border-radius: 50%;\n",
       "      cursor: pointer;\n",
       "      display: none;\n",
       "      fill: #1967D2;\n",
       "      height: 32px;\n",
       "      padding: 0 0 0 0;\n",
       "      width: 32px;\n",
       "    }\n",
       "\n",
       "    .colab-df-convert:hover {\n",
       "      background-color: #E2EBFA;\n",
       "      box-shadow: 0px 1px 2px rgba(60, 64, 67, 0.3), 0px 1px 3px 1px rgba(60, 64, 67, 0.15);\n",
       "      fill: #174EA6;\n",
       "    }\n",
       "\n",
       "    [theme=dark] .colab-df-convert {\n",
       "      background-color: #3B4455;\n",
       "      fill: #D2E3FC;\n",
       "    }\n",
       "\n",
       "    [theme=dark] .colab-df-convert:hover {\n",
       "      background-color: #434B5C;\n",
       "      box-shadow: 0px 1px 3px 1px rgba(0, 0, 0, 0.15);\n",
       "      filter: drop-shadow(0px 1px 2px rgba(0, 0, 0, 0.3));\n",
       "      fill: #FFFFFF;\n",
       "    }\n",
       "  </style>\n",
       "\n",
       "      <script>\n",
       "        const buttonEl =\n",
       "          document.querySelector('#df-7908976d-5dd9-4b1c-a53a-632ca77da0fe button.colab-df-convert');\n",
       "        buttonEl.style.display =\n",
       "          google.colab.kernel.accessAllowed ? 'block' : 'none';\n",
       "\n",
       "        async function convertToInteractive(key) {\n",
       "          const element = document.querySelector('#df-7908976d-5dd9-4b1c-a53a-632ca77da0fe');\n",
       "          const dataTable =\n",
       "            await google.colab.kernel.invokeFunction('convertToInteractive',\n",
       "                                                     [key], {});\n",
       "          if (!dataTable) return;\n",
       "\n",
       "          const docLinkHtml = 'Like what you see? Visit the ' +\n",
       "            '<a target=\"_blank\" href=https://colab.research.google.com/notebooks/data_table.ipynb>data table notebook</a>'\n",
       "            + ' to learn more about interactive tables.';\n",
       "          element.innerHTML = '';\n",
       "          dataTable['output_type'] = 'display_data';\n",
       "          await google.colab.output.renderOutput(dataTable, element);\n",
       "          const docLink = document.createElement('div');\n",
       "          docLink.innerHTML = docLinkHtml;\n",
       "          element.appendChild(docLink);\n",
       "        }\n",
       "      </script>\n",
       "    </div>\n",
       "  </div>\n",
       "  "
      ],
      "text/plain": [
       "                        participant interpretation number      song\n",
       "file_id                                                            \n",
       "S170_hum_2_StarWars.wav        S170            hum      2  StarWars\n",
       "S171_hum_2_StarWars.wav        S171            hum      2  StarWars\n",
       "S172_hum_2_StarWars.wav        S172            hum      2  StarWars\n",
       "S173_hum_2_StarWars.wav        S173            hum      2  StarWars\n",
       "S174_hum_2_StarWars.wav        S174            hum      2  StarWars\n",
       "...                             ...            ...    ...       ...\n",
       "S212_hum_2_StarWars.wav        S212            hum      2  StarWars\n",
       "S216_hum_1_StarWars.wav        S216            hum      1  StarWars\n",
       "S216_hum_2_StarWars.wav        S216            hum      2  StarWars\n",
       "S219_hum_1_StarWars.wav        S219            hum      1  StarWars\n",
       "S219_hum_2_StarWars.wav        S219            hum      2  StarWars\n",
       "\n",
       "[69 rows x 4 columns]"
      ]
     },
     "execution_count": 20,
     "metadata": {},
     "output_type": "execute_result"
    }
   ],
   "source": [
    "# Creating dataframe of StarWars test files\n",
    "test1_data_df = pd.DataFrame(test1_data_table,columns=['file_id','participant','interpretation','number','song']).set_index('file_id') \n",
    "test1_data_df"
   ]
  },
  {
   "cell_type": "code",
   "execution_count": null,
   "metadata": {
    "colab": {
     "base_uri": "https://localhost:8080/"
    },
    "id": "i3Vk_Jsq8EZK",
    "outputId": "d53e217b-8499-4daa-fcdf-14c0b1de623c"
   },
   "outputs": [
    {
     "name": "stderr",
     "output_type": "stream",
     "text": [
      "100%|██████████| 69/69 [03:36<00:00,  3.14s/it]\n"
     ]
    }
   ],
   "source": [
    "# Creating StarWars test arrays\n",
    "X1_test,y1_test = getXy(files, labels_file=test1_data_df, scale_audio=True, onlySingleDigit=True)"
   ]
  },
  {
   "cell_type": "code",
   "execution_count": null,
   "metadata": {
    "colab": {
     "base_uri": "https://localhost:8080/"
    },
    "id": "pcY_p0s685DK",
    "outputId": "d0534494-6643-48b2-a9e3-4b1927e2e8ea"
   },
   "outputs": [
    {
     "name": "stdout",
     "output_type": "stream",
     "text": [
      "The shape of X1_test is (69, 4)\n",
      "The shape of y1_test is (69,)\n",
      "The features matrix is [[4.53736205e-02 1.32514717e+02 2.14151036e+01 6.11042945e-01]\n",
      " [7.11877295e-03 1.71945229e+02 2.76353999e+01 7.72591263e-01]\n",
      " [8.84609043e-03 2.48088311e+02 6.84344252e+01 9.05864198e-01]\n",
      " [3.93043296e-02 1.22612629e+02 2.00148462e+01 7.13400901e-01]\n",
      " [2.47371672e-02 1.25672151e+02 3.11825594e+01 6.61263276e-01]\n",
      " [8.99394202e-03 1.14699589e+02 2.75154362e+01 3.51194319e-01]\n",
      " [5.20351802e-02 3.36725613e+02 7.04607928e+01 8.33718245e-01]\n",
      " [3.87394080e-02 2.12875665e+02 5.36093520e+01 9.00075700e-01]\n",
      " [3.63039098e-02 3.16365914e+02 5.03864443e+01 5.75394665e-01]\n",
      " [3.66001933e-02 2.32735760e+02 2.16121088e+01 8.27586207e-01]\n",
      " [3.82226550e-02 1.41027851e+02 2.09852182e+01 6.92406692e-01]\n",
      " [1.06047041e-02 1.35052958e+02 3.10681866e+01 6.72250546e-01]\n",
      " [1.77533947e-02 2.31432478e+02 5.73590714e+01 7.74689100e-01]\n",
      " [3.29931180e-02 2.04415692e+02 3.10259205e+01 8.32630098e-01]\n",
      " [2.95374415e-02 2.17359247e+02 6.26068845e+01 7.70864947e-01]\n",
      " [2.34112298e-02 1.20161677e+02 2.57287210e+01 6.20481928e-01]\n",
      " [4.36465152e-02 2.24377479e+02 4.88347373e+01 6.80622010e-01]\n",
      " [1.01984962e-01 2.77647708e+02 4.47644511e+01 8.98818316e-01]\n",
      " [1.92672889e-02 1.30920877e+02 1.76638347e+01 6.98282300e-01]\n",
      " [3.15651517e-02 1.24130152e+02 2.22039507e+01 7.87066246e-01]\n",
      " [6.00325325e-02 1.87011414e+02 3.85107597e+01 8.64751226e-01]\n",
      " [4.38225729e-02 2.28479417e+02 6.41550691e+01 8.19213313e-01]\n",
      " [2.95498254e-02 1.18905881e+02 3.14822203e+01 6.47713226e-01]\n",
      " [6.50435162e-03 2.14895190e+02 5.29682832e+01 8.27824750e-01]\n",
      " [2.55205490e-02 1.25795726e+02 2.51223295e+01 6.69856459e-01]\n",
      " [4.76639446e-03 1.75090337e+02 3.09909029e+01 5.61391057e-01]\n",
      " [1.85132760e-02 3.45874326e+02 6.15031050e+01 7.61714855e-01]\n",
      " [1.94538749e-01 1.46986715e+02 1.27470634e+01 7.83052885e-01]\n",
      " [2.84992272e-02 2.41701798e+02 2.00439085e+01 9.11169745e-01]\n",
      " [5.00663271e-02 2.34440051e+02 1.86998722e+01 8.57018309e-01]\n",
      " [1.23352456e-03 3.30565703e+02 6.25709220e+01 7.30402930e-01]\n",
      " [2.08961753e-02 2.07423218e+02 1.55680230e+01 7.20983859e-01]\n",
      " [7.75380167e-03 1.86983803e+02 1.63882261e+01 8.45161290e-01]\n",
      " [4.87069253e-02 2.52248051e+02 6.52819499e+01 8.45916795e-01]\n",
      " [5.52454090e-02 2.51692274e+02 6.65276893e+01 8.12307692e-01]\n",
      " [5.11953626e-02 2.15228300e+02 4.99470755e+01 7.83865141e-01]\n",
      " [2.97048614e-02 1.15798254e+02 4.29492424e+01 9.13616398e-01]\n",
      " [3.00042002e-02 1.12164792e+02 4.33540803e+01 8.93905192e-01]\n",
      " [2.32608731e-02 1.33738440e+02 2.58836563e+01 8.02168022e-01]\n",
      " [1.84074430e-02 1.29290505e+02 2.62218547e+01 7.58831522e-01]\n",
      " [3.06883613e-02 2.31913754e+02 5.74011202e+01 7.98467885e-01]\n",
      " [2.97973180e-02 2.37364890e+02 6.16287531e+01 7.70065076e-01]\n",
      " [3.11151037e-02 1.65676958e+02 2.86138961e+01 7.89846517e-01]\n",
      " [1.66268427e-02 2.56614227e+02 7.42314455e+01 7.75952203e-01]\n",
      " [2.37834202e-02 2.56643795e+02 7.23783655e+01 8.37528604e-01]\n",
      " [2.96199635e-02 2.34414759e+02 6.33204231e+01 8.55295567e-01]\n",
      " [3.32074954e-02 2.34548221e+02 6.16647610e+01 8.55115316e-01]\n",
      " [4.25813974e-02 1.62770157e+02 3.18331488e+01 6.58314351e-01]\n",
      " [2.82296716e-02 1.63239854e+02 3.72779152e+01 6.72741078e-01]\n",
      " [3.00344433e-02 3.18668571e+02 7.10910005e+01 7.77247414e-01]\n",
      " [4.94838454e-02 3.18587949e+02 7.46830538e+01 8.24146982e-01]\n",
      " [1.43082920e-02 2.85350904e+02 6.64985013e+01 7.49194068e-01]\n",
      " [4.83364540e-02 3.56864878e+02 7.10351643e+01 5.69417786e-01]\n",
      " [5.43046843e-01 1.52359466e+02 3.17566534e+01 7.07124011e-01]\n",
      " [5.40742391e-01 1.68119512e+02 3.96901929e+01 7.13946117e-01]\n",
      " [5.65839791e-03 2.75131930e+02 4.25776876e+01 6.28195198e-01]\n",
      " [2.67476914e-02 2.66789019e+02 4.49915277e+01 6.34090909e-01]\n",
      " [3.19136089e-02 3.38571482e+02 6.00791067e+01 7.33293556e-01]\n",
      " [4.00550856e-02 3.39462157e+02 5.71819883e+01 7.55696203e-01]\n",
      " [3.98906626e-02 3.07010725e+02 5.55909894e+01 8.03156146e-01]\n",
      " [4.21245615e-02 3.04389915e+02 5.75635529e+01 7.32689211e-01]\n",
      " [4.69349608e-02 2.40550755e+02 6.67158400e+01 8.55821126e-01]\n",
      " [3.85189804e-02 2.33343197e+02 6.23366373e+01 8.49462366e-01]\n",
      " [2.71505083e-02 2.99244855e+02 7.75386303e+01 6.58664666e-01]\n",
      " [4.27704761e-02 3.06876362e+02 6.60428576e+01 6.57718121e-01]\n",
      " [1.83439666e-02 1.51975699e+02 2.94922021e+01 6.78419453e-01]\n",
      " [3.49397745e-02 1.54473402e+02 2.94551997e+01 8.14226519e-01]\n",
      " [2.59921139e-02 2.98155006e+02 3.24897507e+01 6.67694680e-01]\n",
      " [2.39488112e-02 2.94756798e+02 2.93225683e+01 7.76488786e-01]]\n",
      "The labels vector is [ True  True  True  True  True  True  True  True  True False  True  True\n",
      "  True  True  True  True  True  True  True  True  True  True  True  True\n",
      "  True  True  True  True False  True  True  True  True  True  True  True\n",
      "  True  True  True  True  True  True  True  True  True  True  True  True\n",
      "  True  True  True  True  True  True  True False False  True  True  True\n",
      "  True  True  True  True  True  True  True  True  True]\n"
     ]
    }
   ],
   "source": [
    "# Outputting shapes and arrays\n",
    "print('The shape of X1_test is', X1_test.shape) \n",
    "print('The shape of y1_test is', y1_test.shape)\n",
    "print('The features matrix is', X1_test)\n",
    "print('The labels vector is', y1_test)"
   ]
  },
  {
   "cell_type": "code",
   "execution_count": null,
   "metadata": {
    "colab": {
     "base_uri": "https://localhost:8080/"
    },
    "id": "-j8-Wf229ztq",
    "outputId": "50d58193-f322-4918-f49d-83efe1d10714"
   },
   "outputs": [
    {
     "name": "stdout",
     "output_type": "stream",
     "text": [
      "StarWars test data normalised.\n"
     ]
    }
   ],
   "source": [
    "# Normalising StarWars test data\n",
    "mean = X1_test.mean(0)\n",
    "sd =  X1_test.std(0)\n",
    "\n",
    "X1_test = (X1_test-mean)/sd\n",
    "\n",
    "print(\"StarWars test data normalised.\")"
   ]
  },
  {
   "cell_type": "code",
   "execution_count": null,
   "metadata": {
    "colab": {
     "base_uri": "https://localhost:8080/"
    },
    "id": "MU856u1e-mnq",
    "outputId": "6747c6df-2737-4b78-af34-d9f3dff4b724"
   },
   "outputs": [
    {
     "name": "stdout",
     "output_type": "stream",
     "text": [
      "Testing Accuracy for StarWars is 0.5652173913043478\n"
     ]
    }
   ],
   "source": [
    "# Testing model using StarWars hum files\n",
    "test1_p = model.predict(X1_test)\n",
    "\n",
    "print('Testing Accuracy for StarWars is', np.mean(test1_p==y1_test))"
   ]
  },
  {
   "cell_type": "markdown",
   "metadata": {
    "id": "Qzf68V-UOw3f"
   },
   "source": [
    "#### **Section 6.2.2: Class 0**<br>\n",
    "Testing for false labels using Potter files from sample 2:"
   ]
  },
  {
   "cell_type": "code",
   "execution_count": null,
   "metadata": {
    "colab": {
     "base_uri": "https://localhost:8080/"
    },
    "id": "s1rXMH8KPdvn",
    "outputId": "2e472bc8-ba33-4a72-d709-8b08237c4113"
   },
   "outputs": [
    {
     "data": {
      "text/plain": [
       "70"
      ]
     },
     "execution_count": 25,
     "metadata": {},
     "output_type": "execute_result"
    }
   ],
   "source": [
    "# Loading StarWars test data\n",
    "sample_path = '/content/drive/MyDrive/Data2/MLEndHW2/potter_sample2/*.wav'\n",
    "files = glob.glob(sample_path)\n",
    "len(files)"
   ]
  },
  {
   "cell_type": "code",
   "execution_count": null,
   "metadata": {
    "colab": {
     "base_uri": "https://localhost:8080/"
    },
    "id": "-xDuYva4PznA",
    "outputId": "c3fc8e52-3dab-40ef-b923-a716b46547db"
   },
   "outputs": [
    {
     "name": "stdout",
     "output_type": "stream",
     "text": [
      "S155_hum_2_Potter.wav\n",
      "S156_hum_2_Potter.wav\n",
      "S157_hum_1_Potter.wav\n",
      "S157_hum_2_Potter.wav\n",
      "S158_hum_2_Potter.wav\n",
      "S159_hum_2_Potter.wav\n",
      "S160_hum_2_Potter.wav\n",
      "S161_hum_2_Potter.wav\n",
      "S163_hum_2_Potter.wav\n",
      "S165_hum_2_Potter.wav\n",
      "S166_hum_1_Potter.wav\n",
      "S166_hum_2_Potter.wav\n",
      "S167_hum_2_Potter.wav\n",
      "S168_hum_2_Potter.wav\n",
      "S169_hum_1_Potter.wav\n",
      "S169_hum_2_Potter.wav\n",
      "S170_hum_2_Potter.wav\n",
      "S171_hum_2_Potter.wav\n",
      "S172_hum_2_Potter.wav\n",
      "S173_hum_2_Potter.wav\n",
      "S174_hum_2_Potter.wav\n",
      "S175_hum_2_Potter.wav\n",
      "S176_hum_2_Potter.wav\n",
      "S177_hum_1_Potter.wav\n",
      "S177_hum_2_Potter.wav\n",
      "S179_hum_2_Potter.wav\n",
      "S180_hum_2_Potter.wav\n",
      "S182_hum_2_Potter.wav\n",
      "S183_hum_2_Potter.wav\n",
      "S184_hum_2_Potter.wav\n",
      "S185_hum_1_Potter.wav\n",
      "S185_hum_2_Potter.wav\n",
      "S187_hum_2_Potter.wav\n",
      "S188_hum_2_Potter.wav\n",
      "S190_hum_2_Potter.wav\n",
      "S191_hum_1_Potter.wav\n",
      "S191_hum_2_Potter.wav\n",
      "S192_hum_1_Potter.wav\n",
      "S192_hum_2_Potter.wav\n",
      "S193_hum_2_Potter.wav\n",
      "S195_hum_2_Potter.wav\n",
      "S196_hum_1_Potter.wav\n",
      "S196_hum_2_Potter.wav\n",
      "S197_hum_2_Potter.wav\n",
      "S198_hum_2_Potter.wav\n",
      "S199_hum_1_Potter.wav\n",
      "S199_Hum_2_Potter.wav\n",
      "S200_hum_2_Potter.wav\n",
      "S201_hum_1_Potter.wav\n",
      "S201_hum_2_Potter.wav\n",
      "S202_hum_1_Potter.wav\n",
      "S202_hum_2_Potter.wav\n",
      "S203_hum_2_Potter.wav\n",
      "S204_hum_2_Potter.wav\n",
      "S206_hum_1_Potter.wav\n",
      "S206_hum_2_Potter.wav\n",
      "S207_hum_2_Potter.wav\n",
      "S208_hum_2_Potter.wav\n",
      "S209_hum_2_Potter.wav\n",
      "S210_hum_1_Potter.wav\n",
      "S210_hum_2_Potter.wav\n",
      "S164_hum_1_Potter.wav\n",
      "S181_hum_1_Potter.wav\n",
      "S181_hum_2_Potter.wav\n",
      "S186_hum_1_Potter.wav\n",
      "S194_hum_1_Potter.wav\n",
      "S205_hum_1_Potter.wav\n",
      "S205_hum_2_Potter.wav\n",
      "S186_hum_2_Potter.wav\n",
      "S189_hum_2_Potter.wav\n"
     ]
    }
   ],
   "source": [
    "# Outputting file names\n",
    "for file in files:\n",
    "  print(file.split('/')[-1])"
   ]
  },
  {
   "cell_type": "code",
   "execution_count": null,
   "metadata": {
    "colab": {
     "base_uri": "https://localhost:8080/"
    },
    "id": "SikM-yA_QlEP",
    "outputId": "be98b4d5-2865-4e12-cc5b-1c11beb65f26"
   },
   "outputs": [
    {
     "data": {
      "text/plain": [
       "[['S155_hum_2_Potter.wav', 'S155', 'hum', '2', 'Potter'],\n",
       " ['S156_hum_2_Potter.wav', 'S156', 'hum', '2', 'Potter'],\n",
       " ['S157_hum_1_Potter.wav', 'S157', 'hum', '1', 'Potter'],\n",
       " ['S157_hum_2_Potter.wav', 'S157', 'hum', '2', 'Potter'],\n",
       " ['S158_hum_2_Potter.wav', 'S158', 'hum', '2', 'Potter'],\n",
       " ['S159_hum_2_Potter.wav', 'S159', 'hum', '2', 'Potter'],\n",
       " ['S160_hum_2_Potter.wav', 'S160', 'hum', '2', 'Potter'],\n",
       " ['S161_hum_2_Potter.wav', 'S161', 'hum', '2', 'Potter'],\n",
       " ['S163_hum_2_Potter.wav', 'S163', 'hum', '2', 'Potter'],\n",
       " ['S165_hum_2_Potter.wav', 'S165', 'hum', '2', 'Potter'],\n",
       " ['S166_hum_1_Potter.wav', 'S166', 'hum', '1', 'Potter'],\n",
       " ['S166_hum_2_Potter.wav', 'S166', 'hum', '2', 'Potter'],\n",
       " ['S167_hum_2_Potter.wav', 'S167', 'hum', '2', 'Potter'],\n",
       " ['S168_hum_2_Potter.wav', 'S168', 'hum', '2', 'Potter'],\n",
       " ['S169_hum_1_Potter.wav', 'S169', 'hum', '1', 'Potter'],\n",
       " ['S169_hum_2_Potter.wav', 'S169', 'hum', '2', 'Potter'],\n",
       " ['S170_hum_2_Potter.wav', 'S170', 'hum', '2', 'Potter'],\n",
       " ['S171_hum_2_Potter.wav', 'S171', 'hum', '2', 'Potter'],\n",
       " ['S172_hum_2_Potter.wav', 'S172', 'hum', '2', 'Potter'],\n",
       " ['S173_hum_2_Potter.wav', 'S173', 'hum', '2', 'Potter'],\n",
       " ['S174_hum_2_Potter.wav', 'S174', 'hum', '2', 'Potter'],\n",
       " ['S175_hum_2_Potter.wav', 'S175', 'hum', '2', 'Potter'],\n",
       " ['S176_hum_2_Potter.wav', 'S176', 'hum', '2', 'Potter'],\n",
       " ['S177_hum_1_Potter.wav', 'S177', 'hum', '1', 'Potter'],\n",
       " ['S177_hum_2_Potter.wav', 'S177', 'hum', '2', 'Potter'],\n",
       " ['S179_hum_2_Potter.wav', 'S179', 'hum', '2', 'Potter'],\n",
       " ['S180_hum_2_Potter.wav', 'S180', 'hum', '2', 'Potter'],\n",
       " ['S182_hum_2_Potter.wav', 'S182', 'hum', '2', 'Potter'],\n",
       " ['S183_hum_2_Potter.wav', 'S183', 'hum', '2', 'Potter'],\n",
       " ['S184_hum_2_Potter.wav', 'S184', 'hum', '2', 'Potter'],\n",
       " ['S185_hum_1_Potter.wav', 'S185', 'hum', '1', 'Potter'],\n",
       " ['S185_hum_2_Potter.wav', 'S185', 'hum', '2', 'Potter'],\n",
       " ['S187_hum_2_Potter.wav', 'S187', 'hum', '2', 'Potter'],\n",
       " ['S188_hum_2_Potter.wav', 'S188', 'hum', '2', 'Potter'],\n",
       " ['S190_hum_2_Potter.wav', 'S190', 'hum', '2', 'Potter'],\n",
       " ['S191_hum_1_Potter.wav', 'S191', 'hum', '1', 'Potter'],\n",
       " ['S191_hum_2_Potter.wav', 'S191', 'hum', '2', 'Potter'],\n",
       " ['S192_hum_1_Potter.wav', 'S192', 'hum', '1', 'Potter'],\n",
       " ['S192_hum_2_Potter.wav', 'S192', 'hum', '2', 'Potter'],\n",
       " ['S193_hum_2_Potter.wav', 'S193', 'hum', '2', 'Potter'],\n",
       " ['S195_hum_2_Potter.wav', 'S195', 'hum', '2', 'Potter'],\n",
       " ['S196_hum_1_Potter.wav', 'S196', 'hum', '1', 'Potter'],\n",
       " ['S196_hum_2_Potter.wav', 'S196', 'hum', '2', 'Potter'],\n",
       " ['S197_hum_2_Potter.wav', 'S197', 'hum', '2', 'Potter'],\n",
       " ['S198_hum_2_Potter.wav', 'S198', 'hum', '2', 'Potter'],\n",
       " ['S199_hum_1_Potter.wav', 'S199', 'hum', '1', 'Potter'],\n",
       " ['S199_Hum_2_Potter.wav', 'S199', 'Hum', '2', 'Potter'],\n",
       " ['S200_hum_2_Potter.wav', 'S200', 'hum', '2', 'Potter'],\n",
       " ['S201_hum_1_Potter.wav', 'S201', 'hum', '1', 'Potter'],\n",
       " ['S201_hum_2_Potter.wav', 'S201', 'hum', '2', 'Potter'],\n",
       " ['S202_hum_1_Potter.wav', 'S202', 'hum', '1', 'Potter'],\n",
       " ['S202_hum_2_Potter.wav', 'S202', 'hum', '2', 'Potter'],\n",
       " ['S203_hum_2_Potter.wav', 'S203', 'hum', '2', 'Potter'],\n",
       " ['S204_hum_2_Potter.wav', 'S204', 'hum', '2', 'Potter'],\n",
       " ['S206_hum_1_Potter.wav', 'S206', 'hum', '1', 'Potter'],\n",
       " ['S206_hum_2_Potter.wav', 'S206', 'hum', '2', 'Potter'],\n",
       " ['S207_hum_2_Potter.wav', 'S207', 'hum', '2', 'Potter'],\n",
       " ['S208_hum_2_Potter.wav', 'S208', 'hum', '2', 'Potter'],\n",
       " ['S209_hum_2_Potter.wav', 'S209', 'hum', '2', 'Potter'],\n",
       " ['S210_hum_1_Potter.wav', 'S210', 'hum', '1', 'Potter'],\n",
       " ['S210_hum_2_Potter.wav', 'S210', 'hum', '2', 'Potter'],\n",
       " ['S164_hum_1_Potter.wav', 'S164', 'hum', '1', 'Potter'],\n",
       " ['S181_hum_1_Potter.wav', 'S181', 'hum', '1', 'Potter'],\n",
       " ['S181_hum_2_Potter.wav', 'S181', 'hum', '2', 'Potter'],\n",
       " ['S186_hum_1_Potter.wav', 'S186', 'hum', '1', 'Potter'],\n",
       " ['S194_hum_1_Potter.wav', 'S194', 'hum', '1', 'Potter'],\n",
       " ['S205_hum_1_Potter.wav', 'S205', 'hum', '1', 'Potter'],\n",
       " ['S205_hum_2_Potter.wav', 'S205', 'hum', '2', 'Potter'],\n",
       " ['S186_hum_2_Potter.wav', 'S186', 'hum', '2', 'Potter'],\n",
       " ['S189_hum_2_Potter.wav', 'S189', 'hum', '2', 'Potter']]"
      ]
     },
     "execution_count": 27,
     "metadata": {},
     "output_type": "execute_result"
    }
   ],
   "source": [
    "# Extracting info from filenames\n",
    "test2_data_table = [] \n",
    "\n",
    "for file in files:\n",
    "  try:\n",
    "    file_name = file.split('/')[-1]\n",
    "    participant_ID = file.split('/')[-1].split('_')[0]\n",
    "    interpretation_type = file.split('/')[-1].split('_')[1]\n",
    "    interpretation_number = file.split('/')[-1].split('_')[2]\n",
    "    song = file.split('/')[-1].split('_')[3].split('.')[0]\n",
    "    test2_data_table.append([file_name,participant_ID,interpretation_type,interpretation_number, song])\n",
    "  except:\n",
    "    print(file_name)\n",
    "    \n",
    "test2_data_table"
   ]
  },
  {
   "cell_type": "code",
   "execution_count": null,
   "metadata": {
    "colab": {
     "base_uri": "https://localhost:8080/",
     "height": 455
    },
    "id": "LpalClvbQ1uP",
    "outputId": "e509e4fd-5fa1-4820-f3f3-9fde2ea7a398"
   },
   "outputs": [
    {
     "data": {
      "text/html": [
       "\n",
       "  <div id=\"df-b8444847-82b4-4ba1-8562-827b7d9babe8\">\n",
       "    <div class=\"colab-df-container\">\n",
       "      <div>\n",
       "<style scoped>\n",
       "    .dataframe tbody tr th:only-of-type {\n",
       "        vertical-align: middle;\n",
       "    }\n",
       "\n",
       "    .dataframe tbody tr th {\n",
       "        vertical-align: top;\n",
       "    }\n",
       "\n",
       "    .dataframe thead th {\n",
       "        text-align: right;\n",
       "    }\n",
       "</style>\n",
       "<table border=\"1\" class=\"dataframe\">\n",
       "  <thead>\n",
       "    <tr style=\"text-align: right;\">\n",
       "      <th></th>\n",
       "      <th>participant</th>\n",
       "      <th>interpretation</th>\n",
       "      <th>number</th>\n",
       "      <th>song</th>\n",
       "    </tr>\n",
       "    <tr>\n",
       "      <th>file_id</th>\n",
       "      <th></th>\n",
       "      <th></th>\n",
       "      <th></th>\n",
       "      <th></th>\n",
       "    </tr>\n",
       "  </thead>\n",
       "  <tbody>\n",
       "    <tr>\n",
       "      <th>S155_hum_2_Potter.wav</th>\n",
       "      <td>S155</td>\n",
       "      <td>hum</td>\n",
       "      <td>2</td>\n",
       "      <td>Potter</td>\n",
       "    </tr>\n",
       "    <tr>\n",
       "      <th>S156_hum_2_Potter.wav</th>\n",
       "      <td>S156</td>\n",
       "      <td>hum</td>\n",
       "      <td>2</td>\n",
       "      <td>Potter</td>\n",
       "    </tr>\n",
       "    <tr>\n",
       "      <th>S157_hum_1_Potter.wav</th>\n",
       "      <td>S157</td>\n",
       "      <td>hum</td>\n",
       "      <td>1</td>\n",
       "      <td>Potter</td>\n",
       "    </tr>\n",
       "    <tr>\n",
       "      <th>S157_hum_2_Potter.wav</th>\n",
       "      <td>S157</td>\n",
       "      <td>hum</td>\n",
       "      <td>2</td>\n",
       "      <td>Potter</td>\n",
       "    </tr>\n",
       "    <tr>\n",
       "      <th>S158_hum_2_Potter.wav</th>\n",
       "      <td>S158</td>\n",
       "      <td>hum</td>\n",
       "      <td>2</td>\n",
       "      <td>Potter</td>\n",
       "    </tr>\n",
       "    <tr>\n",
       "      <th>...</th>\n",
       "      <td>...</td>\n",
       "      <td>...</td>\n",
       "      <td>...</td>\n",
       "      <td>...</td>\n",
       "    </tr>\n",
       "    <tr>\n",
       "      <th>S194_hum_1_Potter.wav</th>\n",
       "      <td>S194</td>\n",
       "      <td>hum</td>\n",
       "      <td>1</td>\n",
       "      <td>Potter</td>\n",
       "    </tr>\n",
       "    <tr>\n",
       "      <th>S205_hum_1_Potter.wav</th>\n",
       "      <td>S205</td>\n",
       "      <td>hum</td>\n",
       "      <td>1</td>\n",
       "      <td>Potter</td>\n",
       "    </tr>\n",
       "    <tr>\n",
       "      <th>S205_hum_2_Potter.wav</th>\n",
       "      <td>S205</td>\n",
       "      <td>hum</td>\n",
       "      <td>2</td>\n",
       "      <td>Potter</td>\n",
       "    </tr>\n",
       "    <tr>\n",
       "      <th>S186_hum_2_Potter.wav</th>\n",
       "      <td>S186</td>\n",
       "      <td>hum</td>\n",
       "      <td>2</td>\n",
       "      <td>Potter</td>\n",
       "    </tr>\n",
       "    <tr>\n",
       "      <th>S189_hum_2_Potter.wav</th>\n",
       "      <td>S189</td>\n",
       "      <td>hum</td>\n",
       "      <td>2</td>\n",
       "      <td>Potter</td>\n",
       "    </tr>\n",
       "  </tbody>\n",
       "</table>\n",
       "<p>70 rows × 4 columns</p>\n",
       "</div>\n",
       "      <button class=\"colab-df-convert\" onclick=\"convertToInteractive('df-b8444847-82b4-4ba1-8562-827b7d9babe8')\"\n",
       "              title=\"Convert this dataframe to an interactive table.\"\n",
       "              style=\"display:none;\">\n",
       "        \n",
       "  <svg xmlns=\"http://www.w3.org/2000/svg\" height=\"24px\"viewBox=\"0 0 24 24\"\n",
       "       width=\"24px\">\n",
       "    <path d=\"M0 0h24v24H0V0z\" fill=\"none\"/>\n",
       "    <path d=\"M18.56 5.44l.94 2.06.94-2.06 2.06-.94-2.06-.94-.94-2.06-.94 2.06-2.06.94zm-11 1L8.5 8.5l.94-2.06 2.06-.94-2.06-.94L8.5 2.5l-.94 2.06-2.06.94zm10 10l.94 2.06.94-2.06 2.06-.94-2.06-.94-.94-2.06-.94 2.06-2.06.94z\"/><path d=\"M17.41 7.96l-1.37-1.37c-.4-.4-.92-.59-1.43-.59-.52 0-1.04.2-1.43.59L10.3 9.45l-7.72 7.72c-.78.78-.78 2.05 0 2.83L4 21.41c.39.39.9.59 1.41.59.51 0 1.02-.2 1.41-.59l7.78-7.78 2.81-2.81c.8-.78.8-2.07 0-2.86zM5.41 20L4 18.59l7.72-7.72 1.47 1.35L5.41 20z\"/>\n",
       "  </svg>\n",
       "      </button>\n",
       "      \n",
       "  <style>\n",
       "    .colab-df-container {\n",
       "      display:flex;\n",
       "      flex-wrap:wrap;\n",
       "      gap: 12px;\n",
       "    }\n",
       "\n",
       "    .colab-df-convert {\n",
       "      background-color: #E8F0FE;\n",
       "      border: none;\n",
       "      border-radius: 50%;\n",
       "      cursor: pointer;\n",
       "      display: none;\n",
       "      fill: #1967D2;\n",
       "      height: 32px;\n",
       "      padding: 0 0 0 0;\n",
       "      width: 32px;\n",
       "    }\n",
       "\n",
       "    .colab-df-convert:hover {\n",
       "      background-color: #E2EBFA;\n",
       "      box-shadow: 0px 1px 2px rgba(60, 64, 67, 0.3), 0px 1px 3px 1px rgba(60, 64, 67, 0.15);\n",
       "      fill: #174EA6;\n",
       "    }\n",
       "\n",
       "    [theme=dark] .colab-df-convert {\n",
       "      background-color: #3B4455;\n",
       "      fill: #D2E3FC;\n",
       "    }\n",
       "\n",
       "    [theme=dark] .colab-df-convert:hover {\n",
       "      background-color: #434B5C;\n",
       "      box-shadow: 0px 1px 3px 1px rgba(0, 0, 0, 0.15);\n",
       "      filter: drop-shadow(0px 1px 2px rgba(0, 0, 0, 0.3));\n",
       "      fill: #FFFFFF;\n",
       "    }\n",
       "  </style>\n",
       "\n",
       "      <script>\n",
       "        const buttonEl =\n",
       "          document.querySelector('#df-b8444847-82b4-4ba1-8562-827b7d9babe8 button.colab-df-convert');\n",
       "        buttonEl.style.display =\n",
       "          google.colab.kernel.accessAllowed ? 'block' : 'none';\n",
       "\n",
       "        async function convertToInteractive(key) {\n",
       "          const element = document.querySelector('#df-b8444847-82b4-4ba1-8562-827b7d9babe8');\n",
       "          const dataTable =\n",
       "            await google.colab.kernel.invokeFunction('convertToInteractive',\n",
       "                                                     [key], {});\n",
       "          if (!dataTable) return;\n",
       "\n",
       "          const docLinkHtml = 'Like what you see? Visit the ' +\n",
       "            '<a target=\"_blank\" href=https://colab.research.google.com/notebooks/data_table.ipynb>data table notebook</a>'\n",
       "            + ' to learn more about interactive tables.';\n",
       "          element.innerHTML = '';\n",
       "          dataTable['output_type'] = 'display_data';\n",
       "          await google.colab.output.renderOutput(dataTable, element);\n",
       "          const docLink = document.createElement('div');\n",
       "          docLink.innerHTML = docLinkHtml;\n",
       "          element.appendChild(docLink);\n",
       "        }\n",
       "      </script>\n",
       "    </div>\n",
       "  </div>\n",
       "  "
      ],
      "text/plain": [
       "                      participant interpretation number    song\n",
       "file_id                                                        \n",
       "S155_hum_2_Potter.wav        S155            hum      2  Potter\n",
       "S156_hum_2_Potter.wav        S156            hum      2  Potter\n",
       "S157_hum_1_Potter.wav        S157            hum      1  Potter\n",
       "S157_hum_2_Potter.wav        S157            hum      2  Potter\n",
       "S158_hum_2_Potter.wav        S158            hum      2  Potter\n",
       "...                           ...            ...    ...     ...\n",
       "S194_hum_1_Potter.wav        S194            hum      1  Potter\n",
       "S205_hum_1_Potter.wav        S205            hum      1  Potter\n",
       "S205_hum_2_Potter.wav        S205            hum      2  Potter\n",
       "S186_hum_2_Potter.wav        S186            hum      2  Potter\n",
       "S189_hum_2_Potter.wav        S189            hum      2  Potter\n",
       "\n",
       "[70 rows x 4 columns]"
      ]
     },
     "execution_count": 28,
     "metadata": {},
     "output_type": "execute_result"
    }
   ],
   "source": [
    "# Creating dataframe of Potter test files\n",
    "test2_data_df = pd.DataFrame(test2_data_table,columns=['file_id','participant','interpretation','number','song']).set_index('file_id') \n",
    "test2_data_df"
   ]
  },
  {
   "cell_type": "code",
   "execution_count": null,
   "metadata": {
    "colab": {
     "base_uri": "https://localhost:8080/"
    },
    "id": "wcb6fVDGSfpX",
    "outputId": "03e4841f-0e89-4737-8a23-cfa2767ccb66"
   },
   "outputs": [
    {
     "name": "stderr",
     "output_type": "stream",
     "text": [
      "100%|██████████| 70/70 [03:50<00:00,  3.30s/it]\n"
     ]
    }
   ],
   "source": [
    "# Creating Potter test arrays\n",
    "X2_test,y2_test = getXy(files, labels_file=test2_data_df, scale_audio=True, onlySingleDigit=True)"
   ]
  },
  {
   "cell_type": "code",
   "execution_count": null,
   "metadata": {
    "colab": {
     "base_uri": "https://localhost:8080/"
    },
    "id": "UWDONWKtS50o",
    "outputId": "d88e66bc-1639-4ae1-e2e9-0ba914aa8604"
   },
   "outputs": [
    {
     "name": "stdout",
     "output_type": "stream",
     "text": [
      "The shape of X2_test is (70, 4)\n",
      "The shape of y2_test is (70,)\n",
      "The features matrix is [[4.95476205e-02 1.94632747e+02 4.76049717e+01 8.90649762e-01]\n",
      " [1.10784931e-01 3.34012826e+02 6.53425353e+01 8.55380398e-01]\n",
      " [5.81637583e-02 3.28034088e+02 6.38598631e+01 8.74641834e-01]\n",
      " [3.88690236e-02 3.15976009e+02 6.17583792e+01 8.79831342e-01]\n",
      " [9.75654389e-04 1.58089534e+02 4.50818990e+01 6.51574803e-01]\n",
      " [3.83276450e-02 1.78047177e+02 3.85875162e+01 6.97208738e-01]\n",
      " [5.40660186e-02 1.76546413e+02 3.64734953e+01 7.32255798e-01]\n",
      " [2.92108152e-02 1.31276817e+02 3.35135544e+01 8.46762590e-01]\n",
      " [7.20354242e-02 1.59955427e+02 2.71549388e+01 7.51713633e-01]\n",
      " [1.81691902e-03 1.72736544e+02 3.82057350e+01 5.83734617e-01]\n",
      " [4.13946184e-02 3.24745991e+02 6.60763330e+01 8.52509653e-01]\n",
      " [5.08846242e-02 3.36594815e+02 6.46604346e+01 7.72200772e-01]\n",
      " [1.03243906e-01 1.59938486e+02 3.04685561e+01 6.95094340e-01]\n",
      " [1.89953410e-02 2.16332023e+02 3.12571291e+01 8.07951482e-01]\n",
      " [2.90136546e-02 2.87373148e+02 4.31999891e+01 7.08982036e-01]\n",
      " [2.80441035e-02 2.15601450e+02 3.71961417e+01 6.83654444e-01]\n",
      " [5.33475979e-02 1.29591381e+02 2.14202534e+01 6.82235835e-01]\n",
      " [2.83273005e-02 1.81819205e+02 4.07696833e+01 6.64021164e-01]\n",
      " [1.83409571e-02 3.20662636e+02 6.48805841e+01 9.41493457e-01]\n",
      " [4.48222364e-02 1.28941289e+02 5.66276851e+01 6.60073597e-01]\n",
      " [4.04264019e-02 1.86953350e+02 4.64190193e+01 8.11147541e-01]\n",
      " [4.45918526e-02 1.08655603e+02 1.80203660e+01 5.37303217e-01]\n",
      " [4.16441675e-02 2.35284684e+02 4.46721255e+01 8.77112135e-01]\n",
      " [3.74375775e-02 3.17415794e+02 6.30041620e+01 8.04633205e-01]\n",
      " [3.24807804e-02 3.23281890e+02 6.96822930e+01 8.41820988e-01]\n",
      " [5.18573532e-02 3.20619141e+02 6.51484853e+01 9.30587338e-01]\n",
      " [4.16642157e-02 2.53443078e+02 5.86281535e+01 9.34782609e-01]\n",
      " [2.05035935e-02 3.74800818e+02 5.62211064e+01 7.10941753e-01]\n",
      " [2.89085918e-02 1.29843901e+02 2.95919656e+01 6.40768588e-01]\n",
      " [1.26321396e-02 2.35242729e+02 3.12662024e+01 7.60886173e-01]\n",
      " [3.26904471e-02 1.97583171e+02 5.35105982e+01 8.52975496e-01]\n",
      " [2.90208648e-02 1.88491665e+02 4.58474268e+01 8.37073982e-01]\n",
      " [4.33040401e-02 1.72588850e+02 3.31447796e+01 8.01408451e-01]\n",
      " [3.80171440e-02 1.87521909e+02 4.81067298e+01 8.21321321e-01]\n",
      " [1.85214541e-02 1.84774831e+02 4.14924620e+01 8.05194805e-01]\n",
      " [3.38297329e-02 1.99982582e+02 4.75340051e+01 8.88554217e-01]\n",
      " [2.92835888e-02 2.01206263e+02 4.94295611e+01 8.66279070e-01]\n",
      " [6.51812823e-02 1.92174662e+02 4.75956973e+01 8.35552597e-01]\n",
      " [4.62178324e-02 1.86221428e+02 4.73872660e+01 8.23765020e-01]\n",
      " [2.56852239e-02 1.90689873e+02 4.33100021e+01 7.91755508e-01]\n",
      " [6.80565921e-02 1.93824659e+02 4.73188353e+01 8.50503486e-01]\n",
      " [5.26025388e-02 2.27337094e+02 3.94510509e+01 8.82102273e-01]\n",
      " [7.51559212e-02 2.24241189e+02 3.78356789e+01 9.14224446e-01]\n",
      " [3.69551586e-02 1.18775946e+02 2.49288045e+01 6.21145374e-01]\n",
      " [5.05168378e-02 2.02528840e+02 4.67956567e+01 7.08737864e-01]\n",
      " [1.72178038e-02 3.27199339e+02 7.07535929e+01 6.54116466e-01]\n",
      " [3.33802886e-02 3.20665848e+02 7.41355896e+01 8.51076207e-01]\n",
      " [1.54662352e-02 3.34693591e+02 4.39242866e+01 8.96819240e-01]\n",
      " [6.45315989e-03 1.49493110e+02 3.25770500e+01 7.31856379e-01]\n",
      " [7.31886644e-03 1.42159027e+02 3.06899022e+01 6.96945967e-01]\n",
      " [5.55654035e-02 3.32629061e+02 4.31970037e+01 8.28957836e-01]\n",
      " [4.40544382e-02 3.23776610e+02 5.22115295e+01 8.83036406e-01]\n",
      " [3.90237065e-02 1.45202376e+02 2.76559757e+01 6.68206313e-01]\n",
      " [3.28849738e-02 1.17113863e+02 2.41655053e+01 7.22095672e-01]\n",
      " [3.15877443e-02 3.27056423e+02 6.35267985e+01 7.33160622e-01]\n",
      " [2.93696023e-02 3.25881298e+02 6.17043404e+01 6.79680568e-01]\n",
      " [7.77075203e-02 1.81996986e+02 3.97010095e+01 9.07289455e-01]\n",
      " [4.55028856e-02 1.75331875e+02 4.36700229e+01 8.72325250e-01]\n",
      " [2.66981026e-02 1.02898331e+02 2.28684331e+01 6.02573267e-01]\n",
      " [3.02374804e-02 1.86535364e+02 4.95348412e+01 8.46569005e-01]\n",
      " [3.85451508e-02 1.90697756e+02 4.98771609e+01 8.42428901e-01]\n",
      " [4.54489429e-02 1.54799310e+02 3.41369838e+01 7.99691834e-01]\n",
      " [2.33466462e-02 1.06213867e+02 2.68580092e+01 9.37597504e-01]\n",
      " [3.04770403e-02 1.27419934e+02 5.93971115e+01 9.37692782e-01]\n",
      " [4.03320448e-02 2.79341104e+02 6.42476525e+01 7.97546012e-01]\n",
      " [5.38400041e-02 1.64873180e+02 3.41069674e+01 7.01618578e-01]\n",
      " [4.71792713e-02 3.14466461e+02 6.40496992e+01 9.39560440e-01]\n",
      " [6.17918396e-02 3.23168529e+02 6.11626140e+01 9.12710567e-01]\n",
      " [3.99284984e-02 2.81996973e+02 6.53408238e+01 7.81634129e-01]\n",
      " [5.92824236e-02 1.61952600e+02 3.35372588e+01 8.47089487e-01]]\n",
      "The labels vector is [False False False False False False False False False False False False\n",
      " False False False False False False False False False False False False\n",
      " False False False False False False False False False False False False\n",
      " False False False False False False False False False False False False\n",
      " False False False False False False False False False False False False\n",
      " False False False False False False False False False False]\n"
     ]
    }
   ],
   "source": [
    "# Outputting shapes and arrays\n",
    "print('The shape of X2_test is', X2_test.shape) \n",
    "print('The shape of y2_test is', y2_test.shape)\n",
    "print('The features matrix is', X2_test)\n",
    "print('The labels vector is', y2_test)"
   ]
  },
  {
   "cell_type": "code",
   "execution_count": null,
   "metadata": {
    "colab": {
     "base_uri": "https://localhost:8080/"
    },
    "id": "iEiV65dVTVvI",
    "outputId": "07771bb2-a6a5-4325-d251-8d87ac380f6f"
   },
   "outputs": [
    {
     "name": "stdout",
     "output_type": "stream",
     "text": [
      "Potter test data normalised.\n"
     ]
    }
   ],
   "source": [
    "# Normalising Potter test data\n",
    "mean = X2_test.mean(0)\n",
    "sd =  X2_test.std(0)\n",
    "\n",
    "X2_test = (X2_test-mean)/sd\n",
    "\n",
    "print(\"Potter test data normalised.\")"
   ]
  },
  {
   "cell_type": "code",
   "execution_count": null,
   "metadata": {
    "colab": {
     "base_uri": "https://localhost:8080/"
    },
    "id": "68_Io_PvTttx",
    "outputId": "6e938c2b-f12b-4578-ea81-c43ff1878642"
   },
   "outputs": [
    {
     "name": "stdout",
     "output_type": "stream",
     "text": [
      "Testing Accuracy for Potter is 0.5428571428571428\n"
     ]
    }
   ],
   "source": [
    "# Testing model using StarWars hum files\n",
    "test2_p = model.predict(X2_test)\n",
    "\n",
    "print('Testing Accuracy for Potter is', np.mean(test2_p==y2_test))"
   ]
  },
  {
   "cell_type": "markdown",
   "metadata": {
    "id": "oJ01ZXgY3K6y"
   },
   "source": [
    "### **Section 7: Dataset**<br> \n",
    "The dataset for this analysis is the MLEnd Hums and Whistles public dataset version 0. It consists of participant-submitted 15-second humming and whistling recordings of fragments of 8 different movie songs. Each participant submitted 2 humming and 2 whistling renditions per song (32 per participant), along with their demographic data. Demographic data is currently unavailable for this task.<br> \n",
    "\n",
    "With 210 participants there are 210 x 4 x 8 = 6720 audio files, anonymised with sample numbers, e.g. S12.\n"
   ]
  },
  {
   "cell_type": "markdown",
   "metadata": {
    "id": "_Vgdjv9rgzsi"
   },
   "source": [
    "### **Section 8: Results**<br> \n",
    "The results obtained with the dataset and pipeline above can be summarised as:<br> \n",
    "\n",
    "**i. Training Accuracy** "
   ]
  },
  {
   "cell_type": "code",
   "execution_count": null,
   "metadata": {
    "colab": {
     "base_uri": "https://localhost:8080/"
    },
    "id": "M2wqkDc_j25o",
    "outputId": "04c52a39-5f52-4008-bf1e-d0faae675a6d"
   },
   "outputs": [
    {
     "name": "stdout",
     "output_type": "stream",
     "text": [
      "The training accuracy of the pipeline was obtained to be:  0.81\n"
     ]
    }
   ],
   "source": [
    "# Training accuracy at 2 decimal places\n",
    "print(\"The training accuracy of the pipeline was obtained to be: \", str(round(0.813953488372093, 2)))"
   ]
  },
  {
   "cell_type": "markdown",
   "metadata": {
    "id": "2WFu1eQIiYVe"
   },
   "source": [
    "**ii. Validation Accuracy**"
   ]
  },
  {
   "cell_type": "code",
   "execution_count": null,
   "metadata": {
    "colab": {
     "base_uri": "https://localhost:8080/"
    },
    "id": "_FZxWuqfkk1B",
    "outputId": "75174e0d-7eb3-4e8f-d0b1-26a32fbb16f7"
   },
   "outputs": [
    {
     "name": "stdout",
     "output_type": "stream",
     "text": [
      "The validation accuracy of the pipeline was obtained to be:  0.6\n"
     ]
    }
   ],
   "source": [
    "# Training accuracy at 2 decimal places\n",
    "print(\"The validation accuracy of the pipeline was obtained to be: \", str(round(0.5977011494252874, 2)))"
   ]
  },
  {
   "cell_type": "markdown",
   "metadata": {
    "id": "9WNkWZTQiim6"
   },
   "source": [
    "**iii. Support Vectors**<br> \n",
    "The support vectors are **(237, 4)**, from the output of one of the computation cells in Section 6.1 above. This represents a matrix of 4 vectors with 237 values each in the immediate vicinity of the decision boundary or hyperplane that directly impact its position and orientation, and maximise the margin between classes."
   ]
  },
  {
   "cell_type": "markdown",
   "metadata": {
    "id": "0o-b6qtMlKDo"
   },
   "source": [
    "**iv. True Class Test Accuracy**"
   ]
  },
  {
   "cell_type": "code",
   "execution_count": null,
   "metadata": {
    "colab": {
     "base_uri": "https://localhost:8080/"
    },
    "id": "FwvwxaMAmO84",
    "outputId": "39e3615c-ea75-4046-eef8-527feb9524cd"
   },
   "outputs": [
    {
     "name": "stdout",
     "output_type": "stream",
     "text": [
      "The testing accuracy of the true class was obtained to be:  0.57\n"
     ]
    }
   ],
   "source": [
    "# Testing accuracy of true class at 2 decimal places\n",
    "print(\"The testing accuracy of the true class was obtained to be: \", str(round(0.5652173913043478, 2)))"
   ]
  },
  {
   "cell_type": "markdown",
   "metadata": {
    "id": "zBW4E8rZlaKN"
   },
   "source": [
    "**v. False Class Test Acuracy**"
   ]
  },
  {
   "cell_type": "code",
   "execution_count": null,
   "metadata": {
    "colab": {
     "base_uri": "https://localhost:8080/"
    },
    "id": "34btfwW6m7U3",
    "outputId": "2f97d7bd-9a21-4258-b3b1-d847accb96be"
   },
   "outputs": [
    {
     "name": "stdout",
     "output_type": "stream",
     "text": [
      "The testing accuracy of the false class was obtained to be:  0.54\n"
     ]
    }
   ],
   "source": [
    "# Testing accuracy of false class at 2 decimal places\n",
    "print(\"The testing accuracy of the false class was obtained to be: \", str(round(0.5428571428571428, 2)))"
   ]
  },
  {
   "cell_type": "markdown",
   "metadata": {
    "id": "xbUVjU43gvyR"
   },
   "source": [
    "### **Section 9: Conclusions**<br> \n",
    "The obtained training accuracy of 0.81 can be described as fairly good considering that audio files are complex, and with participant submissions being very varied and sometimes inconsistent, for the machine learning model to achieve such accuracy is fairly satisfactory. Besides, the number of available samples used in model training, after cleaning, were only 345.<br>  \n",
    "\n",
    "The testing accuracies of 0.57 and 0.54 however cannot be described as good, they are infact not good at all considering this is a binary classification, so obtained testing accuracies of essentially 0.5 is the worst possible outcome.<br> \n",
    "\n",
    "Evidence of overfitting in this model can be described as high. A general sign of overfitting, among many, is extremely high accuracy for training e.g. 99% and not so high for evaluation / validation / testing,  e.g. 75%. Although the obtained training accuracy in this model is itself not high, the disparity between it and the validation and testing accuracies suggest overfitting to the training data."
   ]
  }
 ],
 "metadata": {
  "colab": {
   "authorship_tag": "ABX9TyMSCGFLNk5FbfuYxeXwRw3d",
   "collapsed_sections": [],
   "name": "Principles_of_Machine_Learning_miniproject_basic.ipynb",
   "provenance": []
  },
  "kernelspec": {
   "display_name": "Python 3",
   "language": "python",
   "name": "python3"
  },
  "language_info": {
   "codemirror_mode": {
    "name": "ipython",
    "version": 3
   },
   "file_extension": ".py",
   "mimetype": "text/x-python",
   "name": "python",
   "nbconvert_exporter": "python",
   "pygments_lexer": "ipython3",
   "version": "3.8.8"
  }
 },
 "nbformat": 4,
 "nbformat_minor": 1
}

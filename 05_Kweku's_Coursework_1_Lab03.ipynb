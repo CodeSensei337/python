{
  "nbformat": 4,
  "nbformat_minor": 5,
  "metadata": {
    "kernelspec": {
      "display_name": "Python 3",
      "language": "python",
      "name": "python3"
    },
    "language_info": {
      "codemirror_mode": {
        "name": "ipython",
        "version": 3
      },
      "file_extension": ".py",
      "mimetype": "text/x-python",
      "name": "python",
      "nbconvert_exporter": "python",
      "pygments_lexer": "ipython3",
      "version": "3.8.8"
    },
    "colab": {
      "name": "05 - Kweku's Coursework 1 Lab03.ipynb",
      "provenance": []
    }
  },
  "cells": [
    {
      "cell_type": "code",
      "metadata": {
        "id": "9e9c3918"
      },
      "source": [
        "# Description of problem.\n",
        "Given a dataset of n values (xi, yi) such that\n",
        "n = 10\n",
        "x = (x1, x2, ..., x10)\n",
        "y = (y1, y2, ..., y10)\n",
        "\n",
        "Q1: Write an algorithm in pseudocode that obtains values for the slope b and y-intercept a, such that \n",
        "    the mean squared errors (MSE) are minimised (MMSE).\n",
        "\n",
        "Q2: Using the formula obtained in Q1 above, calculate (in pseudocode here but on own paper for own verification) values \n",
        "    for a and b from a dataset of 3 values ({(𝑥1,𝑦1),(𝑥2,𝑦2),(𝑥3,𝑦3)}) such that xi maps to yi.\n",
        "\n",
        "Q3: Implement by transfering English and Maths pseudocode to Python.\n",
        "    \n",
        "Q4: Test implementation using dataset from answer to Q2 as well as other datasets."
      ],
      "id": "9e9c3918",
      "execution_count": null,
      "outputs": []
    },
    {
      "cell_type": "code",
      "metadata": {
        "id": "5f1c54e3"
      },
      "source": [
        "Q1 \n",
        "# pseudocode steps below are comparable to high-level language, i.e. not very broken down/explicit.\n",
        "# For a straight line,\n",
        "y = mx + c  # using this to replace of y = a + bx to avoid variable-name mix-up later down the code.\n",
        "n = 10\n",
        "x_mean = (sum of xi)/n \n",
        "y_mean = (sum of yi)/n\n",
        "\n",
        "plot graph of y vs x as a straight line\n",
        "let yi_hat = y value on straight line\n",
        "\n",
        "# calculating residual errors or y-residuals ei\n",
        "let ei = yi - y_hat = residual of the ith value = yi - c - m * xi\n",
        "\n",
        "# the best line is the one that minimises the sum of the squared residuals\n",
        "compute the values of c and m such that sum of (yi - c - m * xi) ** 2 is minimal\n",
        "\n",
        "# solution of regression of y on x\n",
        "deviation about x = n * sum of (xi * xi) - sum of (xi * xi) \n",
        "cross_deviation about x = n * sum of (xi * yi) - sum of xi * (sum of yi)\n",
        "\n",
        "# rearranging solution \n",
        "c = y_mean - (slope * x_mean) -- eqn_1\n",
        "m = (cross_deviation about x) / (deviation about x) -- eqn_2\n",
        "\n",
        "solve eqn_2 to obtain value for m \n",
        "substitute m value into eqn 1 to obtain value for c\n",
        "\n"
      ],
      "id": "5f1c54e3",
      "execution_count": null,
      "outputs": []
    },
    {
      "cell_type": "markdown",
      "metadata": {
        "id": "93c8ec30"
      },
      "source": [
        "\n",
        "Q2"
      ],
      "id": "93c8ec30"
    },
    {
      "cell_type": "code",
      "metadata": {
        "id": "83fd6756",
        "outputId": "0c1fc1a1-1cda-46a7-8226-4ad6c8ffb285"
      },
      "source": [
        "# Rewriting dataset of 3 values ({(x1, y1), (x2, y2), (x3, y3)}) as list with float values.\n",
        "# source of list is my imagination with linearity in mind.\n",
        "x = [2.9, 5.8, 9.1] \n",
        "y = [3.0, 6.3, 10.1]\n",
        "n = 3\n",
        "\n",
        "# Calculating mean for each list\n",
        "x_mean = (2.9 + 5.8 + 9.1) / 3\n",
        "y_mean = (3.0 + 6.3 + 10.1) / 3\n",
        "print(\"The mean of x is {}. \".format(x_mean))\n",
        "print(\"The mean of y is {}. \".format(y_mean))\n",
        "\n",
        "# eqn_1 from above becomes 6.5 = c + m * 5.9\n",
        "\n",
        "# calculating deviation about x\n",
        "sum_of_xi_squared = (2.9 * 2.9) + (5.8 * 5.8) + (9.1 * 9.1)\n",
        "print(\"The sum of xi squared is {}. \".format(sum_of_xi_squared))\n",
        "\n",
        "eqn_3 = n * sum_of_xi_squared\n",
        "print(\"n times sum of xi squared is {}. \".format(n * sum_of_xi_squared))\n",
        "\n",
        "devn_about_x = eqn_3 - sum_of_xi_squared\n",
        "print(\"The deviation about x is {}. \".format(devn_about_x))\n",
        "\n",
        "# calculating cross-deviation about x\n",
        "sum_of_xiyi = (2.9 * 3.0) + (5.8 * 6.3) + (9.1 * 10.1)\n",
        "print(\"The sum of xiyi is {}. \".format(sum_of_xiyi))\n",
        "\n",
        "eqn_4 = n * sum_of_xiyi\n",
        "print(\"n times sum of xiyi is {}. \".format(n * sum_of_xiyi))\n",
        "\n",
        "sum_of_xi = (2.9 + 5.8 + 9.1)\n",
        "print(\"The sum of xi is {}. \".format(sum_of_xi))\n",
        "\n",
        "sum_of_yi = (3.0 + 6.3 + 10.1)\n",
        "print(\"The sum of yi is {}. \".format(sum_of_yi))\n",
        "\n",
        "eqn_5 = sum_of_xi * sum_of_yi\n",
        "print(\"The sum of xi times sum yi is {}. \".format(sum_of_xi * sum_of_yi))\n",
        "\n",
        "cross_deviation_about_x = eqn_4 - eqn_5\n",
        "print(\"The cross deviation about x is {}. \".format(cross_deviation_about_x))\n",
        "\n",
        "# substituting to obtain m\n",
        "m = cross_deviation_about_x / devn_about_x\n",
        "print(\"The value of m is given by the expression = cross deviation about x / deviation about x\")\n",
        "print(\"m is {}. \".format(m))\n",
        "\n",
        "# substituting value of m into eqn_1 to obtain c\n",
        "# y_mean = c + m * x_mean\n",
        "# 6.5 = c + (0.26 * 5.9)\n",
        "c = 6.5 - 1.56\n",
        "print(\"c is {}. \".format(c))\n",
        "\n",
        "# Therefore resulting values for a and b (equivalent to c and m) are 4.9 and 0.26 respectively."
      ],
      "id": "83fd6756",
      "execution_count": null,
      "outputs": [
        {
          "name": "stdout",
          "output_type": "stream",
          "text": [
            "The mean of x is 5.933333333333333. \n",
            "The mean of y is 6.466666666666666. \n",
            "The sum of xi squared is 124.85999999999999. \n",
            "n times sum of xi squared is 374.5799999999999. \n",
            "The deviation about x is 249.71999999999994. \n",
            "The sum of xiyi is 137.14999999999998. \n",
            "n times sum of xiyi is 411.44999999999993. \n",
            "The sum of xi is 17.799999999999997. \n",
            "The sum of yi is 19.4. \n",
            "The sum of xi times sum yi is 345.31999999999994. \n",
            "The cross deviation about x is 66.13. \n",
            "The value of m is given by the expression = cross deviation about x / deviation about x\n",
            "m is 0.2648165945859363. \n",
            "c is 4.9399999999999995. \n"
          ]
        }
      ]
    },
    {
      "cell_type": "markdown",
      "metadata": {
        "id": "a75fa9e9"
      },
      "source": [
        "\n",
        "Q3"
      ],
      "id": "a75fa9e9"
    },
    {
      "cell_type": "code",
      "metadata": {
        "id": "9afa0625",
        "outputId": "5daee666-0184-433e-8c8d-d17d57eb2f7e"
      },
      "source": [
        "# Implementation of above pseudocode in Python 3.8\n",
        "\n",
        "# Adapted and customised code originally from www.geeksforgeeks.org\n",
        "\n",
        "import numpy as np\n",
        "import matplotlib.pyplot as plt\n",
        "   \n",
        "def estimate_c_and_m(x, y):\n",
        "    # number of values    \n",
        "    n = np.size(x)\n",
        "  \n",
        "    # mean of x and y\n",
        "    x_mean = np.mean(x)\n",
        "    y_mean = np.mean(y)\n",
        "  \n",
        "    # calculating deviation and cross-deviation about x\n",
        "    Deviation_about_x = np.sum(x*x) - n*x_mean*x_mean\n",
        "    Cross_deviation_about_x = np.sum(y*x) - n*y_mean*x_mean\n",
        "    \n",
        "  \n",
        "    # calculating regression coefficients\n",
        "    m = Cross_deviation_about_x / Deviation_about_x\n",
        "    c = y_mean - m*x_mean\n",
        "  \n",
        "    return (c, m)\n",
        "  \n",
        "def plot_regression_line(x, y, m):\n",
        "    # plotting the actual points as scatter plot\n",
        "    plt.scatter(x, y, color = \"m\",\n",
        "               marker = \"o\", s = 30)\n",
        "  \n",
        "    # predicted x-y relationship\n",
        "    y_pred = m[0] + m[1]*x\n",
        "  \n",
        "    # plotting the regression line\n",
        "    plt.plot(x, y_pred, color = \"g\")\n",
        "  \n",
        "    # labelling axes\n",
        "    plt.xlabel('x')\n",
        "    plt.ylabel('y')\n",
        "  \n",
        "    # function to output plot\n",
        "    plt.show()\n",
        "  \n",
        "def main():\n",
        "    # data values\n",
        "    x = np.array([0, 1, 2, 3, 4, 5, 6, 7, 8, 9])\n",
        "    y = np.array([1, 3, 2, 5, 7, 8, 8, 9, 10, 12])\n",
        "  \n",
        "    # estimating coefficients\n",
        "    m = estimate_c_and_m(x, y)\n",
        "    print(\"Estimated coefficients:\\nc = {}  \\\n",
        "          \\nm = {}\".format(m[0], m[1]))\n",
        "  \n",
        "    # plotting regression line\n",
        "    plot_regression_line(x, y, m)\n",
        "  \n",
        "if __name__ == \"__main__\":\n",
        "    main()"
      ],
      "id": "9afa0625",
      "execution_count": null,
      "outputs": [
        {
          "name": "stdout",
          "output_type": "stream",
          "text": [
            "Estimated coefficients:\n",
            "c = 1.2363636363636363            \n",
            "m = 1.1696969696969697\n"
          ]
        },
        {
          "data": {
            "image/png": "[encoded data removed]",
            "text/plain": [
              "<Figure size 432x288 with 1 Axes>"
            ]
          },
          "metadata": {
            "needs_background": "light"
          },
          "output_type": "display_data"
        }
      ]
    },
    {
      "cell_type": "markdown",
      "metadata": {
        "id": "1c3b6f1a"
      },
      "source": [
        "\n",
        "Q4"
      ],
      "id": "1c3b6f1a"
    },
    {
      "cell_type": "code",
      "metadata": {
        "id": "729f5d6e",
        "outputId": "f429f812-257f-40ed-f17e-849ccfbf9042"
      },
      "source": [
        "# Testing implementation with 3 different datasets\n",
        "# 1st test dataset : from Q2 above\n",
        "\n",
        "# x = [2.9, 5.8, 9.1] \n",
        "# y = [3.0, 6.3, 10.1]\n",
        "# n = 3\n",
        "\n",
        "import numpy as np\n",
        "import matplotlib.pyplot as plt\n",
        "   \n",
        "def estimate_coef(x, y):\n",
        "    # number of values    \n",
        "    n = np.size(x)\n",
        "  \n",
        "    # mean of x and y\n",
        "    x_mean = np.mean(x)\n",
        "    y_mean = np.mean(y)\n",
        "  \n",
        "    # calculating deviation and cross-deviation about x\n",
        "    Deviation_about_x = np.sum(x*x) - n*x_mean*x_mean\n",
        "    Cross_deviation_about_x = np.sum(y*x) - n*y_mean*x_mean\n",
        "    \n",
        "  \n",
        "    # calculating regression coefficients\n",
        "    m = Cross_deviation_about_x / Deviation_about_x\n",
        "    c = y_mean - m*x_mean\n",
        "  \n",
        "    return (c, m)\n",
        "  \n",
        "def plot_regression_line(x, y, m):\n",
        "    # plotting the actual points as scatter plot\n",
        "    plt.scatter(x, y, color = \"m\",\n",
        "               marker = \"o\", s = 30)\n",
        "  \n",
        "    # predicted response vector\n",
        "    y_pred = m[0] + m[1]*x\n",
        "  \n",
        "    # plotting the regression line\n",
        "    plt.plot(x, y_pred, color = \"g\")\n",
        "  \n",
        "    # putting labels\n",
        "    plt.xlabel('x')\n",
        "    plt.ylabel('y')\n",
        "  \n",
        "    # function to show plot\n",
        "    plt.show()\n",
        "  \n",
        "def main():\n",
        "    # data values\n",
        "    x = np.array([2.9, 5.8, 9.1])\n",
        "    y = np.array([3.0, 6.3, 10.1])\n",
        "  \n",
        "    # estimating coefficients\n",
        "    m = estimate_coef(x, y)\n",
        "    print(\"Estimated coefficients:\\nc = {}  \\\n",
        "          \\nm = {}\".format(m[0], m[1]))\n",
        "  \n",
        "    # plotting regression line\n",
        "    plot_regression_line(x, y, m)\n",
        "  \n",
        "if __name__ == \"__main__\":\n",
        "    main()"
      ],
      "id": "729f5d6e",
      "execution_count": null,
      "outputs": [
        {
          "name": "stdout",
          "output_type": "stream",
          "text": [
            "Estimated coefficients:\n",
            "c = -0.32881884308970744            \n",
            "m = 1.145306546588153\n"
          ]
        },
        {
          "data": {
            "image/png": "[encoded data removed]",
            "text/plain": [
              "<Figure size 432x288 with 1 Axes>"
            ]
          },
          "metadata": {
            "needs_background": "light"
          },
          "output_type": "display_data"
        }
      ]
    },
    {
      "cell_type": "code",
      "metadata": {
        "id": "6138e5ea",
        "outputId": "f6c1a7a0-83c5-4979-b52a-39781e0c7afb"
      },
      "source": [
        "# 2nd test dataset : from my imagination with linearity in mind.\n",
        "# attempting one with a negative slope, i.e. inverse relationship\n",
        "\n",
        "# x = [48, 112, 156, 207, 244, 294, 358] \n",
        "# y = [772, 678, 564, 449, 365, 255, 139]\n",
        "# n = 7\n",
        "\n",
        "import numpy as np\n",
        "import matplotlib.pyplot as plt\n",
        "   \n",
        "def estimate_coef(x, y):\n",
        "    # number of values    \n",
        "    n = np.size(x)\n",
        "  \n",
        "    # mean of x and y\n",
        "    x_mean = np.mean(x)\n",
        "    y_mean = np.mean(y)\n",
        "  \n",
        "    # calculating deviation and cross-deviation about x\n",
        "    Deviation_about_x = np.sum(x*x) - n*x_mean*x_mean\n",
        "    Cross_deviation_about_x = np.sum(y*x) - n*y_mean*x_mean\n",
        "    \n",
        "  \n",
        "    # calculating regression coefficients\n",
        "    m = Cross_deviation_about_x / Deviation_about_x\n",
        "    c = y_mean - m*x_mean\n",
        "  \n",
        "    return (c, m)\n",
        "  \n",
        "def plot_regression_line(x, y, m):\n",
        "    # plotting the actual points as scatter plot\n",
        "    plt.scatter(x, y, color = \"m\",\n",
        "               marker = \"o\", s = 30)\n",
        "  \n",
        "    # predicted response vector\n",
        "    y_pred = m[0] + m[1]*x\n",
        "  \n",
        "    # plotting the regression line\n",
        "    plt.plot(x, y_pred, color = \"g\")\n",
        "  \n",
        "    # putting labels\n",
        "    plt.xlabel('x')\n",
        "    plt.ylabel('y')\n",
        "  \n",
        "    # function to show plot\n",
        "    plt.show()\n",
        "  \n",
        "def main():\n",
        "    # data values\n",
        "    x = np.array([48, 112, 156, 207, 244, 294, 358])\n",
        "    y = np.array([772, 678, 564, 449, 365, 255, 139])\n",
        "  \n",
        "    # estimating coefficients\n",
        "    m = estimate_coef(x, y)\n",
        "    print(\"Estimated coefficients:\\nc = {}  \\\n",
        "          \\nm = {}\".format(m[0], m[1]))\n",
        "  \n",
        "    # plotting regression line\n",
        "    plot_regression_line(x, y, m)\n",
        "  \n",
        "if __name__ == \"__main__\":\n",
        "    main()\n"
      ],
      "id": "6138e5ea",
      "execution_count": null,
      "outputs": [
        {
          "name": "stdout",
          "output_type": "stream",
          "text": [
            "Estimated coefficients:\n",
            "c = 890.5650887573966            \n",
            "m = -2.1225902898532603\n"
          ]
        },
        {
          "data": {
            "image/png": "[encoded data removed]",
            "text/plain": [
              "<Figure size 432x288 with 1 Axes>"
            ]
          },
          "metadata": {
            "needs_background": "light"
          },
          "output_type": "display_data"
        }
      ]
    },
    {
      "cell_type": "code",
      "metadata": {
        "id": "2ecd7881",
        "outputId": "29b9fd9f-26e5-49e9-8fc9-3ab093968b72"
      },
      "source": [
        "# 3rd test dataset : from my imagination with linearity in mind.\n",
        "# attempting one with huge integer values\n",
        "\n",
        "# x = [4872, 11283, 15941, 19675, 26044, 29467, 35812, 39398, 45322, 49567, 55730, 60010] \n",
        "# y = [10772, 14678, 21564, 24744, 30765, 36255, 40139, 43989, 49102, 51056, 54099, 61001]\n",
        "# n = 12\n",
        "\n",
        "import numpy as np\n",
        "import matplotlib.pyplot as plt\n",
        "   \n",
        "def estimate_coef(x, y):\n",
        "    # number of values    \n",
        "    n = np.size(x)\n",
        "  \n",
        "    # mean of x and y\n",
        "    x_mean = np.mean(x)\n",
        "    y_mean = np.mean(y)\n",
        "  \n",
        "    # calculating deviation and cross-deviation about x\n",
        "    Deviation_about_x = np.sum(x*x) - n*x_mean*x_mean\n",
        "    Cross_deviation_about_x = np.sum(y*x) - n*y_mean*x_mean\n",
        "    \n",
        "  \n",
        "    # calculating regression coefficients\n",
        "    m = Cross_deviation_about_x / Deviation_about_x\n",
        "    c = y_mean - m*x_mean\n",
        "  \n",
        "    return (c, m)\n",
        "  \n",
        "def plot_regression_line(x, y, m):\n",
        "    # plotting the actual points as scatter plot\n",
        "    plt.scatter(x, y, color = \"m\",\n",
        "               marker = \"o\", s = 30)\n",
        "  \n",
        "    # predicted response vector\n",
        "    y_pred = m[0] + m[1]*x\n",
        "  \n",
        "    # plotting the regression line\n",
        "    plt.plot(x, y_pred, color = \"g\")\n",
        "  \n",
        "    # putting labels\n",
        "    plt.xlabel('x')\n",
        "    plt.ylabel('y')\n",
        "  \n",
        "    # function to show plot\n",
        "    plt.show()\n",
        "  \n",
        "def main():\n",
        "    # data values\n",
        "    x = np.array([4872, 11283, 15941, 19675, 26044, 29467, 35812, 39398, 45322, 49567, 55730, 60010])\n",
        "    y = np.array([10772, 14678, 21564, 24744, 30765, 36255, 40139, 43989, 49102, 51056, 54099, 61001])\n",
        "  \n",
        "    # estimating coefficients\n",
        "    m = estimate_coef(x, y)\n",
        "    print(\"Estimated coefficients:\\nc = {}  \\\n",
        "          \\nm = {}\".format(m[0], m[1]))\n",
        "  \n",
        "    # plotting regression line\n",
        "    plot_regression_line(x, y, m)\n",
        "  \n",
        "if __name__ == \"__main__\":\n",
        "    main()"
      ],
      "id": "2ecd7881",
      "execution_count": null,
      "outputs": [
        {
          "name": "stdout",
          "output_type": "stream",
          "text": [
            "Estimated coefficients:\n",
            "c = 2922.569029518847            \n",
            "m = 1.0253666724641366\n"
          ]
        },
        {
          "data": {
            "image/png": "[encoded data removed]",
            "text/plain": [
              "<Figure size 432x288 with 1 Axes>"
            ]
          },
          "metadata": {
            "needs_background": "light"
          },
          "output_type": "display_data"
        }
      ]
    },
    {
      "cell_type": "markdown",
      "metadata": {
        "id": "62ee01b4"
      },
      "source": [
        "Conclusion : Algorithm has passed the test of implementation."
      ],
      "id": "62ee01b4"
    }
  ]
}
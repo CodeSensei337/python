{
 "cells": [
  {
   "cell_type": "markdown",
   "metadata": {
    "id": "do775Xa5rpEQ"
   },
   "source": [
    "# <center>**Data Mining Assignment 3**</center><br>  \n",
    "## <center>by Kweku E. Acquaye</center><br> \n",
    "\n",
    "This report uses modern data science methods to analyse data. It constitutes Assignment 3 in fulfilment of the requirements of Data Mining module.\n",
    "\n",
    "**Declaration:** Some of the code used in this assignment has been adapted and customized from www.docs.python.org/, www.matplotlib.org/stable/, www.pandas.pydata.org/docs, www.stackoverflow.com/questions/, www.geeksforgeeks.org/, www.kite.com/python/, www.codegrepper.com/, www.machinelearningmind.com/, www.kaggle.com/, www.scikit-learn.org, www.towardsdatascience.com/, www.github.com/, and Data Mining Lab, Tutorial and Lecture Notes."
   ]
  },
  {
   "cell_type": "markdown",
   "metadata": {
    "id": "d6Z9ZN4UuB0Q"
   },
   "source": [
    "**Part 1** \n",
    "\n",
    "**1.**<br> \n",
    "The advantage of using the Apriori algorithm in comparison with computing the support of every subset of an itemset is that, despite methods such as the FP-growth (frequent pattern growth) being more efficient, the Apriori algorithm generates candidate itemsets by using an iterative level-wise approach, thereby making it simpler, easier and more intuitive to implement, with variations to the Apriori algorithm providing improved scalability.<br> \n",
    "The simplicity of the Apriori algorithm is in part due to deduction from Han et al$^1$ who state that \"once the frequent itemsets from transactions in a database D have been found, it is straightforward to generate strong association rules from them (where strong association rules satisfy both minimum support and minimum confidence)\"."
   ]
  },
  {
   "cell_type": "markdown",
   "metadata": {
    "id": "nBVovPZP8nNC"
   },
   "source": [
    "**2.**<br> \n",
    "If $\\mathcal{L}_1$ denotes the set of frequent $1$-itemsets, then for $k \\geq 2$, every frequent $k$-itemset is a superset of an itemset in $\\mathcal{L}_1$ because of - and as an eventual consequence of - the non-violable Apriori property that \"all non-empty subsets of a frequent itemset are frequent\". This is because, subsequent to the Apriori algorithm having derived the set of frequent 1-itemsets $\\mathcal{L}_1$ through the formula\n",
    "\n",
    "<div>\n",
    "<img src= \"https://drive.google.com/uc?id=12TLAdNno7d26mSWZgz_twNiNLZZYdysZ\" alt= \"Apriori\n",
    "calculation of set of frequent 1-itemsets formula\" width=400/>\n",
    "</div>\n",
    "\n",
    "where $\\mathcal{j}$ is an item belonging to the set of items $\\mathcal{I}$,<br> \n",
    "$\\mathcal{N}_j$ is the support count of $\\mathcal{j}$,<br> \n",
    "$\\mathcal{S}_j$ is the support of $\\mathcal{j}$, and<br> \n",
    "$\\mathcal{T}_S$ is minimum support threshold, \n",
    "\n",
    "every $k$-itemset would then have been derived from $\\mathcal{L}_1$, i.e. no $k$-itemset $\\geq 2$ can exist that is not derived from $\\mathcal{L}_1$. This stems eventually from the Apriori property that all non-empty subsets of a frequent itemset are frequent, hence it is from the set of frequent $1$-itemsets that every $k \\geq 2$ $k$-itemset is derived through joining and pruning. Any elements of $\\mathcal{C}_k$ (the set of candidates to be joined from $k-1$ to $k$ itemsets) that is not frequent is pruned."
   ]
  },
  {
   "cell_type": "markdown",
   "metadata": {
    "id": "2Qy5sstDEkYM"
   },
   "source": [
    "**3.**<br> \n",
    "If $\\mathcal{L}_2 = \\{ \\{1,2\\}, \\{1,4\\}, \\{2, 3\\}, \\{2, 4\\}, \\{3, 5\\}\\}$, then the set of candidates $\\mathcal{C}_3$ that is obtained by joining every pair of joinable itemsets from $\\mathcal{L}_2$ is given by<br> \n",
    "$\\mathcal{C}_3 = \\{\\{1,2,3\\}, \\, \\{1,2,4\\}, \\{1,2,5\\}, \\{2,3,4\\}, \\{2,3,5\\}, \\{2,4,5\\} \\}$"
   ]
  },
  {
   "cell_type": "markdown",
   "metadata": {
    "id": "bfmhxjvIdrqA"
   },
   "source": [
    "**4.**<br> \n",
    "Given $S_1$ denotes the support of the association rule $\\{ \\text{boarding pass, passport} \\} \\Rightarrow \\{ \\text{flight} \\}$ and $S_2$ denotes the support of the association rule $\\{ \\text{boarding pass} \\} \\Rightarrow \\{ \\text{flight} \\}$, it can be shown from the confidence of $S_1$<br>  \n",
    "$V_{S1}$ = $N$$_{(boarding pass, passport, flight)}$ / $N$$_{(flight)}$<br>  \n",
    "and the confidence of $S_2$<br>  \n",
    "$V_{S2}$ = $N$$_{(boarding pass, flight)}$ / $N$$_{(flight)}$<br>  \n",
    "that $S_1$ / $S_2$ = $V_{S1}$ / $V_{S2}$ = $N$$_{(boarding pass, passport)}$ / $N$$_{(boarding pass)}$<br>   \n",
    "It can then be inferred that since $S_1$ gives the probability of $\\{ \\text{boarding pass, passport} \\}$ U $\\{ \\text{flight} \\}$, and $S_2$ the probability of $\\{ \\text{boarding pass} \\}$ U $\\{ \\text{flight} \\}$ where U = union of sets, then subtracting $S_2$ from $S_1$ or dividing $S_1$ by $S_2$ gives the probability that a transaction $\\mathcal{T}$ drawn from transaction dataset $\\mathcal{D}$ contains a passport.<br> \n",
    "The relationship between $S_1$ and $S_2$ is that :<br> \n",
    "$S_1$ - $S_2$ or $S_1$ / $S_2$ = the probability that a transaction $\\mathcal{T}$ drawn from transaction dataset $\\mathcal{D}$ contains a passport."
   ]
  },
  {
   "cell_type": "markdown",
   "metadata": {
    "id": "_lI3uNb66r8m"
   },
   "source": [
    "**5.**<br>\n",
    "The support of the rule $\\{  \\} \\Rightarrow \\{ \\text{Eggs} \\}$ in the transaction dataset used in Section 1 of Lab06 notebook can be calculated from the formula:<br>\n",
    "<div>\n",
    "<img src= \"https://drive.google.com/uc?id=15--M3praByjXh-TVygDyvjH1SZ5TJNqX\" alt= \"support formula\" width=400/>\n",
    "</div>  \n",
    "\n",
    "The support count of eggs as consequent is 3, i.e.<br>\n",
    "1. {kidney beans} $\\Rightarrow$ {eggs}\n",
    "2. {onion} $\\Rightarrow$ {eggs}\n",
    "3. {kidney beans, onion} $\\Rightarrow$ {eggs}<br> \n",
    "\n",
    "and there are 12 transaction itemsets, hence support of the rule {} $\\Rightarrow$ {eggs} = 3 / 12 = **0.25**"
   ]
  },
  {
   "cell_type": "markdown",
   "metadata": {
    "id": "YEWaiBJa8Us1"
   },
   "source": [
    "**6.**<br> \n",
    "The maximum length of a frequent itemset for a support threshold of 0.2 in the transaction dataset used in the tutorial, read from output for the code:<br>  \n",
    "``import pandas as pd``<br>\n",
    "``from mlxtend.frequent_patterns import apriori``<br>\n",
    "``df = pd.DataFrame(te_ary, columns=te.columns_)``<br>\n",
    "``pd.set_option(\"display.max_rows\", None, \"display.max_columns\", None)``<br>\n",
    "``frequent_itemsets = apriori(df, min_support=0.2)``<br>\n",
    "``print(frequent_itemsets)``<br>  \n",
    " is **6**.<br>  \n",
    "<br> \n",
    "**7.**<br> \n",
    "The Kulczynski measure $\\mathcal{K}$$_{A,B}$ of two itemsets $\\mathcal{A}$ and $\\mathcal{B}$ can be interpreted as the average\n",
    "between the confidence that $\\mathcal{A}$ $\\Rightarrow$ $\\mathcal{B}$ and the confidence that $\\mathcal{B}$ $\\Rightarrow$ $\\mathcal{A}$, and is thus obtained by adding these confidences and dividing by 2.<br>\n",
    "Given :<br>  \n",
    "$\\mathcal{A} = \\{\\text{Onion}\\}$<br> \n",
    "$\\mathcal{B} = \\{\\text{Kidney Beans}, \\text{Eggs}\\}$<br>  \n",
    "From the transaction dataset used in the lab notebook,<br>\n",
    "Confidence $\\mathcal{V}$$_{\\mathcal{A} \\Rightarrow \\mathcal{B}}$ = 1<br>\n",
    "Confidence $\\mathcal{V}$$_{\\mathcal{B} \\Rightarrow \\mathcal{A}}$ = 0.75<br>  \n",
    "Using these values the Kulczynski measure is calculated for the two itemsets $\\mathcal{A}$ and $\\mathcal{B}$ as:"
   ]
  },
  {
   "cell_type": "code",
   "execution_count": null,
   "metadata": {
    "colab": {
     "base_uri": "https://localhost:8080/"
    },
    "id": "3rBq4mEoCFsh",
    "outputId": "5604dcae-051e-4a58-8715-3f262ee85209"
   },
   "outputs": [
    {
     "name": "stdout",
     "output_type": "stream",
     "text": [
      "The Kulczynski measure for itemsets A and B is 0.875\n"
     ]
    }
   ],
   "source": [
    "# Creating function to calculate Kulczynski measure\n",
    "def calc_km(A, B):\n",
    "  km = (A + B) / 2\n",
    "  print(\"The Kulczynski measure for itemsets A and B is \" + str(km))\n",
    "\n",
    "calc_km(1, 0.75)"
   ]
  },
  {
   "cell_type": "markdown",
   "metadata": {
    "id": "D2SrbWw9jCiK"
   },
   "source": [
    "Since $\\mathcal{K}$$_{\\mathcal{A} \\Rightarrow \\mathcal{B}}$ = $\\mathcal{K}$$_{\\mathcal{B} \\Rightarrow \\mathcal{A}}$, the obtained measure of **0.875** is valid either way between the two itemsets.<br>  \n",
    "**8.**<br>\n",
    "The imbalance ratio $I$$_{A,B}$ can be interpreted as the ratio between the absolute difference between the support count of $A$ and the support count of $B$ and the number of transactions that contain $A$, $B$, or both $A$ and $B$$^2$.<br>\n",
    "$I$$_{A,B}$ is given by\n",
    "<div>\n",
    "<img src= \"https://drive.google.com/uc?id=1Y1aO8rv8D0G29uaEgX0ZZiTmRaSQqe7W\" alt= \"imbalance ration formula\" width=400/>\n",
    "</div>\n",
    "where $N$ = support count.<br> \n",
    "\n",
    "Using the itemsets in 7 above, given support $S$$_A$ for $A$ as 0.8 and $S$$_B$ for $B$ as 0.6, support count is respectively 0.8 x 12 = 9.6 and 0.6 x 12 = 7.2 is calculated for the two itemsets $\\mathcal{A}$ and $\\mathcal{B}$ as:"
   ]
  },
  {
   "cell_type": "code",
   "execution_count": null,
   "metadata": {
    "colab": {
     "base_uri": "https://localhost:8080/"
    },
    "id": "fLC92SZtEegX",
    "outputId": "e72d191a-8d62-4dba-961a-b96afe18a0ee"
   },
   "outputs": [
    {
     "name": "stdout",
     "output_type": "stream",
     "text": [
      "The imbalance ratio for itemsets A and B is 0.25\n"
     ]
    }
   ],
   "source": [
    "def calc_ir(A, B):\n",
    "  import math\n",
    "  ir = math.sqrt(((A - B)**2)) / ((A + B) - B)\n",
    "  print(\"The imbalance ratio for itemsets A and B is \" + str(round(ir,2)))\n",
    "\n",
    "calc_ir(9.6, 7.2)"
   ]
  },
  {
   "cell_type": "markdown",
   "metadata": {
    "id": "qom1OgMwIvvm"
   },
   "source": [
    "Since $I$$_{\\mathcal{A} \\Rightarrow \\mathcal{B}}$ = $I$$_{\\mathcal{B} \\Rightarrow \\mathcal{A}}$, the obtained ratio of **0.25** is valid either way between the two itemsets.<br> \n"
   ]
  },
  {
   "cell_type": "markdown",
   "metadata": {
    "id": "In_XHUCC7nFP"
   },
   "source": [
    "**Part 2**<br> \n",
    "**1.**<br> \n",
    "Two possible contextual attributes that could be used for credit card fraud detection application are 'location' and 'item being purchased'. With _location_, a transaction taking place in a country several time zones away from the card owner's resident country could indicate that the card has been compromised. This may especially be the case if the transaction is not online but physically, example settling a restaurant bill or purchasing home electronic goods. It should be considered a contextual outlier in terms of the normal geographic area of use. For _item being purchased_, if the item is uncharacteristic of the card owner, for example a house-bound disabled or elderly person whose card is being used to purchase outdoor sports equipment like white-water rafting accoutrements. It should be considered an outlier in the context of what the card owner would nornally buy.\n",
    "\n",
    "Two possible behavioural attributes and that could be used for credit card fraud detection application are 'number of transactions in a specified time', and 'transaction amount'. A high number of transactions in a short space of time, especially if the card owner has no previous record of spending sprees, should be considered a behavioural outlier and could indicate a compromised card. Likewise very high amounts of money per transaction uncharacteristic of the owner in relation to their annual income should be considered behavioural outliers. These could also indicate that the card has been compromised.\n",
    "\n",
    "**2.**<br> \n",
    "Given the University of Wisconsin breast cancer dataset, one possible outlier detection method I would apply for detecting outliers for this particular dataset is standardisation by z-scores.<br> \n",
    "\n",
    "A visualisation of the data shows the values of most features to be normally distributed though some exhibit skew. Z-score is therefore suitable as it is a parametric method. Although the data is multivariate it can be transformed into a univariate task by performing outlier detection on each column separaely.<br> \n",
    "\n",
    "The method computes z-scores by calculating the mean for each attribute, then subtracting each value from the mean and then dividing the absolute value of the difference by the standard deviation. In this approach, 99.7% of the data is retained, and values more than 3$\\sigma$ away from the mean are treated as outliers.<br>  \n",
    "**3.**<br> \n",
    "Given monthly rainfall with precipitation: {22.93, 20.69, 25.75, 23.84, 25.34, 3.25, 23.55, 28.28, 23.72, 22.42, 26.83, 23.82}, assuming that the data is based on a normal distribution, the maximum likelihood method can identify outlier values as follows:<br> \n",
    "\n",
    "$\\mu$_hat = $\\frac{1}{N}$ $\\sum x_{i}$<br> \n",
    "\n",
    "= (22.93 + 20.69 + 25.75 + 23.84 + 25.34 + 3.25 + 23.55 + 28.28 + 23.72 + 22.42 + 26.83 + 23.82) / 12<br> \n",
    "= 270.42 / 12<br> \n",
    "= 23.535<br> \n",
    "\n",
    "$\\sigma$_hat = $\\sqrt {\\frac {\\sum(x_{i} - \\bar{x})^2}{{N - 1}}}$<br> \n",
    "\n",
    "= ( ( (22.93 - 23.535)$^2$ + (20.69 - 23.535)$^2$ + (25.75 - 23.535)$^2$ + (23.84 - 23.535)$^2$ + (25.34 - 23.535)$^2$ + (3.25 - 23.535)$^2$ +<br> \n",
    "(23.55 - 23.535)$^2$ + (28.28 - 23.535)$^2$ + (23.72 - 23.535)$^2$ + (22.42 - 23.535)$^2$ + (26.83 - 23.535)$^2$ + (23.82 - 23.535)$^2$  ) / (12 - 1) )$^\\frac{1}{2}$<br> \n",
    "\n",
    "= ( (0.366 + 8.094 + 4.906 + 0.093 + 3.258 + 411.481 + 0.000 + 22.515 + 0.034 + 1.243 + 10.857 + 0.081) / 11)$^\\frac{1}{2}$<br> \n",
    "= (462.928 / 11)$^\\frac{1}{2}$<br> \n",
    "= $\\sqrt42.0844$<br> \n",
    "= 6.49<br> \n",
    "\n",
    "$\\mu$_hat $+$ and $-$ 3$\\sigma$ (which contains 99.7% of the data) = (23.535 - 19.462) to (23.535 + 19.462)<br> \n",
    "= 4.07 to 43.00<br> \n",
    "\n",
    "**$\\therefore$** outlier value(s) in the above dataset = **3.25**\n",
    "\n"
   ]
  },
  {
   "cell_type": "markdown",
   "metadata": {
    "id": "BLL2duPeuW6i"
   },
   "source": [
    "**4.**<br> \n",
    "Estimating outliers in the 'stocks' dataset using the one-class SVM classifier approach:<br>\n",
    "Importing libraries and loading the data:"
   ]
  },
  {
   "cell_type": "code",
   "execution_count": null,
   "metadata": {
    "colab": {
     "base_uri": "https://localhost:8080/",
     "height": 455
    },
    "id": "9GO2l_UsNlkV",
    "outputId": "a6e54973-4b59-455a-d332-0d931083e655"
   },
   "outputs": [
    {
     "data": {
      "text/html": [
       "<div>\n",
       "<style scoped>\n",
       "    .dataframe tbody tr th:only-of-type {\n",
       "        vertical-align: middle;\n",
       "    }\n",
       "\n",
       "    .dataframe tbody tr th {\n",
       "        vertical-align: top;\n",
       "    }\n",
       "\n",
       "    .dataframe thead th {\n",
       "        text-align: right;\n",
       "    }\n",
       "</style>\n",
       "<table border=\"1\" class=\"dataframe\">\n",
       "  <thead>\n",
       "    <tr style=\"text-align: right;\">\n",
       "      <th></th>\n",
       "      <th>MSFT</th>\n",
       "      <th>F</th>\n",
       "      <th>BAC</th>\n",
       "    </tr>\n",
       "    <tr>\n",
       "      <th>Date</th>\n",
       "      <th></th>\n",
       "      <th></th>\n",
       "      <th></th>\n",
       "    </tr>\n",
       "  </thead>\n",
       "  <tbody>\n",
       "    <tr>\n",
       "      <th>1/3/2007</th>\n",
       "      <td>29.860001</td>\n",
       "      <td>7.51</td>\n",
       "      <td>53.330002</td>\n",
       "    </tr>\n",
       "    <tr>\n",
       "      <th>1/4/2007</th>\n",
       "      <td>29.809999</td>\n",
       "      <td>7.70</td>\n",
       "      <td>53.669998</td>\n",
       "    </tr>\n",
       "    <tr>\n",
       "      <th>1/5/2007</th>\n",
       "      <td>29.639999</td>\n",
       "      <td>7.62</td>\n",
       "      <td>53.240002</td>\n",
       "    </tr>\n",
       "    <tr>\n",
       "      <th>1/8/2007</th>\n",
       "      <td>29.930000</td>\n",
       "      <td>7.73</td>\n",
       "      <td>53.450001</td>\n",
       "    </tr>\n",
       "    <tr>\n",
       "      <th>1/9/2007</th>\n",
       "      <td>29.959999</td>\n",
       "      <td>7.79</td>\n",
       "      <td>53.500000</td>\n",
       "    </tr>\n",
       "    <tr>\n",
       "      <th>...</th>\n",
       "      <td>...</td>\n",
       "      <td>...</td>\n",
       "      <td>...</td>\n",
       "    </tr>\n",
       "    <tr>\n",
       "      <th>12/23/2016</th>\n",
       "      <td>63.240002</td>\n",
       "      <td>12.46</td>\n",
       "      <td>22.600000</td>\n",
       "    </tr>\n",
       "    <tr>\n",
       "      <th>12/27/2016</th>\n",
       "      <td>63.279999</td>\n",
       "      <td>12.39</td>\n",
       "      <td>22.610001</td>\n",
       "    </tr>\n",
       "    <tr>\n",
       "      <th>12/28/2016</th>\n",
       "      <td>62.990002</td>\n",
       "      <td>12.25</td>\n",
       "      <td>22.330000</td>\n",
       "    </tr>\n",
       "    <tr>\n",
       "      <th>12/29/2016</th>\n",
       "      <td>62.900002</td>\n",
       "      <td>12.23</td>\n",
       "      <td>22.000000</td>\n",
       "    </tr>\n",
       "    <tr>\n",
       "      <th>12/30/2016</th>\n",
       "      <td>62.139999</td>\n",
       "      <td>12.13</td>\n",
       "      <td>22.100000</td>\n",
       "    </tr>\n",
       "  </tbody>\n",
       "</table>\n",
       "<p>2518 rows × 3 columns</p>\n",
       "</div>"
      ],
      "text/plain": [
       "                 MSFT      F        BAC\n",
       "Date                                   \n",
       "1/3/2007    29.860001   7.51  53.330002\n",
       "1/4/2007    29.809999   7.70  53.669998\n",
       "1/5/2007    29.639999   7.62  53.240002\n",
       "1/8/2007    29.930000   7.73  53.450001\n",
       "1/9/2007    29.959999   7.79  53.500000\n",
       "...               ...    ...        ...\n",
       "12/23/2016  63.240002  12.46  22.600000\n",
       "12/27/2016  63.279999  12.39  22.610001\n",
       "12/28/2016  62.990002  12.25  22.330000\n",
       "12/29/2016  62.900002  12.23  22.000000\n",
       "12/30/2016  62.139999  12.13  22.100000\n",
       "\n",
       "[2518 rows x 3 columns]"
      ]
     },
     "execution_count": 3,
     "metadata": {},
     "output_type": "execute_result"
    }
   ],
   "source": [
    "# Importing libraries\n",
    "import pandas as pd\n",
    "import numpy as np\n",
    "from mpl_toolkits.mplot3d import Axes3D\n",
    "import matplotlib.pyplot as plt\n",
    "\n",
    "%matplotlib inline\n",
    "\n",
    "# Loading data\n",
    "stocks = pd.read_csv('stocks.csv', header='infer')\n",
    "stocks.index = stocks['Date']\n",
    "stocks = stocks.drop(['Date'],axis=1)\n",
    "stocks"
   ]
  },
  {
   "cell_type": "markdown",
   "metadata": {
    "id": "G5j05RLtK_qe"
   },
   "source": [
    "Computing and outputting preview of percentage change in stock price per day:"
   ]
  },
  {
   "cell_type": "code",
   "execution_count": null,
   "metadata": {
    "colab": {
     "base_uri": "https://localhost:8080/",
     "height": 237
    },
    "id": "e0tAyNFtu0N6",
    "outputId": "72dd553b-d0d4-4cac-e142-08e5f3128dfe"
   },
   "outputs": [
    {
     "data": {
      "text/html": [
       "<div>\n",
       "<style scoped>\n",
       "    .dataframe tbody tr th:only-of-type {\n",
       "        vertical-align: middle;\n",
       "    }\n",
       "\n",
       "    .dataframe tbody tr th {\n",
       "        vertical-align: top;\n",
       "    }\n",
       "\n",
       "    .dataframe thead th {\n",
       "        text-align: right;\n",
       "    }\n",
       "</style>\n",
       "<table border=\"1\" class=\"dataframe\">\n",
       "  <thead>\n",
       "    <tr style=\"text-align: right;\">\n",
       "      <th></th>\n",
       "      <th>MSFT</th>\n",
       "      <th>F</th>\n",
       "      <th>BAC</th>\n",
       "    </tr>\n",
       "    <tr>\n",
       "      <th>Date</th>\n",
       "      <th></th>\n",
       "      <th></th>\n",
       "      <th></th>\n",
       "    </tr>\n",
       "  </thead>\n",
       "  <tbody>\n",
       "    <tr>\n",
       "      <th>12/15/2014</th>\n",
       "      <td>-0.596386</td>\n",
       "      <td>-4.736491</td>\n",
       "      <td>-1.634554</td>\n",
       "    </tr>\n",
       "    <tr>\n",
       "      <th>12/16/2014</th>\n",
       "      <td>-3.235479</td>\n",
       "      <td>-1.330532</td>\n",
       "      <td>-0.771519</td>\n",
       "    </tr>\n",
       "    <tr>\n",
       "      <th>12/17/2014</th>\n",
       "      <td>1.284327</td>\n",
       "      <td>2.555004</td>\n",
       "      <td>3.229671</td>\n",
       "    </tr>\n",
       "    <tr>\n",
       "      <th>12/18/2014</th>\n",
       "      <td>3.891556</td>\n",
       "      <td>2.491349</td>\n",
       "      <td>1.564316</td>\n",
       "    </tr>\n",
       "    <tr>\n",
       "      <th>12/19/2014</th>\n",
       "      <td>0.294613</td>\n",
       "      <td>1.485483</td>\n",
       "      <td>0.513406</td>\n",
       "    </tr>\n",
       "  </tbody>\n",
       "</table>\n",
       "</div>"
      ],
      "text/plain": [
       "                MSFT         F       BAC\n",
       "Date                                    \n",
       "12/15/2014 -0.596386 -4.736491 -1.634554\n",
       "12/16/2014 -3.235479 -1.330532 -0.771519\n",
       "12/17/2014  1.284327  2.555004  3.229671\n",
       "12/18/2014  3.891556  2.491349  1.564316\n",
       "12/19/2014  0.294613  1.485483  0.513406"
      ]
     },
     "execution_count": 4,
     "metadata": {},
     "output_type": "execute_result"
    }
   ],
   "source": [
    "# Computing percentage change in stock price per day \n",
    "N,d = stocks.shape\n",
    "\n",
    "delta = pd.DataFrame(100*np.divide(stocks.iloc[1:,:].values-stocks.iloc[:N-1,:].values, stocks.iloc[:N-1,:].values),\n",
    "                    columns=stocks.columns, index=stocks.iloc[1:].index)\n",
    "delta[2001:2006]"
   ]
  },
  {
   "cell_type": "markdown",
   "metadata": {
    "id": "vNm3YYZALWb-"
   },
   "source": [
    "To obtain two sets of arrays for later use - one for inliers and one for outliers - for the purpose of making visualisation by histograms easier, data1 and data2 datasets are created in the step of extracting values:"
   ]
  },
  {
   "cell_type": "code",
   "execution_count": null,
   "metadata": {
    "colab": {
     "base_uri": "https://localhost:8080/"
    },
    "id": "3LZ9l-vNyFIz",
    "outputId": "8b55dd31-daad-4f70-a6fc-10493cf890c1"
   },
   "outputs": [
    {
     "name": "stdout",
     "output_type": "stream",
     "text": [
      "The shape of dataframe 1 is:\n",
      "(2517, 3)\n",
      "The shape of dataframe 2 is:\n",
      "(2517, 3)\n"
     ]
    }
   ],
   "source": [
    "# Extracting the values from the dataframe\n",
    "data1 = delta.values\n",
    "data2 = delta.values\n",
    "\n",
    "# Outputting dataset shape\n",
    "print(\"The shape of dataframe 1 is:\")\n",
    "print(data1.shape)\n",
    "\n",
    "print(\"The shape of dataframe 2 is:\")\n",
    "print(data2.shape)"
   ]
  },
  {
   "cell_type": "markdown",
   "metadata": {
    "id": "3msViWDKL-D2"
   },
   "source": [
    "One-class SVM classification is implemented in the following step:"
   ]
  },
  {
   "cell_type": "code",
   "execution_count": null,
   "metadata": {
    "colab": {
     "base_uri": "https://localhost:8080/"
    },
    "id": "Yj5pJi9GI7Df",
    "outputId": "38b40ca3-e742-4339-af9f-fc0822626ea0"
   },
   "outputs": [
    {
     "name": "stdout",
     "output_type": "stream",
     "text": [
      "One-class SVM classification implemented.\n"
     ]
    }
   ],
   "source": [
    "# Implementing one-class SVM classification\n",
    "from sklearn.svm import OneClassSVM\n",
    "\n",
    "ee1 = OneClassSVM(nu=0.1,gamma='scale')\n",
    "yhat = ee1.fit_predict(data1)\n",
    "\n",
    "ee2 = OneClassSVM(nu=0.1,gamma='scale')\n",
    "yhat2 = ee2.fit_predict(data2)\n",
    "print(\"One-class SVM classification implemented.\")"
   ]
  },
  {
   "cell_type": "markdown",
   "metadata": {
    "id": "3pA_Nsv8PN_W"
   },
   "source": [
    "To explore basic properties of obtained arrays:"
   ]
  },
  {
   "cell_type": "code",
   "execution_count": null,
   "metadata": {
    "colab": {
     "base_uri": "https://localhost:8080/"
    },
    "id": "KfyikiJGOxot",
    "outputId": "8c14e659-e445-4bc9-ed40-ce27250f1cf7"
   },
   "outputs": [
    {
     "name": "stdout",
     "output_type": "stream",
     "text": [
      "[1 1 1 ... 1 1 1] \n",
      "\n",
      "[1 1 1 ... 1 1 1]\n"
     ]
    }
   ],
   "source": [
    "# Outputting labels: inliers = 1, outliers = -1\n",
    "print(yhat, \"\\n\")\n",
    "print(yhat2)"
   ]
  },
  {
   "cell_type": "code",
   "execution_count": null,
   "metadata": {
    "colab": {
     "base_uri": "https://localhost:8080/"
    },
    "id": "5p5UCCD41aMO",
    "outputId": "805e845f-84a7-4813-e165-9ec5edaafddf"
   },
   "outputs": [
    {
     "name": "stdout",
     "output_type": "stream",
     "text": [
      "The shape of yhat is:  (2517,)\n",
      "\n",
      "The shape of yhat2 is:  (2517,)\n"
     ]
    }
   ],
   "source": [
    "# Outputting shape\n",
    "print(\"The shape of yhat is: \", yhat.shape)\n",
    "print(\"\\nThe shape of yhat2 is: \", yhat2.shape)"
   ]
  },
  {
   "cell_type": "markdown",
   "metadata": {
    "id": "a09i2EF20jEj"
   },
   "source": [
    "Both are now 1-dimensional arrays.<br>  \n",
    "The next step assigns outlier score and then outputs a visualisation:"
   ]
  },
  {
   "cell_type": "code",
   "execution_count": null,
   "metadata": {
    "colab": {
     "base_uri": "https://localhost:8080/",
     "height": 367
    },
    "id": "VcgBoOa7JP8v",
    "outputId": "02db54f4-cb2f-4421-eb13-b857a594d9fa"
   },
   "outputs": [
    {
     "data": {
      "image/png": "[encoded data removed]",
      "text/plain": [
       "<Figure size 720x432 with 2 Axes>"
      ]
     },
     "metadata": {
      "needs_background": "light"
     },
     "output_type": "display_data"
    }
   ],
   "source": [
    "# Setting outlier score as output labels\n",
    "outlier_score = yhat\n",
    "\n",
    "# Visualising 3D scatterplot of outlier scores\n",
    "fig = plt.figure(figsize=(10,6))\n",
    "ax = fig.add_subplot(111, projection='3d')\n",
    "p = ax.scatter(delta.MSFT,delta.F,delta.BAC,c=outlier_score,cmap='jet')\n",
    "ax.set_title('Figure 1: Spatial Distribution of Stock Prices')\n",
    "ax.set_xlabel('Microsoft')\n",
    "ax.set_ylabel('Ford')\n",
    "ax.set_zlabel('Bank of America')\n",
    "fig.colorbar(p)\n",
    "plt.show()"
   ]
  },
  {
   "cell_type": "markdown",
   "metadata": {
    "id": "LvhaRrbg05lo"
   },
   "source": [
    "Outliers, which are labelled -1, are clearly color-coded correspondingly to the deep blue of -1 of the color bar. Inliers, which are labelled 1, are also  clearly color-coded correspondingly to the dark brown of 1 of the color bar.<br>  \n",
    "To visualise histograms of inliers and outliers, the two datasets created earlier during the value extraction stage are now used as follows: "
   ]
  },
  {
   "cell_type": "code",
   "execution_count": null,
   "metadata": {
    "colab": {
     "base_uri": "https://localhost:8080/"
    },
    "id": "Fol1UJx6657a",
    "outputId": "e8395504-7ad0-4590-862d-1639f240969c"
   },
   "outputs": [
    {
     "name": "stdout",
     "output_type": "stream",
     "text": [
      "The shapes of inliers is:  (2268, 3)\n",
      "\n",
      "The shapes of outliers is:  (249, 3)\n"
     ]
    }
   ],
   "source": [
    "# Selecting inliers\n",
    "inliers = yhat != -1\n",
    "data1 = data1[inliers, :]\n",
    "\n",
    "# Selecting outliers\n",
    "outliers = yhat2 == -1\n",
    "data2 = data2[outliers, :]\n",
    "\n",
    "# Outputting shapes\n",
    "print(\"The shapes of inliers is: \", data1.shape)\n",
    "print(\"\\nThe shapes of outliers is: \", data2.shape)"
   ]
  },
  {
   "cell_type": "code",
   "execution_count": null,
   "metadata": {
    "colab": {
     "base_uri": "https://localhost:8080/",
     "height": 458
    },
    "id": "-wWE8exgsx4C",
    "outputId": "de6b7991-b1ea-4da7-befc-8132672c5b4b"
   },
   "outputs": [
    {
     "name": "stderr",
     "output_type": "stream",
     "text": [
      "/usr/local/lib/python3.7/dist-packages/seaborn/distributions.py:2619: FutureWarning: `distplot` is a deprecated function and will be removed in a future version. Please adapt your code to use either `displot` (a figure-level function with similar flexibility) or `histplot` (an axes-level function for histograms).\n",
      "  warnings.warn(msg, FutureWarning)\n"
     ]
    },
    {
     "data": {
      "image/png": "[encoded data removed]",
      "text/plain": [
       "<Figure size 720x432 with 1 Axes>"
      ]
     },
     "metadata": {
      "image/png": {
       "height": 386,
       "width": 612
      }
     },
     "output_type": "display_data"
    }
   ],
   "source": [
    "# Visualising inliers histogram\n",
    "%config InlineBackend.figure_formats = set(['retina'])\n",
    "\n",
    "import seaborn as sns\n",
    "import matplotlib.pyplot as plt\n",
    "\n",
    "sns.set_style('darkgrid')\n",
    "\n",
    "fig = plt.figure(figsize=(10,6))\n",
    "sns.distplot(data1, bins=None, kde=False)\n",
    "plt.title('Figure 2: Histogram of Stock Prices Inliers')\n",
    "plt.xlabel('Proportion Range (Bins)')\n",
    "plt.ylabel('Frequency')\n",
    "plt.show()"
   ]
  },
  {
   "cell_type": "code",
   "execution_count": null,
   "metadata": {
    "colab": {
     "base_uri": "https://localhost:8080/",
     "height": 458
    },
    "id": "BkCBwHr6tTjr",
    "outputId": "75ee7e4f-6f55-4b03-98d5-0cd12bd1c76e"
   },
   "outputs": [
    {
     "name": "stderr",
     "output_type": "stream",
     "text": [
      "/usr/local/lib/python3.7/dist-packages/seaborn/distributions.py:2619: FutureWarning: `distplot` is a deprecated function and will be removed in a future version. Please adapt your code to use either `displot` (a figure-level function with similar flexibility) or `histplot` (an axes-level function for histograms).\n",
      "  warnings.warn(msg, FutureWarning)\n"
     ]
    },
    {
     "data": {
      "image/png": "[encoded data removed]",
      "text/plain": [
       "<Figure size 720x432 with 1 Axes>"
      ]
     },
     "metadata": {
      "image/png": {
       "height": 386,
       "width": 612
      }
     },
     "output_type": "display_data"
    }
   ],
   "source": [
    "# Visualising outliers histogram\n",
    "fig = plt.figure(figsize=(10,6))\n",
    "sns.distplot(data2, bins=None, kde=False)\n",
    "plt.title('Figure 3: Histogram of Stock Prices Outliers')\n",
    "plt.xlabel('Proportion Range (Bins)')\n",
    "plt.ylabel('Frequency')\n",
    "plt.show()"
   ]
  },
  {
   "cell_type": "markdown",
   "metadata": {
    "id": "mrN5lMHzJzUf"
   },
   "source": [
    "It is observed from the output that whereas inliers range from -7.5 to 7.5 around a Gaussian mode, the outliers range from -30 to 30.5 also in Gaussian distribution. The modal frequency for the inliers is over 700 while that of the outliers is just over 100.<br>  \n",
    "Calculating frequencies of the estimated inlier and outlier labels:"
   ]
  },
  {
   "cell_type": "code",
   "execution_count": null,
   "metadata": {
    "colab": {
     "base_uri": "https://localhost:8080/"
    },
    "id": "Kv40wW6KQ5PY",
    "outputId": "27782d98-c692-426b-8273-ef7f3de6fb7a"
   },
   "outputs": [
    {
     "name": "stdout",
     "output_type": "stream",
     "text": [
      "As a class, the frequency of inliers is:  6680\n"
     ]
    }
   ],
   "source": [
    "# Calculating inlier frequency\n",
    "count1 = np.count_nonzero(data1)\n",
    "print(\"As a class, the frequency of inliers is: \", count1)"
   ]
  },
  {
   "cell_type": "code",
   "execution_count": null,
   "metadata": {
    "colab": {
     "base_uri": "https://localhost:8080/"
    },
    "id": "976IfrgqXJ_r",
    "outputId": "b33b77f4-2941-4c27-966a-7ee2dbf58d38"
   },
   "outputs": [
    {
     "name": "stdout",
     "output_type": "stream",
     "text": [
      "As a class, the frequency of outliers is:  743\n"
     ]
    }
   ],
   "source": [
    "# Calculating outlier frequency\n",
    "count2 = np.count_nonzero(data2)\n",
    "print(\"As a class, the frequency of outliers is: \", count2)"
   ]
  },
  {
   "cell_type": "markdown",
   "metadata": {
    "id": "TWvH2hN4kmHB"
   },
   "source": [
    "**Difference Between one-class SVM and Parametric and Proximity-based Plots** <br> \n",
    "In terms of the plotted results, the one-class SVM approach for outlier detection differs from the parametric and proximity-based methods in the way inliers and outliers are shown. In a parametric methods like using the Mahalanobis distance, outliers are calculated based in their distance away from the mean and centre of covariance, while in a proximity-based method like k-nn, outliers are calculated based on the magnitude of the distance between a value and its k-th nearest neighbour. There is therefore gradient of outlier values from 'close' outliers to 'distant' outliers which is reflected in the plot output colors.<br> \n",
    "<br> \n",
    "The one-class SVM approach for outlier detection on the other hand calculates outliers by virtue of classification, hence has a binary sharp boundary between inliers and outliers, also reflected in the plot output by two colors only instead of a gradient or range.<br> \n",
    "<br> \n",
    "**Percentage of Dataset Objects Classified as Outliers**<br> \n",
    "The percentage of dataset objects classified as outliers is:<br> \n",
    "743/6680 * 100 = **$11.12$%**<br> \n",
    "<br> \n",
    "**5.**<br> \n",
    "Using the house prices dataset from Section 3 of lab notebook 7, the following Principal Component Analysis (PCA) is carried out:"
   ]
  },
  {
   "cell_type": "code",
   "execution_count": null,
   "metadata": {
    "colab": {
     "base_uri": "https://localhost:8080/",
     "height": 423
    },
    "id": "9LlElYHjl-_C",
    "outputId": "dbf1ba88-1f39-4bf0-c425-d1edda917868"
   },
   "outputs": [
    {
     "data": {
      "text/html": [
       "<div>\n",
       "<style scoped>\n",
       "    .dataframe tbody tr th:only-of-type {\n",
       "        vertical-align: middle;\n",
       "    }\n",
       "\n",
       "    .dataframe tbody tr th {\n",
       "        vertical-align: top;\n",
       "    }\n",
       "\n",
       "    .dataframe thead th {\n",
       "        text-align: right;\n",
       "    }\n",
       "</style>\n",
       "<table border=\"1\" class=\"dataframe\">\n",
       "  <thead>\n",
       "    <tr style=\"text-align: right;\">\n",
       "      <th></th>\n",
       "      <th>CRIM</th>\n",
       "      <th>ZN</th>\n",
       "      <th>INDUS</th>\n",
       "      <th>CHAS</th>\n",
       "      <th>NOX</th>\n",
       "      <th>RM</th>\n",
       "      <th>AGE</th>\n",
       "      <th>DIS</th>\n",
       "      <th>RAD</th>\n",
       "      <th>TAX</th>\n",
       "      <th>PTRATIO</th>\n",
       "      <th>B</th>\n",
       "      <th>LSTAT</th>\n",
       "      <th>MEDV</th>\n",
       "    </tr>\n",
       "  </thead>\n",
       "  <tbody>\n",
       "    <tr>\n",
       "      <th>0</th>\n",
       "      <td>0.00632</td>\n",
       "      <td>18.0</td>\n",
       "      <td>2.31</td>\n",
       "      <td>0</td>\n",
       "      <td>0.538</td>\n",
       "      <td>6.575</td>\n",
       "      <td>65.2</td>\n",
       "      <td>4.0900</td>\n",
       "      <td>1</td>\n",
       "      <td>296.0</td>\n",
       "      <td>15.3</td>\n",
       "      <td>396.90</td>\n",
       "      <td>4.98</td>\n",
       "      <td>24.0</td>\n",
       "    </tr>\n",
       "    <tr>\n",
       "      <th>1</th>\n",
       "      <td>0.02731</td>\n",
       "      <td>0.0</td>\n",
       "      <td>7.07</td>\n",
       "      <td>0</td>\n",
       "      <td>0.469</td>\n",
       "      <td>6.421</td>\n",
       "      <td>78.9</td>\n",
       "      <td>4.9671</td>\n",
       "      <td>2</td>\n",
       "      <td>242.0</td>\n",
       "      <td>17.8</td>\n",
       "      <td>396.90</td>\n",
       "      <td>9.14</td>\n",
       "      <td>21.6</td>\n",
       "    </tr>\n",
       "    <tr>\n",
       "      <th>2</th>\n",
       "      <td>0.02729</td>\n",
       "      <td>0.0</td>\n",
       "      <td>7.07</td>\n",
       "      <td>0</td>\n",
       "      <td>0.469</td>\n",
       "      <td>7.185</td>\n",
       "      <td>61.1</td>\n",
       "      <td>4.9671</td>\n",
       "      <td>2</td>\n",
       "      <td>242.0</td>\n",
       "      <td>17.8</td>\n",
       "      <td>392.83</td>\n",
       "      <td>4.03</td>\n",
       "      <td>34.7</td>\n",
       "    </tr>\n",
       "    <tr>\n",
       "      <th>3</th>\n",
       "      <td>0.03237</td>\n",
       "      <td>0.0</td>\n",
       "      <td>2.18</td>\n",
       "      <td>0</td>\n",
       "      <td>0.458</td>\n",
       "      <td>6.998</td>\n",
       "      <td>45.8</td>\n",
       "      <td>6.0622</td>\n",
       "      <td>3</td>\n",
       "      <td>222.0</td>\n",
       "      <td>18.7</td>\n",
       "      <td>394.63</td>\n",
       "      <td>2.94</td>\n",
       "      <td>33.4</td>\n",
       "    </tr>\n",
       "    <tr>\n",
       "      <th>4</th>\n",
       "      <td>0.06905</td>\n",
       "      <td>0.0</td>\n",
       "      <td>2.18</td>\n",
       "      <td>0</td>\n",
       "      <td>0.458</td>\n",
       "      <td>7.147</td>\n",
       "      <td>54.2</td>\n",
       "      <td>6.0622</td>\n",
       "      <td>3</td>\n",
       "      <td>222.0</td>\n",
       "      <td>18.7</td>\n",
       "      <td>396.90</td>\n",
       "      <td>5.33</td>\n",
       "      <td>36.2</td>\n",
       "    </tr>\n",
       "    <tr>\n",
       "      <th>...</th>\n",
       "      <td>...</td>\n",
       "      <td>...</td>\n",
       "      <td>...</td>\n",
       "      <td>...</td>\n",
       "      <td>...</td>\n",
       "      <td>...</td>\n",
       "      <td>...</td>\n",
       "      <td>...</td>\n",
       "      <td>...</td>\n",
       "      <td>...</td>\n",
       "      <td>...</td>\n",
       "      <td>...</td>\n",
       "      <td>...</td>\n",
       "      <td>...</td>\n",
       "    </tr>\n",
       "    <tr>\n",
       "      <th>501</th>\n",
       "      <td>0.06263</td>\n",
       "      <td>0.0</td>\n",
       "      <td>11.93</td>\n",
       "      <td>0</td>\n",
       "      <td>0.573</td>\n",
       "      <td>6.593</td>\n",
       "      <td>69.1</td>\n",
       "      <td>2.4786</td>\n",
       "      <td>1</td>\n",
       "      <td>273.0</td>\n",
       "      <td>21.0</td>\n",
       "      <td>391.99</td>\n",
       "      <td>9.67</td>\n",
       "      <td>22.4</td>\n",
       "    </tr>\n",
       "    <tr>\n",
       "      <th>502</th>\n",
       "      <td>0.04527</td>\n",
       "      <td>0.0</td>\n",
       "      <td>11.93</td>\n",
       "      <td>0</td>\n",
       "      <td>0.573</td>\n",
       "      <td>6.120</td>\n",
       "      <td>76.7</td>\n",
       "      <td>2.2875</td>\n",
       "      <td>1</td>\n",
       "      <td>273.0</td>\n",
       "      <td>21.0</td>\n",
       "      <td>396.90</td>\n",
       "      <td>9.08</td>\n",
       "      <td>20.6</td>\n",
       "    </tr>\n",
       "    <tr>\n",
       "      <th>503</th>\n",
       "      <td>0.06076</td>\n",
       "      <td>0.0</td>\n",
       "      <td>11.93</td>\n",
       "      <td>0</td>\n",
       "      <td>0.573</td>\n",
       "      <td>6.976</td>\n",
       "      <td>91.0</td>\n",
       "      <td>2.1675</td>\n",
       "      <td>1</td>\n",
       "      <td>273.0</td>\n",
       "      <td>21.0</td>\n",
       "      <td>396.90</td>\n",
       "      <td>5.64</td>\n",
       "      <td>23.9</td>\n",
       "    </tr>\n",
       "    <tr>\n",
       "      <th>504</th>\n",
       "      <td>0.10959</td>\n",
       "      <td>0.0</td>\n",
       "      <td>11.93</td>\n",
       "      <td>0</td>\n",
       "      <td>0.573</td>\n",
       "      <td>6.794</td>\n",
       "      <td>89.3</td>\n",
       "      <td>2.3889</td>\n",
       "      <td>1</td>\n",
       "      <td>273.0</td>\n",
       "      <td>21.0</td>\n",
       "      <td>393.45</td>\n",
       "      <td>6.48</td>\n",
       "      <td>22.0</td>\n",
       "    </tr>\n",
       "    <tr>\n",
       "      <th>505</th>\n",
       "      <td>0.04741</td>\n",
       "      <td>0.0</td>\n",
       "      <td>11.93</td>\n",
       "      <td>0</td>\n",
       "      <td>0.573</td>\n",
       "      <td>6.030</td>\n",
       "      <td>80.8</td>\n",
       "      <td>2.5050</td>\n",
       "      <td>1</td>\n",
       "      <td>273.0</td>\n",
       "      <td>21.0</td>\n",
       "      <td>396.90</td>\n",
       "      <td>7.88</td>\n",
       "      <td>11.9</td>\n",
       "    </tr>\n",
       "  </tbody>\n",
       "</table>\n",
       "<p>506 rows × 14 columns</p>\n",
       "</div>"
      ],
      "text/plain": [
       "        CRIM    ZN  INDUS  CHAS    NOX  ...    TAX  PTRATIO       B  LSTAT  MEDV\n",
       "0    0.00632  18.0   2.31     0  0.538  ...  296.0     15.3  396.90   4.98  24.0\n",
       "1    0.02731   0.0   7.07     0  0.469  ...  242.0     17.8  396.90   9.14  21.6\n",
       "2    0.02729   0.0   7.07     0  0.469  ...  242.0     17.8  392.83   4.03  34.7\n",
       "3    0.03237   0.0   2.18     0  0.458  ...  222.0     18.7  394.63   2.94  33.4\n",
       "4    0.06905   0.0   2.18     0  0.458  ...  222.0     18.7  396.90   5.33  36.2\n",
       "..       ...   ...    ...   ...    ...  ...    ...      ...     ...    ...   ...\n",
       "501  0.06263   0.0  11.93     0  0.573  ...  273.0     21.0  391.99   9.67  22.4\n",
       "502  0.04527   0.0  11.93     0  0.573  ...  273.0     21.0  396.90   9.08  20.6\n",
       "503  0.06076   0.0  11.93     0  0.573  ...  273.0     21.0  396.90   5.64  23.9\n",
       "504  0.10959   0.0  11.93     0  0.573  ...  273.0     21.0  393.45   6.48  22.0\n",
       "505  0.04741   0.0  11.93     0  0.573  ...  273.0     21.0  396.90   7.88  11.9\n",
       "\n",
       "[506 rows x 14 columns]"
      ]
     },
     "execution_count": 15,
     "metadata": {},
     "output_type": "execute_result"
    }
   ],
   "source": [
    "from pandas import read_csv\n",
    "# Loading the dataset\n",
    "url = 'https://raw.githubusercontent.com/jbrownlee/Datasets/master/housing.csv'\n",
    "df = read_csv(url, header=None)\n",
    "df.columns=['CRIM', 'ZN', 'INDUS', 'CHAS', 'NOX', 'RM', 'AGE', 'DIS', 'RAD', 'TAX', 'PTRATIO', 'B', 'LSTAT', 'MEDV']\n",
    "df"
   ]
  },
  {
   "cell_type": "markdown",
   "metadata": {
    "id": "VsKzIUiX9-GX"
   },
   "source": [
    "Preliminary exploratory data analysis (EDA) is conducted as follows:"
   ]
  },
  {
   "cell_type": "code",
   "execution_count": null,
   "metadata": {
    "colab": {
     "base_uri": "https://localhost:8080/"
    },
    "id": "6cTQCeAWw3LT",
    "outputId": "b32b5a1f-5967-4a89-fefe-951272dbea89"
   },
   "outputs": [
    {
     "name": "stdout",
     "output_type": "stream",
     "text": [
      "<class 'pandas.core.frame.DataFrame'>\n",
      "RangeIndex: 506 entries, 0 to 505\n",
      "Data columns (total 14 columns):\n",
      " #   Column   Non-Null Count  Dtype  \n",
      "---  ------   --------------  -----  \n",
      " 0   CRIM     506 non-null    float64\n",
      " 1   ZN       506 non-null    float64\n",
      " 2   INDUS    506 non-null    float64\n",
      " 3   CHAS     506 non-null    int64  \n",
      " 4   NOX      506 non-null    float64\n",
      " 5   RM       506 non-null    float64\n",
      " 6   AGE      506 non-null    float64\n",
      " 7   DIS      506 non-null    float64\n",
      " 8   RAD      506 non-null    int64  \n",
      " 9   TAX      506 non-null    float64\n",
      " 10  PTRATIO  506 non-null    float64\n",
      " 11  B        506 non-null    float64\n",
      " 12  LSTAT    506 non-null    float64\n",
      " 13  MEDV     506 non-null    float64\n",
      "dtypes: float64(12), int64(2)\n",
      "memory usage: 55.5 KB\n"
     ]
    }
   ],
   "source": [
    "df.info()"
   ]
  },
  {
   "cell_type": "code",
   "execution_count": null,
   "metadata": {
    "colab": {
     "base_uri": "https://localhost:8080/",
     "height": 320
    },
    "id": "lL8BRxBom0kR",
    "outputId": "563b5372-a696-4984-efb3-f8b1337a2119"
   },
   "outputs": [
    {
     "data": {
      "text/html": [
       "<div>\n",
       "<style scoped>\n",
       "    .dataframe tbody tr th:only-of-type {\n",
       "        vertical-align: middle;\n",
       "    }\n",
       "\n",
       "    .dataframe tbody tr th {\n",
       "        vertical-align: top;\n",
       "    }\n",
       "\n",
       "    .dataframe thead th {\n",
       "        text-align: right;\n",
       "    }\n",
       "</style>\n",
       "<table border=\"1\" class=\"dataframe\">\n",
       "  <thead>\n",
       "    <tr style=\"text-align: right;\">\n",
       "      <th></th>\n",
       "      <th>CRIM</th>\n",
       "      <th>ZN</th>\n",
       "      <th>INDUS</th>\n",
       "      <th>CHAS</th>\n",
       "      <th>NOX</th>\n",
       "      <th>RM</th>\n",
       "      <th>AGE</th>\n",
       "      <th>DIS</th>\n",
       "      <th>RAD</th>\n",
       "      <th>TAX</th>\n",
       "      <th>PTRATIO</th>\n",
       "      <th>B</th>\n",
       "      <th>LSTAT</th>\n",
       "      <th>MEDV</th>\n",
       "    </tr>\n",
       "  </thead>\n",
       "  <tbody>\n",
       "    <tr>\n",
       "      <th>count</th>\n",
       "      <td>506.000000</td>\n",
       "      <td>506.000000</td>\n",
       "      <td>506.000000</td>\n",
       "      <td>506.000000</td>\n",
       "      <td>506.000000</td>\n",
       "      <td>506.000000</td>\n",
       "      <td>506.000000</td>\n",
       "      <td>506.000000</td>\n",
       "      <td>506.000000</td>\n",
       "      <td>506.000000</td>\n",
       "      <td>506.000000</td>\n",
       "      <td>506.000000</td>\n",
       "      <td>506.000000</td>\n",
       "      <td>506.000000</td>\n",
       "    </tr>\n",
       "    <tr>\n",
       "      <th>mean</th>\n",
       "      <td>3.613524</td>\n",
       "      <td>11.363636</td>\n",
       "      <td>11.136779</td>\n",
       "      <td>0.069170</td>\n",
       "      <td>0.554695</td>\n",
       "      <td>6.284634</td>\n",
       "      <td>68.574901</td>\n",
       "      <td>3.795043</td>\n",
       "      <td>9.549407</td>\n",
       "      <td>408.237154</td>\n",
       "      <td>18.455534</td>\n",
       "      <td>356.674032</td>\n",
       "      <td>12.653063</td>\n",
       "      <td>22.532806</td>\n",
       "    </tr>\n",
       "    <tr>\n",
       "      <th>std</th>\n",
       "      <td>8.601545</td>\n",
       "      <td>23.322453</td>\n",
       "      <td>6.860353</td>\n",
       "      <td>0.253994</td>\n",
       "      <td>0.115878</td>\n",
       "      <td>0.702617</td>\n",
       "      <td>28.148861</td>\n",
       "      <td>2.105710</td>\n",
       "      <td>8.707259</td>\n",
       "      <td>168.537116</td>\n",
       "      <td>2.164946</td>\n",
       "      <td>91.294864</td>\n",
       "      <td>7.141062</td>\n",
       "      <td>9.197104</td>\n",
       "    </tr>\n",
       "    <tr>\n",
       "      <th>min</th>\n",
       "      <td>0.006320</td>\n",
       "      <td>0.000000</td>\n",
       "      <td>0.460000</td>\n",
       "      <td>0.000000</td>\n",
       "      <td>0.385000</td>\n",
       "      <td>3.561000</td>\n",
       "      <td>2.900000</td>\n",
       "      <td>1.129600</td>\n",
       "      <td>1.000000</td>\n",
       "      <td>187.000000</td>\n",
       "      <td>12.600000</td>\n",
       "      <td>0.320000</td>\n",
       "      <td>1.730000</td>\n",
       "      <td>5.000000</td>\n",
       "    </tr>\n",
       "    <tr>\n",
       "      <th>25%</th>\n",
       "      <td>0.082045</td>\n",
       "      <td>0.000000</td>\n",
       "      <td>5.190000</td>\n",
       "      <td>0.000000</td>\n",
       "      <td>0.449000</td>\n",
       "      <td>5.885500</td>\n",
       "      <td>45.025000</td>\n",
       "      <td>2.100175</td>\n",
       "      <td>4.000000</td>\n",
       "      <td>279.000000</td>\n",
       "      <td>17.400000</td>\n",
       "      <td>375.377500</td>\n",
       "      <td>6.950000</td>\n",
       "      <td>17.025000</td>\n",
       "    </tr>\n",
       "    <tr>\n",
       "      <th>50%</th>\n",
       "      <td>0.256510</td>\n",
       "      <td>0.000000</td>\n",
       "      <td>9.690000</td>\n",
       "      <td>0.000000</td>\n",
       "      <td>0.538000</td>\n",
       "      <td>6.208500</td>\n",
       "      <td>77.500000</td>\n",
       "      <td>3.207450</td>\n",
       "      <td>5.000000</td>\n",
       "      <td>330.000000</td>\n",
       "      <td>19.050000</td>\n",
       "      <td>391.440000</td>\n",
       "      <td>11.360000</td>\n",
       "      <td>21.200000</td>\n",
       "    </tr>\n",
       "    <tr>\n",
       "      <th>75%</th>\n",
       "      <td>3.677082</td>\n",
       "      <td>12.500000</td>\n",
       "      <td>18.100000</td>\n",
       "      <td>0.000000</td>\n",
       "      <td>0.624000</td>\n",
       "      <td>6.623500</td>\n",
       "      <td>94.075000</td>\n",
       "      <td>5.188425</td>\n",
       "      <td>24.000000</td>\n",
       "      <td>666.000000</td>\n",
       "      <td>20.200000</td>\n",
       "      <td>396.225000</td>\n",
       "      <td>16.955000</td>\n",
       "      <td>25.000000</td>\n",
       "    </tr>\n",
       "    <tr>\n",
       "      <th>max</th>\n",
       "      <td>88.976200</td>\n",
       "      <td>100.000000</td>\n",
       "      <td>27.740000</td>\n",
       "      <td>1.000000</td>\n",
       "      <td>0.871000</td>\n",
       "      <td>8.780000</td>\n",
       "      <td>100.000000</td>\n",
       "      <td>12.126500</td>\n",
       "      <td>24.000000</td>\n",
       "      <td>711.000000</td>\n",
       "      <td>22.000000</td>\n",
       "      <td>396.900000</td>\n",
       "      <td>37.970000</td>\n",
       "      <td>50.000000</td>\n",
       "    </tr>\n",
       "  </tbody>\n",
       "</table>\n",
       "</div>"
      ],
      "text/plain": [
       "             CRIM          ZN       INDUS  ...           B       LSTAT        MEDV\n",
       "count  506.000000  506.000000  506.000000  ...  506.000000  506.000000  506.000000\n",
       "mean     3.613524   11.363636   11.136779  ...  356.674032   12.653063   22.532806\n",
       "std      8.601545   23.322453    6.860353  ...   91.294864    7.141062    9.197104\n",
       "min      0.006320    0.000000    0.460000  ...    0.320000    1.730000    5.000000\n",
       "25%      0.082045    0.000000    5.190000  ...  375.377500    6.950000   17.025000\n",
       "50%      0.256510    0.000000    9.690000  ...  391.440000   11.360000   21.200000\n",
       "75%      3.677082   12.500000   18.100000  ...  396.225000   16.955000   25.000000\n",
       "max     88.976200  100.000000   27.740000  ...  396.900000   37.970000   50.000000\n",
       "\n",
       "[8 rows x 14 columns]"
      ]
     },
     "execution_count": 17,
     "metadata": {},
     "output_type": "execute_result"
    }
   ],
   "source": [
    "df.describe()"
   ]
  },
  {
   "cell_type": "markdown",
   "metadata": {
    "id": "H_Vwhfi09uYg"
   },
   "source": [
    "The binary column \"CHAS\" is dropped prior to normalisation:"
   ]
  },
  {
   "cell_type": "code",
   "execution_count": null,
   "metadata": {
    "colab": {
     "base_uri": "https://localhost:8080/"
    },
    "id": "VTyyN0Cfc3ot",
    "outputId": "6de8fb54-b8bb-4190-9f3c-6582cc0c8825"
   },
   "outputs": [
    {
     "name": "stdout",
     "output_type": "stream",
     "text": [
      "Binary column dropped.\n"
     ]
    }
   ],
   "source": [
    "# Dropping binary column\n",
    "df = df.drop(['CHAS'], axis=1)\n",
    "print(\"Binary column dropped.\")"
   ]
  },
  {
   "cell_type": "code",
   "execution_count": null,
   "metadata": {
    "colab": {
     "base_uri": "https://localhost:8080/"
    },
    "id": "P7jp6WLZ8_kW",
    "outputId": "f6c78b73-f15a-4b62-da24-78bdf282d2fa"
   },
   "outputs": [
    {
     "name": "stdout",
     "output_type": "stream",
     "text": [
      "Values extracted from dataframe.\n",
      "Dataset split into input and target variables.\n",
      "Input and target dimensions are respectively:  (506, 12) (506,)\n"
     ]
    }
   ],
   "source": [
    "# Extracting the values from the dataframe\n",
    "data = df.values\n",
    "print(\"Values extracted from dataframe.\")\n",
    "\n",
    "# Splitting dataset into input and target variables\n",
    "input, target = data[:, :-1], data[:, -1]\n",
    "print(\"Dataset split into input and target variables.\")\n",
    "\n",
    "# Summarizing shape of dataset\n",
    "print(\"Input and target dimensions are respectively: \", input.shape, target.shape)"
   ]
  },
  {
   "cell_type": "code",
   "execution_count": null,
   "metadata": {
    "colab": {
     "base_uri": "https://localhost:8080/"
    },
    "id": "lQRXhQbDn_zC",
    "outputId": "d1ca2af1-1676-4df6-b078-7a391205c65d"
   },
   "outputs": [
    {
     "name": "stdout",
     "output_type": "stream",
     "text": [
      "z-score normailsed input array is:  [[-0.41978194  0.28482986 -1.2879095  ... -1.45900038  0.44105193\n",
      "  -1.0755623 ]\n",
      " [-0.41733926 -0.48772236 -0.59338101 ... -0.30309415  0.44105193\n",
      "  -0.49243937]\n",
      " [-0.41734159 -0.48772236 -0.59338101 ... -0.30309415  0.39642699\n",
      "  -1.2087274 ]\n",
      " ...\n",
      " [-0.41344658 -0.48772236  0.11573841 ...  1.17646583  0.44105193\n",
      "  -0.98304761]\n",
      " [-0.40776407 -0.48772236  0.11573841 ...  1.17646583  0.4032249\n",
      "  -0.86530163]\n",
      " [-0.41500016 -0.48772236  0.11573841 ...  1.17646583  0.44105193\n",
      "  -0.66905833]]\n"
     ]
    }
   ],
   "source": [
    "# Normalising by z scores\n",
    "from scipy import stats\n",
    "\n",
    "input2 = stats.zscore(input)\n",
    "print(\"z-score normailsed input array is: \", input2)"
   ]
  },
  {
   "cell_type": "markdown",
   "metadata": {
    "id": "FmCKLcdk_8Lm"
   },
   "source": [
    "The next step computes the 2 principal components of the dataset:"
   ]
  },
  {
   "cell_type": "code",
   "execution_count": null,
   "metadata": {
    "colab": {
     "base_uri": "https://localhost:8080/",
     "height": 423
    },
    "id": "fvr9pJmgp8Ra",
    "outputId": "e57ff64c-f396-4cf0-93a3-a5800a9612a0"
   },
   "outputs": [
    {
     "data": {
      "text/html": [
       "<div>\n",
       "<style scoped>\n",
       "    .dataframe tbody tr th:only-of-type {\n",
       "        vertical-align: middle;\n",
       "    }\n",
       "\n",
       "    .dataframe tbody tr th {\n",
       "        vertical-align: top;\n",
       "    }\n",
       "\n",
       "    .dataframe thead th {\n",
       "        text-align: right;\n",
       "    }\n",
       "</style>\n",
       "<table border=\"1\" class=\"dataframe\">\n",
       "  <thead>\n",
       "    <tr style=\"text-align: right;\">\n",
       "      <th></th>\n",
       "      <th>pc1</th>\n",
       "      <th>pc2</th>\n",
       "    </tr>\n",
       "  </thead>\n",
       "  <tbody>\n",
       "    <tr>\n",
       "      <th>0</th>\n",
       "      <td>-2.097234</td>\n",
       "      <td>-0.720179</td>\n",
       "    </tr>\n",
       "    <tr>\n",
       "      <th>1</th>\n",
       "      <td>-1.456003</td>\n",
       "      <td>-0.947694</td>\n",
       "    </tr>\n",
       "    <tr>\n",
       "      <th>2</th>\n",
       "      <td>-2.073454</td>\n",
       "      <td>-0.625336</td>\n",
       "    </tr>\n",
       "    <tr>\n",
       "      <th>3</th>\n",
       "      <td>-2.610161</td>\n",
       "      <td>-0.134044</td>\n",
       "    </tr>\n",
       "    <tr>\n",
       "      <th>4</th>\n",
       "      <td>-2.456866</td>\n",
       "      <td>-0.229919</td>\n",
       "    </tr>\n",
       "    <tr>\n",
       "      <th>...</th>\n",
       "      <td>...</td>\n",
       "      <td>...</td>\n",
       "    </tr>\n",
       "    <tr>\n",
       "      <th>501</th>\n",
       "      <td>-0.313721</td>\n",
       "      <td>-1.143840</td>\n",
       "    </tr>\n",
       "    <tr>\n",
       "      <th>502</th>\n",
       "      <td>-0.109236</td>\n",
       "      <td>-1.326699</td>\n",
       "    </tr>\n",
       "    <tr>\n",
       "      <th>503</th>\n",
       "      <td>-0.311283</td>\n",
       "      <td>-1.395246</td>\n",
       "    </tr>\n",
       "    <tr>\n",
       "      <th>504</th>\n",
       "      <td>-0.269391</td>\n",
       "      <td>-1.350590</td>\n",
       "    </tr>\n",
       "    <tr>\n",
       "      <th>505</th>\n",
       "      <td>-0.124526</td>\n",
       "      <td>-1.342938</td>\n",
       "    </tr>\n",
       "  </tbody>\n",
       "</table>\n",
       "<p>506 rows × 2 columns</p>\n",
       "</div>"
      ],
      "text/plain": [
       "          pc1       pc2\n",
       "0   -2.097234 -0.720179\n",
       "1   -1.456003 -0.947694\n",
       "2   -2.073454 -0.625336\n",
       "3   -2.610161 -0.134044\n",
       "4   -2.456866 -0.229919\n",
       "..        ...       ...\n",
       "501 -0.313721 -1.143840\n",
       "502 -0.109236 -1.326699\n",
       "503 -0.311283 -1.395246\n",
       "504 -0.269391 -1.350590\n",
       "505 -0.124526 -1.342938\n",
       "\n",
       "[506 rows x 2 columns]"
      ]
     },
     "execution_count": 21,
     "metadata": {},
     "output_type": "execute_result"
    }
   ],
   "source": [
    "# Computing principal components\n",
    "from sklearn.decomposition import PCA\n",
    "\n",
    "numComponents = 2\n",
    "pca = PCA(n_components=numComponents)\n",
    "pca.fit(input2)\n",
    "\n",
    "projected = pca.transform(input2)\n",
    "projected = pd.DataFrame(projected,columns=['pc1','pc2'])\n",
    "\n",
    "# Outputting results\n",
    "projected"
   ]
  },
  {
   "cell_type": "code",
   "execution_count": null,
   "metadata": {
    "colab": {
     "base_uri": "https://localhost:8080/",
     "height": 465
    },
    "id": "oOYVUiPeYXLD",
    "outputId": "9d51666f-a6d1-4cc8-98b7-991a5e47d89e"
   },
   "outputs": [
    {
     "data": {
      "image/png": "[encoded data removed]",
      "text/plain": [
       "<Figure size 864x504 with 1 Axes>"
      ]
     },
     "metadata": {
      "image/png": {
       "height": 448,
       "width": 723
      }
     },
     "output_type": "display_data"
    }
   ],
   "source": [
    "# Visualising PCA\n",
    "fig = plt.figure(figsize = (12,7))\n",
    "ax = fig.add_subplot(1,1,1) \n",
    "ax.set_xlabel('Principal Component 1', fontsize = 14)\n",
    "ax.set_ylabel('Principal Component 2', fontsize = 14)\n",
    "ax.set_title('Figure 4: 2-component PCA of Boston Housing Dataset', fontsize = 18)\n",
    "visuals = ['pc1', 'pc2']\n",
    "colors = 'cmap'\n",
    "for visuals, colors in zip(visuals,colors):\n",
    "  ax.scatter(projected['pc1'], projected['pc2'], c=colors, s = 40)\n",
    "\n",
    "ax.grid()"
   ]
  },
  {
   "cell_type": "markdown",
   "metadata": {
    "id": "PlRAR4EmC6To"
   },
   "source": [
    "The next few steps perform outlier detection on the pre-processed dataset using the k-nearest neighbours approach with k=2. To enable visualisation and prevent error messages further down, the target variable array is converted from numeric to multiclass:"
   ]
  },
  {
   "cell_type": "code",
   "execution_count": null,
   "metadata": {
    "colab": {
     "base_uri": "https://localhost:8080/"
    },
    "id": "lAxYfktFR3RS",
    "outputId": "26b9d047-9f37-4f3b-dfa6-ae88a57fcea5"
   },
   "outputs": [
    {
     "name": "stdout",
     "output_type": "stream",
     "text": [
      "continuous\n",
      "multiclass\n",
      "multiclass\n"
     ]
    }
   ],
   "source": [
    "# Converting target to class type\n",
    "from sklearn import preprocessing\n",
    "from sklearn import utils\n",
    "\n",
    "lab_enc = preprocessing.LabelEncoder()\n",
    "encoded = lab_enc.fit_transform(target)\n",
    "\n",
    "print(utils.multiclass.type_of_target(target))\n",
    "print(utils.multiclass.type_of_target(target.astype('int')))\n",
    "print(utils.multiclass.type_of_target(encoded))"
   ]
  },
  {
   "cell_type": "code",
   "execution_count": null,
   "metadata": {
    "colab": {
     "base_uri": "https://localhost:8080/"
    },
    "id": "RmoqEDqEnx3M",
    "outputId": "a133a50f-c1a6-4f41-bd73-bbf71e0c8012"
   },
   "outputs": [
    {
     "data": {
      "text/plain": [
       "(506,)"
      ]
     },
     "execution_count": 24,
     "metadata": {},
     "output_type": "execute_result"
    }
   ],
   "source": [
    "encoded.shape"
   ]
  },
  {
   "cell_type": "code",
   "execution_count": null,
   "metadata": {
    "id": "6ONXGWYEluYq"
   },
   "outputs": [],
   "source": [
    "encT = encoded.reshape(1,-1)"
   ]
  },
  {
   "cell_type": "code",
   "execution_count": null,
   "metadata": {
    "colab": {
     "base_uri": "https://localhost:8080/"
    },
    "id": "At-MVrkHmhBs",
    "outputId": "a8267349-b8e1-4504-ca45-a5398a7a64e9"
   },
   "outputs": [
    {
     "data": {
      "text/plain": [
       "(1, 506)"
      ]
     },
     "execution_count": 26,
     "metadata": {},
     "output_type": "execute_result"
    }
   ],
   "source": [
    "encT.shape"
   ]
  },
  {
   "cell_type": "code",
   "execution_count": null,
   "metadata": {
    "colab": {
     "base_uri": "https://localhost:8080/"
    },
    "id": "37ffGyWhLpoz",
    "outputId": "829ae053-b6b0-474d-c620-b9fd9087a53a"
   },
   "outputs": [
    {
     "name": "stdout",
     "output_type": "stream",
     "text": [
      "Training dataset accuracy: 0.007905138339920948.\n"
     ]
    }
   ],
   "source": [
    "# Implementing k-nn classification\n",
    "from sklearn.neighbors import KNeighborsClassifier\n",
    "\n",
    "knn = KNeighborsClassifier(n_neighbors=2)\n",
    "knn.fit(input2, encoded)\n",
    "print('Training dataset accuracy: {0}.'.format(knn.score(input, encoded)))"
   ]
  },
  {
   "cell_type": "code",
   "execution_count": null,
   "metadata": {
    "colab": {
     "base_uri": "https://localhost:8080/"
    },
    "id": "NeqlwY1FpTPb",
    "outputId": "2f24006f-ba88-4623-e94a-222c8ea964d8"
   },
   "outputs": [
    {
     "name": "stdout",
     "output_type": "stream",
     "text": [
      "0.007905138339920948\n"
     ]
    }
   ],
   "source": [
    "# Setting outlier score as output labels\n",
    "outlier_score = knn.score(input, encoded)\n",
    "print(outlier_score)"
   ]
  },
  {
   "cell_type": "code",
   "execution_count": null,
   "metadata": {
    "id": "fgOQKiItsfhg"
   },
   "outputs": [],
   "source": [
    "# Assigning inliers and outliers\n",
    "inly = ((input < outlier_score).all(axis=1))\n",
    "outly = ((input >= outlier_score).all(axis=1))"
   ]
  },
  {
   "cell_type": "code",
   "execution_count": null,
   "metadata": {
    "colab": {
     "base_uri": "https://localhost:8080/",
     "height": 423
    },
    "id": "5oaJUW2emKKc",
    "outputId": "aeaffe0c-abed-47fb-cb08-9d9dfb87d2a1"
   },
   "outputs": [
    {
     "data": {
      "text/html": [
       "<div>\n",
       "<style scoped>\n",
       "    .dataframe tbody tr th:only-of-type {\n",
       "        vertical-align: middle;\n",
       "    }\n",
       "\n",
       "    .dataframe tbody tr th {\n",
       "        vertical-align: top;\n",
       "    }\n",
       "\n",
       "    .dataframe thead th {\n",
       "        text-align: right;\n",
       "    }\n",
       "</style>\n",
       "<table border=\"1\" class=\"dataframe\">\n",
       "  <thead>\n",
       "    <tr style=\"text-align: right;\">\n",
       "      <th></th>\n",
       "      <th>target</th>\n",
       "    </tr>\n",
       "  </thead>\n",
       "  <tbody>\n",
       "    <tr>\n",
       "      <th>0</th>\n",
       "      <td>137</td>\n",
       "    </tr>\n",
       "    <tr>\n",
       "      <th>1</th>\n",
       "      <td>113</td>\n",
       "    </tr>\n",
       "    <tr>\n",
       "      <th>2</th>\n",
       "      <td>196</td>\n",
       "    </tr>\n",
       "    <tr>\n",
       "      <th>3</th>\n",
       "      <td>193</td>\n",
       "    </tr>\n",
       "    <tr>\n",
       "      <th>4</th>\n",
       "      <td>203</td>\n",
       "    </tr>\n",
       "    <tr>\n",
       "      <th>...</th>\n",
       "      <td>...</td>\n",
       "    </tr>\n",
       "    <tr>\n",
       "      <th>501</th>\n",
       "      <td>121</td>\n",
       "    </tr>\n",
       "    <tr>\n",
       "      <th>502</th>\n",
       "      <td>104</td>\n",
       "    </tr>\n",
       "    <tr>\n",
       "      <th>503</th>\n",
       "      <td>136</td>\n",
       "    </tr>\n",
       "    <tr>\n",
       "      <th>504</th>\n",
       "      <td>117</td>\n",
       "    </tr>\n",
       "    <tr>\n",
       "      <th>505</th>\n",
       "      <td>26</td>\n",
       "    </tr>\n",
       "  </tbody>\n",
       "</table>\n",
       "<p>506 rows × 1 columns</p>\n",
       "</div>"
      ],
      "text/plain": [
       "     target\n",
       "0       137\n",
       "1       113\n",
       "2       196\n",
       "3       193\n",
       "4       203\n",
       "..      ...\n",
       "501     121\n",
       "502     104\n",
       "503     136\n",
       "504     117\n",
       "505      26\n",
       "\n",
       "[506 rows x 1 columns]"
      ]
     },
     "execution_count": 30,
     "metadata": {},
     "output_type": "execute_result"
    }
   ],
   "source": [
    "#dat = {'target': [encoded]}\n",
    "df2 = pd.DataFrame()\n",
    "df2['target'] = encoded\n",
    "df2"
   ]
  },
  {
   "cell_type": "code",
   "execution_count": null,
   "metadata": {
    "colab": {
     "base_uri": "https://localhost:8080/",
     "height": 423
    },
    "id": "OZu_mx_2iN_0",
    "outputId": "b76f60e4-f41f-4603-8023-e75cb9854965"
   },
   "outputs": [
    {
     "data": {
      "text/html": [
       "<div>\n",
       "<style scoped>\n",
       "    .dataframe tbody tr th:only-of-type {\n",
       "        vertical-align: middle;\n",
       "    }\n",
       "\n",
       "    .dataframe tbody tr th {\n",
       "        vertical-align: top;\n",
       "    }\n",
       "\n",
       "    .dataframe thead th {\n",
       "        text-align: right;\n",
       "    }\n",
       "</style>\n",
       "<table border=\"1\" class=\"dataframe\">\n",
       "  <thead>\n",
       "    <tr style=\"text-align: right;\">\n",
       "      <th></th>\n",
       "      <th>pc1</th>\n",
       "      <th>pc2</th>\n",
       "      <th>target</th>\n",
       "    </tr>\n",
       "  </thead>\n",
       "  <tbody>\n",
       "    <tr>\n",
       "      <th>0</th>\n",
       "      <td>-2.097234</td>\n",
       "      <td>-0.720179</td>\n",
       "      <td>137</td>\n",
       "    </tr>\n",
       "    <tr>\n",
       "      <th>1</th>\n",
       "      <td>-1.456003</td>\n",
       "      <td>-0.947694</td>\n",
       "      <td>113</td>\n",
       "    </tr>\n",
       "    <tr>\n",
       "      <th>2</th>\n",
       "      <td>-2.073454</td>\n",
       "      <td>-0.625336</td>\n",
       "      <td>196</td>\n",
       "    </tr>\n",
       "    <tr>\n",
       "      <th>3</th>\n",
       "      <td>-2.610161</td>\n",
       "      <td>-0.134044</td>\n",
       "      <td>193</td>\n",
       "    </tr>\n",
       "    <tr>\n",
       "      <th>4</th>\n",
       "      <td>-2.456866</td>\n",
       "      <td>-0.229919</td>\n",
       "      <td>203</td>\n",
       "    </tr>\n",
       "    <tr>\n",
       "      <th>...</th>\n",
       "      <td>...</td>\n",
       "      <td>...</td>\n",
       "      <td>...</td>\n",
       "    </tr>\n",
       "    <tr>\n",
       "      <th>501</th>\n",
       "      <td>-0.313721</td>\n",
       "      <td>-1.143840</td>\n",
       "      <td>121</td>\n",
       "    </tr>\n",
       "    <tr>\n",
       "      <th>502</th>\n",
       "      <td>-0.109236</td>\n",
       "      <td>-1.326699</td>\n",
       "      <td>104</td>\n",
       "    </tr>\n",
       "    <tr>\n",
       "      <th>503</th>\n",
       "      <td>-0.311283</td>\n",
       "      <td>-1.395246</td>\n",
       "      <td>136</td>\n",
       "    </tr>\n",
       "    <tr>\n",
       "      <th>504</th>\n",
       "      <td>-0.269391</td>\n",
       "      <td>-1.350590</td>\n",
       "      <td>117</td>\n",
       "    </tr>\n",
       "    <tr>\n",
       "      <th>505</th>\n",
       "      <td>-0.124526</td>\n",
       "      <td>-1.342938</td>\n",
       "      <td>26</td>\n",
       "    </tr>\n",
       "  </tbody>\n",
       "</table>\n",
       "<p>506 rows × 3 columns</p>\n",
       "</div>"
      ],
      "text/plain": [
       "          pc1       pc2  target\n",
       "0   -2.097234 -0.720179     137\n",
       "1   -1.456003 -0.947694     113\n",
       "2   -2.073454 -0.625336     196\n",
       "3   -2.610161 -0.134044     193\n",
       "4   -2.456866 -0.229919     203\n",
       "..        ...       ...     ...\n",
       "501 -0.313721 -1.143840     121\n",
       "502 -0.109236 -1.326699     104\n",
       "503 -0.311283 -1.395246     136\n",
       "504 -0.269391 -1.350590     117\n",
       "505 -0.124526 -1.342938      26\n",
       "\n",
       "[506 rows x 3 columns]"
      ]
     },
     "execution_count": 31,
     "metadata": {},
     "output_type": "execute_result"
    }
   ],
   "source": [
    "# \n",
    "df3 = pd.concat([projected, df2[['target']]], axis = 1)\n",
    "df3"
   ]
  },
  {
   "cell_type": "markdown",
   "metadata": {
    "id": "f4qlU9TIqZ04"
   },
   "source": [
    "With deep regret, I have not been able to debug the following code to visualise scatterplot of inliers and outliers, despite spending several hours over a few days on it."
   ]
  },
  {
   "cell_type": "code",
   "execution_count": null,
   "metadata": {
    "id": "icj_Wr4JuASQ"
   },
   "outputs": [],
   "source": [
    "colors = {'inly':'b', 'outly':'r'}\n",
    "markerTypes = {'inly':'o', 'outly':'x'}\n",
    "\n",
    "for value in markerTypes:\n",
    "    d = projected[projected['target'] == value]\n",
    "    plt.scatter(d['pc1'], d['pc2'],c=colors,s=60,marker=markerTypes)"
   ]
  },
  {
   "cell_type": "code",
   "execution_count": null,
   "metadata": {
    "id": "EpNtBYwjZ8Ed"
   },
   "outputs": [],
   "source": [
    "colors = {'inly':'b', 'outly':'r'}\n",
    "markerTypes = {}\n",
    "\n",
    "for d in markerTypes:\n",
    "    d = projected[projected['food']==foodType]\n",
    "    plt.scatter(dat['pc1'],d['pc2'],c=colors,s=60,marker=markerTypes)\n",
    "ax.legend(visuals)\n",
    "ax.grid()\n",
    "plt.scatter(d['pc1'],d['pc2'],c=colors,s=60,marker=markerTypes)"
   ]
  },
  {
   "cell_type": "code",
   "execution_count": null,
   "metadata": {
    "id": "M-6af_qKhMMT"
   },
   "outputs": [],
   "source": [
    "numSamples = 506\n",
    "numComponents = 2\n",
    "pca = PCA(n_components=numComponents)\n",
    "pca.fit(input)\n",
    "\n",
    "projected = pca.transform(input)\n",
    "projected = pd.DataFrame(projected,columns=['pc1','pc2'],index=range(1,numSamples+1))\n",
    "projected['enc'] = [encoded]\n",
    "projected"
   ]
  },
  {
   "cell_type": "code",
   "execution_count": null,
   "metadata": {
    "id": "Qcv3Wyo-XjwN"
   },
   "outputs": [],
   "source": [
    "colors = np.array(['blue', 'red'])\n",
    "colors = ['cmap']\n",
    "markerTypes = {'inly':'o', 'outly':'x'}\n",
    "\n",
    "#for foodType in markerTypes:\n",
    "d = projected\n",
    "plt.scatter(d[['pc1'],d['pc2']],c = colors[d],s=60,marker=markerTypes)"
   ]
  },
  {
   "cell_type": "code",
   "execution_count": null,
   "metadata": {
    "id": "gbjb6I259u9y"
   },
   "outputs": [],
   "source": [
    "fig = plt.figure(figsize = (12,7))\n",
    "ax = fig.add_subplot(1,1,1) \n",
    "ax.set_xlabel('Principal Component 1', fontsize = 14)\n",
    "ax.set_ylabel('Principal Component 2', fontsize = 14)\n",
    "ax.set_title('2-component PCA of Boston Housing Dataset', fontsize = 18)\n",
    "outlier_score = knn.score(input, encoded)\n",
    "visuals = ['pc1', 'pc2']\n",
    "colors = 'cmap'\n",
    "#for visuals, outlier_score in zip(visuals,colors):\n",
    "for visuals, colors in zip(visuals,colors):\n",
    "  ax.scatter(projected['pc1'], projected['pc2'], c=colors[outlier_score], s = 40)\n",
    "\n",
    "ax.legend(visuals)\n",
    "ax.grid()\n",
    "plt.show()"
   ]
  },
  {
   "cell_type": "markdown",
   "metadata": {
    "id": "X5lBoUaqqT4h"
   },
   "source": [
    "## <center>**References**</center><br> \n",
    "1. Jiawei Han, Micheline Kamber and Jian Pei, *Data Mining\n",
    "Concepts and Techniques*, 3$^{rd}$ edn (Elsevier Inc, 2012), p. 254.<br>\n",
    "\n",
    "2. Topic 8: Association Analysis, Data Mining module.\n"
   ]
  }
 ],
 "metadata": {
  "colab": {
   "authorship_tag": "ABX9TyOklcBIgRPemO3n/ZuaWLqS",
   "collapsed_sections": [],
   "name": "Assignment3-Kweku_Esuon_Acquaye.ipynb",
   "provenance": []
  },
  "kernelspec": {
   "display_name": "Python 3",
   "language": "python",
   "name": "python3"
  },
  "language_info": {
   "codemirror_mode": {
    "name": "ipython",
    "version": 3
   },
   "file_extension": ".py",
   "mimetype": "text/x-python",
   "name": "python",
   "nbconvert_exporter": "python",
   "pygments_lexer": "ipython3",
   "version": "3.8.8"
  }
 },
 "nbformat": 4,
 "nbformat_minor": 1
}

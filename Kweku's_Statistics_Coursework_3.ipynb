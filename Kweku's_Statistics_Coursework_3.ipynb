{
 "cells": [
  {
   "cell_type": "markdown",
   "metadata": {
    "id": "JCDnLCCczOzb"
   },
   "source": [
    "# <center>**Analysis of Average Property Prices in England**\n",
    "    \n",
    "#### <center>by Kweku E. Acquaye.</center>\n",
    "\n",
    "**Table of Contents**\n",
    "\n",
    "1. Section 1: Introduction\n",
    "  * Section 1.1: Outline\n",
    "2. Section 2: Loading and Preparing the Data\n",
    "  * Section 2.1: Loading Data\n",
    "  * Section 2.2: Preparing Data\n",
    "3. Section 3: Trends \n",
    "  * Section 3.1: Property Price Trends of Flats and Detached Houses in All Regions over 36 Months\n",
    "  * Section 3.2: Visualisation of Property Price Trends\n",
    "4. Section 4: Price Changes by Area\n",
    "  * Section 4.1: Flat Price Changes between July 2017 and July 2018\n",
    "  * Section 4.2: Visualisation of Change in Flat Prices by Area: \n",
    "5. Section 5: Statistical Analysis\n",
    "  * Section 5.1: Cross-tabulation\n",
    "  * Section 5.2: Chi-squared Test\n",
    "  "
   ]
  },
  {
   "cell_type": "markdown",
   "metadata": {
    "id": "F9lT-o3mzerh"
   },
   "source": [
    "## **Section 1: Introduction**\n",
    "This report uses modern data science methods to analyse average property prices in England for insights and trends. It constitutes Coursework 3 in fulfilment of the requirements of Statistics for Data Science and AI module.\n",
    "\n",
    "**Declaration:** Some of the code used in this report has been adapted and customized from www.docs.python.org/, www.matplotlib.org/stable/, www.pandas.pydata.org/docs, www.stackoverflow.com/questions/, www.geeksforgeeks.org/, www.kite.com/python/answers/, www.codegrepper.com/, www.machinelearningmind.com/, and Statistics for Data Science and AI Lecture, Lab and Tutorial Notes.\n",
    "\n",
    "### **Section 1.1: Outline**\n",
    "Given is a dataset of the average price of properties over 36 months in different areas of England. Also given is a different dataset of Area Codes defined by the Office for National Statistics (ONS) that reflect the\n",
    "hierarchy of government in the UK. A simplified version is used.\n",
    "\n",
    "### **Section 2: Loading and Preparing the Data**\n",
    "\n",
    "### **Section 2.1: Loading Data**"
   ]
  },
  {
   "cell_type": "code",
   "execution_count": null,
   "metadata": {
    "colab": {
     "base_uri": "https://localhost:8080/"
    },
    "id": "ua8Mthnyy7Dc",
    "outputId": "30fda9c4-a084-42d4-846a-9cbb65d2041e"
   },
   "outputs": [
    {
     "name": "stdout",
     "output_type": "stream",
     "text": [
      "Libraries imported.\n"
     ]
    }
   ],
   "source": [
    "# Importing libraries\n",
    "import io\n",
    "import pandas as pd\n",
    "import numpy as np\n",
    "import matplotlib.pyplot as plt\n",
    "import matplotlib.ticker as ticker\n",
    "import seaborn as sns\n",
    "from scipy import stats\n",
    "\n",
    "%matplotlib inline\n",
    "\n",
    "print(\"Libraries imported.\")"
   ]
  },
  {
   "cell_type": "code",
   "execution_count": null,
   "metadata": {
    "colab": {
     "base_uri": "https://localhost:8080/"
    },
    "id": "jXDsb9mtXzzC",
    "outputId": "8355c525-1961-40ef-ad4b-34f8e686f351"
   },
   "outputs": [
    {
     "name": "stdout",
     "output_type": "stream",
     "text": [
      "Original data loaded.\n"
     ]
    }
   ],
   "source": [
    "# Loading original data\n",
    "originalPrices_df1 = pd.read_csv('average-property-price.csv', error_bad_lines=False, warn_bad_lines=True)\n",
    "originalLocation_df1 = pd.read_csv('location-codes.csv', error_bad_lines=False, warn_bad_lines=True)\n",
    "print(\"Original data loaded.\")"
   ]
  },
  {
   "cell_type": "markdown",
   "metadata": {
    "id": "1xKfmUg5aWyh"
   },
   "source": [
    "To preserve integrity of original data file from accidental alteration, analysis would be carried out on a copy."
   ]
  },
  {
   "cell_type": "code",
   "execution_count": null,
   "metadata": {
    "colab": {
     "base_uri": "https://localhost:8080/",
     "height": 223
    },
    "id": "UmzuGXQkadD4",
    "outputId": "bd9b64cc-4d76-42c3-8f47-570052bd4d33"
   },
   "outputs": [
    {
     "name": "stdout",
     "output_type": "stream",
     "text": [
      "Copied 'average-property-price' version created as follows:\n"
     ]
    },
    {
     "data": {
      "text/html": [
       "<div>\n",
       "<style scoped>\n",
       "    .dataframe tbody tr th:only-of-type {\n",
       "        vertical-align: middle;\n",
       "    }\n",
       "\n",
       "    .dataframe tbody tr th {\n",
       "        vertical-align: top;\n",
       "    }\n",
       "\n",
       "    .dataframe thead th {\n",
       "        text-align: right;\n",
       "    }\n",
       "</style>\n",
       "<table border=\"1\" class=\"dataframe\">\n",
       "  <thead>\n",
       "    <tr style=\"text-align: right;\">\n",
       "      <th></th>\n",
       "      <th>Date</th>\n",
       "      <th>Area</th>\n",
       "      <th>Code</th>\n",
       "      <th>Detached</th>\n",
       "      <th>Semi</th>\n",
       "      <th>Terraced</th>\n",
       "      <th>Flat</th>\n",
       "    </tr>\n",
       "  </thead>\n",
       "  <tbody>\n",
       "    <tr>\n",
       "      <th>0</th>\n",
       "      <td>01/09/2016</td>\n",
       "      <td>Hartlepool</td>\n",
       "      <td>E06000001</td>\n",
       "      <td>179323.3934</td>\n",
       "      <td>108357.4457</td>\n",
       "      <td>77192.90613</td>\n",
       "      <td>62078.20672</td>\n",
       "    </tr>\n",
       "    <tr>\n",
       "      <th>1</th>\n",
       "      <td>01/10/2016</td>\n",
       "      <td>Hartlepool</td>\n",
       "      <td>E06000001</td>\n",
       "      <td>178880.9745</td>\n",
       "      <td>107765.1346</td>\n",
       "      <td>76294.05974</td>\n",
       "      <td>61893.84174</td>\n",
       "    </tr>\n",
       "    <tr>\n",
       "      <th>2</th>\n",
       "      <td>01/11/2016</td>\n",
       "      <td>Hartlepool</td>\n",
       "      <td>E06000001</td>\n",
       "      <td>179855.0608</td>\n",
       "      <td>107886.9468</td>\n",
       "      <td>76066.73993</td>\n",
       "      <td>61909.33647</td>\n",
       "    </tr>\n",
       "    <tr>\n",
       "      <th>3</th>\n",
       "      <td>01/12/2016</td>\n",
       "      <td>Hartlepool</td>\n",
       "      <td>E06000001</td>\n",
       "      <td>182847.8194</td>\n",
       "      <td>109312.3743</td>\n",
       "      <td>77019.16134</td>\n",
       "      <td>62919.44401</td>\n",
       "    </tr>\n",
       "    <tr>\n",
       "      <th>4</th>\n",
       "      <td>01/01/2017</td>\n",
       "      <td>Hartlepool</td>\n",
       "      <td>E06000001</td>\n",
       "      <td>177454.1433</td>\n",
       "      <td>105828.3642</td>\n",
       "      <td>74522.27530</td>\n",
       "      <td>60770.80795</td>\n",
       "    </tr>\n",
       "  </tbody>\n",
       "</table>\n",
       "</div>"
      ],
      "text/plain": [
       "         Date        Area       Code     Detached         Semi     Terraced  \\\n",
       "0  01/09/2016  Hartlepool  E06000001  179323.3934  108357.4457  77192.90613   \n",
       "1  01/10/2016  Hartlepool  E06000001  178880.9745  107765.1346  76294.05974   \n",
       "2  01/11/2016  Hartlepool  E06000001  179855.0608  107886.9468  76066.73993   \n",
       "3  01/12/2016  Hartlepool  E06000001  182847.8194  109312.3743  77019.16134   \n",
       "4  01/01/2017  Hartlepool  E06000001  177454.1433  105828.3642  74522.27530   \n",
       "\n",
       "          Flat  \n",
       "0  62078.20672  \n",
       "1  61893.84174  \n",
       "2  61909.33647  \n",
       "3  62919.44401  \n",
       "4  60770.80795  "
      ]
     },
     "execution_count": 3,
     "metadata": {},
     "output_type": "execute_result"
    }
   ],
   "source": [
    "# Creating copy to preserve original Prices data file\n",
    "safePrices_df1 = originalPrices_df1.copy()\n",
    "print(\"Copied 'average-property-price' version created as follows:\")\n",
    "safePrices_df1.head()"
   ]
  },
  {
   "cell_type": "code",
   "execution_count": null,
   "metadata": {
    "colab": {
     "base_uri": "https://localhost:8080/",
     "height": 241
    },
    "id": "GbZFAqFmFhtT",
    "outputId": "8436f3da-eabc-4b06-faa9-a085ef65f591"
   },
   "outputs": [
    {
     "name": "stdout",
     "output_type": "stream",
     "text": [
      "Copied 'location-codes' version created as follows:\n",
      "\n"
     ]
    },
    {
     "data": {
      "text/html": [
       "<div>\n",
       "<style scoped>\n",
       "    .dataframe tbody tr th:only-of-type {\n",
       "        vertical-align: middle;\n",
       "    }\n",
       "\n",
       "    .dataframe tbody tr th {\n",
       "        vertical-align: top;\n",
       "    }\n",
       "\n",
       "    .dataframe thead th {\n",
       "        text-align: right;\n",
       "    }\n",
       "</style>\n",
       "<table border=\"1\" class=\"dataframe\">\n",
       "  <thead>\n",
       "    <tr style=\"text-align: right;\">\n",
       "      <th></th>\n",
       "      <th>AuthorityCode</th>\n",
       "      <th>AuthorityName</th>\n",
       "      <th>RegionCode</th>\n",
       "      <th>RegionName</th>\n",
       "    </tr>\n",
       "  </thead>\n",
       "  <tbody>\n",
       "    <tr>\n",
       "      <th>0</th>\n",
       "      <td>E06000001</td>\n",
       "      <td>Hartlepool</td>\n",
       "      <td>E12000001</td>\n",
       "      <td>North East</td>\n",
       "    </tr>\n",
       "    <tr>\n",
       "      <th>1</th>\n",
       "      <td>E06000002</td>\n",
       "      <td>Middlesbrough</td>\n",
       "      <td>E12000001</td>\n",
       "      <td>North East</td>\n",
       "    </tr>\n",
       "    <tr>\n",
       "      <th>2</th>\n",
       "      <td>E06000003</td>\n",
       "      <td>Redcar and Cleveland</td>\n",
       "      <td>E12000001</td>\n",
       "      <td>North East</td>\n",
       "    </tr>\n",
       "    <tr>\n",
       "      <th>3</th>\n",
       "      <td>E06000004</td>\n",
       "      <td>Stockton-on-Tees</td>\n",
       "      <td>E12000001</td>\n",
       "      <td>North East</td>\n",
       "    </tr>\n",
       "    <tr>\n",
       "      <th>4</th>\n",
       "      <td>E06000005</td>\n",
       "      <td>Darlington</td>\n",
       "      <td>E12000001</td>\n",
       "      <td>North East</td>\n",
       "    </tr>\n",
       "  </tbody>\n",
       "</table>\n",
       "</div>"
      ],
      "text/plain": [
       "  AuthorityCode         AuthorityName RegionCode  RegionName\n",
       "0     E06000001            Hartlepool  E12000001  North East\n",
       "1     E06000002         Middlesbrough  E12000001  North East\n",
       "2     E06000003  Redcar and Cleveland  E12000001  North East\n",
       "3     E06000004      Stockton-on-Tees  E12000001  North East\n",
       "4     E06000005            Darlington  E12000001  North East"
      ]
     },
     "execution_count": 4,
     "metadata": {},
     "output_type": "execute_result"
    }
   ],
   "source": [
    "# Creating copy to preserve original Location data file\n",
    "safeLocation_df1 = originalLocation_df1.copy()\n",
    "print(\"Copied 'location-codes' version created as follows:\\n\")\n",
    "safeLocation_df1.head()"
   ]
  },
  {
   "cell_type": "markdown",
   "metadata": {
    "id": "fmSinEKQjI8n"
   },
   "source": [
    "To display data type and any null cells:"
   ]
  },
  {
   "cell_type": "code",
   "execution_count": null,
   "metadata": {
    "colab": {
     "base_uri": "https://localhost:8080/"
    },
    "id": "Z4rarNiYh2eA",
    "outputId": "d1220a33-ac7f-440e-c36a-290ab0751663"
   },
   "outputs": [
    {
     "name": "stdout",
     "output_type": "stream",
     "text": [
      "<class 'pandas.core.frame.DataFrame'>\n",
      "RangeIndex: 5760 entries, 0 to 5759\n",
      "Data columns (total 7 columns):\n",
      " #   Column    Non-Null Count  Dtype  \n",
      "---  ------    --------------  -----  \n",
      " 0   Date      5760 non-null   object \n",
      " 1   Area      5760 non-null   object \n",
      " 2   Code      5760 non-null   object \n",
      " 3   Detached  5724 non-null   float64\n",
      " 4   Semi      5724 non-null   float64\n",
      " 5   Terraced  5740 non-null   float64\n",
      " 6   Flat      5760 non-null   float64\n",
      "dtypes: float64(4), object(3)\n",
      "memory usage: 315.1+ KB\n"
     ]
    }
   ],
   "source": [
    "safePrices_df1.info()"
   ]
  },
  {
   "cell_type": "code",
   "execution_count": null,
   "metadata": {
    "colab": {
     "base_uri": "https://localhost:8080/"
    },
    "id": "PDsd2mChj4G_",
    "outputId": "a3b89087-017c-4451-bc86-793e4c3411e5"
   },
   "outputs": [
    {
     "name": "stdout",
     "output_type": "stream",
     "text": [
      "<class 'pandas.core.frame.DataFrame'>\n",
      "RangeIndex: 154 entries, 0 to 153\n",
      "Data columns (total 4 columns):\n",
      " #   Column         Non-Null Count  Dtype \n",
      "---  ------         --------------  ----- \n",
      " 0   AuthorityCode  154 non-null    object\n",
      " 1   AuthorityName  154 non-null    object\n",
      " 2   RegionCode     154 non-null    object\n",
      " 3   RegionName     154 non-null    object\n",
      "dtypes: object(4)\n",
      "memory usage: 4.9+ KB\n"
     ]
    }
   ],
   "source": [
    "safeLocation_df1.info()"
   ]
  },
  {
   "cell_type": "markdown",
   "metadata": {
    "id": "fgwN6kGTei1A"
   },
   "source": [
    "### **Section 2.2: Preparing Data**\n",
    "Separating region data from 'average-property-price' dataframe to avoid duplicateion in data:"
   ]
  },
  {
   "cell_type": "code",
   "execution_count": null,
   "metadata": {
    "colab": {
     "base_uri": "https://localhost:8080/",
     "height": 206
    },
    "id": "xW1p5IFI5r7-",
    "outputId": "68e228ee-4567-4b89-b072-1a66bdfb4d2f"
   },
   "outputs": [
    {
     "data": {
      "text/html": [
       "<div>\n",
       "<style scoped>\n",
       "    .dataframe tbody tr th:only-of-type {\n",
       "        vertical-align: middle;\n",
       "    }\n",
       "\n",
       "    .dataframe tbody tr th {\n",
       "        vertical-align: top;\n",
       "    }\n",
       "\n",
       "    .dataframe thead th {\n",
       "        text-align: right;\n",
       "    }\n",
       "</style>\n",
       "<table border=\"1\" class=\"dataframe\">\n",
       "  <thead>\n",
       "    <tr style=\"text-align: right;\">\n",
       "      <th></th>\n",
       "      <th>Date</th>\n",
       "      <th>Area</th>\n",
       "      <th>Code</th>\n",
       "      <th>Detached</th>\n",
       "      <th>Semi</th>\n",
       "      <th>Terraced</th>\n",
       "      <th>Flat</th>\n",
       "    </tr>\n",
       "  </thead>\n",
       "  <tbody>\n",
       "    <tr>\n",
       "      <th>5436</th>\n",
       "      <td>01/09/2016</td>\n",
       "      <td>North East</td>\n",
       "      <td>E12000001</td>\n",
       "      <td>208117.1739</td>\n",
       "      <td>125683.3380</td>\n",
       "      <td>101385.68860</td>\n",
       "      <td>89361.51412</td>\n",
       "    </tr>\n",
       "    <tr>\n",
       "      <th>5437</th>\n",
       "      <td>01/10/2016</td>\n",
       "      <td>North East</td>\n",
       "      <td>E12000001</td>\n",
       "      <td>208519.1158</td>\n",
       "      <td>125464.3201</td>\n",
       "      <td>99998.54363</td>\n",
       "      <td>89716.48508</td>\n",
       "    </tr>\n",
       "    <tr>\n",
       "      <th>5438</th>\n",
       "      <td>01/11/2016</td>\n",
       "      <td>North East</td>\n",
       "      <td>E12000001</td>\n",
       "      <td>210555.4948</td>\n",
       "      <td>126082.1090</td>\n",
       "      <td>100433.81080</td>\n",
       "      <td>90065.71739</td>\n",
       "    </tr>\n",
       "    <tr>\n",
       "      <th>5439</th>\n",
       "      <td>01/12/2016</td>\n",
       "      <td>North East</td>\n",
       "      <td>E12000001</td>\n",
       "      <td>211728.7243</td>\n",
       "      <td>127186.0647</td>\n",
       "      <td>102150.75450</td>\n",
       "      <td>91195.50119</td>\n",
       "    </tr>\n",
       "    <tr>\n",
       "      <th>5440</th>\n",
       "      <td>01/01/2017</td>\n",
       "      <td>North East</td>\n",
       "      <td>E12000001</td>\n",
       "      <td>205942.7099</td>\n",
       "      <td>123088.4533</td>\n",
       "      <td>98112.30132</td>\n",
       "      <td>88170.43214</td>\n",
       "    </tr>\n",
       "  </tbody>\n",
       "</table>\n",
       "</div>"
      ],
      "text/plain": [
       "            Date        Area       Code     Detached         Semi  \\\n",
       "5436  01/09/2016  North East  E12000001  208117.1739  125683.3380   \n",
       "5437  01/10/2016  North East  E12000001  208519.1158  125464.3201   \n",
       "5438  01/11/2016  North East  E12000001  210555.4948  126082.1090   \n",
       "5439  01/12/2016  North East  E12000001  211728.7243  127186.0647   \n",
       "5440  01/01/2017  North East  E12000001  205942.7099  123088.4533   \n",
       "\n",
       "          Terraced         Flat  \n",
       "5436  101385.68860  89361.51412  \n",
       "5437   99998.54363  89716.48508  \n",
       "5438  100433.81080  90065.71739  \n",
       "5439  102150.75450  91195.50119  \n",
       "5440   98112.30132  88170.43214  "
      ]
     },
     "execution_count": 7,
     "metadata": {},
     "output_type": "execute_result"
    }
   ],
   "source": [
    "# Separating region (Level 1) data\n",
    "region_df1 = safePrices_df1[safePrices_df1['Code'].str.startswith('E12')]\n",
    "region_df1.head()"
   ]
  },
  {
   "cell_type": "code",
   "execution_count": null,
   "metadata": {
    "colab": {
     "base_uri": "https://localhost:8080/",
     "height": 206
    },
    "id": "5Y-7E1uF5Yr-",
    "outputId": "bbf4da91-995a-4a89-9e3f-d3a2e07d7f1a"
   },
   "outputs": [
    {
     "data": {
      "text/html": [
       "<div>\n",
       "<style scoped>\n",
       "    .dataframe tbody tr th:only-of-type {\n",
       "        vertical-align: middle;\n",
       "    }\n",
       "\n",
       "    .dataframe tbody tr th {\n",
       "        vertical-align: top;\n",
       "    }\n",
       "\n",
       "    .dataframe thead th {\n",
       "        text-align: right;\n",
       "    }\n",
       "</style>\n",
       "<table border=\"1\" class=\"dataframe\">\n",
       "  <thead>\n",
       "    <tr style=\"text-align: right;\">\n",
       "      <th></th>\n",
       "      <th>Date</th>\n",
       "      <th>Area</th>\n",
       "      <th>Code</th>\n",
       "      <th>Detached</th>\n",
       "      <th>Semi</th>\n",
       "      <th>Terraced</th>\n",
       "      <th>Flat</th>\n",
       "    </tr>\n",
       "  </thead>\n",
       "  <tbody>\n",
       "    <tr>\n",
       "      <th>0</th>\n",
       "      <td>01/09/2016</td>\n",
       "      <td>Hartlepool</td>\n",
       "      <td>E06000001</td>\n",
       "      <td>179323.3934</td>\n",
       "      <td>108357.4457</td>\n",
       "      <td>77192.90613</td>\n",
       "      <td>62078.20672</td>\n",
       "    </tr>\n",
       "    <tr>\n",
       "      <th>1</th>\n",
       "      <td>01/10/2016</td>\n",
       "      <td>Hartlepool</td>\n",
       "      <td>E06000001</td>\n",
       "      <td>178880.9745</td>\n",
       "      <td>107765.1346</td>\n",
       "      <td>76294.05974</td>\n",
       "      <td>61893.84174</td>\n",
       "    </tr>\n",
       "    <tr>\n",
       "      <th>2</th>\n",
       "      <td>01/11/2016</td>\n",
       "      <td>Hartlepool</td>\n",
       "      <td>E06000001</td>\n",
       "      <td>179855.0608</td>\n",
       "      <td>107886.9468</td>\n",
       "      <td>76066.73993</td>\n",
       "      <td>61909.33647</td>\n",
       "    </tr>\n",
       "    <tr>\n",
       "      <th>3</th>\n",
       "      <td>01/12/2016</td>\n",
       "      <td>Hartlepool</td>\n",
       "      <td>E06000001</td>\n",
       "      <td>182847.8194</td>\n",
       "      <td>109312.3743</td>\n",
       "      <td>77019.16134</td>\n",
       "      <td>62919.44401</td>\n",
       "    </tr>\n",
       "    <tr>\n",
       "      <th>4</th>\n",
       "      <td>01/01/2017</td>\n",
       "      <td>Hartlepool</td>\n",
       "      <td>E06000001</td>\n",
       "      <td>177454.1433</td>\n",
       "      <td>105828.3642</td>\n",
       "      <td>74522.27530</td>\n",
       "      <td>60770.80795</td>\n",
       "    </tr>\n",
       "  </tbody>\n",
       "</table>\n",
       "</div>"
      ],
      "text/plain": [
       "         Date        Area       Code     Detached         Semi     Terraced  \\\n",
       "0  01/09/2016  Hartlepool  E06000001  179323.3934  108357.4457  77192.90613   \n",
       "1  01/10/2016  Hartlepool  E06000001  178880.9745  107765.1346  76294.05974   \n",
       "2  01/11/2016  Hartlepool  E06000001  179855.0608  107886.9468  76066.73993   \n",
       "3  01/12/2016  Hartlepool  E06000001  182847.8194  109312.3743  77019.16134   \n",
       "4  01/01/2017  Hartlepool  E06000001  177454.1433  105828.3642  74522.27530   \n",
       "\n",
       "          Flat  \n",
       "0  62078.20672  \n",
       "1  61893.84174  \n",
       "2  61909.33647  \n",
       "3  62919.44401  \n",
       "4  60770.80795  "
      ]
     },
     "execution_count": 8,
     "metadata": {},
     "output_type": "execute_result"
    }
   ],
   "source": [
    "# Creating df with area (Level 2) data\n",
    "area_df1 = safePrices_df1[~safePrices_df1['Code'].str.startswith('E12')]\n",
    "area_df1.head()"
   ]
  },
  {
   "cell_type": "markdown",
   "metadata": {
    "id": "jbzEicSj1kdd"
   },
   "source": [
    "Using ‘location code’ data file to add to each area price record the region to which the area belongs:"
   ]
  },
  {
   "cell_type": "code",
   "execution_count": null,
   "metadata": {
    "colab": {
     "base_uri": "https://localhost:8080/",
     "height": 206
    },
    "id": "VOcec4-hkKns",
    "outputId": "40f2a084-b35d-4f70-f31f-57a947a28e4a"
   },
   "outputs": [
    {
     "data": {
      "text/html": [
       "<div>\n",
       "<style scoped>\n",
       "    .dataframe tbody tr th:only-of-type {\n",
       "        vertical-align: middle;\n",
       "    }\n",
       "\n",
       "    .dataframe tbody tr th {\n",
       "        vertical-align: top;\n",
       "    }\n",
       "\n",
       "    .dataframe thead th {\n",
       "        text-align: right;\n",
       "    }\n",
       "</style>\n",
       "<table border=\"1\" class=\"dataframe\">\n",
       "  <thead>\n",
       "    <tr style=\"text-align: right;\">\n",
       "      <th></th>\n",
       "      <th>Date</th>\n",
       "      <th>Area</th>\n",
       "      <th>Code</th>\n",
       "      <th>Detached</th>\n",
       "      <th>Semi</th>\n",
       "      <th>Terraced</th>\n",
       "      <th>Flat</th>\n",
       "      <th>AuthorityCode</th>\n",
       "      <th>AuthorityName</th>\n",
       "      <th>RegionCode</th>\n",
       "      <th>RegionName</th>\n",
       "    </tr>\n",
       "  </thead>\n",
       "  <tbody>\n",
       "    <tr>\n",
       "      <th>3001</th>\n",
       "      <td>01/10/2017</td>\n",
       "      <td>Walsall</td>\n",
       "      <td>E08000030</td>\n",
       "      <td>262355.4034</td>\n",
       "      <td>161283.5063</td>\n",
       "      <td>129346.8364</td>\n",
       "      <td>106759.0008</td>\n",
       "      <td>E08000030</td>\n",
       "      <td>Walsall</td>\n",
       "      <td>E12000005</td>\n",
       "      <td>West Midlands</td>\n",
       "    </tr>\n",
       "    <tr>\n",
       "      <th>3002</th>\n",
       "      <td>01/11/2017</td>\n",
       "      <td>Walsall</td>\n",
       "      <td>E08000030</td>\n",
       "      <td>259029.0240</td>\n",
       "      <td>159211.3417</td>\n",
       "      <td>127309.1716</td>\n",
       "      <td>105069.5753</td>\n",
       "      <td>E08000030</td>\n",
       "      <td>Walsall</td>\n",
       "      <td>E12000005</td>\n",
       "      <td>West Midlands</td>\n",
       "    </tr>\n",
       "    <tr>\n",
       "      <th>3003</th>\n",
       "      <td>01/12/2017</td>\n",
       "      <td>Walsall</td>\n",
       "      <td>E08000030</td>\n",
       "      <td>257778.0411</td>\n",
       "      <td>158997.1244</td>\n",
       "      <td>127085.7309</td>\n",
       "      <td>104768.6601</td>\n",
       "      <td>E08000030</td>\n",
       "      <td>Walsall</td>\n",
       "      <td>E12000005</td>\n",
       "      <td>West Midlands</td>\n",
       "    </tr>\n",
       "    <tr>\n",
       "      <th>3004</th>\n",
       "      <td>01/01/2018</td>\n",
       "      <td>Walsall</td>\n",
       "      <td>E08000030</td>\n",
       "      <td>257384.7260</td>\n",
       "      <td>159021.6213</td>\n",
       "      <td>127055.1410</td>\n",
       "      <td>104773.4999</td>\n",
       "      <td>E08000030</td>\n",
       "      <td>Walsall</td>\n",
       "      <td>E12000005</td>\n",
       "      <td>West Midlands</td>\n",
       "    </tr>\n",
       "    <tr>\n",
       "      <th>3005</th>\n",
       "      <td>01/02/2018</td>\n",
       "      <td>Walsall</td>\n",
       "      <td>E08000030</td>\n",
       "      <td>261115.9074</td>\n",
       "      <td>161348.2950</td>\n",
       "      <td>128896.4555</td>\n",
       "      <td>106084.2052</td>\n",
       "      <td>E08000030</td>\n",
       "      <td>Walsall</td>\n",
       "      <td>E12000005</td>\n",
       "      <td>West Midlands</td>\n",
       "    </tr>\n",
       "  </tbody>\n",
       "</table>\n",
       "</div>"
      ],
      "text/plain": [
       "            Date     Area       Code     Detached         Semi     Terraced  \\\n",
       "3001  01/10/2017  Walsall  E08000030  262355.4034  161283.5063  129346.8364   \n",
       "3002  01/11/2017  Walsall  E08000030  259029.0240  159211.3417  127309.1716   \n",
       "3003  01/12/2017  Walsall  E08000030  257778.0411  158997.1244  127085.7309   \n",
       "3004  01/01/2018  Walsall  E08000030  257384.7260  159021.6213  127055.1410   \n",
       "3005  01/02/2018  Walsall  E08000030  261115.9074  161348.2950  128896.4555   \n",
       "\n",
       "             Flat AuthorityCode AuthorityName RegionCode     RegionName  \n",
       "3001  106759.0008     E08000030       Walsall  E12000005  West Midlands  \n",
       "3002  105069.5753     E08000030       Walsall  E12000005  West Midlands  \n",
       "3003  104768.6601     E08000030       Walsall  E12000005  West Midlands  \n",
       "3004  104773.4999     E08000030       Walsall  E12000005  West Midlands  \n",
       "3005  106084.2052     E08000030       Walsall  E12000005  West Midlands  "
      ]
     },
     "execution_count": 9,
     "metadata": {},
     "output_type": "execute_result"
    }
   ],
   "source": [
    "# Merging prices and location dfs\n",
    "combined_df1 = pd.merge(area_df1, safeLocation_df1, left_on='Code', right_on = 'AuthorityCode')\n",
    "combined_df1.iloc[3001:3006]"
   ]
  },
  {
   "cell_type": "markdown",
   "metadata": {
    "id": "tYOKGG8eseOg"
   },
   "source": [
    "Checking for missing data:"
   ]
  },
  {
   "cell_type": "code",
   "execution_count": null,
   "metadata": {
    "colab": {
     "base_uri": "https://localhost:8080/"
    },
    "id": "6d3YBX__stpq",
    "outputId": "b04320ba-5a06-4fc2-e2eb-a63e7de75005"
   },
   "outputs": [
    {
     "data": {
      "text/plain": [
       "Date              0\n",
       "Area              0\n",
       "Code              0\n",
       "Detached         36\n",
       "Semi             36\n",
       "Terraced         20\n",
       "Flat              0\n",
       "AuthorityCode     0\n",
       "AuthorityName     0\n",
       "RegionCode        0\n",
       "RegionName        0\n",
       "dtype: int64"
      ]
     },
     "execution_count": 10,
     "metadata": {},
     "output_type": "execute_result"
    }
   ],
   "source": [
    "# Checking for empty cells\n",
    "combined_df1.isnull().sum()"
   ]
  },
  {
   "cell_type": "markdown",
   "metadata": {
    "id": "V-u4EM9YuTXa"
   },
   "source": [
    "The output above shows 36 missing values in 'Detached' column, 36 in 'Semi' and 20 in 'Terraced' columns. Since these represent a negligible proportion of the total 5436-row dataframe, deleting rows that contain these missing values would not impact the quality and accuracy of further analysis.<br>\n",
    "<br>\n",
    "Deleting rows with missing data:"
   ]
  },
  {
   "cell_type": "code",
   "execution_count": null,
   "metadata": {
    "colab": {
     "base_uri": "https://localhost:8080/"
    },
    "id": "rHz9Qb15wVpB",
    "outputId": "0332091b-c60b-439f-e973-c4adddd382bd"
   },
   "outputs": [
    {
     "name": "stdout",
     "output_type": "stream",
     "text": [
      "Records with missing values deleted.\n"
     ]
    }
   ],
   "source": [
    "# Dropping records with missing data\n",
    "combined_df1.dropna()\n",
    "print(\"Records with missing values deleted.\")"
   ]
  },
  {
   "cell_type": "markdown",
   "metadata": {
    "id": "qjEOS0IPU651"
   },
   "source": [
    "Checking that each area has a region assigned to it:"
   ]
  },
  {
   "cell_type": "code",
   "execution_count": null,
   "metadata": {
    "colab": {
     "base_uri": "https://localhost:8080/"
    },
    "id": "yR-4by9qU5E0",
    "outputId": "2af38f80-fb7a-478f-848b-e252c14a3108"
   },
   "outputs": [
    {
     "name": "stdout",
     "output_type": "stream",
     "text": [
      "The number of entries in the 'Regioncode' column is 5436.\n",
      "\n",
      "The unique values of the 'Regioncode' column are: \n"
     ]
    },
    {
     "data": {
      "text/plain": [
       "array(['E12000001', 'E12000002', 'E12000003', 'E12000004', 'E12000005',\n",
       "       'E12000009', 'E12000006', 'E12000008', 'E12000007'], dtype=object)"
      ]
     },
     "execution_count": 12,
     "metadata": {},
     "output_type": "execute_result"
    }
   ],
   "source": [
    "# Checking df integrity\n",
    "regCount = combined_df1['RegionCode'].count()\n",
    "print(\"The number of entries in the 'Regioncode' column is \" + str(regCount) + \".\")\n",
    "\n",
    "print(\"\\nThe unique values of the 'Regioncode' column are: \")\n",
    "combined_df1['RegionCode'].unique()"
   ]
  },
  {
   "cell_type": "markdown",
   "metadata": {
    "id": "MSNkmwMf3KC5"
   },
   "source": [
    "Check is affirmative.<br>\n",
    "<br>\n",
    "### **Section 3: Trends**<br>\n",
    "To observe trends, data must first be chronologically arranged.\n",
    "\n",
    "Initial exploratory step \"safePrices_df1.info()\" above output showed the 'Date' column to be a string object. Taking into consideration the rest of the data and nature of this task, to obtain meaningful tables and visualisations, it is necessary to have one dataframe where the data is arranged chronologically. The following steps converts the 'Date' column into timestamp (pandas, python equivalent = datetime) data type and then arranges the dataframe in ascending chronological order:"
   ]
  },
  {
   "cell_type": "code",
   "execution_count": null,
   "metadata": {
    "colab": {
     "base_uri": "https://localhost:8080/",
     "height": 206
    },
    "id": "5cgKb1uIFBCH",
    "outputId": "af0ddd83-74a0-4deb-eba3-7f5c53eaa80a"
   },
   "outputs": [
    {
     "data": {
      "text/html": [
       "<div>\n",
       "<style scoped>\n",
       "    .dataframe tbody tr th:only-of-type {\n",
       "        vertical-align: middle;\n",
       "    }\n",
       "\n",
       "    .dataframe tbody tr th {\n",
       "        vertical-align: top;\n",
       "    }\n",
       "\n",
       "    .dataframe thead th {\n",
       "        text-align: right;\n",
       "    }\n",
       "</style>\n",
       "<table border=\"1\" class=\"dataframe\">\n",
       "  <thead>\n",
       "    <tr style=\"text-align: right;\">\n",
       "      <th></th>\n",
       "      <th>Date</th>\n",
       "      <th>Area</th>\n",
       "      <th>Code</th>\n",
       "      <th>Detached</th>\n",
       "      <th>Semi</th>\n",
       "      <th>Terraced</th>\n",
       "      <th>Flat</th>\n",
       "      <th>AuthorityCode</th>\n",
       "      <th>AuthorityName</th>\n",
       "      <th>RegionCode</th>\n",
       "      <th>RegionName</th>\n",
       "    </tr>\n",
       "  </thead>\n",
       "  <tbody>\n",
       "    <tr>\n",
       "      <th>1001</th>\n",
       "      <td>2019-02-01</td>\n",
       "      <td>Bournemouth</td>\n",
       "      <td>E06000028</td>\n",
       "      <td>439899.6153</td>\n",
       "      <td>284207.2696</td>\n",
       "      <td>233669.9909</td>\n",
       "      <td>184294.3816</td>\n",
       "      <td>E06000028</td>\n",
       "      <td>Bournemouth</td>\n",
       "      <td>E12000009</td>\n",
       "      <td>South West</td>\n",
       "    </tr>\n",
       "    <tr>\n",
       "      <th>1002</th>\n",
       "      <td>2019-03-01</td>\n",
       "      <td>Bournemouth</td>\n",
       "      <td>E06000028</td>\n",
       "      <td>442125.9867</td>\n",
       "      <td>286117.3540</td>\n",
       "      <td>235393.7389</td>\n",
       "      <td>184557.4141</td>\n",
       "      <td>E06000028</td>\n",
       "      <td>Bournemouth</td>\n",
       "      <td>E12000009</td>\n",
       "      <td>South West</td>\n",
       "    </tr>\n",
       "    <tr>\n",
       "      <th>1003</th>\n",
       "      <td>2019-04-01</td>\n",
       "      <td>Bournemouth</td>\n",
       "      <td>E06000028</td>\n",
       "      <td>440858.8459</td>\n",
       "      <td>286005.9000</td>\n",
       "      <td>235583.8527</td>\n",
       "      <td>183984.5127</td>\n",
       "      <td>E06000028</td>\n",
       "      <td>Bournemouth</td>\n",
       "      <td>E12000009</td>\n",
       "      <td>South West</td>\n",
       "    </tr>\n",
       "    <tr>\n",
       "      <th>1004</th>\n",
       "      <td>2019-05-01</td>\n",
       "      <td>Bournemouth</td>\n",
       "      <td>E06000028</td>\n",
       "      <td>434403.0068</td>\n",
       "      <td>282561.3760</td>\n",
       "      <td>232947.4834</td>\n",
       "      <td>180762.8168</td>\n",
       "      <td>E06000028</td>\n",
       "      <td>Bournemouth</td>\n",
       "      <td>E12000009</td>\n",
       "      <td>South West</td>\n",
       "    </tr>\n",
       "    <tr>\n",
       "      <th>1005</th>\n",
       "      <td>2019-06-01</td>\n",
       "      <td>Bournemouth</td>\n",
       "      <td>E06000028</td>\n",
       "      <td>426034.6552</td>\n",
       "      <td>276840.5725</td>\n",
       "      <td>228080.5060</td>\n",
       "      <td>177425.4720</td>\n",
       "      <td>E06000028</td>\n",
       "      <td>Bournemouth</td>\n",
       "      <td>E12000009</td>\n",
       "      <td>South West</td>\n",
       "    </tr>\n",
       "  </tbody>\n",
       "</table>\n",
       "</div>"
      ],
      "text/plain": [
       "           Date         Area       Code     Detached         Semi  \\\n",
       "1001 2019-02-01  Bournemouth  E06000028  439899.6153  284207.2696   \n",
       "1002 2019-03-01  Bournemouth  E06000028  442125.9867  286117.3540   \n",
       "1003 2019-04-01  Bournemouth  E06000028  440858.8459  286005.9000   \n",
       "1004 2019-05-01  Bournemouth  E06000028  434403.0068  282561.3760   \n",
       "1005 2019-06-01  Bournemouth  E06000028  426034.6552  276840.5725   \n",
       "\n",
       "         Terraced         Flat AuthorityCode AuthorityName RegionCode  \\\n",
       "1001  233669.9909  184294.3816     E06000028   Bournemouth  E12000009   \n",
       "1002  235393.7389  184557.4141     E06000028   Bournemouth  E12000009   \n",
       "1003  235583.8527  183984.5127     E06000028   Bournemouth  E12000009   \n",
       "1004  232947.4834  180762.8168     E06000028   Bournemouth  E12000009   \n",
       "1005  228080.5060  177425.4720     E06000028   Bournemouth  E12000009   \n",
       "\n",
       "      RegionName  \n",
       "1001  South West  \n",
       "1002  South West  \n",
       "1003  South West  \n",
       "1004  South West  \n",
       "1005  South West  "
      ]
     },
     "execution_count": 13,
     "metadata": {},
     "output_type": "execute_result"
    }
   ],
   "source": [
    "# Converting 'Date' column from string to timestamp\n",
    "combined_df1['Date'] = pd.to_datetime(combined_df1['Date'], format='%d/%m/%Y')\n",
    "combined_df1.iloc[1001:1006]"
   ]
  },
  {
   "cell_type": "markdown",
   "metadata": {
    "id": "cGXdonRSJ_aG"
   },
   "source": [
    "Checking success of conversion:"
   ]
  },
  {
   "cell_type": "code",
   "execution_count": null,
   "metadata": {
    "colab": {
     "base_uri": "https://localhost:8080/"
    },
    "id": "DfPNfk48JnRG",
    "outputId": "b72d33d7-a473-4d73-b622-2ff9a30de483"
   },
   "outputs": [
    {
     "name": "stdout",
     "output_type": "stream",
     "text": [
      "Date             datetime64[ns]\n",
      "Area                     object\n",
      "Code                     object\n",
      "Detached                float64\n",
      "Semi                    float64\n",
      "Terraced                float64\n",
      "Flat                    float64\n",
      "AuthorityCode            object\n",
      "AuthorityName            object\n",
      "RegionCode               object\n",
      "RegionName               object\n",
      "dtype: object\n"
     ]
    }
   ],
   "source": [
    "# Checking conversion\n",
    "print(combined_df1.dtypes)"
   ]
  },
  {
   "cell_type": "markdown",
   "metadata": {
    "id": "e0wH1dgcKVqV"
   },
   "source": [
    "Check is affirmative. The next step creates a dataframe sorted chronologically using the 'Date' column:"
   ]
  },
  {
   "cell_type": "code",
   "execution_count": null,
   "metadata": {
    "colab": {
     "base_uri": "https://localhost:8080/",
     "height": 310
    },
    "id": "XXxCEQC4P3f2",
    "outputId": "208f8c65-a908-49e2-dd4e-4aa93c3bf92d"
   },
   "outputs": [
    {
     "name": "stdout",
     "output_type": "stream",
     "text": [
      "Dataframe sorted chronologically by date.\n"
     ]
    },
    {
     "data": {
      "text/html": [
       "<div>\n",
       "<style scoped>\n",
       "    .dataframe tbody tr th:only-of-type {\n",
       "        vertical-align: middle;\n",
       "    }\n",
       "\n",
       "    .dataframe tbody tr th {\n",
       "        vertical-align: top;\n",
       "    }\n",
       "\n",
       "    .dataframe thead th {\n",
       "        text-align: right;\n",
       "    }\n",
       "</style>\n",
       "<table border=\"1\" class=\"dataframe\">\n",
       "  <thead>\n",
       "    <tr style=\"text-align: right;\">\n",
       "      <th></th>\n",
       "      <th>Date</th>\n",
       "      <th>Area</th>\n",
       "      <th>Code</th>\n",
       "      <th>Detached</th>\n",
       "      <th>Semi</th>\n",
       "      <th>Terraced</th>\n",
       "      <th>Flat</th>\n",
       "      <th>AuthorityCode</th>\n",
       "      <th>AuthorityName</th>\n",
       "      <th>RegionCode</th>\n",
       "      <th>RegionName</th>\n",
       "    </tr>\n",
       "  </thead>\n",
       "  <tbody>\n",
       "    <tr>\n",
       "      <th>3995</th>\n",
       "      <td>2019-08-01</td>\n",
       "      <td>Kensington And Chelsea</td>\n",
       "      <td>E09000020</td>\n",
       "      <td>3.651606e+06</td>\n",
       "      <td>3.394878e+06</td>\n",
       "      <td>2.330773e+06</td>\n",
       "      <td>1.127372e+06</td>\n",
       "      <td>E09000020</td>\n",
       "      <td>Kensington and Chelsea</td>\n",
       "      <td>E12000007</td>\n",
       "      <td>London</td>\n",
       "    </tr>\n",
       "    <tr>\n",
       "      <th>1367</th>\n",
       "      <td>2019-08-01</td>\n",
       "      <td>Reading</td>\n",
       "      <td>E06000038</td>\n",
       "      <td>6.005563e+05</td>\n",
       "      <td>3.731029e+05</td>\n",
       "      <td>2.949760e+05</td>\n",
       "      <td>2.150213e+05</td>\n",
       "      <td>E06000038</td>\n",
       "      <td>Reading</td>\n",
       "      <td>E12000008</td>\n",
       "      <td>South East</td>\n",
       "    </tr>\n",
       "    <tr>\n",
       "      <th>3959</th>\n",
       "      <td>2019-08-01</td>\n",
       "      <td>Islington</td>\n",
       "      <td>E09000019</td>\n",
       "      <td>1.777025e+06</td>\n",
       "      <td>1.202966e+06</td>\n",
       "      <td>1.053872e+06</td>\n",
       "      <td>5.969767e+05</td>\n",
       "      <td>E09000019</td>\n",
       "      <td>Islington</td>\n",
       "      <td>E12000007</td>\n",
       "      <td>London</td>\n",
       "    </tr>\n",
       "    <tr>\n",
       "      <th>1259</th>\n",
       "      <td>2019-08-01</td>\n",
       "      <td>Medway</td>\n",
       "      <td>E06000035</td>\n",
       "      <td>4.224530e+05</td>\n",
       "      <td>2.791753e+05</td>\n",
       "      <td>2.159626e+05</td>\n",
       "      <td>1.615620e+05</td>\n",
       "      <td>E06000035</td>\n",
       "      <td>Medway</td>\n",
       "      <td>E12000008</td>\n",
       "      <td>South East</td>\n",
       "    </tr>\n",
       "    <tr>\n",
       "      <th>5435</th>\n",
       "      <td>2019-08-01</td>\n",
       "      <td>Worcestershire</td>\n",
       "      <td>E10000034</td>\n",
       "      <td>3.750185e+05</td>\n",
       "      <td>2.270141e+05</td>\n",
       "      <td>1.784408e+05</td>\n",
       "      <td>1.292424e+05</td>\n",
       "      <td>E10000034</td>\n",
       "      <td>Worcestershire</td>\n",
       "      <td>E12000005</td>\n",
       "      <td>West Midlands</td>\n",
       "    </tr>\n",
       "  </tbody>\n",
       "</table>\n",
       "</div>"
      ],
      "text/plain": [
       "           Date                    Area       Code      Detached  \\\n",
       "3995 2019-08-01  Kensington And Chelsea  E09000020  3.651606e+06   \n",
       "1367 2019-08-01                 Reading  E06000038  6.005563e+05   \n",
       "3959 2019-08-01               Islington  E09000019  1.777025e+06   \n",
       "1259 2019-08-01                  Medway  E06000035  4.224530e+05   \n",
       "5435 2019-08-01          Worcestershire  E10000034  3.750185e+05   \n",
       "\n",
       "              Semi      Terraced          Flat AuthorityCode  \\\n",
       "3995  3.394878e+06  2.330773e+06  1.127372e+06     E09000020   \n",
       "1367  3.731029e+05  2.949760e+05  2.150213e+05     E06000038   \n",
       "3959  1.202966e+06  1.053872e+06  5.969767e+05     E09000019   \n",
       "1259  2.791753e+05  2.159626e+05  1.615620e+05     E06000035   \n",
       "5435  2.270141e+05  1.784408e+05  1.292424e+05     E10000034   \n",
       "\n",
       "               AuthorityName RegionCode     RegionName  \n",
       "3995  Kensington and Chelsea  E12000007         London  \n",
       "1367                 Reading  E12000008     South East  \n",
       "3959               Islington  E12000007         London  \n",
       "1259                  Medway  E12000008     South East  \n",
       "5435          Worcestershire  E12000005  West Midlands  "
      ]
     },
     "execution_count": 15,
     "metadata": {},
     "output_type": "execute_result"
    }
   ],
   "source": [
    "# Sorting by date\n",
    "date_sorted_df1 = combined_df1.sort_values(by=['Date'], ascending=True)\n",
    "print(\"Dataframe sorted chronologically by date.\")\n",
    "date_sorted_df1.tail()"
   ]
  },
  {
   "cell_type": "code",
   "execution_count": null,
   "metadata": {
    "colab": {
     "base_uri": "https://localhost:8080/",
     "height": 293
    },
    "id": "QjrrfYtsy7vx",
    "outputId": "b24eba8b-82bb-4616-b2cc-7c29800fb52c"
   },
   "outputs": [
    {
     "data": {
      "text/html": [
       "<div>\n",
       "<style scoped>\n",
       "    .dataframe tbody tr th:only-of-type {\n",
       "        vertical-align: middle;\n",
       "    }\n",
       "\n",
       "    .dataframe tbody tr th {\n",
       "        vertical-align: top;\n",
       "    }\n",
       "\n",
       "    .dataframe thead th {\n",
       "        text-align: right;\n",
       "    }\n",
       "</style>\n",
       "<table border=\"1\" class=\"dataframe\">\n",
       "  <thead>\n",
       "    <tr style=\"text-align: right;\">\n",
       "      <th></th>\n",
       "      <th>Date</th>\n",
       "      <th>Area</th>\n",
       "      <th>Code</th>\n",
       "      <th>Detached</th>\n",
       "      <th>Semi</th>\n",
       "      <th>Terraced</th>\n",
       "      <th>Flat</th>\n",
       "      <th>AuthorityCode</th>\n",
       "      <th>AuthorityName</th>\n",
       "      <th>RegionCode</th>\n",
       "      <th>RegionName</th>\n",
       "    </tr>\n",
       "  </thead>\n",
       "  <tbody>\n",
       "    <tr>\n",
       "      <th>5431</th>\n",
       "      <td>2019-08-01</td>\n",
       "      <td>Kensington And Chelsea</td>\n",
       "      <td>E09000020</td>\n",
       "      <td>3.651606e+06</td>\n",
       "      <td>3.394878e+06</td>\n",
       "      <td>2.330773e+06</td>\n",
       "      <td>1.127372e+06</td>\n",
       "      <td>E09000020</td>\n",
       "      <td>Kensington and Chelsea</td>\n",
       "      <td>E12000007</td>\n",
       "      <td>London</td>\n",
       "    </tr>\n",
       "    <tr>\n",
       "      <th>5432</th>\n",
       "      <td>2019-08-01</td>\n",
       "      <td>Reading</td>\n",
       "      <td>E06000038</td>\n",
       "      <td>6.005563e+05</td>\n",
       "      <td>3.731029e+05</td>\n",
       "      <td>2.949760e+05</td>\n",
       "      <td>2.150213e+05</td>\n",
       "      <td>E06000038</td>\n",
       "      <td>Reading</td>\n",
       "      <td>E12000008</td>\n",
       "      <td>South East</td>\n",
       "    </tr>\n",
       "    <tr>\n",
       "      <th>5433</th>\n",
       "      <td>2019-08-01</td>\n",
       "      <td>Islington</td>\n",
       "      <td>E09000019</td>\n",
       "      <td>1.777025e+06</td>\n",
       "      <td>1.202966e+06</td>\n",
       "      <td>1.053872e+06</td>\n",
       "      <td>5.969767e+05</td>\n",
       "      <td>E09000019</td>\n",
       "      <td>Islington</td>\n",
       "      <td>E12000007</td>\n",
       "      <td>London</td>\n",
       "    </tr>\n",
       "    <tr>\n",
       "      <th>5434</th>\n",
       "      <td>2019-08-01</td>\n",
       "      <td>Medway</td>\n",
       "      <td>E06000035</td>\n",
       "      <td>4.224530e+05</td>\n",
       "      <td>2.791753e+05</td>\n",
       "      <td>2.159626e+05</td>\n",
       "      <td>1.615620e+05</td>\n",
       "      <td>E06000035</td>\n",
       "      <td>Medway</td>\n",
       "      <td>E12000008</td>\n",
       "      <td>South East</td>\n",
       "    </tr>\n",
       "    <tr>\n",
       "      <th>5435</th>\n",
       "      <td>2019-08-01</td>\n",
       "      <td>Worcestershire</td>\n",
       "      <td>E10000034</td>\n",
       "      <td>3.750185e+05</td>\n",
       "      <td>2.270141e+05</td>\n",
       "      <td>1.784408e+05</td>\n",
       "      <td>1.292424e+05</td>\n",
       "      <td>E10000034</td>\n",
       "      <td>Worcestershire</td>\n",
       "      <td>E12000005</td>\n",
       "      <td>West Midlands</td>\n",
       "    </tr>\n",
       "  </tbody>\n",
       "</table>\n",
       "</div>"
      ],
      "text/plain": [
       "           Date                    Area       Code      Detached  \\\n",
       "5431 2019-08-01  Kensington And Chelsea  E09000020  3.651606e+06   \n",
       "5432 2019-08-01                 Reading  E06000038  6.005563e+05   \n",
       "5433 2019-08-01               Islington  E09000019  1.777025e+06   \n",
       "5434 2019-08-01                  Medway  E06000035  4.224530e+05   \n",
       "5435 2019-08-01          Worcestershire  E10000034  3.750185e+05   \n",
       "\n",
       "              Semi      Terraced          Flat AuthorityCode  \\\n",
       "5431  3.394878e+06  2.330773e+06  1.127372e+06     E09000020   \n",
       "5432  3.731029e+05  2.949760e+05  2.150213e+05     E06000038   \n",
       "5433  1.202966e+06  1.053872e+06  5.969767e+05     E09000019   \n",
       "5434  2.791753e+05  2.159626e+05  1.615620e+05     E06000035   \n",
       "5435  2.270141e+05  1.784408e+05  1.292424e+05     E10000034   \n",
       "\n",
       "               AuthorityName RegionCode     RegionName  \n",
       "5431  Kensington and Chelsea  E12000007         London  \n",
       "5432                 Reading  E12000008     South East  \n",
       "5433               Islington  E12000007         London  \n",
       "5434                  Medway  E12000008     South East  \n",
       "5435          Worcestershire  E12000005  West Midlands  "
      ]
     },
     "execution_count": 16,
     "metadata": {},
     "output_type": "execute_result"
    }
   ],
   "source": [
    "# Resetting index\n",
    "date_sorted_df1.reset_index(drop=True, inplace=True)\n",
    "date_sorted_df1.head()\n",
    "date_sorted_df1.tail()"
   ]
  },
  {
   "cell_type": "markdown",
   "metadata": {
    "id": "jVdXHDjU5-OT"
   },
   "source": [
    "### **Section 3.1: Property Price Trends of Flats and Detached Houses in All Regions over 36 Months**<br>\n",
    "<br>\n",
    "The following few steps calculate and display property price trends of flats and detached houses in all regions over 36 months:"
   ]
  },
  {
   "cell_type": "code",
   "execution_count": null,
   "metadata": {
    "colab": {
     "base_uri": "https://localhost:8080/",
     "height": 206
    },
    "id": "Jy6rWxHjuc4x",
    "outputId": "badcc61c-eb1b-4696-b2da-2b820cf5f991"
   },
   "outputs": [
    {
     "data": {
      "text/html": [
       "<div>\n",
       "<style scoped>\n",
       "    .dataframe tbody tr th:only-of-type {\n",
       "        vertical-align: middle;\n",
       "    }\n",
       "\n",
       "    .dataframe tbody tr th {\n",
       "        vertical-align: top;\n",
       "    }\n",
       "\n",
       "    .dataframe thead th {\n",
       "        text-align: right;\n",
       "    }\n",
       "</style>\n",
       "<table border=\"1\" class=\"dataframe\">\n",
       "  <thead>\n",
       "    <tr style=\"text-align: right;\">\n",
       "      <th></th>\n",
       "      <th>Date</th>\n",
       "      <th>Flat</th>\n",
       "      <th>Detached</th>\n",
       "      <th>AuthorityName</th>\n",
       "      <th>RegionName</th>\n",
       "    </tr>\n",
       "  </thead>\n",
       "  <tbody>\n",
       "    <tr>\n",
       "      <th>2001</th>\n",
       "      <td>2017-10-01</td>\n",
       "      <td>393334.85250</td>\n",
       "      <td>1.087614e+06</td>\n",
       "      <td>Ealing</td>\n",
       "      <td>London</td>\n",
       "    </tr>\n",
       "    <tr>\n",
       "      <th>2002</th>\n",
       "      <td>2017-10-01</td>\n",
       "      <td>184982.25030</td>\n",
       "      <td>5.081831e+05</td>\n",
       "      <td>Hampshire</td>\n",
       "      <td>South East</td>\n",
       "    </tr>\n",
       "    <tr>\n",
       "      <th>2003</th>\n",
       "      <td>2017-10-01</td>\n",
       "      <td>151622.16900</td>\n",
       "      <td>4.102151e+05</td>\n",
       "      <td>Luton</td>\n",
       "      <td>East of England</td>\n",
       "    </tr>\n",
       "    <tr>\n",
       "      <th>2004</th>\n",
       "      <td>2017-10-01</td>\n",
       "      <td>348101.30790</td>\n",
       "      <td>8.117059e+05</td>\n",
       "      <td>Greenwich</td>\n",
       "      <td>London</td>\n",
       "    </tr>\n",
       "    <tr>\n",
       "      <th>2005</th>\n",
       "      <td>2017-10-01</td>\n",
       "      <td>93466.45442</td>\n",
       "      <td>2.280332e+05</td>\n",
       "      <td>Derby</td>\n",
       "      <td>East Midlands</td>\n",
       "    </tr>\n",
       "  </tbody>\n",
       "</table>\n",
       "</div>"
      ],
      "text/plain": [
       "           Date          Flat      Detached AuthorityName       RegionName\n",
       "2001 2017-10-01  393334.85250  1.087614e+06        Ealing           London\n",
       "2002 2017-10-01  184982.25030  5.081831e+05     Hampshire       South East\n",
       "2003 2017-10-01  151622.16900  4.102151e+05         Luton  East of England\n",
       "2004 2017-10-01  348101.30790  8.117059e+05     Greenwich           London\n",
       "2005 2017-10-01   93466.45442  2.280332e+05         Derby    East Midlands"
      ]
     },
     "execution_count": 17,
     "metadata": {},
     "output_type": "execute_result"
    }
   ],
   "source": [
    "# Filtering for necessary variables only\n",
    "priceTrends_df1 = date_sorted_df1.filter(['Date', 'Flat', 'Detached', 'AuthorityName', 'RegionName'])\n",
    "priceTrends_df1.iloc[2001:2006]"
   ]
  },
  {
   "cell_type": "code",
   "execution_count": null,
   "metadata": {
    "colab": {
     "base_uri": "https://localhost:8080/"
    },
    "id": "eB6PPCbfIQyl",
    "outputId": "26073337-0635-4fe4-e64e-f190f551c273"
   },
   "outputs": [
    {
     "name": "stdout",
     "output_type": "stream",
     "text": [
      "The distinct regions in the dataframe are: \n",
      "\n"
     ]
    },
    {
     "data": {
      "text/plain": [
       "array(['North East', 'London', 'North West', 'South East', 'South West',\n",
       "       'Yorkshire and The Humber', 'East of England', 'West Midlands',\n",
       "       'East Midlands'], dtype=object)"
      ]
     },
     "execution_count": 18,
     "metadata": {},
     "output_type": "execute_result"
    }
   ],
   "source": [
    "# Displaying remaining regions\n",
    "print(\"The distinct regions in the dataframe are: \\n\")\n",
    "priceTrends_df1['RegionName'].unique()"
   ]
  },
  {
   "cell_type": "markdown",
   "metadata": {
    "id": "hL-TziI9Ys-r"
   },
   "source": [
    "**<center>Figure 1: Scatter Matrix of Flat and Detached Average Prices</center>**"
   ]
  },
  {
   "cell_type": "code",
   "execution_count": null,
   "metadata": {
    "colab": {
     "base_uri": "https://localhost:8080/",
     "height": 804
    },
    "id": "88kO58AW3_FA",
    "outputId": "522892ea-2294-4e94-d640-5dacf3762354"
   },
   "outputs": [
    {
     "data": {
      "text/plain": [
       "array([[<AxesSubplot:xlabel='Flat', ylabel='Flat'>,\n",
       "        <AxesSubplot:xlabel='Detached', ylabel='Flat'>],\n",
       "       [<AxesSubplot:xlabel='Flat', ylabel='Detached'>,\n",
       "        <AxesSubplot:xlabel='Detached', ylabel='Detached'>]], dtype=object)"
      ]
     },
     "execution_count": 19,
     "metadata": {},
     "output_type": "execute_result"
    },
    {
     "data": {
      "image/png": "[encoded data removed]",
      "text/plain": [
       "<Figure size 864x864 with 4 Axes>"
      ]
     },
     "metadata": {
      "needs_background": "light"
     },
     "output_type": "display_data"
    }
   ],
   "source": [
    "_a = pd.plotting.scatter_matrix(priceTrends_df1, figsize=(12,12), diagonal='hist', alpha=0.6, range_padding=0.05)\n",
    "_a"
   ]
  },
  {
   "cell_type": "markdown",
   "metadata": {
    "id": "zn0QrG2tty6x"
   },
   "source": [
    "The above output shows that in general, increased cost of flats and detached houses are linearly correlated, and that there are far greater quantities of each type of property at the lower ends of their respective scales.<br>\n",
    "<br>\n",
    "The next few steps partition properties by region:"
   ]
  },
  {
   "cell_type": "code",
   "execution_count": null,
   "metadata": {
    "colab": {
     "base_uri": "https://localhost:8080/"
    },
    "id": "NZAew1jB90he",
    "outputId": "e464e02b-42bb-4ace-dd5a-e1acd2a90c00"
   },
   "outputs": [
    {
     "name": "stdout",
     "output_type": "stream",
     "text": [
      "Data grouped by region.\n"
     ]
    }
   ],
   "source": [
    "# Grouping by region\n",
    "gbyRegion = priceTrends_df1.groupby('RegionName')\n",
    "\n",
    "region_London = gbyRegion.get_group('London')\n",
    "region_NE = gbyRegion.get_group('North East')\n",
    "region_NW = gbyRegion.get_group('North West')\n",
    "region_SE = gbyRegion.get_group('South East')\n",
    "region_SW = gbyRegion.get_group('South West')\n",
    "region_YSTH = gbyRegion.get_group('Yorkshire and The Humber')\n",
    "region_EEng = gbyRegion.get_group('East of England')\n",
    "region_WMid = gbyRegion.get_group('West Midlands')\n",
    "region_EMid = gbyRegion.get_group('East Midlands')\n",
    "print(\"Data grouped by region.\")"
   ]
  },
  {
   "cell_type": "markdown",
   "metadata": {
    "id": "N_YzICAmVeQr"
   },
   "source": [
    "For the 36-month period from September 2016 to August 2019, the combined average prices of flats amd detached houses in England, by region, can be summarised as:"
   ]
  },
  {
   "cell_type": "code",
   "execution_count": null,
   "metadata": {
    "colab": {
     "base_uri": "https://localhost:8080/",
     "height": 457
    },
    "id": "CJ5B-VOBQ6rT",
    "outputId": "4dc4933a-bc15-4cf8-dd6a-015d10ee27bd"
   },
   "outputs": [
    {
     "data": {
      "text/plain": [
       "<AxesSubplot:title={'center':'Figure 2: Overview of Average Prices by Region'}, xlabel='Region', ylabel='Average Price x £1000'>"
      ]
     },
     "execution_count": 21,
     "metadata": {},
     "output_type": "execute_result"
    },
    {
     "data": {
      "image/png": "[encoded data removed]",
      "text/plain": [
       "<Figure size 1008x360 with 1 Axes>"
      ]
     },
     "metadata": {
      "needs_background": "light"
     },
     "output_type": "display_data"
    }
   ],
   "source": [
    "# Plotting overview\n",
    "gbyRegion.size().plot(kind='bar', title ='Figure 2: Overview of Average Prices by Region', xlabel='Region', \n",
    "                               ylabel='Average Price x £1000', figsize=(14,5), color='violet', rot=45, alpha=0.8)"
   ]
  },
  {
   "cell_type": "markdown",
   "metadata": {
    "id": "HuNGxT4kfGlq"
   },
   "source": [
    "Univariate summary statistics by region can be observed in the following tables: "
   ]
  },
  {
   "cell_type": "code",
   "execution_count": null,
   "metadata": {
    "colab": {
     "base_uri": "https://localhost:8080/"
    },
    "id": "ng8VW7cSbyt4",
    "outputId": "200752aa-b373-4857-f88b-f9cbe2771daa"
   },
   "outputs": [
    {
     "name": "stdout",
     "output_type": "stream",
     "text": [
      "\n",
      "Group East Midlands\n",
      "------------------\n",
      "            Flat   Detached\n",
      "count     324.00     324.00\n",
      "mean   114557.34  282621.56\n",
      "std     14492.48   57320.98\n",
      "min     91136.89  211633.15\n",
      "25%    101011.98  237763.24\n",
      "50%    114536.74  256914.98\n",
      "75%    124578.96  324331.50\n",
      "max    150465.40  436369.10\n",
      "\n",
      "Group East of England\n",
      "------------------\n",
      "            Flat   Detached\n",
      "count     396.00     396.00\n",
      "mean   170154.25  452914.40\n",
      "std     38848.57  130001.21\n",
      "min     96143.13  266382.66\n",
      "25%    139829.37  370316.31\n",
      "50%    173740.99  456999.04\n",
      "75%    192719.72  499734.96\n",
      "max    262197.19  809037.28\n",
      "\n",
      "Group London\n",
      "------------------\n",
      "             Flat    Detached\n",
      "count     1188.00     1152.00\n",
      "mean    441912.93  1204456.16\n",
      "std     210807.40   680623.11\n",
      "min     221336.36   505505.94\n",
      "25%     300439.16   772474.25\n",
      "50%     379946.66   963191.78\n",
      "75%     481300.35  1377565.15\n",
      "max    1287156.88  3755824.49\n",
      "\n",
      "Group North East\n",
      "------------------\n",
      "            Flat   Detached\n",
      "count     432.00     432.00\n",
      "mean    80755.14  222359.46\n",
      "std     14235.33   38324.21\n",
      "min     58604.53  159548.25\n",
      "25%     68346.42  190298.27\n",
      "50%     81206.32  216695.53\n",
      "75%     86619.17  245656.59\n",
      "max    116152.38  316153.08\n",
      "\n",
      "Group North West\n",
      "------------------\n",
      "            Flat   Detached\n",
      "count     828.00     828.00\n",
      "mean   103516.87  265818.59\n",
      "std     27674.60   68844.95\n",
      "min     66388.14  167415.06\n",
      "25%     78648.77  218704.06\n",
      "50%     99882.33  249678.99\n",
      "75%    117583.87  296428.09\n",
      "max    191648.58  538815.47\n",
      "\n",
      "Group South East\n",
      "------------------\n",
      "            Flat   Detached\n",
      "count     684.00     684.00\n",
      "mean   204660.87  550652.39\n",
      "std     47552.55  142183.94\n",
      "min    118921.52  289330.93\n",
      "25%    166587.35  435590.53\n",
      "50%    200682.78  550466.83\n",
      "75%    228688.96  626639.20\n",
      "max    321258.62  907436.38\n",
      "\n",
      "Group South West\n",
      "------------------\n",
      "            Flat   Detached\n",
      "count     540.00     540.00\n",
      "mean   163919.58  402740.65\n",
      "std     34940.23   66932.06\n",
      "min    110592.69  292301.48\n",
      "25%    137377.94  351502.48\n",
      "50%    158295.32  398654.57\n",
      "75%    177423.82  435896.09\n",
      "max    252825.71  571946.95\n",
      "\n",
      "Group West Midlands\n",
      "------------------\n",
      "            Flat   Detached\n",
      "count     504.00     504.00\n",
      "mean   112447.11  298422.86\n",
      "std     27088.42   74098.69\n",
      "min     70911.82  162540.16\n",
      "25%     87673.16  243941.33\n",
      "50%    108806.14  288459.27\n",
      "75%    126296.24  344669.30\n",
      "max    170152.15  490866.97\n",
      "\n",
      "Group Yorkshire and The Humber\n",
      "------------------\n",
      "            Flat   Detached\n",
      "count     540.00     540.00\n",
      "mean    97804.62  245221.93\n",
      "std     26908.78   58884.49\n",
      "min     64956.39  172780.89\n",
      "25%     78651.16  195189.48\n",
      "50%     95234.05  235080.22\n",
      "75%    106281.81  266044.74\n",
      "max    170692.39  412285.52\n"
     ]
    }
   ],
   "source": [
    "# Describing by region\n",
    "def describeBy(groups, columns):\n",
    "    for (index,grp) in groups:\n",
    "        print('\\nGroup', index)\n",
    "        print('------------------')\n",
    "        print(grp.loc[:,columns].describe().round(2))\n",
    "\n",
    "describeBy(gbyRegion, ['Flat', 'Detached'])"
   ]
  },
  {
   "cell_type": "markdown",
   "metadata": {
    "id": "7GV6l-4gnprC"
   },
   "source": [
    "Creating flats only dataframe :"
   ]
  },
  {
   "cell_type": "code",
   "execution_count": null,
   "metadata": {
    "colab": {
     "base_uri": "https://localhost:8080/",
     "height": 206
    },
    "id": "zw1zH0FNkXPJ",
    "outputId": "b76c8949-f469-4320-f669-e9f361dbffae"
   },
   "outputs": [
    {
     "data": {
      "text/html": [
       "<div>\n",
       "<style scoped>\n",
       "    .dataframe tbody tr th:only-of-type {\n",
       "        vertical-align: middle;\n",
       "    }\n",
       "\n",
       "    .dataframe tbody tr th {\n",
       "        vertical-align: top;\n",
       "    }\n",
       "\n",
       "    .dataframe thead th {\n",
       "        text-align: right;\n",
       "    }\n",
       "</style>\n",
       "<table border=\"1\" class=\"dataframe\">\n",
       "  <thead>\n",
       "    <tr style=\"text-align: right;\">\n",
       "      <th></th>\n",
       "      <th>Date</th>\n",
       "      <th>Flat</th>\n",
       "      <th>AuthorityName</th>\n",
       "      <th>RegionName</th>\n",
       "    </tr>\n",
       "  </thead>\n",
       "  <tbody>\n",
       "    <tr>\n",
       "      <th>4001</th>\n",
       "      <td>2018-11-01</td>\n",
       "      <td>107928.0258</td>\n",
       "      <td>Walsall</td>\n",
       "      <td>West Midlands</td>\n",
       "    </tr>\n",
       "    <tr>\n",
       "      <th>4002</th>\n",
       "      <td>2018-11-01</td>\n",
       "      <td>128863.6476</td>\n",
       "      <td>Isle of Wight</td>\n",
       "      <td>South East</td>\n",
       "    </tr>\n",
       "    <tr>\n",
       "      <th>4003</th>\n",
       "      <td>2018-11-01</td>\n",
       "      <td>123471.1834</td>\n",
       "      <td>Coventry</td>\n",
       "      <td>West Midlands</td>\n",
       "    </tr>\n",
       "    <tr>\n",
       "      <th>4004</th>\n",
       "      <td>2018-11-01</td>\n",
       "      <td>191648.5836</td>\n",
       "      <td>Trafford</td>\n",
       "      <td>North West</td>\n",
       "    </tr>\n",
       "    <tr>\n",
       "      <th>4005</th>\n",
       "      <td>2018-11-01</td>\n",
       "      <td>309982.5887</td>\n",
       "      <td>Windsor and Maidenhead</td>\n",
       "      <td>South East</td>\n",
       "    </tr>\n",
       "  </tbody>\n",
       "</table>\n",
       "</div>"
      ],
      "text/plain": [
       "           Date         Flat           AuthorityName     RegionName\n",
       "4001 2018-11-01  107928.0258                 Walsall  West Midlands\n",
       "4002 2018-11-01  128863.6476           Isle of Wight     South East\n",
       "4003 2018-11-01  123471.1834                Coventry  West Midlands\n",
       "4004 2018-11-01  191648.5836                Trafford     North West\n",
       "4005 2018-11-01  309982.5887  Windsor and Maidenhead     South East"
      ]
     },
     "execution_count": 23,
     "metadata": {},
     "output_type": "execute_result"
    }
   ],
   "source": [
    "# Creating flats df\n",
    "flats_df1 = date_sorted_df1.filter(['Date', 'Flat', 'AuthorityName', 'RegionName'])\n",
    "flats_df1[4001:4006]"
   ]
  },
  {
   "cell_type": "markdown",
   "metadata": {
    "id": "w6rcQO1NsoCn"
   },
   "source": [
    "Creating detached houses only dataframe :"
   ]
  },
  {
   "cell_type": "code",
   "execution_count": null,
   "metadata": {
    "colab": {
     "base_uri": "https://localhost:8080/",
     "height": 206
    },
    "id": "0mGtlK5tp_co",
    "outputId": "d7ec726c-47e2-4fff-a755-431153d6dc4b"
   },
   "outputs": [
    {
     "data": {
      "text/html": [
       "<div>\n",
       "<style scoped>\n",
       "    .dataframe tbody tr th:only-of-type {\n",
       "        vertical-align: middle;\n",
       "    }\n",
       "\n",
       "    .dataframe tbody tr th {\n",
       "        vertical-align: top;\n",
       "    }\n",
       "\n",
       "    .dataframe thead th {\n",
       "        text-align: right;\n",
       "    }\n",
       "</style>\n",
       "<table border=\"1\" class=\"dataframe\">\n",
       "  <thead>\n",
       "    <tr style=\"text-align: right;\">\n",
       "      <th></th>\n",
       "      <th>Date</th>\n",
       "      <th>Detached</th>\n",
       "      <th>AuthorityName</th>\n",
       "      <th>RegionName</th>\n",
       "    </tr>\n",
       "  </thead>\n",
       "  <tbody>\n",
       "    <tr>\n",
       "      <th>4001</th>\n",
       "      <td>2018-11-01</td>\n",
       "      <td>271840.0778</td>\n",
       "      <td>Walsall</td>\n",
       "      <td>West Midlands</td>\n",
       "    </tr>\n",
       "    <tr>\n",
       "      <th>4002</th>\n",
       "      <td>2018-11-01</td>\n",
       "      <td>320794.6581</td>\n",
       "      <td>Isle of Wight</td>\n",
       "      <td>South East</td>\n",
       "    </tr>\n",
       "    <tr>\n",
       "      <th>4003</th>\n",
       "      <td>2018-11-01</td>\n",
       "      <td>355318.3186</td>\n",
       "      <td>Coventry</td>\n",
       "      <td>West Midlands</td>\n",
       "    </tr>\n",
       "    <tr>\n",
       "      <th>4004</th>\n",
       "      <td>2018-11-01</td>\n",
       "      <td>538815.4748</td>\n",
       "      <td>Trafford</td>\n",
       "      <td>North West</td>\n",
       "    </tr>\n",
       "    <tr>\n",
       "      <th>4005</th>\n",
       "      <td>2018-11-01</td>\n",
       "      <td>907436.3848</td>\n",
       "      <td>Windsor and Maidenhead</td>\n",
       "      <td>South East</td>\n",
       "    </tr>\n",
       "  </tbody>\n",
       "</table>\n",
       "</div>"
      ],
      "text/plain": [
       "           Date     Detached           AuthorityName     RegionName\n",
       "4001 2018-11-01  271840.0778                 Walsall  West Midlands\n",
       "4002 2018-11-01  320794.6581           Isle of Wight     South East\n",
       "4003 2018-11-01  355318.3186                Coventry  West Midlands\n",
       "4004 2018-11-01  538815.4748                Trafford     North West\n",
       "4005 2018-11-01  907436.3848  Windsor and Maidenhead     South East"
      ]
     },
     "execution_count": 24,
     "metadata": {},
     "output_type": "execute_result"
    }
   ],
   "source": [
    "# Creating detached houses df\n",
    "detch_df1 = date_sorted_df1.filter(['Date', 'Detached', 'AuthorityName', 'RegionName'])\n",
    "detch_df1[4001:4006]"
   ]
  },
  {
   "cell_type": "markdown",
   "metadata": {
    "id": "2Nwb14aO9RAn"
   },
   "source": [
    "Grouping flats and detached houses by region:"
   ]
  },
  {
   "cell_type": "code",
   "execution_count": null,
   "metadata": {
    "colab": {
     "base_uri": "https://localhost:8080/"
    },
    "id": "RfCxfyyXn9FY",
    "outputId": "e5730567-4d51-4271-fbea-a31e8a099dae"
   },
   "outputs": [
    {
     "name": "stdout",
     "output_type": "stream",
     "text": [
      "Flats data grouped by region.\n"
     ]
    }
   ],
   "source": [
    "# Grouping flats by region\n",
    "gbyFlatsRegion = flats_df1.groupby('RegionName')\n",
    "\n",
    "flats_London = gbyFlatsRegion.get_group('London')\n",
    "flats_NE = gbyFlatsRegion.get_group('North East')\n",
    "flats_NW = gbyFlatsRegion.get_group('North West')\n",
    "flats_SE = gbyFlatsRegion.get_group('South East')\n",
    "flats_SW = gbyFlatsRegion.get_group('South West')\n",
    "flats_YSTH = gbyFlatsRegion.get_group('Yorkshire and The Humber')\n",
    "flats_EEng = gbyFlatsRegion.get_group('East of England')\n",
    "flats_WMid = gbyFlatsRegion.get_group('West Midlands')\n",
    "flats_EMid = gbyFlatsRegion.get_group('East Midlands')\n",
    "print(\"Flats data grouped by region.\")"
   ]
  },
  {
   "cell_type": "code",
   "execution_count": null,
   "metadata": {
    "colab": {
     "base_uri": "https://localhost:8080/"
    },
    "id": "DAg6DxyCoP1f",
    "outputId": "624715b5-c915-4078-e5fd-ea7426d6f04e"
   },
   "outputs": [
    {
     "name": "stdout",
     "output_type": "stream",
     "text": [
      "Detached houses data grouped by region.\n"
     ]
    }
   ],
   "source": [
    "# Grouping detached houses by region\n",
    "gbyDetchRegion = detch_df1.groupby('RegionName')\n",
    "\n",
    "detch_London = gbyDetchRegion.get_group('London')\n",
    "detch_NE = gbyDetchRegion.get_group('North East')\n",
    "detch_NW = gbyDetchRegion.get_group('North West')\n",
    "detch_SE = gbyDetchRegion.get_group('South East')\n",
    "detch_SW = gbyDetchRegion.get_group('South West')\n",
    "detch_YSTH = gbyDetchRegion.get_group('Yorkshire and The Humber')\n",
    "detch_EEng = gbyDetchRegion.get_group('East of England')\n",
    "detch_WMid = gbyDetchRegion.get_group('West Midlands')\n",
    "detch_EMid = gbyDetchRegion.get_group('East Midlands')\n",
    "print(\"Detached houses data grouped by region.\")"
   ]
  },
  {
   "cell_type": "code",
   "execution_count": null,
   "metadata": {
    "colab": {
     "base_uri": "https://localhost:8080/",
     "height": 457
    },
    "id": "Uzw-ZtN-0FsY",
    "outputId": "78b8954f-6573-4643-8d34-766143db3139"
   },
   "outputs": [
    {
     "data": {
      "text/plain": [
       "<AxesSubplot:title={'center':'Figure 3: 36-month Flat Average Price by Region'}, xlabel='Region', ylabel='Average Flat Price x £1000'>"
      ]
     },
     "execution_count": 27,
     "metadata": {},
     "output_type": "execute_result"
    },
    {
     "data": {
      "image/png": "[encoded data removed]",
      "text/plain": [
       "<Figure size 1008x360 with 1 Axes>"
      ]
     },
     "metadata": {
      "needs_background": "light"
     },
     "output_type": "display_data"
    }
   ],
   "source": [
    "# Plotting 36-month flat average by region\n",
    "gbyFlatsRegion.size().plot(kind='bar', title ='Figure 3: 36-month Flat Average Price by Region', xlabel='Region', \n",
    "                               ylabel='Average Flat Price x £1000', figsize=(14,5), color='aquamarine', rot=45)"
   ]
  },
  {
   "cell_type": "code",
   "execution_count": null,
   "metadata": {
    "colab": {
     "base_uri": "https://localhost:8080/",
     "height": 457
    },
    "id": "JpDIgyYN0P43",
    "outputId": "9b2d81f4-f94a-4ed5-d771-e61b71bf128c"
   },
   "outputs": [
    {
     "data": {
      "text/plain": [
       "<AxesSubplot:title={'center':'Figure 4: 36-month Detached House Average Price by Region'}, xlabel='Region', ylabel='Average Detached House Price x £1000'>"
      ]
     },
     "execution_count": 28,
     "metadata": {},
     "output_type": "execute_result"
    },
    {
     "data": {
      "image/png": "[encoded data removed]",
      "text/plain": [
       "<Figure size 1008x360 with 1 Axes>"
      ]
     },
     "metadata": {
      "needs_background": "light"
     },
     "output_type": "display_data"
    }
   ],
   "source": [
    "# Plotting 36-month detached house average by region\n",
    "gbyDetchRegion.size().plot(kind='bar', title ='Figure 4: 36-month Detached House Average Price by Region', xlabel='Region', \n",
    "                               ylabel='Average Detached House Price x £1000', figsize=(14,5), color='magenta', rot=45, alpha=0.6)"
   ]
  },
  {
   "cell_type": "markdown",
   "metadata": {
    "id": "ECKUF_j9VVWP"
   },
   "source": [
    "### **Section 3.2: Visualisation of Property Price Trends**\n",
    "\n",
    "Over the entire 36-month period, flactuations and trends in flat and detached house prices can be visualised according to region as:"
   ]
  },
  {
   "cell_type": "code",
   "execution_count": null,
   "metadata": {
    "colab": {
     "base_uri": "https://localhost:8080/",
     "height": 323
    },
    "id": "E-_g_WQZPstn",
    "outputId": "590e11f7-399f-4f37-82e9-c0999a7981d3"
   },
   "outputs": [
    {
     "data": {
      "text/plain": [
       "Text(0, 0.5, 'Price in £')"
      ]
     },
     "execution_count": 29,
     "metadata": {},
     "output_type": "execute_result"
    },
    {
     "data": {
      "image/png": "[encoded data removed]",
      "text/plain": [
       "<Figure size 1296x288 with 2 Axes>"
      ]
     },
     "metadata": {
      "needs_background": "light"
     },
     "output_type": "display_data"
    }
   ],
   "source": [
    "# Plotting East Midlands prices\n",
    "fig, (a1, a2) = plt.subplots(1,2, sharex=False, sharey=False, figsize=(18,4))\n",
    "\n",
    "flats_EMid.sample(frac=0.04).plot(kind=\"line\", x='Date', y='Flat', ax=a1, color='blue')\n",
    "detch_EMid.sample(frac=0.04).plot(kind=\"line\", x='Date', y='Detached', ax=a2, color='blue')\n",
    "\n",
    "fig.suptitle('Figure 5: Average Property Prices in East Midlands')\n",
    "[a.set_title('') for a in [a1, a2]]\n",
    "a1.set_ylabel('Price in £')\n",
    "a2.set_ylabel('Price in £')"
   ]
  },
  {
   "cell_type": "code",
   "execution_count": null,
   "metadata": {
    "colab": {
     "base_uri": "https://localhost:8080/",
     "height": 323
    },
    "id": "-u7ndjbjU8XI",
    "outputId": "e569adde-931c-41b0-960f-08034091d5a9"
   },
   "outputs": [
    {
     "data": {
      "text/plain": [
       "Text(0, 0.5, 'Price in £')"
      ]
     },
     "execution_count": 30,
     "metadata": {},
     "output_type": "execute_result"
    },
    {
     "data": {
      "image/png": "[encoded data removed]",
      "text/plain": [
       "<Figure size 1296x288 with 2 Axes>"
      ]
     },
     "metadata": {
      "needs_background": "light"
     },
     "output_type": "display_data"
    }
   ],
   "source": [
    "# Plotting West Midlands prices\n",
    "fig, (a3, a4) = plt.subplots(1,2, sharex=False, sharey=False, figsize=(18,4))\n",
    "\n",
    "flats_WMid.sample(frac=0.04).plot(kind=\"line\", x='Date', y='Flat', ax=a3, color='lime')\n",
    "detch_WMid.sample(frac=0.04).plot(kind=\"line\", x='Date', y='Detached', ax=a4, color='lime')\n",
    "\n",
    "fig.suptitle('Figure 6: Average Property Prices in West Midlands')\n",
    "[a.set_title('') for a in [a3, a4]]\n",
    "a3.set_ylabel('Price in £')\n",
    "a4.set_ylabel('Price in £')"
   ]
  },
  {
   "cell_type": "code",
   "execution_count": null,
   "metadata": {
    "colab": {
     "base_uri": "https://localhost:8080/",
     "height": 323
    },
    "id": "d1_PWIYzU8QN",
    "outputId": "e8b600e3-e8ce-4e4e-b477-daa767ddd724"
   },
   "outputs": [
    {
     "data": {
      "text/plain": [
       "Text(0, 0.5, 'Price in £')"
      ]
     },
     "execution_count": 31,
     "metadata": {},
     "output_type": "execute_result"
    },
    {
     "data": {
      "image/png": "[encoded data removed]",
      "text/plain": [
       "<Figure size 1296x288 with 2 Axes>"
      ]
     },
     "metadata": {
      "needs_background": "light"
     },
     "output_type": "display_data"
    }
   ],
   "source": [
    "# Plotting East of England prices\n",
    "fig, (a5, a6) = plt.subplots(1,2, sharex=False, sharey=False, figsize=(18,4))\n",
    "\n",
    "flats_EEng.sample(frac=0.04).plot(kind=\"line\", x='Date', y='Flat', ax=a5, color='cyan')\n",
    "detch_EEng.sample(frac=0.04).plot(kind=\"line\", x='Date', y='Detached', ax=a6, color='cyan')\n",
    "\n",
    "fig.suptitle('Figure 7: Average Property Prices in East of England')\n",
    "[a.set_title('') for a in [a5, a6]]\n",
    "a5.set_ylabel('Price in £')\n",
    "a6.set_ylabel('Price in £')"
   ]
  },
  {
   "cell_type": "code",
   "execution_count": null,
   "metadata": {
    "colab": {
     "base_uri": "https://localhost:8080/",
     "height": 323
    },
    "id": "BYGcJZ9kU8Jt",
    "outputId": "cb2978ae-eb59-423b-dd14-13221f1e737c"
   },
   "outputs": [
    {
     "data": {
      "text/plain": [
       "Text(0, 0.5, 'Price in £')"
      ]
     },
     "execution_count": 32,
     "metadata": {},
     "output_type": "execute_result"
    },
    {
     "data": {
      "image/png": "[encoded data removed]",
      "text/plain": [
       "<Figure size 1296x288 with 2 Axes>"
      ]
     },
     "metadata": {
      "needs_background": "light"
     },
     "output_type": "display_data"
    }
   ],
   "source": [
    "# Plotting Yorkshire and The Humber prices\n",
    "fig, (a7, a8) = plt.subplots(1,2, sharex=False, sharey=False, figsize=(18,4))\n",
    "\n",
    "flats_YSTH.sample(frac=0.04).plot(kind=\"line\", x='Date', y='Flat', ax=a7, color='deeppink')\n",
    "detch_YSTH.sample(frac=0.04).plot(kind=\"line\", x='Date', y='Detached', ax=a8, color='deeppink')\n",
    "\n",
    "fig.suptitle('Figure 8: Average Property Prices in Yorkshire and The Humber')\n",
    "[a.set_title('') for a in [a7, a8]]\n",
    "a7.set_ylabel('Price in £')\n",
    "a8.set_ylabel('Price in £')"
   ]
  },
  {
   "cell_type": "code",
   "execution_count": null,
   "metadata": {
    "colab": {
     "base_uri": "https://localhost:8080/",
     "height": 323
    },
    "id": "fpbJvYk5U8Ck",
    "outputId": "eec61561-3158-41b4-a498-0307b7d2ba07"
   },
   "outputs": [
    {
     "data": {
      "text/plain": [
       "Text(0, 0.5, 'Price in £')"
      ]
     },
     "execution_count": 33,
     "metadata": {},
     "output_type": "execute_result"
    },
    {
     "data": {
      "image/png": "[encoded data removed]",
      "text/plain": [
       "<Figure size 1296x288 with 2 Axes>"
      ]
     },
     "metadata": {
      "needs_background": "light"
     },
     "output_type": "display_data"
    }
   ],
   "source": [
    "# Plotting South West prices\n",
    "fig, (a9, a10) = plt.subplots(1,2, sharex=False, sharey=False, figsize=(18,4))\n",
    "\n",
    "flats_SW.sample(frac=0.04).plot(kind=\"line\", x='Date', y='Flat', ax=a9, color='yellow')\n",
    "detch_SW.sample(frac=0.04).plot(kind=\"line\", x='Date', y='Detached', ax=a10, color='yellow')\n",
    "\n",
    "fig.suptitle('Figure 9: Average Property Prices in South West')\n",
    "[a.set_title('') for a in [a9, a10]]\n",
    "a9.set_ylabel('Price in £')\n",
    "a10.set_ylabel('Price in £')"
   ]
  },
  {
   "cell_type": "code",
   "execution_count": null,
   "metadata": {
    "colab": {
     "base_uri": "https://localhost:8080/",
     "height": 323
    },
    "id": "JQ65py3nU780",
    "outputId": "d36e5374-7c9d-4af5-e56e-4b59c00e1c9d"
   },
   "outputs": [
    {
     "data": {
      "text/plain": [
       "Text(0, 0.5, 'Price in £')"
      ]
     },
     "execution_count": 34,
     "metadata": {},
     "output_type": "execute_result"
    },
    {
     "data": {
      "image/png": "[encoded data removed]",
      "text/plain": [
       "<Figure size 1296x288 with 2 Axes>"
      ]
     },
     "metadata": {
      "needs_background": "light"
     },
     "output_type": "display_data"
    }
   ],
   "source": [
    "# Plotting South East prices\n",
    "fig, (a11, a12) = plt.subplots(1,2, sharex=False, sharey=False, figsize=(18,4))\n",
    "\n",
    "flats_SE.sample(frac=0.04).plot(kind=\"line\", x='Date', y='Flat', ax=a11, color='dodgerblue')\n",
    "detch_SE.sample(frac=0.04).plot(kind=\"line\", x='Date', y='Detached', ax=a12, color='dodgerblue')\n",
    "\n",
    "fig.suptitle('Figure 10: Average Property Prices in South East')\n",
    "[a.set_title('') for a in [a11, a12]]\n",
    "a11.set_ylabel('Price in £')\n",
    "a12.set_ylabel('Price in £')"
   ]
  },
  {
   "cell_type": "code",
   "execution_count": null,
   "metadata": {
    "colab": {
     "base_uri": "https://localhost:8080/",
     "height": 323
    },
    "id": "awaUI4I4U70e",
    "outputId": "8d18e173-68d4-487b-8fd2-daf322d6ee2f"
   },
   "outputs": [
    {
     "data": {
      "text/plain": [
       "Text(0, 0.5, 'Price in £')"
      ]
     },
     "execution_count": 35,
     "metadata": {},
     "output_type": "execute_result"
    },
    {
     "data": {
      "image/png": "[encoded data removed]",
      "text/plain": [
       "<Figure size 1296x288 with 2 Axes>"
      ]
     },
     "metadata": {
      "needs_background": "light"
     },
     "output_type": "display_data"
    }
   ],
   "source": [
    "# Plotting North West prices\n",
    "fig, (a13, a14) = plt.subplots(1,2, sharex=False, sharey=False, figsize=(18,4))\n",
    "\n",
    "flats_NW.sample(frac=0.04).plot(kind=\"line\", x='Date', y='Flat', ax=a13, color='darkmagenta')\n",
    "detch_NW.sample(frac=0.04).plot(kind=\"line\", x='Date', y='Detached', ax=a14, color='darkmagenta')\n",
    "\n",
    "fig.suptitle('Figure 11: Average Property Prices in North West')\n",
    "[a.set_title('') for a in [a13, a14]]\n",
    "a13.set_ylabel('Price in £')\n",
    "a14.set_ylabel('Price in £')"
   ]
  },
  {
   "cell_type": "code",
   "execution_count": null,
   "metadata": {
    "colab": {
     "base_uri": "https://localhost:8080/",
     "height": 323
    },
    "id": "jGbhMKdyU7m7",
    "outputId": "5d5fef8c-ddcc-43ed-f2a3-daedd3160840"
   },
   "outputs": [
    {
     "data": {
      "text/plain": [
       "Text(0, 0.5, 'Price in £')"
      ]
     },
     "execution_count": 36,
     "metadata": {},
     "output_type": "execute_result"
    },
    {
     "data": {
      "image/png": "[encoded data removed]",
      "text/plain": [
       "<Figure size 1296x288 with 2 Axes>"
      ]
     },
     "metadata": {
      "needs_background": "light"
     },
     "output_type": "display_data"
    }
   ],
   "source": [
    "# Plotting North East prices\n",
    "fig, (a15, a16) = plt.subplots(1,2, sharex=False, sharey=False, figsize=(18,4))\n",
    "\n",
    "flats_NE.sample(frac=0.04).plot(kind=\"line\", x='Date', y='Flat', ax=a15, color='orange')\n",
    "detch_NE.sample(frac=0.04).plot(kind=\"line\", x='Date', y='Detached', ax=a16, color='orange')\n",
    "\n",
    "fig.suptitle('Figure 12: Average Property Prices in North East')\n",
    "[a.set_title('') for a in [a15, a16]]\n",
    "a15.set_ylabel('Price in £')\n",
    "a16.set_ylabel('Price in £')"
   ]
  },
  {
   "cell_type": "code",
   "execution_count": null,
   "metadata": {
    "colab": {
     "base_uri": "https://localhost:8080/",
     "height": 323
    },
    "id": "0vfz4BHPU7Vl",
    "outputId": "95b98060-63cf-4d66-b4af-dd9baf1db61a"
   },
   "outputs": [
    {
     "data": {
      "text/plain": [
       "Text(0, 0.5, 'Price in £million')"
      ]
     },
     "execution_count": 37,
     "metadata": {},
     "output_type": "execute_result"
    },
    {
     "data": {
      "image/png": "[encoded data removed]",
      "text/plain": [
       "<Figure size 1296x288 with 2 Axes>"
      ]
     },
     "metadata": {
      "needs_background": "light"
     },
     "output_type": "display_data"
    }
   ],
   "source": [
    "# Plotting London prices\n",
    "fig, (a17, a18) = plt.subplots(1,2, sharex=False, sharey=False, figsize=(18,4))\n",
    "\n",
    "flats_London.sample(frac=0.04).plot(kind=\"line\", x='Date', y='Flat', ax=a17, color='magenta')\n",
    "detch_London.sample(frac=0.04).plot(kind=\"line\", x='Date', y='Detached', ax=a18, color='magenta')\n",
    "\n",
    "fig.suptitle('Figure 13: Average Property Prices in London')\n",
    "[a.set_title('') for a in [a17, a18]]\n",
    "a17.set_ylabel('Price in £million')\n",
    "a18.set_ylabel('Price in £million')"
   ]
  },
  {
   "cell_type": "markdown",
   "metadata": {
    "id": "qbBBa1CvE_aP"
   },
   "source": [
    "**Comments**<br>\n",
    "The spiky nature of the plots above make trends difficlut to deduce. It can however be observed that in general detached houses are about 3 to 4 times the price of flats in all regions. As expected, in all areas the prices of the 2 types of property were directly correlated. In general, with the exception of a few regions, for most regions over the 36-month peroid there was hardly any change in property price -  the price of property in September 2016 was about the same as it was in August 2019.<br>\n",
    "<br>\n",
    "The price of detached houses in the East Midlands increased dramatically from around £230,000 to around £400,000 over the 36-month period. While flat prices actually decreased in Yorkshire and The Humber from about £160,000 to about £95,000 , detached houses in the same region increased in price from about £240,000 to £350,00. This observed trend is completely reversed in the South East region, where average flat prices **rose** from about £220,000 to about £300,000 in the same time period, whilst average prices of detached houses **fell** from about £860,000 to about £500,000.<br>\n",
    "<br>\n",
    "The relatively less expensive properties were in the North East where an average of about £80,000 would buy a flat (from about a £58,000 start), and £240,000 an average detached house (from about a £160,000 start). This is contrasted with the London region where flats **start** at £240,000 and average close to £500,000, whilst detached houses start at £500,000 and average £1.2 million."
   ]
  },
  {
   "cell_type": "markdown",
   "metadata": {
    "id": "cpky78qWPg51"
   },
   "source": [
    "### **Section 4: Price Changes by Area**\n",
    "### **Section 4.1: Flat Price Changes between July 2017 and July 2018**\n",
    "\n",
    "Calculating the change in price of flats for all areas between July 2017 and July 2018:"
   ]
  },
  {
   "cell_type": "code",
   "execution_count": null,
   "metadata": {
    "colab": {
     "base_uri": "https://localhost:8080/"
    },
    "id": "E0s83yF_0UMj",
    "outputId": "10052b51-86aa-42c9-87a8-f6fb749db535"
   },
   "outputs": [
    {
     "data": {
      "text/plain": [
       "array(['Hartlepool', 'Merton', 'Trafford', 'Surrey', 'Wiltshire',\n",
       "       'North Lincolnshire', 'Barnsley', 'Darlington', 'Westminster',\n",
       "       'Croydon', 'Bournemouth', 'Norfolk', 'Wolverhampton',\n",
       "       'Bracknell Forest', 'Wigan', 'Cornwall', 'Birmingham',\n",
       "       'North East Lincolnshire', 'Wandsworth', 'Harrow', 'Bradford',\n",
       "       'Southampton', 'Torbay', 'Portsmouth', 'Central Bedfordshire',\n",
       "       'South Gloucestershire', 'Derby', 'Bromley', 'Warwickshire',\n",
       "       'Calderdale', 'Stockton-on-Tees', 'Tameside', 'Leicestershire',\n",
       "       'Cambridgeshire', 'Plymouth', 'Havering', 'Bedford', 'York',\n",
       "       'West Berkshire', 'Somerset', 'Sunderland', 'Camden',\n",
       "       'Buckinghamshire', 'Lincolnshire', 'Ealing', 'Northamptonshire',\n",
       "       'Poole', 'Nottinghamshire', 'Greenwich', 'Warrington', 'Sutton',\n",
       "       'Luton', 'Blackpool', 'Thurrock', 'Sandwell', 'Cheshire East',\n",
       "       'Oxfordshire', 'Hackney', 'Sefton', 'St. Helens',\n",
       "       'Hammersmith and Fulham', 'Richmond upon Thames', 'Southwark',\n",
       "       'Southend-on-Sea', 'County Durham', 'Blackburn with Darwen',\n",
       "       'Staffordshire', 'Liverpool', 'Peterborough',\n",
       "       'Cheshire West and Chester', 'Suffolk', 'Newham', 'Walsall',\n",
       "       'Waltham Forest', 'Halton', 'East Riding of Yorkshire',\n",
       "       'Shropshire', 'Knowsley', 'Medway', 'Doncaster', 'Enfield',\n",
       "       'North Yorkshire', 'Wirral', 'Tower Hamlets', 'Haringey',\n",
       "       'Coventry', 'Kingston upon Hull, City of', 'Isle of Wight',\n",
       "       'Redbridge', 'Solihull', 'Swindon', 'Cumbria', 'Lewisham',\n",
       "       'Milton Keynes', 'Worcestershire', 'Middlesbrough', 'Dorset',\n",
       "       'Nottingham', 'Bath and North East Somerset', 'Hounslow', 'Bolton',\n",
       "       'Rochdale', 'Barnet', 'Devon', 'Bristol, City of', 'Rotherham',\n",
       "       'North Tyneside', 'Rutland', 'Slough', 'Leeds', 'Hertfordshire',\n",
       "       'Wakefield', 'Hampshire', 'Barking and Dagenham', 'Essex',\n",
       "       'Telford and Wrekin', 'Manchester', 'City of London', 'Islington',\n",
       "       'Wokingham', 'Gateshead', 'Oldham', 'Herefordshire, County of',\n",
       "       'Gloucestershire', 'Sheffield', 'Newcastle upon Tyne',\n",
       "       'East Sussex', 'Stoke-on-Trent', 'Bury', 'Windsor and Maidenhead',\n",
       "       'Kensington and Chelsea', 'Kingston upon Thames', 'Salford',\n",
       "       'Dudley', 'Reading', 'Kirklees', 'Stockport', 'North Somerset',\n",
       "       'Brent', 'Derbyshire', 'Lancashire', 'South Tyneside',\n",
       "       'Brighton and Hove', 'Leicester', 'Lambeth', 'Kent',\n",
       "       'Northumberland', 'Hillingdon', 'Bexley', 'West Sussex',\n",
       "       'Redcar and Cleveland'], dtype=object)"
      ]
     },
     "execution_count": 38,
     "metadata": {},
     "output_type": "execute_result"
    }
   ],
   "source": [
    "# Listing areas\n",
    "flats_df1.AuthorityName.unique()"
   ]
  },
  {
   "cell_type": "code",
   "execution_count": null,
   "metadata": {
    "colab": {
     "base_uri": "https://localhost:8080/"
    },
    "id": "ulBaR_jE2mc5",
    "outputId": "aad30cc8-f4c0-4b95-ad75-c9fdf5dce04f"
   },
   "outputs": [
    {
     "data": {
      "text/plain": [
       "Hartlepool              36\n",
       "Sheffield               36\n",
       "Cheshire East           36\n",
       "Leeds                   36\n",
       "County Durham           36\n",
       "                        ..\n",
       "Rotherham               36\n",
       "Hillingdon              36\n",
       "Central Bedfordshire    36\n",
       "Derby                   36\n",
       "Milton Keynes           36\n",
       "Name: AuthorityName, Length: 151, dtype: int64"
      ]
     },
     "execution_count": 39,
     "metadata": {},
     "output_type": "execute_result"
    }
   ],
   "source": [
    "# Counting areas\n",
    "flats_df1.AuthorityName.value_counts()"
   ]
  },
  {
   "cell_type": "markdown",
   "metadata": {
    "id": "8OggLtSiB_hH"
   },
   "source": [
    "Creating dataframes specific for July 2017 and July 2018:"
   ]
  },
  {
   "cell_type": "code",
   "execution_count": null,
   "metadata": {
    "colab": {
     "base_uri": "https://localhost:8080/",
     "height": 206
    },
    "id": "LQ0FZwXVJoSy",
    "outputId": "dfc68ac7-636e-40c7-da0f-33ebc883228f"
   },
   "outputs": [
    {
     "data": {
      "text/html": [
       "<div>\n",
       "<style scoped>\n",
       "    .dataframe tbody tr th:only-of-type {\n",
       "        vertical-align: middle;\n",
       "    }\n",
       "\n",
       "    .dataframe tbody tr th {\n",
       "        vertical-align: top;\n",
       "    }\n",
       "\n",
       "    .dataframe thead th {\n",
       "        text-align: right;\n",
       "    }\n",
       "</style>\n",
       "<table border=\"1\" class=\"dataframe\">\n",
       "  <thead>\n",
       "    <tr style=\"text-align: right;\">\n",
       "      <th></th>\n",
       "      <th>Date</th>\n",
       "      <th>Flat</th>\n",
       "      <th>AuthorityName</th>\n",
       "      <th>RegionName</th>\n",
       "    </tr>\n",
       "  </thead>\n",
       "  <tbody>\n",
       "    <tr>\n",
       "      <th>1526</th>\n",
       "      <td>2017-07-01</td>\n",
       "      <td>132403.20710</td>\n",
       "      <td>Norfolk</td>\n",
       "      <td>East of England</td>\n",
       "    </tr>\n",
       "    <tr>\n",
       "      <th>1527</th>\n",
       "      <td>2017-07-01</td>\n",
       "      <td>77204.18773</td>\n",
       "      <td>Wigan</td>\n",
       "      <td>North West</td>\n",
       "    </tr>\n",
       "    <tr>\n",
       "      <th>1528</th>\n",
       "      <td>2017-07-01</td>\n",
       "      <td>483279.60770</td>\n",
       "      <td>Richmond upon Thames</td>\n",
       "      <td>London</td>\n",
       "    </tr>\n",
       "    <tr>\n",
       "      <th>1529</th>\n",
       "      <td>2017-07-01</td>\n",
       "      <td>169534.14610</td>\n",
       "      <td>South Gloucestershire</td>\n",
       "      <td>South West</td>\n",
       "    </tr>\n",
       "    <tr>\n",
       "      <th>1530</th>\n",
       "      <td>2017-07-01</td>\n",
       "      <td>298083.32630</td>\n",
       "      <td>Redbridge</td>\n",
       "      <td>London</td>\n",
       "    </tr>\n",
       "  </tbody>\n",
       "</table>\n",
       "</div>"
      ],
      "text/plain": [
       "           Date          Flat          AuthorityName       RegionName\n",
       "1526 2017-07-01  132403.20710                Norfolk  East of England\n",
       "1527 2017-07-01   77204.18773                  Wigan       North West\n",
       "1528 2017-07-01  483279.60770   Richmond upon Thames           London\n",
       "1529 2017-07-01  169534.14610  South Gloucestershire       South West\n",
       "1530 2017-07-01  298083.32630              Redbridge           London"
      ]
     },
     "execution_count": 40,
     "metadata": {},
     "output_type": "execute_result"
    }
   ],
   "source": [
    "# Filtering for July 2017\n",
    "begin = '2017-7-1'\n",
    "end = '2017-8-1'\n",
    "\n",
    "within1 = flats_df1['Date'] >= begin\n",
    "within2 = flats_df1['Date'] <= end\n",
    "between1 = within1 & within2\n",
    "flatsJuly17 = flats_df1.loc[between1]\n",
    "flatsJuly17.iloc[16:21]"
   ]
  },
  {
   "cell_type": "code",
   "execution_count": null,
   "metadata": {
    "colab": {
     "base_uri": "https://localhost:8080/"
    },
    "id": "TMpY_WBnBFmv",
    "outputId": "df8b6ff8-6ea0-4702-a0ae-a04a57ad9ee0"
   },
   "outputs": [
    {
     "name": "stdout",
     "output_type": "stream",
     "text": [
      "Copy created.\n"
     ]
    }
   ],
   "source": [
    "# Copying for later use before alteration\n",
    "flatsJuly17_df3 = flatsJuly17.copy()\n",
    "print(\"Copy created.\")"
   ]
  },
  {
   "cell_type": "code",
   "execution_count": null,
   "metadata": {
    "colab": {
     "base_uri": "https://localhost:8080/",
     "height": 206
    },
    "id": "aGwGxxA8BaRH",
    "outputId": "83a5e6b3-0dc3-49bb-8183-05ddbf9fe5e7"
   },
   "outputs": [
    {
     "data": {
      "text/html": [
       "<div>\n",
       "<style scoped>\n",
       "    .dataframe tbody tr th:only-of-type {\n",
       "        vertical-align: middle;\n",
       "    }\n",
       "\n",
       "    .dataframe tbody tr th {\n",
       "        vertical-align: top;\n",
       "    }\n",
       "\n",
       "    .dataframe thead th {\n",
       "        text-align: right;\n",
       "    }\n",
       "</style>\n",
       "<table border=\"1\" class=\"dataframe\">\n",
       "  <thead>\n",
       "    <tr style=\"text-align: right;\">\n",
       "      <th></th>\n",
       "      <th>Date</th>\n",
       "      <th>Flat</th>\n",
       "      <th>AuthorityName</th>\n",
       "      <th>RegionName</th>\n",
       "    </tr>\n",
       "  </thead>\n",
       "  <tbody>\n",
       "    <tr>\n",
       "      <th>3338</th>\n",
       "      <td>2018-07-01</td>\n",
       "      <td>406127.0378</td>\n",
       "      <td>Brent</td>\n",
       "      <td>London</td>\n",
       "    </tr>\n",
       "    <tr>\n",
       "      <th>3339</th>\n",
       "      <td>2018-07-01</td>\n",
       "      <td>436340.3653</td>\n",
       "      <td>Southwark</td>\n",
       "      <td>London</td>\n",
       "    </tr>\n",
       "    <tr>\n",
       "      <th>3340</th>\n",
       "      <td>2018-07-01</td>\n",
       "      <td>177230.7211</td>\n",
       "      <td>Central Bedfordshire</td>\n",
       "      <td>East of England</td>\n",
       "    </tr>\n",
       "    <tr>\n",
       "      <th>3341</th>\n",
       "      <td>2018-07-01</td>\n",
       "      <td>359235.8938</td>\n",
       "      <td>Waltham Forest</td>\n",
       "      <td>London</td>\n",
       "    </tr>\n",
       "    <tr>\n",
       "      <th>3342</th>\n",
       "      <td>2018-07-01</td>\n",
       "      <td>642151.2798</td>\n",
       "      <td>Hammersmith and Fulham</td>\n",
       "      <td>London</td>\n",
       "    </tr>\n",
       "  </tbody>\n",
       "</table>\n",
       "</div>"
      ],
      "text/plain": [
       "           Date         Flat           AuthorityName       RegionName\n",
       "3338 2018-07-01  406127.0378                   Brent           London\n",
       "3339 2018-07-01  436340.3653               Southwark           London\n",
       "3340 2018-07-01  177230.7211    Central Bedfordshire  East of England\n",
       "3341 2018-07-01  359235.8938          Waltham Forest           London\n",
       "3342 2018-07-01  642151.2798  Hammersmith and Fulham           London"
      ]
     },
     "execution_count": 42,
     "metadata": {},
     "output_type": "execute_result"
    }
   ],
   "source": [
    "# Filtering for July 2018\n",
    "begin = '2018-7-1'\n",
    "end = '2018-8-1'\n",
    "\n",
    "within3 = flats_df1['Date'] >= begin\n",
    "within4 = flats_df1['Date'] <= end\n",
    "between2 = within3 & within4\n",
    "flatsJuly18 = flats_df1.loc[between2]\n",
    "flatsJuly18.iloc[16:21]"
   ]
  },
  {
   "cell_type": "code",
   "execution_count": null,
   "metadata": {
    "colab": {
     "base_uri": "https://localhost:8080/"
    },
    "id": "B38ItyAiBPGO",
    "outputId": "a690a7ae-2304-43a4-93d4-2a4330e85358"
   },
   "outputs": [
    {
     "name": "stdout",
     "output_type": "stream",
     "text": [
      "Copy created.\n"
     ]
    }
   ],
   "source": [
    "# Copying for later use before alteration\n",
    "flatsJuly18_df3 = flatsJuly18.copy()\n",
    "print(\"Copy created.\")"
   ]
  },
  {
   "cell_type": "code",
   "execution_count": null,
   "metadata": {
    "colab": {
     "base_uri": "https://localhost:8080/"
    },
    "id": "px91QR610LOV",
    "outputId": "8eea4795-9482-4a8c-a62c-b98fe3c6bfb4"
   },
   "outputs": [
    {
     "name": "stdout",
     "output_type": "stream",
     "text": [
      "Indexes reset.\n"
     ]
    }
   ],
   "source": [
    "# Resetting index for subsequent substraction\n",
    "flatsJuly17.reset_index(drop=True, inplace=True)\n",
    "flatsJuly18.reset_index(drop=True, inplace=True)\n",
    "print(\"Indexes reset.\")"
   ]
  },
  {
   "cell_type": "code",
   "execution_count": null,
   "metadata": {
    "colab": {
     "base_uri": "https://localhost:8080/"
    },
    "id": "Xe7JDfpeqzKS",
    "outputId": "d7a75b35-7deb-4920-8fdc-c19737a0159d"
   },
   "outputs": [
    {
     "name": "stdout",
     "output_type": "stream",
     "text": [
      "Columns renamed.\n"
     ]
    }
   ],
   "source": [
    "# Renaming columns for subsequent substraction\n",
    "flatsJuly17 = flatsJuly17.rename(columns={'Flat': 'Flat1'})\n",
    "flatsJuly18 = flatsJuly18.rename(columns={'Flat': 'Flat2'})\n",
    "print(\"Columns renamed.\")"
   ]
  },
  {
   "cell_type": "code",
   "execution_count": null,
   "metadata": {
    "id": "ZN1zJyhG1sH3"
   },
   "outputs": [],
   "source": [
    "# Creating dataframe for subsequent substraction\n",
    "JulyDiff = flatsJuly18.copy()"
   ]
  },
  {
   "cell_type": "markdown",
   "metadata": {
    "id": "aflsGMODDOYf"
   },
   "source": [
    "Creating new column with flat prices difference from July 2017 to July 2018:"
   ]
  },
  {
   "cell_type": "code",
   "execution_count": null,
   "metadata": {
    "colab": {
     "base_uri": "https://localhost:8080/",
     "height": 206
    },
    "id": "IrpZkvidlH0z",
    "outputId": "3947286b-4983-4835-82aa-044afc222727"
   },
   "outputs": [
    {
     "data": {
      "text/html": [
       "<div>\n",
       "<style scoped>\n",
       "    .dataframe tbody tr th:only-of-type {\n",
       "        vertical-align: middle;\n",
       "    }\n",
       "\n",
       "    .dataframe tbody tr th {\n",
       "        vertical-align: top;\n",
       "    }\n",
       "\n",
       "    .dataframe thead th {\n",
       "        text-align: right;\n",
       "    }\n",
       "</style>\n",
       "<table border=\"1\" class=\"dataframe\">\n",
       "  <thead>\n",
       "    <tr style=\"text-align: right;\">\n",
       "      <th></th>\n",
       "      <th>Date</th>\n",
       "      <th>Flat2</th>\n",
       "      <th>AuthorityName</th>\n",
       "      <th>RegionName</th>\n",
       "      <th>Flat1</th>\n",
       "      <th>Price_diff</th>\n",
       "    </tr>\n",
       "  </thead>\n",
       "  <tbody>\n",
       "    <tr>\n",
       "      <th>101</th>\n",
       "      <td>2018-07-01</td>\n",
       "      <td>125042.0274</td>\n",
       "      <td>Leicestershire</td>\n",
       "      <td>East Midlands</td>\n",
       "      <td>3.213143e+05</td>\n",
       "      <td>-196272.30210</td>\n",
       "    </tr>\n",
       "    <tr>\n",
       "      <th>102</th>\n",
       "      <td>2018-07-01</td>\n",
       "      <td>219631.1564</td>\n",
       "      <td>Oxfordshire</td>\n",
       "      <td>South East</td>\n",
       "      <td>2.220514e+05</td>\n",
       "      <td>-2420.29040</td>\n",
       "    </tr>\n",
       "    <tr>\n",
       "      <th>103</th>\n",
       "      <td>2018-07-01</td>\n",
       "      <td>168753.0809</td>\n",
       "      <td>Medway</td>\n",
       "      <td>South East</td>\n",
       "      <td>1.151310e+06</td>\n",
       "      <td>-982557.27410</td>\n",
       "    </tr>\n",
       "    <tr>\n",
       "      <th>104</th>\n",
       "      <td>2018-07-01</td>\n",
       "      <td>163317.6307</td>\n",
       "      <td>Gloucestershire</td>\n",
       "      <td>South West</td>\n",
       "      <td>2.701165e+05</td>\n",
       "      <td>-106798.89540</td>\n",
       "    </tr>\n",
       "    <tr>\n",
       "      <th>105</th>\n",
       "      <td>2018-07-01</td>\n",
       "      <td>121004.5793</td>\n",
       "      <td>Coventry</td>\n",
       "      <td>West Midlands</td>\n",
       "      <td>7.305407e+04</td>\n",
       "      <td>47950.51045</td>\n",
       "    </tr>\n",
       "  </tbody>\n",
       "</table>\n",
       "</div>"
      ],
      "text/plain": [
       "          Date        Flat2    AuthorityName     RegionName         Flat1  \\\n",
       "101 2018-07-01  125042.0274   Leicestershire  East Midlands  3.213143e+05   \n",
       "102 2018-07-01  219631.1564      Oxfordshire     South East  2.220514e+05   \n",
       "103 2018-07-01  168753.0809           Medway     South East  1.151310e+06   \n",
       "104 2018-07-01  163317.6307  Gloucestershire     South West  2.701165e+05   \n",
       "105 2018-07-01  121004.5793         Coventry  West Midlands  7.305407e+04   \n",
       "\n",
       "       Price_diff  \n",
       "101 -196272.30210  \n",
       "102   -2420.29040  \n",
       "103 -982557.27410  \n",
       "104 -106798.89540  \n",
       "105   47950.51045  "
      ]
     },
     "execution_count": 47,
     "metadata": {},
     "output_type": "execute_result"
    }
   ],
   "source": [
    "# Calculating difference\n",
    "JulyDiff['Flat1'] = flatsJuly17['Flat1']\n",
    "JulyDiff['Price_diff'] = np.where(JulyDiff['Flat2'] == flatsJuly17['Flat1'], 0, JulyDiff['Flat2'] - flatsJuly17['Flat1'])\n",
    "JulyDiff.iloc[101:106]"
   ]
  },
  {
   "cell_type": "markdown",
   "metadata": {
    "id": "dCqoCbWOalAi"
   },
   "source": [
    "The calculated change in price of flats in each area between July 2017 and July 2018 in increasing order of magnitude (i.e. from the greatest decrease through no change to the greatest increase) is:"
   ]
  },
  {
   "cell_type": "code",
   "execution_count": null,
   "metadata": {
    "colab": {
     "base_uri": "https://localhost:8080/"
    },
    "id": "5T1ol29Hajcr",
    "outputId": "f0f14d96-0d57-4349-c283-1334208a48d7"
   },
   "outputs": [
    {
     "name": "stdout",
     "output_type": "stream",
     "text": [
      "                    AuthorityName    Price_diff\n",
      "223              Stockton-on-Tees -1.024572e+06\n",
      "103                        Medway -9.825573e+05\n",
      "43                      Wokingham -7.749213e+05\n",
      "214                Northumberland -7.571594e+05\n",
      "39                   Peterborough -6.787524e+05\n",
      "218                      Plymouth -6.649766e+05\n",
      "224                        Newham -6.311262e+05\n",
      "292                       Rutland -5.421658e+05\n",
      "11                         Torbay -5.296780e+05\n",
      "33                       Plymouth -4.815376e+05\n",
      "64                  Middlesbrough -4.725862e+05\n",
      "36                  Tower Hamlets -4.150532e+05\n",
      "208                    Birmingham -4.144417e+05\n",
      "202                        Slough -3.712753e+05\n",
      "173            North Lincolnshire -3.633155e+05\n",
      "294                        Medway -3.584432e+05\n",
      "79                          Derby -3.416893e+05\n",
      "78                       Knowsley -3.308047e+05\n",
      "201                    St. Helens -3.275974e+05\n",
      "61                     Sunderland -3.246573e+05\n",
      "256                    Darlington -3.152789e+05\n",
      "244                         Devon -3.149673e+05\n",
      "18           Central Bedfordshire -3.060489e+05\n",
      "263                      Trafford -3.045292e+05\n",
      "183                  Lincolnshire -3.010079e+05\n",
      "124                North Tyneside -2.690224e+05\n",
      "207                North Tyneside -2.658904e+05\n",
      "128  Bath and North East Somerset -2.474693e+05\n",
      "131              Bristol, City of -2.456437e+05\n",
      "116                       Cumbria -2.445138e+05\n",
      "163                          York -2.319020e+05\n",
      "238                         Leeds -2.244859e+05\n",
      "174                       Swindon -2.160124e+05\n",
      "12                        Enfield -2.153387e+05\n",
      "191                 Staffordshire -2.129347e+05\n",
      "70             Telford and Wrekin -1.970889e+05\n",
      "101                Leicestershire -1.962723e+05\n",
      "243                    Manchester -1.951444e+05\n",
      "87                           York -1.896417e+05\n",
      "89                     Lancashire -1.891182e+05\n",
      "157                    Lancashire -1.879593e+05\n",
      "31                        Bedford -1.846070e+05\n",
      "46                     Hartlepool -1.813243e+05\n",
      "247                    Portsmouth -1.786265e+05\n",
      "184              Northamptonshire -1.773395e+05\n",
      "160               Nottinghamshire -1.767368e+05\n",
      "119           Newcastle upon Tyne -1.718368e+05\n",
      "271                     Leicester -1.712304e+05\n",
      "68                        Norfolk -1.690130e+05\n",
      "58                     Darlington -1.643156e+05\n",
      "189                      Barnsley -1.611741e+05\n",
      "288                      Bradford -1.602571e+05\n",
      "96                        Rutland -1.599917e+05\n",
      "147                Stoke-on-Trent -1.589065e+05\n",
      "289                   West Sussex -1.540825e+05\n",
      "137                        Dorset -1.450101e+05\n",
      "109                South Tyneside -1.420990e+05\n",
      "1                       Greenwich -1.289996e+05\n",
      "206     Cheshire West and Chester -1.289881e+05\n",
      "196                Leicestershire -1.218828e+05\n",
      "73                        Suffolk -1.190455e+05\n",
      "293                     Gateshead -1.186499e+05\n",
      "92               Stockton-on-Tees -1.174359e+05\n",
      "83                       Sandwell -1.171985e+05\n",
      "165                      Sandwell -1.161720e+05\n",
      "282                 Isle of Wight -1.151516e+05\n",
      "106                    St. Helens -1.143199e+05\n",
      "114          Barking and Dagenham -1.097818e+05\n",
      "158                Waltham Forest -1.085843e+05\n",
      "104               Gloucestershire -1.067989e+05\n",
      "111                          Bury -1.065945e+05\n",
      "212                    Hartlepool -1.047132e+05\n",
      "276                Cambridgeshire -1.037672e+05\n",
      "51                     Birmingham -1.027109e+05\n",
      "185                       Norfolk -1.008276e+05\n",
      "219                      Rochdale -9.972203e+04\n",
      "228              Bristol, City of -9.786459e+04\n",
      "182                Worcestershire -9.621484e+04\n",
      "49         Windsor and Maidenhead -9.468355e+04\n",
      "180                    Sunderland -9.454475e+04\n",
      "29                         Halton -9.332006e+04\n",
      "269                        Barnet -9.320602e+04\n",
      "141         Blackburn with Darwen -9.114192e+04\n",
      "235                 Middlesbrough -8.993766e+04\n",
      "170                     Sheffield -8.691096e+04\n",
      "194   Kingston upon Hull, City of -8.240271e+04\n",
      "59                       Kirklees -8.229448e+04\n",
      "48                      Stockport -8.194597e+04\n",
      "172                        Dudley -8.180258e+04\n",
      "8                   County Durham -8.096668e+04\n",
      "197                      Coventry -7.664750e+04\n",
      "260                     Wiltshire -7.370510e+04\n",
      "15                     Shropshire -7.084519e+04\n",
      "108                      Hounslow -7.019828e+04\n",
      "56                        Salford -7.003736e+04\n",
      "232                    Calderdale -6.980453e+04\n",
      "57                   Lincolnshire -6.839430e+04\n",
      "50                       Havering -6.426802e+04\n",
      "225         South Gloucestershire -6.231975e+04\n",
      "279                      Knowsley -6.199122e+04\n",
      "211                  Peterborough -6.121934e+04\n",
      "153                     Blackpool -5.918646e+04\n",
      "118   Kingston upon Hull, City of -5.782535e+04\n",
      "264                North Somerset -5.583812e+04\n",
      "7                         Bromley -5.555218e+04\n",
      "193           Newcastle upon Tyne -5.413887e+04\n",
      "123               Nottinghamshire -5.180121e+04\n",
      "74             North Lincolnshire -4.991571e+04\n",
      "179       North East Lincolnshire -4.911273e+04\n",
      "129                     Doncaster -4.900802e+04\n",
      "135               Southend-on-Sea -4.870208e+04\n",
      "213                   Bournemouth -4.752371e+04\n",
      "152                     Liverpool -4.712478e+04\n",
      "55       Herefordshire, County of -4.643841e+04\n",
      "67                       Rochdale -4.289595e+04\n",
      "91                        Walsall -4.228655e+04\n",
      "60        North East Lincolnshire -4.199735e+04\n",
      "297          Redcar and Cleveland -4.136727e+04\n",
      "198               North Yorkshire -3.959155e+04\n",
      "113                      Barnsley -3.916173e+04\n",
      "37           Redcar and Cleveland -3.734881e+04\n",
      "86                      Leicester -3.614766e+04\n",
      "296                        Bolton -3.321394e+04\n",
      "72       East Riding of Yorkshire -3.162459e+04\n",
      "190                South Tyneside -3.147533e+04\n",
      "34                  Staffordshire -3.137287e+04\n",
      "75                     Nottingham -2.985749e+04\n",
      "280                         Wigan -2.927771e+04\n",
      "76                       Bradford -2.877041e+04\n",
      "249                        Oldham -2.797005e+04\n",
      "192                        Wirral -2.337521e+04\n",
      "252                          Bury -2.253984e+04\n",
      "246                Stoke-on-Trent -2.227266e+04\n",
      "187      East Riding of Yorkshire -2.214774e+04\n",
      "248                     Wakefield -2.057451e+04\n",
      "240                      Somerset -2.042121e+04\n",
      "85                          Wigan -1.966521e+04\n",
      "298                    Warrington -1.923333e+04\n",
      "287                    Nottingham -1.825256e+04\n",
      "53                     Calderdale -1.562911e+04\n",
      "134                     Sheffield -1.556905e+04\n",
      "255                       Bedford -1.291740e+04\n",
      "237                   Southampton -1.288362e+04\n",
      "181                       Suffolk -1.200947e+04\n",
      "127                     Blackpool -1.124643e+04\n",
      "149                       Reading -9.422783e+03\n",
      "175         Blackburn with Darwen -8.188457e+03\n",
      "88                      Liverpool -8.096415e+03\n",
      "278                         Derby -7.363034e+03\n",
      "121                    Manchester -7.215186e+03\n",
      "151                     Rotherham -3.821854e+03\n",
      "142                     Rotherham -2.736396e+03\n",
      "102                   Oxfordshire -2.420290e+03\n",
      "100                    Warrington -1.197473e+03\n",
      "90                 Northumberland -1.082883e+03\n",
      "110                        Wirral -6.547458e+02\n",
      "251                      Thurrock  3.955672e+03\n",
      "26                  Isle of Wight  4.279112e+03\n",
      "97                  Wolverhampton  4.561272e+03\n",
      "122                     Gateshead  4.715556e+03\n",
      "144                     Wakefield  5.462706e+03\n",
      "6                           Luton  6.724211e+03\n",
      "195                 County Durham  6.816379e+03\n",
      "93                      Hampshire  7.309009e+03\n",
      "204                     Doncaster  1.023260e+04\n",
      "117                        Bolton  1.026533e+04\n",
      "226                      Kirklees  1.067037e+04\n",
      "220                        Halton  1.079394e+04\n",
      "254                    Derbyshire  1.276833e+04\n",
      "0       Cheshire West and Chester  1.398585e+04\n",
      "301                 Wolverhampton  1.401108e+04\n",
      "52                         Sefton  1.439073e+04\n",
      "257            Telford and Wrekin  1.475942e+04\n",
      "291                        Torbay  1.484503e+04\n",
      "230      Herefordshire, County of  1.631089e+04\n",
      "178                       Enfield  1.837928e+04\n",
      "143                        Oldham  1.889455e+04\n",
      "200                 Cheshire East  1.889832e+04\n",
      "210                        Sefton  1.975301e+04\n",
      "130                      Somerset  2.181596e+04\n",
      "290                      Tameside  2.271706e+04\n",
      "69                 Worcestershire  2.365294e+04\n",
      "145              Northamptonshire  2.379387e+04\n",
      "94                         Dudley  2.653300e+04\n",
      "266                       Walsall  2.663614e+04\n",
      "150                    Portsmouth  2.780595e+04\n",
      "284                       Cumbria  2.967849e+04\n",
      "40                          Poole  3.057013e+04\n",
      "71                          Leeds  3.239391e+04\n",
      "166                    Shropshire  3.356921e+04\n",
      "148               North Yorkshire  3.416347e+04\n",
      "62                    East Sussex  3.421968e+04\n",
      "80               Bracknell Forest  3.457780e+04\n",
      "107                      Tameside  3.528149e+04\n",
      "270                  Warwickshire  3.580461e+04\n",
      "42          South Gloucestershire  3.583320e+04\n",
      "261                     Stockport  3.992314e+04\n",
      "300          Barking and Dagenham  4.573251e+04\n",
      "146                    Derbyshire  4.696507e+04\n",
      "105                      Coventry  4.795051e+04\n",
      "259                      Havering  4.893627e+04\n",
      "13                Buckinghamshire  5.091067e+04\n",
      "77                    West Sussex  5.144804e+04\n",
      "47                 West Berkshire  5.150876e+04\n",
      "221                          Kent  5.285868e+04\n",
      "299                 Milton Keynes  5.301223e+04\n",
      "231                       Salford  5.314939e+04\n",
      "25                       Cornwall  5.587664e+04\n",
      "21                    Southampton  5.664239e+04\n",
      "24                  Cheshire East  5.834365e+04\n",
      "262                      Cornwall  5.891128e+04\n",
      "81                       Solihull  5.965060e+04\n",
      "177                West Berkshire  6.414278e+04\n",
      "112                North Somerset  6.526118e+04\n",
      "4                       Wiltshire  6.584334e+04\n",
      "98                  Milton Keynes  6.680549e+04\n",
      "38                        Swindon  6.683614e+04\n",
      "283               Gloucestershire  6.775016e+04\n",
      "171                     Wokingham  6.781552e+04\n",
      "233                         Luton  6.966990e+04\n",
      "275               Southend-on-Sea  7.098266e+04\n",
      "32                   Warwickshire  7.153050e+04\n",
      "250                        Dorset  7.249770e+04\n",
      "115                         Devon  7.339496e+04\n",
      "159              Bracknell Forest  7.711867e+04\n",
      "3                     Bournemouth  7.913562e+04\n",
      "95                       Trafford  8.089834e+04\n",
      "54                          Essex  8.208196e+04\n",
      "63                           Kent  8.224216e+04\n",
      "215                   East Sussex  9.021857e+04\n",
      "277                      Solihull  9.443480e+04\n",
      "199                         Poole  9.550259e+04\n",
      "253          Central Bedfordshire  9.557112e+04\n",
      "234                         Essex  9.788574e+04\n",
      "274                        Surrey  1.025488e+05\n",
      "265                     Hampshire  1.109794e+05\n",
      "138                      Thurrock  1.119832e+05\n",
      "27                        Croydon  1.126874e+05\n",
      "242               Buckinghamshire  1.173244e+05\n",
      "241  Bath and North East Somerset  1.185660e+05\n",
      "140                        Slough  1.233665e+05\n",
      "236                        Bexley  1.256861e+05\n",
      "10                      Redbridge  1.261796e+05\n",
      "168                       Reading  1.263646e+05\n",
      "133                Cambridgeshire  1.296142e+05\n",
      "44                     Hillingdon  1.305035e+05\n",
      "84                  Hertfordshire  1.369331e+05\n",
      "154                   Oxfordshire  1.372634e+05\n",
      "209                        Sutton  1.426523e+05\n",
      "205        Windsor and Maidenhead  1.534205e+05\n",
      "272                 Hertfordshire  1.621421e+05\n",
      "28                         Surrey  1.688932e+05\n",
      "14                         Bexley  1.740946e+05\n",
      "132                        Harrow  1.769440e+05\n",
      "227                     Greenwich  1.825610e+05\n",
      "19                 Waltham Forest  1.897017e+05\n",
      "161                       Croydon  1.938470e+05\n",
      "239                     Redbridge  1.987785e+05\n",
      "258             Brighton and Hove  2.008922e+05\n",
      "9                          Sutton  2.058032e+05\n",
      "267                    Hillingdon  2.092891e+05\n",
      "286                       Bromley  2.106791e+05\n",
      "156                      Hounslow  2.132045e+05\n",
      "273                      Lewisham  2.183782e+05\n",
      "65              Brighton and Hove  2.221241e+05\n",
      "41           Richmond upon Thames  2.326158e+05\n",
      "245                        Harrow  2.326601e+05\n",
      "169          Richmond upon Thames  2.341251e+05\n",
      "281                    Wandsworth  2.409767e+05\n",
      "120                      Haringey  2.514300e+05\n",
      "188          Kingston upon Thames  2.514581e+05\n",
      "139          Kingston upon Thames  2.566523e+05\n",
      "5                          Ealing  2.605275e+05\n",
      "82                       Lewisham  2.628582e+05\n",
      "285                        Merton  2.628756e+05\n",
      "126                        Newham  2.671779e+05\n",
      "16                          Brent  2.737238e+05\n",
      "2                          Barnet  2.965401e+05\n",
      "155                       Lambeth  3.010790e+05\n",
      "203                        Ealing  3.102778e+05\n",
      "176                 Tower Hamlets  3.125621e+05\n",
      "45                         Merton  3.153072e+05\n",
      "295                      Haringey  3.188766e+05\n",
      "164                     Southwark  3.321829e+05\n",
      "216                         Brent  3.433146e+05\n",
      "20         Hammersmith and Fulham  3.440680e+05\n",
      "99                        Lambeth  3.481354e+05\n",
      "17                      Southwark  3.591362e+05\n",
      "23                        Hackney  3.838650e+05\n",
      "30                     Wandsworth  3.914187e+05\n",
      "66                      Islington  4.211311e+05\n",
      "167                       Hackney  4.234662e+05\n",
      "268                        Camden  4.419809e+05\n",
      "217        Hammersmith and Fulham  4.670382e+05\n",
      "186                     Islington  5.072923e+05\n",
      "222                City of London  5.879936e+05\n",
      "22                         Camden  6.834440e+05\n",
      "136                City of London  7.005829e+05\n",
      "35                    Westminster  7.452406e+05\n",
      "229                   Westminster  8.261692e+05\n",
      "125        Kensington and Chelsea  1.014088e+06\n",
      "162        Kensington and Chelsea  1.166040e+06\n"
     ]
    }
   ],
   "source": [
    "# Filtering price difference by area\n",
    "JulyDiff2 = JulyDiff.filter(['AuthorityName', 'Price_diff'])\n",
    "sorted_JulyDiff2 = JulyDiff2.sort_values('Price_diff', ascending=True)\n",
    "pd.set_option(\"display.max_rows\", None, \"display.max_columns\", None)\n",
    "print(sorted_JulyDiff2)"
   ]
  },
  {
   "cell_type": "markdown",
   "metadata": {
    "id": "mB4D2IP1UjVP"
   },
   "source": [
    "For each region, the calculated change in flat prices in increasing order of magnitude (i.e. from the greatest decrease through no change to the greatest increase) are:"
   ]
  },
  {
   "cell_type": "code",
   "execution_count": null,
   "metadata": {
    "colab": {
     "base_uri": "https://localhost:8080/"
    },
    "id": "LCQdsnNGPyNk",
    "outputId": "c8a1cb46-ffc8-4d97-8062-40a8f7d8fca8"
   },
   "outputs": [
    {
     "data": {
      "text/plain": [
       "RegionName\n",
       "North East                 -4.848871e+06\n",
       "North West                 -2.561836e+06\n",
       "South West                 -2.387127e+06\n",
       "East Midlands              -2.316606e+06\n",
       "Yorkshire and The Humber   -2.026752e+06\n",
       "West Midlands              -1.317929e+06\n",
       "East of England            -8.293661e+05\n",
       "South East                 -7.183755e+05\n",
       "London                      1.640024e+07\n",
       "Name: Price_diff, dtype: float64"
      ]
     },
     "execution_count": 49,
     "metadata": {},
     "output_type": "execute_result"
    }
   ],
   "source": [
    "# Filtering price difference by region\n",
    "JulyDiff3 = JulyDiff.filter(['RegionName', 'Price_diff'])\n",
    "gbyJulyDiffRegion = JulyDiff3.groupby('RegionName')\n",
    "sum_gbyJulyDiffRegion = gbyJulyDiffRegion['Price_diff'].sum()\n",
    "sorted_gbyJulyDiffRegion = sum_gbyJulyDiffRegion.sort_values(ascending=True)\n",
    "sorted_gbyJulyDiffRegion"
   ]
  },
  {
   "cell_type": "code",
   "execution_count": null,
   "metadata": {
    "colab": {
     "base_uri": "https://localhost:8080/"
    },
    "id": "Sm680bTxvY9g",
    "outputId": "84f3b70c-18e0-4a31-c572-f43e88828f59"
   },
   "outputs": [
    {
     "data": {
      "text/plain": [
       "pandas.core.series.Series"
      ]
     },
     "execution_count": 50,
     "metadata": {},
     "output_type": "execute_result"
    }
   ],
   "source": [
    "type(sorted_gbyJulyDiffRegion)"
   ]
  },
  {
   "cell_type": "code",
   "execution_count": null,
   "metadata": {
    "colab": {
     "base_uri": "https://localhost:8080/"
    },
    "id": "96LcJBxcvs7g",
    "outputId": "05a6262c-e53a-46d9-ca83-7b3037342a83"
   },
   "outputs": [
    {
     "data": {
      "text/plain": [
       "pandas.core.frame.DataFrame"
      ]
     },
     "execution_count": 51,
     "metadata": {},
     "output_type": "execute_result"
    }
   ],
   "source": [
    "type(JulyDiff3)"
   ]
  },
  {
   "cell_type": "markdown",
   "metadata": {
    "id": "pK_PEhUJhEl0"
   },
   "source": [
    "### **Section 4.2: Visualisation of Change in Flat Prices by Area**<br>\n",
    "<br>\n",
    "The change in average flat price between July 2017 and July 2018 can be viewd by area as:"
   ]
  },
  {
   "cell_type": "code",
   "execution_count": null,
   "metadata": {
    "colab": {
     "base_uri": "https://localhost:8080/",
     "height": 595
    },
    "id": "vS4ebWHRAq9o",
    "outputId": "7b04cec1-e0e8-4fd4-bfb8-92e8755f1342"
   },
   "outputs": [
    {
     "data": {
      "text/plain": [
       "<AxesSubplot:title={'center':'Figure 14: Change in Average Flat Prices by Area'}, xlabel='Area', ylabel='Change in Average Flat Price in £'>"
      ]
     },
     "execution_count": 52,
     "metadata": {},
     "output_type": "execute_result"
    },
    {
     "data": {
      "image/png": "[encoded data removed]",
      "text/plain": [
       "<Figure size 1368x504 with 1 Axes>"
      ]
     },
     "metadata": {
      "needs_background": "light"
     },
     "output_type": "display_data"
    }
   ],
   "source": [
    "# Visualising price difference by area\n",
    "JulyDiff2.sample(frac=0.20).plot(kind=\"bar\", x=\"AuthorityName\", y='Price_diff', logy=False,  \n",
    "                                xlabel='Area', title ='Figure 14: Change in Average Flat Prices by Area', \n",
    "                                ylabel='Change in Average Flat Price in £', figsize=(19,7), color='blue', rot=70, alpha=0.9)"
   ]
  },
  {
   "cell_type": "markdown",
   "metadata": {
    "id": "mbBkjZkEBCrR"
   },
   "source": [
    "**Comment**<br>\n",
    "The shear number of areas make meaningful visualisation difficult. Any visualisation therefore requires taking a sample, which yields different plots with each run of the code.<br>\n",
    "<br>\n",
    "The outputs however indicate that between July 2017 and July 2018 only areas in the London region had a price increase cummulatively, while areas in all other regions experienced decreased flat prices cummulatively. Also, the greatest decreases were in areas in the North East followed by the North West, South West and East Midlands in decreasing order of price decrease.<br>\n",
    "<br>\n",
    "Areas that experienced the highest decrease in flat prices during this period are Stockton-on-Tees, Medway, Wokinghan, Northumberland. Peterborough, Plymouth and Newham (in London). Wirral, Northumberland, Warrington and Oxfordshire experienced the least decreases in flat prices. The least increase in flat prices were in the areas of Thurrock, Isle of Wight, Wolverhampton Gateshead and Wakefield. The areas with the highest increases were Islington, Camden, Westminster and Kensington and Chelsea. The highest 37 increases in flat prices were in areas in and immediately around London. "
   ]
  },
  {
   "cell_type": "markdown",
   "metadata": {
    "id": "hM0mcTxcgAVj"
   },
   "source": [
    "### **Section 5: Statistical Analysis**<br>\n",
    "For evidence that the change in the price of flats affected all the regions\n",
    "similarly, analysis would be carried out by cross-tabulation and a chi-square test.<br>\n",
    "<br>\n",
    "### **Section 5.1: Cross-tabulation**<br>\n",
    "The next few steps create requisite dataframes for cross-tabulating the areas of price increase with areas of price decrease by region:"
   ]
  },
  {
   "cell_type": "code",
   "execution_count": null,
   "metadata": {
    "colab": {
     "base_uri": "https://localhost:8080/"
    },
    "id": "gcNmJwIwnKCu",
    "outputId": "9ce2bd91-1c67-4d49-9fa9-8263f2d39beb"
   },
   "outputs": [
    {
     "name": "stdout",
     "output_type": "stream",
     "text": [
      "Regions dataframes created.\n"
     ]
    }
   ],
   "source": [
    "# Filtering regions and renaming columns \n",
    "crostab_EMid = JulyDiff3[JulyDiff3['RegionName'].str.startswith('East Midlands')]\n",
    "crostab_EMid = crostab_EMid.rename(columns={'RegionName': 'East_MidL'})\n",
    "crostab_EMid.reset_index(drop=True, inplace=True)\n",
    "crostab_EMid.unstack(level=0).reset_index()\n",
    "\n",
    "crostab_WMid = JulyDiff3[JulyDiff3['RegionName'].str.startswith('West Midlands')]\n",
    "crostab_WMid = crostab_WMid.rename(columns={'RegionName': 'West_MidL'})\n",
    "crostab_WMid.reset_index(drop=True, inplace=True)\n",
    "crostab_WMid.unstack(level=0).reset_index()\n",
    "\n",
    "crostab_EEng = JulyDiff3[JulyDiff3['RegionName'].str.startswith('East of England')]\n",
    "crostab_EEng = crostab_EEng.rename(columns={'RegionName': 'East_Eng'})\n",
    "crostab_EEng.reset_index(drop=True, inplace=True)\n",
    "crostab_EEng.unstack(level=0).reset_index()\n",
    "\n",
    "crostab_YSTH = JulyDiff3[JulyDiff3['RegionName'].str.startswith('Yorkshire and The Humber')]\n",
    "crostab_YSTH = crostab_YSTH.rename(columns={'RegionName': 'Yorks_HB'})\n",
    "crostab_YSTH.reset_index(drop=True, inplace=True)\n",
    "crostab_YSTH.unstack(level=0).reset_index()\n",
    "\n",
    "crostab_SW = JulyDiff3[JulyDiff3['RegionName'].str.startswith('South West')]\n",
    "crostab_SW = crostab_SW.rename(columns={'RegionName': 'Sth_West'})\n",
    "crostab_SW.reset_index(drop=True, inplace=True)\n",
    "crostab_SW.unstack(level=0).reset_index()\n",
    "\n",
    "crostab_SE = JulyDiff3[JulyDiff3['RegionName'].str.startswith('South East')]\n",
    "crostab_SE = crostab_SE.rename(columns={'RegionName': 'Sth_East'})\n",
    "crostab_SE.reset_index(drop=True, inplace=True)\n",
    "crostab_SE.unstack(level=0).reset_index()\n",
    "\n",
    "crostab_NW = JulyDiff3[JulyDiff3['RegionName'].str.startswith('North West')]\n",
    "crostab_NW = crostab_NW.rename(columns={'RegionName': 'Nth_West'})\n",
    "crostab_NW.reset_index(drop=True, inplace=True)\n",
    "crostab_NW.unstack(level=0).reset_index()\n",
    "\n",
    "crostab_NE = JulyDiff3[JulyDiff3['RegionName'].str.startswith('North East')]\n",
    "crostab_NE = crostab_NE.rename(columns={'RegionName': 'Nth_East'})\n",
    "crostab_NE.reset_index(drop=True, inplace=True)\n",
    "crostab_NE.unstack(level=0).reset_index()\n",
    "\n",
    "crostab_London = JulyDiff3[JulyDiff3['RegionName'].str.startswith('London')]\n",
    "crostab_London = crostab_London.rename(columns={'RegionName': 'Lndn'})\n",
    "crostab_London.reset_index(drop=True, inplace=True)\n",
    "crostab_London.unstack(level=0).reset_index()\n",
    "\n",
    "print(\"Regions dataframes created.\")"
   ]
  },
  {
   "cell_type": "markdown",
   "metadata": {
    "id": "_FFZvfdHzUEX"
   },
   "source": [
    "Creating \"Decrease\" column:"
   ]
  },
  {
   "cell_type": "code",
   "execution_count": null,
   "metadata": {
    "colab": {
     "base_uri": "https://localhost:8080/",
     "height": 293
    },
    "id": "yhZB2rFp1xPO",
    "outputId": "38b6f106-1414-496f-e73a-fc0f223c3f02"
   },
   "outputs": [
    {
     "name": "stderr",
     "output_type": "stream",
     "text": [
      "C:\\Users\\KEA\\anaconda3\\lib\\site-packages\\pandas\\core\\frame.py:4441: SettingWithCopyWarning: \n",
      "A value is trying to be set on a copy of a slice from a DataFrame\n",
      "\n",
      "See the caveats in the documentation: https://pandas.pydata.org/pandas-docs/stable/user_guide/indexing.html#returning-a-view-versus-a-copy\n",
      "  return super().rename(\n"
     ]
    },
    {
     "data": {
      "text/html": [
       "<div>\n",
       "<style scoped>\n",
       "    .dataframe tbody tr th:only-of-type {\n",
       "        vertical-align: middle;\n",
       "    }\n",
       "\n",
       "    .dataframe tbody tr th {\n",
       "        vertical-align: top;\n",
       "    }\n",
       "\n",
       "    .dataframe thead th {\n",
       "        text-align: right;\n",
       "    }\n",
       "</style>\n",
       "<table border=\"1\" class=\"dataframe\">\n",
       "  <thead>\n",
       "    <tr style=\"text-align: right;\">\n",
       "      <th></th>\n",
       "      <th>RegionName</th>\n",
       "      <th>Decrease</th>\n",
       "    </tr>\n",
       "  </thead>\n",
       "  <tbody>\n",
       "    <tr>\n",
       "      <th>0</th>\n",
       "      <td>London</td>\n",
       "      <td>-128999.5581</td>\n",
       "    </tr>\n",
       "    <tr>\n",
       "      <th>1</th>\n",
       "      <td>London</td>\n",
       "      <td>-55552.1791</td>\n",
       "    </tr>\n",
       "    <tr>\n",
       "      <th>2</th>\n",
       "      <td>North East</td>\n",
       "      <td>-80966.6758</td>\n",
       "    </tr>\n",
       "    <tr>\n",
       "      <th>3</th>\n",
       "      <td>South West</td>\n",
       "      <td>-529677.9980</td>\n",
       "    </tr>\n",
       "    <tr>\n",
       "      <th>4</th>\n",
       "      <td>London</td>\n",
       "      <td>-215338.6969</td>\n",
       "    </tr>\n",
       "  </tbody>\n",
       "</table>\n",
       "</div>"
      ],
      "text/plain": [
       "   RegionName     Decrease\n",
       "0      London -128999.5581\n",
       "1      London  -55552.1791\n",
       "2  North East  -80966.6758\n",
       "3  South West -529677.9980\n",
       "4      London -215338.6969"
      ]
     },
     "execution_count": 54,
     "metadata": {},
     "output_type": "execute_result"
    }
   ],
   "source": [
    "# Filtering decreased regions\n",
    "crostab_Decreased = JulyDiff3[JulyDiff3['Price_diff'].astype(str).str.startswith('-')]\n",
    "crostab_Decreased.reset_index(drop=True, inplace=True)\n",
    "crostab_Decreased.rename(columns={'Price_diff': 'Decrease'}, inplace=True)\n",
    "crostab_Decreased.head()"
   ]
  },
  {
   "cell_type": "markdown",
   "metadata": {
    "id": "LMO-XYhtzi3X"
   },
   "source": [
    "Creating \"Increase\" column:"
   ]
  },
  {
   "cell_type": "code",
   "execution_count": null,
   "metadata": {
    "colab": {
     "base_uri": "https://localhost:8080/",
     "height": 293
    },
    "id": "h0scc4Xluntx",
    "outputId": "1f16ecf0-d2ac-4b21-c4a8-8b30afd4e7e3"
   },
   "outputs": [
    {
     "name": "stderr",
     "output_type": "stream",
     "text": [
      "C:\\Users\\KEA\\anaconda3\\lib\\site-packages\\pandas\\core\\frame.py:4441: SettingWithCopyWarning: \n",
      "A value is trying to be set on a copy of a slice from a DataFrame\n",
      "\n",
      "See the caveats in the documentation: https://pandas.pydata.org/pandas-docs/stable/user_guide/indexing.html#returning-a-view-versus-a-copy\n",
      "  return super().rename(\n"
     ]
    },
    {
     "data": {
      "text/html": [
       "<div>\n",
       "<style scoped>\n",
       "    .dataframe tbody tr th:only-of-type {\n",
       "        vertical-align: middle;\n",
       "    }\n",
       "\n",
       "    .dataframe tbody tr th {\n",
       "        vertical-align: top;\n",
       "    }\n",
       "\n",
       "    .dataframe thead th {\n",
       "        text-align: right;\n",
       "    }\n",
       "</style>\n",
       "<table border=\"1\" class=\"dataframe\">\n",
       "  <thead>\n",
       "    <tr style=\"text-align: right;\">\n",
       "      <th></th>\n",
       "      <th>RegionName</th>\n",
       "      <th>Increase</th>\n",
       "    </tr>\n",
       "  </thead>\n",
       "  <tbody>\n",
       "    <tr>\n",
       "      <th>0</th>\n",
       "      <td>North West</td>\n",
       "      <td>13985.84960</td>\n",
       "    </tr>\n",
       "    <tr>\n",
       "      <th>1</th>\n",
       "      <td>London</td>\n",
       "      <td>296540.06888</td>\n",
       "    </tr>\n",
       "    <tr>\n",
       "      <th>2</th>\n",
       "      <td>South West</td>\n",
       "      <td>79135.61780</td>\n",
       "    </tr>\n",
       "    <tr>\n",
       "      <th>3</th>\n",
       "      <td>South West</td>\n",
       "      <td>65843.34174</td>\n",
       "    </tr>\n",
       "    <tr>\n",
       "      <th>4</th>\n",
       "      <td>London</td>\n",
       "      <td>260527.46560</td>\n",
       "    </tr>\n",
       "  </tbody>\n",
       "</table>\n",
       "</div>"
      ],
      "text/plain": [
       "   RegionName      Increase\n",
       "0  North West   13985.84960\n",
       "1      London  296540.06888\n",
       "2  South West   79135.61780\n",
       "3  South West   65843.34174\n",
       "4      London  260527.46560"
      ]
     },
     "execution_count": 55,
     "metadata": {},
     "output_type": "execute_result"
    }
   ],
   "source": [
    "# Filtering increased regions\n",
    "crostab_Increased = JulyDiff3[~JulyDiff3['Price_diff'].astype(str).str.startswith('-')]\n",
    "crostab_Increased.reset_index(drop=True, inplace=True)\n",
    "crostab_Increased.rename(columns={'Price_diff': 'Increase'}, inplace=True)\n",
    "crostab_Increased.head()"
   ]
  },
  {
   "cell_type": "markdown",
   "metadata": {
    "id": "R-pRDKTTb7l7"
   },
   "source": [
    "A cross-table or contingency table enables computation of the frequency which groups in the table occur. It works on categorical data by grouping the values of one of the columns passed to the crosstab() function and converting those values as an index, while values of the other column passed are grouped as columns. Frequencies of occurence can then be read at intersections. "
   ]
  },
  {
   "cell_type": "markdown",
   "metadata": {
    "id": "CTDDOQ0IgwAn"
   },
   "source": [
    "### **Section 5.2: Chi-squared Test**<br>\n",
    "<br>\n",
    "The Chi-sqaured test can be used to determine if variables in a table are independent of each other in their effects (if any) on a target variable. Its use entails first forming an appropriate null hypothesis - in this case the null hypothesis would be that changes in flat/house prices in diferent regions are independent of each other, with the alternative hypothesis being that they are not independent.<br>\n",
    "<br>\n",
    "The expected values for each region are obtained. Then using the formula<br>\n",
    "$$\\chi^2 = \\sum \\frac {(O - E)^2}{E}$$\n",
    "\n",
    "a value $\\chi^2$ for the Chi-square test is obtained. For 9 regions the degree of freedom (DoF) in this case would be 8. An appropriate significance level $\\alpha$ in this case would be 0.05, or 95% confidence level. The final step would be to consult statistical tables at the intersection of $\\alpha$ 0.05 and DoF 8.<br>\n",
    "<br>\n",
    "If the obtained $\\chi^2$ value is smaller than the critical value read from the statistical table, then there is no evidence to reject the null hypothesis, and the null hypothesis is adopted, meaning the flat/house price changes observed in the different regions are independent of each other. If on the other hand the $\\chi^2$ value is bigger than the critical value read from the statistical table, then the evidence is that similarities seen in house prices across regions is not due to chance but to an inherent dependence. The null hypothesis is then rejected in favour of the alternative hypothesis."
   ]
  }
 ],
 "metadata": {
  "colab": {
   "collapsed_sections": [],
   "name": "Kweku's_Statistics_Coursework_3.ipynb",
   "provenance": []
  },
  "kernelspec": {
   "display_name": "Python 3",
   "language": "python",
   "name": "python3"
  },
  "language_info": {
   "codemirror_mode": {
    "name": "ipython",
    "version": 3
   },
   "file_extension": ".py",
   "mimetype": "text/x-python",
   "name": "python",
   "nbconvert_exporter": "python",
   "pygments_lexer": "ipython3",
   "version": "3.8.8"
  }
 },
 "nbformat": 4,
 "nbformat_minor": 1
}
